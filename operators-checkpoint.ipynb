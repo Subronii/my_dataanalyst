{
 "cells": [
  {
   "cell_type": "code",
   "execution_count": 5,
   "id": "b14b4926-853e-49ab-87c1-2be2cf585bf4",
   "metadata": {},
   "outputs": [],
   "source": [
    "\n",
    "#Python divides the operators in the following groups:\n",
    "\n",
    "#Arithmetic operators\n",
    "#Assignment operators\n",
    "#Comparison operators\n",
    "#Logical operators\n",
    "#Identity operators\n",
    "#Membership operators\n",
    "#Bitwise operators\n",
    "\n"
   ]
  },
  {
   "cell_type": "markdown",
   "id": "a3197717-320b-4211-b901-f6b4ef570f21",
   "metadata": {},
   "source": [
    "Python Arithmetic Operators"
   ]
  },
  {
   "cell_type": "code",
   "execution_count": 26,
   "id": "afa05af8-7f44-4786-a423-b6d8c2fe2987",
   "metadata": {},
   "outputs": [
    {
     "name": "stdout",
     "output_type": "stream",
     "text": [
      "5\n"
     ]
    }
   ],
   "source": [
    "#  addition +\n",
    "a = 2\n",
    "b = 3\n",
    "c = a+b\n",
    "print(c)"
   ]
  },
  {
   "cell_type": "code",
   "execution_count": 27,
   "id": "c052cc94-d841-45cf-895c-cfebdb2e7433",
   "metadata": {},
   "outputs": [
    {
     "name": "stdout",
     "output_type": "stream",
     "text": [
      "1\n"
     ]
    }
   ],
   "source": [
    "d = -4\n",
    "e = d + c\n",
    "print (e)"
   ]
  },
  {
   "cell_type": "code",
   "execution_count": 28,
   "id": "26f3c92b-fed9-48bb-a2a4-ac055327dcbe",
   "metadata": {},
   "outputs": [
    {
     "name": "stdout",
     "output_type": "stream",
     "text": [
      "1\n"
     ]
    }
   ],
   "source": [
    "e = c + d\n",
    "print (e)"
   ]
  },
  {
   "cell_type": "code",
   "execution_count": 29,
   "id": "36a48af4-fb8c-4f03-8531-ed5d614900a4",
   "metadata": {},
   "outputs": [
    {
     "name": "stdout",
     "output_type": "stream",
     "text": [
      "2.9\n"
     ]
    }
   ],
   "source": [
    "f = 1.9\n",
    "g = e+f\n",
    "print(g)"
   ]
  },
  {
   "cell_type": "code",
   "execution_count": 50,
   "id": "5581099b-4c50-4cba-b4c1-d6bceb4d651c",
   "metadata": {},
   "outputs": [
    {
     "name": "stdout",
     "output_type": "stream",
     "text": [
      "ab\n"
     ]
    }
   ],
   "source": [
    "name = 'a'\n",
    "name_1 = 'b'\n",
    "ans = name + name_1\n",
    "print(ans)"
   ]
  },
  {
   "cell_type": "code",
   "execution_count": 9,
   "id": "667ef4be-0e61-4fdd-abde-34f48afceeef",
   "metadata": {},
   "outputs": [
    {
     "name": "stdout",
     "output_type": "stream",
     "text": [
      "-2\n"
     ]
    }
   ],
   "source": [
    "# subtraction -\n",
    "ab = 3\n",
    "ba = 5\n",
    "aa = ab - ba\n",
    "print(aa)"
   ]
  },
  {
   "cell_type": "code",
   "execution_count": 10,
   "id": "1b656678-9673-43d2-875c-3a40cb09b75a",
   "metadata": {},
   "outputs": [
    {
     "name": "stdout",
     "output_type": "stream",
     "text": [
      "2\n"
     ]
    }
   ],
   "source": [
    "aa = ba - ab\n",
    "print(aa)"
   ]
  },
  {
   "cell_type": "code",
   "execution_count": 11,
   "id": "6248c431-a97a-4c12-870f-3abbec91869d",
   "metadata": {},
   "outputs": [
    {
     "name": "stdout",
     "output_type": "stream",
     "text": [
      "-1\n"
     ]
    }
   ],
   "source": [
    "bc = +2\n",
    "cb = 3\n",
    "c = bc - cb\n",
    "print(c)"
   ]
  },
  {
   "cell_type": "code",
   "execution_count": 12,
   "id": "159ca25b-fd2d-4fbf-95d3-23b3ed7638de",
   "metadata": {},
   "outputs": [
    {
     "name": "stdout",
     "output_type": "stream",
     "text": [
      "1\n"
     ]
    }
   ],
   "source": [
    "c = cb - bc\n",
    "print(c)"
   ]
  },
  {
   "cell_type": "code",
   "execution_count": 13,
   "id": "4cd65157-bdbe-4974-b576-4d215fc0bc58",
   "metadata": {},
   "outputs": [
    {
     "name": "stdout",
     "output_type": "stream",
     "text": [
      "-5\n"
     ]
    }
   ],
   "source": [
    "bc = -2\n",
    "cb = 3\n",
    "c = bc - cb\n",
    "print(c)"
   ]
  },
  {
   "cell_type": "code",
   "execution_count": 30,
   "id": "1c84dcba-859d-4295-8c66-1efb6188647d",
   "metadata": {},
   "outputs": [
    {
     "name": "stdout",
     "output_type": "stream",
     "text": [
      "5\n"
     ]
    }
   ],
   "source": [
    "c = cb - bc\n",
    "print(c)"
   ]
  },
  {
   "cell_type": "code",
   "execution_count": 31,
   "id": "ef50c61c-2ee5-477b-9acf-fbffdbe0d62d",
   "metadata": {},
   "outputs": [
    {
     "name": "stdout",
     "output_type": "stream",
     "text": [
      "3.5\n"
     ]
    }
   ],
   "source": [
    "i = c\n",
    "s = 1.5\n",
    "h = i - s\n",
    "print(h)"
   ]
  },
  {
   "cell_type": "code",
   "execution_count": 51,
   "id": "51d694a0-846e-4281-933e-28c023d381d8",
   "metadata": {},
   "outputs": [
    {
     "ename": "TypeError",
     "evalue": "unsupported operand type(s) for -: 'str' and 'str'",
     "output_type": "error",
     "traceback": [
      "\u001b[1;31m---------------------------------------------------------------------------\u001b[0m",
      "\u001b[1;31mTypeError\u001b[0m                                 Traceback (most recent call last)",
      "Cell \u001b[1;32mIn[51], line 3\u001b[0m\n\u001b[0;32m      1\u001b[0m name \u001b[38;5;241m=\u001b[39m \u001b[38;5;124m'\u001b[39m\u001b[38;5;124ma\u001b[39m\u001b[38;5;124m'\u001b[39m\n\u001b[0;32m      2\u001b[0m name_1 \u001b[38;5;241m=\u001b[39m \u001b[38;5;124m'\u001b[39m\u001b[38;5;124mb\u001b[39m\u001b[38;5;124m'\u001b[39m\n\u001b[1;32m----> 3\u001b[0m ans \u001b[38;5;241m=\u001b[39m name \u001b[38;5;241m-\u001b[39m name_1\n\u001b[0;32m      4\u001b[0m \u001b[38;5;28mprint\u001b[39m(ans)\n",
      "\u001b[1;31mTypeError\u001b[0m: unsupported operand type(s) for -: 'str' and 'str'"
     ]
    }
   ],
   "source": [
    "name = 'a'\n",
    "name_1 = 'b'\n",
    "ans = name - name_1\n",
    "print(ans)"
   ]
  },
  {
   "cell_type": "code",
   "execution_count": 15,
   "id": "fb8e7002-d353-4851-9123-95cf6f0e1ba2",
   "metadata": {},
   "outputs": [
    {
     "name": "stdout",
     "output_type": "stream",
     "text": [
      "0.5\n"
     ]
    }
   ],
   "source": [
    "# division /\n",
    "a = 2\n",
    "b = 4\n",
    "c = a/b\n",
    "print(c)"
   ]
  },
  {
   "cell_type": "code",
   "execution_count": 16,
   "id": "d01fd813-2715-4e21-905f-2297185a70b7",
   "metadata": {},
   "outputs": [
    {
     "name": "stdout",
     "output_type": "stream",
     "text": [
      "2.0\n"
     ]
    }
   ],
   "source": [
    "c = b/a\n",
    "print(c)"
   ]
  },
  {
   "cell_type": "code",
   "execution_count": 17,
   "id": "845fac62-f553-4f0b-870d-60fb64d0a5f8",
   "metadata": {},
   "outputs": [
    {
     "name": "stdout",
     "output_type": "stream",
     "text": [
      "4.5\n"
     ]
    }
   ],
   "source": [
    "d = 9\n",
    "e = 2\n",
    "f = d / e\n",
    "print(f)"
   ]
  },
  {
   "cell_type": "code",
   "execution_count": 52,
   "id": "c3017173-f5a4-4ed8-88f6-8b4bb4fac6ff",
   "metadata": {},
   "outputs": [
    {
     "ename": "TypeError",
     "evalue": "unsupported operand type(s) for /: 'str' and 'str'",
     "output_type": "error",
     "traceback": [
      "\u001b[1;31m---------------------------------------------------------------------------\u001b[0m",
      "\u001b[1;31mTypeError\u001b[0m                                 Traceback (most recent call last)",
      "Cell \u001b[1;32mIn[52], line 3\u001b[0m\n\u001b[0;32m      1\u001b[0m name \u001b[38;5;241m=\u001b[39m \u001b[38;5;124m'\u001b[39m\u001b[38;5;124ma\u001b[39m\u001b[38;5;124m'\u001b[39m\n\u001b[0;32m      2\u001b[0m name_1 \u001b[38;5;241m=\u001b[39m \u001b[38;5;124m'\u001b[39m\u001b[38;5;124mb\u001b[39m\u001b[38;5;124m'\u001b[39m\n\u001b[1;32m----> 3\u001b[0m ans \u001b[38;5;241m=\u001b[39m name \u001b[38;5;241m/\u001b[39m name_1\n\u001b[0;32m      4\u001b[0m \u001b[38;5;28mprint\u001b[39m(ans)\n",
      "\u001b[1;31mTypeError\u001b[0m: unsupported operand type(s) for /: 'str' and 'str'"
     ]
    }
   ],
   "source": [
    "name = 'a'\n",
    "name_1 = 'b'\n",
    "ans = name / name_1\n",
    "print(ans)"
   ]
  },
  {
   "cell_type": "code",
   "execution_count": 18,
   "id": "7398ab71-53fa-452c-be52-9ed79d70544c",
   "metadata": {},
   "outputs": [
    {
     "name": "stdout",
     "output_type": "stream",
     "text": [
      "0\n"
     ]
    }
   ],
   "source": [
    "# floor division // --- florr division gives result in inriger form .. not in decimal form \n",
    "a = 2\n",
    "b = 4\n",
    "c = a//b\n",
    "print(c)"
   ]
  },
  {
   "cell_type": "code",
   "execution_count": 19,
   "id": "e2a9a8c8-07e5-4c9b-b176-374d3f171e90",
   "metadata": {},
   "outputs": [
    {
     "name": "stdout",
     "output_type": "stream",
     "text": [
      "4\n"
     ]
    }
   ],
   "source": [
    "d = 9\n",
    "e = 2\n",
    "f = d // e\n",
    "print(f)"
   ]
  },
  {
   "cell_type": "code",
   "execution_count": 35,
   "id": "0b1c900c-bd36-4bdb-9b79-0ed171a37ebf",
   "metadata": {},
   "outputs": [
    {
     "name": "stdout",
     "output_type": "stream",
     "text": [
      "6\n"
     ]
    }
   ],
   "source": [
    "# multipication  *\n",
    "a = 2\n",
    "b = 3\n",
    "c = a*b\n",
    "print(c)"
   ]
  },
  {
   "cell_type": "code",
   "execution_count": 36,
   "id": "bef98772-efe6-4eae-8314-62f1e74c339d",
   "metadata": {},
   "outputs": [
    {
     "name": "stdout",
     "output_type": "stream",
     "text": [
      "-18\n"
     ]
    }
   ],
   "source": [
    "d = -3\n",
    "e = c*d\n",
    "print(e)"
   ]
  },
  {
   "cell_type": "code",
   "execution_count": 37,
   "id": "7fe40860-defa-4b39-a61a-b4f94094164e",
   "metadata": {},
   "outputs": [
    {
     "name": "stdout",
     "output_type": "stream",
     "text": [
      "36\n"
     ]
    }
   ],
   "source": [
    "f = -2\n",
    "g = f * e\n",
    "print(g)"
   ]
  },
  {
   "cell_type": "code",
   "execution_count": 40,
   "id": "c5adaa6a-564d-4770-81f3-682ee9cc6f19",
   "metadata": {},
   "outputs": [
    {
     "name": "stdout",
     "output_type": "stream",
     "text": [
      "5.0\n"
     ]
    }
   ],
   "source": [
    "a =2\n",
    "b = 2.5\n",
    "c = a * b\n",
    "print(c)"
   ]
  },
  {
   "cell_type": "code",
   "execution_count": 53,
   "id": "44bdff0d-980c-40f8-9c91-750cc3ea3622",
   "metadata": {},
   "outputs": [
    {
     "ename": "TypeError",
     "evalue": "can't multiply sequence by non-int of type 'str'",
     "output_type": "error",
     "traceback": [
      "\u001b[1;31m---------------------------------------------------------------------------\u001b[0m",
      "\u001b[1;31mTypeError\u001b[0m                                 Traceback (most recent call last)",
      "Cell \u001b[1;32mIn[53], line 3\u001b[0m\n\u001b[0;32m      1\u001b[0m name \u001b[38;5;241m=\u001b[39m \u001b[38;5;124m'\u001b[39m\u001b[38;5;124ma\u001b[39m\u001b[38;5;124m'\u001b[39m\n\u001b[0;32m      2\u001b[0m name_1 \u001b[38;5;241m=\u001b[39m \u001b[38;5;124m'\u001b[39m\u001b[38;5;124mb\u001b[39m\u001b[38;5;124m'\u001b[39m\n\u001b[1;32m----> 3\u001b[0m ans \u001b[38;5;241m=\u001b[39m name \u001b[38;5;241m*\u001b[39m name_1\n\u001b[0;32m      4\u001b[0m \u001b[38;5;28mprint\u001b[39m(ans)\n",
      "\u001b[1;31mTypeError\u001b[0m: can't multiply sequence by non-int of type 'str'"
     ]
    }
   ],
   "source": [
    "name = 'a'\n",
    "name_1 = 'b'\n",
    "ans = name * name_1\n",
    "print(ans)"
   ]
  },
  {
   "cell_type": "code",
   "execution_count": 55,
   "id": "1317f45c-646f-43df-9c2e-41513c3f993f",
   "metadata": {},
   "outputs": [
    {
     "name": "stdout",
     "output_type": "stream",
     "text": [
      "aa\n"
     ]
    }
   ],
   "source": [
    "name = 'a'\n",
    "name_1 = 2\n",
    "ans = name * name_1\n",
    "print(ans)"
   ]
  },
  {
   "cell_type": "code",
   "execution_count": 58,
   "id": "018f6f37-fe6e-4261-91dc-d4a7cd0783ba",
   "metadata": {},
   "outputs": [
    {
     "name": "stdout",
     "output_type": "stream",
     "text": [
      "1\n"
     ]
    }
   ],
   "source": [
    "# modules %  -- gives you remender after the division\n",
    "\n",
    "a = 2\n",
    "b = 5\n",
    "c = b % a\n",
    "print(c)\n"
   ]
  },
  {
   "cell_type": "code",
   "execution_count": 57,
   "id": "e8a4e4c5-08d1-4fcf-b6bc-9dcf8aa9290d",
   "metadata": {},
   "outputs": [
    {
     "name": "stdout",
     "output_type": "stream",
     "text": [
      "2\n"
     ]
    }
   ],
   "source": [
    "d =26\n",
    "e =3\n",
    "f = d%3\n",
    "print(f)"
   ]
  },
  {
   "cell_type": "code",
   "execution_count": 68,
   "id": "54db7d4e-a627-4a51-93c5-a09f32d2c4e9",
   "metadata": {},
   "outputs": [
    {
     "name": "stdout",
     "output_type": "stream",
     "text": [
      "8\n"
     ]
    }
   ],
   "source": [
    "# Exponentiation  **  its using power of given value\n",
    "a = 2\n",
    "b = 3\n",
    "c = a**b\n",
    "# 2*2*2 = 2*2 = 4 *2 = 8\n",
    "print(c)"
   ]
  },
  {
   "cell_type": "code",
   "execution_count": 69,
   "id": "d35a67e6-2322-455c-8297-fcfb36c079d2",
   "metadata": {},
   "outputs": [
    {
     "name": "stdout",
     "output_type": "stream",
     "text": [
      "243\n"
     ]
    }
   ],
   "source": [
    "d = 5\n",
    "e = b ** d\n",
    "# 3*3*3*3*3 \n",
    "# 3*3=9*3=27*3=81*3=243\n",
    "\n",
    "print(e)"
   ]
  },
  {
   "cell_type": "code",
   "execution_count": 70,
   "id": "863c7732-3d19-469a-a5b5-d0eca3dca0ac",
   "metadata": {},
   "outputs": [
    {
     "ename": "TypeError",
     "evalue": "unsupported operand type(s) for ** or pow(): 'str' and 'int'",
     "output_type": "error",
     "traceback": [
      "\u001b[1;31m---------------------------------------------------------------------------\u001b[0m",
      "\u001b[1;31mTypeError\u001b[0m                                 Traceback (most recent call last)",
      "Cell \u001b[1;32mIn[70], line 2\u001b[0m\n\u001b[0;32m      1\u001b[0m f \u001b[38;5;241m=\u001b[39m \u001b[38;5;124m\"\u001b[39m\u001b[38;5;124mabi\u001b[39m\u001b[38;5;124m\"\u001b[39m\n\u001b[1;32m----> 2\u001b[0m g \u001b[38;5;241m=\u001b[39m f \u001b[38;5;241m*\u001b[39m\u001b[38;5;241m*\u001b[39m c\n\u001b[0;32m      3\u001b[0m \u001b[38;5;28mprint\u001b[39m(g)\n",
      "\u001b[1;31mTypeError\u001b[0m: unsupported operand type(s) for ** or pow(): 'str' and 'int'"
     ]
    }
   ],
   "source": [
    "f = \"abi\"\n",
    "g = f ** c\n",
    "print(g)"
   ]
  },
  {
   "cell_type": "code",
   "execution_count": 71,
   "id": "6f5a6f91-63a9-4520-8ed8-5ea6a3fb2529",
   "metadata": {},
   "outputs": [],
   "source": [
    "#Python Assignment Operators"
   ]
  },
  {
   "cell_type": "code",
   "execution_count": 102,
   "id": "7030ac79-01c7-4b6c-8a83-f3d4bb24b8c2",
   "metadata": {},
   "outputs": [
    {
     "name": "stdout",
     "output_type": "stream",
     "text": [
      "5\n"
     ]
    }
   ],
   "source": [
    "#  =\n",
    "x = 5\n",
    "print(x)"
   ]
  },
  {
   "cell_type": "code",
   "execution_count": 103,
   "id": "aa4c53f2-4808-45f7-b8fa-9d992f960c57",
   "metadata": {},
   "outputs": [
    {
     "name": "stdout",
     "output_type": "stream",
     "text": [
      "8\n"
     ]
    }
   ],
   "source": [
    "#  +=\n",
    "x += 3\n",
    "\"\"\" x=5  5+3 = 8 \"\"\"\n",
    "print(x)"
   ]
  },
  {
   "cell_type": "code",
   "execution_count": 104,
   "id": "6ff3e49a-3db6-4cec-8d4c-14147ff4abff",
   "metadata": {},
   "outputs": [
    {
     "name": "stdout",
     "output_type": "stream",
     "text": [
      "3\n"
     ]
    }
   ],
   "source": [
    "# -=\n",
    "x -= 5\n",
    "\"\"\" x=8 8-5=3 \"\"\"\n",
    "print(x)"
   ]
  },
  {
   "cell_type": "code",
   "execution_count": 105,
   "id": "930b0e90-5c69-4178-ad7c-38f8ac6a12c9",
   "metadata": {},
   "outputs": [
    {
     "name": "stdout",
     "output_type": "stream",
     "text": [
      "15\n"
     ]
    }
   ],
   "source": [
    "# *=\n",
    "x *= 5\n",
    "print(x)"
   ]
  },
  {
   "cell_type": "code",
   "execution_count": 106,
   "id": "6b8b7423-0028-43eb-bb1c-91744ce966fd",
   "metadata": {},
   "outputs": [
    {
     "name": "stdout",
     "output_type": "stream",
     "text": [
      "5.0\n"
     ]
    }
   ],
   "source": [
    "# /=\n",
    "x /=3\n",
    "print(x)"
   ]
  },
  {
   "cell_type": "code",
   "execution_count": 107,
   "id": "716ecd79-c03b-4e99-a65b-7a3402109f1f",
   "metadata": {},
   "outputs": [
    {
     "name": "stdout",
     "output_type": "stream",
     "text": [
      "1\n"
     ]
    }
   ],
   "source": [
    "#  %=\n",
    "y = 7\n",
    "y %=2\n",
    "print(y)"
   ]
  },
  {
   "cell_type": "code",
   "execution_count": 109,
   "id": "b30ed4bf-d80e-4d67-9ed8-a813017983ad",
   "metadata": {},
   "outputs": [
    {
     "name": "stdout",
     "output_type": "stream",
     "text": [
      "5\n"
     ]
    }
   ],
   "source": [
    "#      //=\n",
    "qa = 15\n",
    "qa //=3\n",
    "print(qa)"
   ]
  },
  {
   "cell_type": "code",
   "execution_count": 110,
   "id": "ac3f8d6c-0637-4da8-9d5f-d3b25f1a74bf",
   "metadata": {},
   "outputs": [
    {
     "name": "stdout",
     "output_type": "stream",
     "text": [
      "8\n"
     ]
    }
   ],
   "source": [
    "#      **=\n",
    "aq = 2\n",
    "aq **=3\n",
    "print(aq)"
   ]
  },
  {
   "cell_type": "code",
   "execution_count": null,
   "id": "9026f236-ae31-4c8c-bbca-a04988eb05c0",
   "metadata": {},
   "outputs": [],
   "source": []
  },
  {
   "cell_type": "code",
   "execution_count": 111,
   "id": "7f9b744b-529c-498e-8a9e-47ed33313b69",
   "metadata": {},
   "outputs": [],
   "source": [
    "#   Python Comparison Operators (gives boolean answer)"
   ]
  },
  {
   "cell_type": "code",
   "execution_count": 114,
   "id": "035fe183-500b-43a1-9f30-5598990f8492",
   "metadata": {},
   "outputs": [
    {
     "name": "stdout",
     "output_type": "stream",
     "text": [
      "False\n"
     ]
    }
   ],
   "source": [
    "#      ==  equal to\n",
    "\n",
    "x = 5\n",
    "y = 10\n",
    "x == y\n",
    "print(x==y)"
   ]
  },
  {
   "cell_type": "code",
   "execution_count": 115,
   "id": "d9be7745-edaa-4582-97a7-e68880dcab11",
   "metadata": {},
   "outputs": [
    {
     "data": {
      "text/plain": [
       "True"
      ]
     },
     "execution_count": 115,
     "metadata": {},
     "output_type": "execute_result"
    }
   ],
   "source": [
    "#  !==    not eqaul to\n",
    "x != y"
   ]
  },
  {
   "cell_type": "code",
   "execution_count": 117,
   "id": "0441dd31-9a1f-437c-a5a2-6da0792ed0ca",
   "metadata": {},
   "outputs": [
    {
     "name": "stdout",
     "output_type": "stream",
     "text": [
      "False\n",
      "True\n"
     ]
    }
   ],
   "source": [
    "#   > , <  greater than and less than\n",
    "print(x > y)\n",
    "print(y > x)"
   ]
  },
  {
   "cell_type": "code",
   "execution_count": 118,
   "id": "e62dea4b-e421-4b78-9440-ab109397a886",
   "metadata": {},
   "outputs": [
    {
     "name": "stdout",
     "output_type": "stream",
     "text": [
      "True\n",
      "False\n"
     ]
    }
   ],
   "source": [
    "print(x < y)\n",
    "print(y < x)"
   ]
  },
  {
   "cell_type": "code",
   "execution_count": 120,
   "id": "7b96cef7-c307-46cf-bca8-3cf0a687b9ab",
   "metadata": {},
   "outputs": [
    {
     "name": "stdout",
     "output_type": "stream",
     "text": [
      "False\n",
      "True\n",
      "True\n",
      "False\n"
     ]
    }
   ],
   "source": [
    "#    >= , <=   wquals greater than and equals less than\n",
    "print(x >= y)\n",
    "print(y >= x)\n",
    "print(x < y)\n",
    "print(y < x)"
   ]
  },
  {
   "cell_type": "code",
   "execution_count": 121,
   "id": "1c4d2bed-3a3f-4939-88aa-dcb9e0429086",
   "metadata": {},
   "outputs": [
    {
     "name": "stdout",
     "output_type": "stream",
     "text": [
      "True\n"
     ]
    }
   ],
   "source": [
    "z = 10\n",
    "u = 10\n",
    "print(z>=u)"
   ]
  },
  {
   "cell_type": "code",
   "execution_count": 122,
   "id": "c356527c-cf42-4c31-ad6f-0aac2ede9f38",
   "metadata": {},
   "outputs": [
    {
     "name": "stdout",
     "output_type": "stream",
     "text": [
      "True\n"
     ]
    }
   ],
   "source": [
    "print(z<=u)"
   ]
  },
  {
   "cell_type": "code",
   "execution_count": 123,
   "id": "df62034c-4573-4b7b-a4d3-ee38ca226f0e",
   "metadata": {},
   "outputs": [
    {
     "name": "stdout",
     "output_type": "stream",
     "text": [
      "True\n"
     ]
    }
   ],
   "source": [
    "v = 10.4\n",
    "print(v>=z)"
   ]
  },
  {
   "cell_type": "code",
   "execution_count": 124,
   "id": "9a9f0a32-2b1b-4c04-84a9-676618ed5394",
   "metadata": {},
   "outputs": [
    {
     "name": "stdout",
     "output_type": "stream",
     "text": [
      "False\n"
     ]
    }
   ],
   "source": [
    "print(v<=z)"
   ]
  },
  {
   "cell_type": "code",
   "execution_count": 143,
   "id": "3d3038b5-41e8-4ade-b13b-4f365a2c753a",
   "metadata": {},
   "outputs": [
    {
     "name": "stdout",
     "output_type": "stream",
     "text": [
      "False\n"
     ]
    }
   ],
   "source": [
    "# Python Logical Operators\n",
    "a = 10\n",
    "b = 5\n",
    "d = 0\n",
    "c = a < b or b > a \n",
    "print(c)    "
   ]
  },
  {
   "cell_type": "code",
   "execution_count": 144,
   "id": "e38ef176-253e-4063-a274-797081034b66",
   "metadata": {},
   "outputs": [
    {
     "name": "stdout",
     "output_type": "stream",
     "text": [
      "True\n"
     ]
    }
   ],
   "source": [
    "c = a < b or b < a \n",
    "print(c)"
   ]
  },
  {
   "cell_type": "code",
   "execution_count": 145,
   "id": "3a16e6d6-437e-48c9-bc2b-80c0b2375146",
   "metadata": {},
   "outputs": [
    {
     "name": "stdout",
     "output_type": "stream",
     "text": [
      "False\n"
     ]
    }
   ],
   "source": [
    "c = a < b and b > a \n",
    "print(c)"
   ]
  },
  {
   "cell_type": "code",
   "execution_count": 146,
   "id": "e60e0cd2-63e6-49df-8dd1-760155df6dcb",
   "metadata": {},
   "outputs": [
    {
     "name": "stdout",
     "output_type": "stream",
     "text": [
      "False\n"
     ]
    }
   ],
   "source": [
    "c = a > b and b > a \n",
    "print(c)"
   ]
  },
  {
   "cell_type": "code",
   "execution_count": 147,
   "id": "d0d42120-da30-4a8c-8283-9e38ec850fe7",
   "metadata": {},
   "outputs": [
    {
     "name": "stdout",
     "output_type": "stream",
     "text": [
      "True\n"
     ]
    }
   ],
   "source": [
    "c = a > b and b < a \n",
    "print(c)"
   ]
  },
  {
   "cell_type": "code",
   "execution_count": 148,
   "id": "bcf5acdb-8006-4d61-9183-9fc1fcd6c7e6",
   "metadata": {},
   "outputs": [
    {
     "name": "stdout",
     "output_type": "stream",
     "text": [
      "False\n"
     ]
    }
   ],
   "source": [
    "#  not()\n",
    "c = not(a > b and b < a )\n",
    "print(c)"
   ]
  },
  {
   "cell_type": "code",
   "execution_count": 149,
   "id": "30920783-d84d-49ae-a833-8581d9b35485",
   "metadata": {},
   "outputs": [
    {
     "name": "stdout",
     "output_type": "stream",
     "text": [
      "False\n"
     ]
    }
   ],
   "source": [
    "c = not(a > b or b < a )\n",
    "print(c)"
   ]
  },
  {
   "cell_type": "code",
   "execution_count": 150,
   "id": "5c124ab4-96d5-4fdf-b525-5f72754a0ab0",
   "metadata": {},
   "outputs": [
    {
     "name": "stdout",
     "output_type": "stream",
     "text": [
      "True\n"
     ]
    }
   ],
   "source": [
    "c = not(a < b and d > a) \n",
    "print(c)"
   ]
  },
  {
   "cell_type": "code",
   "execution_count": 152,
   "id": "0bfa289a-eee1-4d5d-a1ce-ea4968082db8",
   "metadata": {},
   "outputs": [
    {
     "name": "stdout",
     "output_type": "stream",
     "text": [
      "True\n"
     ]
    }
   ],
   "source": [
    "c = not(a < b )\n",
    "print(c)"
   ]
  },
  {
   "cell_type": "code",
   "execution_count": 154,
   "id": "e2a0c653-3183-4f1c-b58e-2edae99edb12",
   "metadata": {},
   "outputs": [
    {
     "name": "stdout",
     "output_type": "stream",
     "text": [
      "False\n"
     ]
    }
   ],
   "source": [
    "e = not( d == 0)\n",
    "print(e)"
   ]
  },
  {
   "cell_type": "code",
   "execution_count": 2,
   "id": "aa4f6e62-cfa2-4da7-b85c-7f981ac784d0",
   "metadata": {},
   "outputs": [
    {
     "name": "stdout",
     "output_type": "stream",
     "text": [
      "True\n"
     ]
    }
   ],
   "source": [
    "#Python Identity Operators\n",
    "subham = \"rout\"\n",
    "subhendu = \"rout\"\n",
    "print(subham is subhendu)"
   ]
  },
  {
   "cell_type": "code",
   "execution_count": 4,
   "id": "007213d5-722e-43f0-98aa-57c324b37cdc",
   "metadata": {},
   "outputs": [
    {
     "name": "stdout",
     "output_type": "stream",
     "text": [
      "False\n"
     ]
    }
   ],
   "source": [
    "print(subham is not subhendu)"
   ]
  },
  {
   "cell_type": "code",
   "execution_count": 6,
   "id": "a7f89916-d3f4-41fa-bd49-06b395de5ec1",
   "metadata": {},
   "outputs": [
    {
     "name": "stdout",
     "output_type": "stream",
     "text": [
      "False\n"
     ]
    }
   ],
   "source": [
    "father = \"suresh\"\n",
    "mother = \"mamta\"\n",
    "print(father is mother)"
   ]
  },
  {
   "cell_type": "code",
   "execution_count": 7,
   "id": "500829a5-2da4-47ed-8254-8cfb678253cc",
   "metadata": {},
   "outputs": [
    {
     "name": "stdout",
     "output_type": "stream",
     "text": [
      "True\n"
     ]
    }
   ],
   "source": [
    "print(father is not mother)"
   ]
  },
  {
   "cell_type": "code",
   "execution_count": 8,
   "id": "16f72aee-4167-4a2a-900a-bedfbba45cf8",
   "metadata": {},
   "outputs": [
    {
     "name": "stdout",
     "output_type": "stream",
     "text": [
      "False\n"
     ]
    }
   ],
   "source": [
    "ather = 59\n",
    "mother = 52\n",
    "print(father is mother)"
   ]
  },
  {
   "cell_type": "code",
   "execution_count": 9,
   "id": "7acbef96-af04-4910-a1df-aac1ad3a8a9d",
   "metadata": {},
   "outputs": [
    {
     "name": "stdout",
     "output_type": "stream",
     "text": [
      "True\n"
     ]
    }
   ],
   "source": [
    "print(father is not mother)"
   ]
  },
  {
   "cell_type": "code",
   "execution_count": 10,
   "id": "3ca8140e-79a2-4120-a75c-0112b6b0b29d",
   "metadata": {},
   "outputs": [
    {
     "name": "stdout",
     "output_type": "stream",
     "text": [
      "True\n"
     ]
    }
   ],
   "source": [
    "#Python Membership Operators\n",
    "vegi = ['potato','onion',23,45]\n",
    "print(\"potato\" in vegi)"
   ]
  },
  {
   "cell_type": "code",
   "execution_count": 11,
   "id": "804cbd1b-c502-4c6a-aa84-6a6ecd8ca347",
   "metadata": {},
   "outputs": [
    {
     "name": "stdout",
     "output_type": "stream",
     "text": [
      "False\n"
     ]
    }
   ],
   "source": [
    "print(\"potato\" not in vegi)"
   ]
  },
  {
   "cell_type": "code",
   "execution_count": 16,
   "id": "9bf5a3fe-3859-40df-a8d9-7c7e8ab415cf",
   "metadata": {},
   "outputs": [
    {
     "name": "stdout",
     "output_type": "stream",
     "text": [
      "False\n"
     ]
    }
   ],
   "source": [
    "nme = \"subham\" \n",
    "print(\"rout\" in nme)"
   ]
  },
  {
   "cell_type": "code",
   "execution_count": 17,
   "id": "bb17771c-c1ae-41d8-8551-0b47798a902d",
   "metadata": {},
   "outputs": [
    {
     "name": "stdout",
     "output_type": "stream",
     "text": [
      "1\n"
     ]
    }
   ],
   "source": [
    "#Python Bitwise Operators\n",
    "# & \tAND\n",
    "a = 3\n",
    "b = 5\n",
    "c = a & b\n",
    "print(c)"
   ]
  },
  {
   "cell_type": "code",
   "execution_count": 19,
   "id": "8c67020c-eb22-4d1e-b54b-43cb160a8ac5",
   "metadata": {},
   "outputs": [
    {
     "data": {
      "text/plain": [
       "' 011\\n    101\\n    ...\\n    001 = 1 \\n    '"
      ]
     },
     "execution_count": 19,
     "metadata": {},
     "output_type": "execute_result"
    }
   ],
   "source": [
    "# BINARY NUMBER\n",
    "# 3 =11 , 5= 101\n",
    "\"\"\" 011\n",
    "    101\n",
    "    ...\n",
    "    001 = 1 \n",
    "    \"\"\"\n",
    "    "
   ]
  },
  {
   "cell_type": "code",
   "execution_count": 20,
   "id": "2e150883-a2d9-4bae-9434-5f5d83a919bf",
   "metadata": {},
   "outputs": [
    {
     "name": "stdout",
     "output_type": "stream",
     "text": [
      "11\n"
     ]
    }
   ],
   "source": [
    "#  |\tOR\n",
    "D = 10\n",
    "F = 9\n",
    "G = D | F\n",
    "print(G)"
   ]
  },
  {
   "cell_type": "code",
   "execution_count": 21,
   "id": "4468638b-b8a5-4ca1-ade5-3753d8a94c6f",
   "metadata": {},
   "outputs": [],
   "source": [
    "# 10 = 1010\n",
    "# 9 =  1001\n",
    "# TF = 1011 = 11 binary number"
   ]
  },
  {
   "cell_type": "code",
   "execution_count": 23,
   "id": "2509c644-a5ae-4916-9e39-2a02276b67f6",
   "metadata": {},
   "outputs": [
    {
     "name": "stdout",
     "output_type": "stream",
     "text": [
      "3\n"
     ]
    }
   ],
   "source": [
    "#  ^\tXOR\n",
    "d = 10\n",
    "f = 9\n",
    "g = d ^ f\n",
    "print(g)"
   ]
  },
  {
   "cell_type": "code",
   "execution_count": 24,
   "id": "d7d84674-11fc-422c-aaf2-8a86ddc739ab",
   "metadata": {},
   "outputs": [],
   "source": [
    "# 10 = 1010\n",
    "# 9 =  1001\n",
    "# TF = 0011 = 3 binary number"
   ]
  },
  {
   "cell_type": "code",
   "execution_count": 27,
   "id": "73d65d9e-1fa1-4284-aa2a-a682184339e0",
   "metadata": {},
   "outputs": [
    {
     "name": "stdout",
     "output_type": "stream",
     "text": [
      "-11\n"
     ]
    }
   ],
   "source": [
    "#  ~\tNOT\n",
    "aa = 10\n",
    "bb = ~aa\n",
    "print(bb)"
   ]
  },
  {
   "cell_type": "code",
   "execution_count": 28,
   "id": "a3989904-4827-4e91-980a-1928448bfac2",
   "metadata": {},
   "outputs": [],
   "source": [
    "#  -(aa+1)"
   ]
  },
  {
   "cell_type": "code",
   "execution_count": 31,
   "id": "48ce1466-5e41-447a-8f91-0c8d9b9b5ca4",
   "metadata": {},
   "outputs": [
    {
     "name": "stdout",
     "output_type": "stream",
     "text": [
      "16\n"
     ]
    }
   ],
   "source": [
    "#  <<\tZero fill left shift\n",
    "cc = 2\n",
    "dd = cc << 3\n",
    "print(dd)"
   ]
  },
  {
   "cell_type": "code",
   "execution_count": 32,
   "id": "e5d13815-542a-47db-a12f-c7111fdb2abe",
   "metadata": {},
   "outputs": [],
   "source": [
    "# binary number of 2 = 10 , +add 3 - 000 with it\n",
    "# now new binary number is = 10000  = 16 binory number"
   ]
  },
  {
   "cell_type": "code",
   "execution_count": 33,
   "id": "435141ad-432f-4e67-8d70-e337d9625fb1",
   "metadata": {},
   "outputs": [
    {
     "name": "stdout",
     "output_type": "stream",
     "text": [
      "1\n"
     ]
    }
   ],
   "source": [
    "#   >>\tSigned right shift\n",
    "ab = 5\n",
    "ba = ab >> 2\n",
    "print(ba)"
   ]
  },
  {
   "cell_type": "code",
   "execution_count": 34,
   "id": "182c321f-0b46-4ae8-86d1-b63d03031f0d",
   "metadata": {},
   "outputs": [],
   "source": [
    "## binary number of 5 = 101 , remove last 2 numbers \n",
    "#now new binary number is = 1  = 1 binory number"
   ]
  },
  {
   "cell_type": "code",
   "execution_count": 35,
   "id": "594e6901-a4bd-4315-b87c-aad9bf9ed2f5",
   "metadata": {},
   "outputs": [
    {
     "name": "stdout",
     "output_type": "stream",
     "text": [
      "5\n"
     ]
    }
   ],
   "source": [
    "ab = 20\n",
    "ba = ab >> 2\n",
    "print(ba)"
   ]
  },
  {
   "cell_type": "code",
   "execution_count": 36,
   "id": "3816c45f-33ad-4acb-9fa6-574f0a16cead",
   "metadata": {},
   "outputs": [],
   "source": [
    "# 20 binary = 10100 / remove 2 numbers remains = 101 = 5 binary number"
   ]
  },
  {
   "cell_type": "code",
   "execution_count": 37,
   "id": "df2d111a-a78a-4687-91b6-1ea2a7852689",
   "metadata": {},
   "outputs": [
    {
     "name": "stdout",
     "output_type": "stream",
     "text": [
      "2\n"
     ]
    }
   ],
   "source": [
    "ab = 20\n",
    "ba = ab >> 3\n",
    "print(ba)"
   ]
  },
  {
   "cell_type": "code",
   "execution_count": 39,
   "id": "a511a9ab-de69-49b4-83ae-1355c12b0b4f",
   "metadata": {},
   "outputs": [],
   "source": [
    "# 20 binary = 10100 / remove 3 numbers remains = 10 = 2 binary number"
   ]
  },
  {
   "cell_type": "code",
   "execution_count": 41,
   "id": "45fb9e60-efe1-4a6b-ade5-57604527b079",
   "metadata": {},
   "outputs": [
    {
     "name": "stdout",
     "output_type": "stream",
     "text": [
      "-1\n"
     ]
    }
   ],
   "source": [
    "# Operator Precedence\n",
    "# P E M D A S\n",
    "# ()\tParentheses\n",
    "# **\tExponentiation\n",
    "# +x  -x  ~x\tUnary plus, unary minus, and bitwise NOT\n",
    "# *  /  //  %\tMultiplication, division, floor division, and modulus\n",
    "# +  -\tAddition and subtraction\n",
    "\n",
    "A = 2+3 - (2+4)\n",
    "print(A)"
   ]
  },
  {
   "cell_type": "code",
   "execution_count": 43,
   "id": "31bb088b-a671-4dc0-90be-1c11a2848f7d",
   "metadata": {},
   "outputs": [],
   "source": [
    "# If two operators have the same precedence, the expression is evaluated from left to right."
   ]
  },
  {
   "cell_type": "code",
   "execution_count": 52,
   "id": "7a96fc79-6a7d-4085-a836-86b36c96f6ca",
   "metadata": {},
   "outputs": [
    {
     "name": "stdout",
     "output_type": "stream",
     "text": [
      "-4\n",
      "8\n"
     ]
    }
   ],
   "source": [
    " print(2 - 5 + 2 - 3)\n",
    "print(BB)"
   ]
  },
  {
   "cell_type": "code",
   "execution_count": 48,
   "id": "87428703-c214-4131-9052-840fe87607bf",
   "metadata": {},
   "outputs": [
    {
     "name": "stdout",
     "output_type": "stream",
     "text": [
      "5\n"
     ]
    }
   ],
   "source": [
    "print(5 + 4 - 7 + 3)"
   ]
  },
  {
   "cell_type": "code",
   "execution_count": null,
   "id": "351b7e3e-4f9b-41a5-b71d-3dc5f62c8f7a",
   "metadata": {},
   "outputs": [],
   "source": []
  }
 ],
 "metadata": {
  "kernelspec": {
   "display_name": "Python 3 (ipykernel)",
   "language": "python",
   "name": "python3"
  },
  "language_info": {
   "codemirror_mode": {
    "name": "ipython",
    "version": 3
   },
   "file_extension": ".py",
   "mimetype": "text/x-python",
   "name": "python",
   "nbconvert_exporter": "python",
   "pygments_lexer": "ipython3",
   "version": "3.11.7"
  }
 },
 "nbformat": 4,
 "nbformat_minor": 5
}
