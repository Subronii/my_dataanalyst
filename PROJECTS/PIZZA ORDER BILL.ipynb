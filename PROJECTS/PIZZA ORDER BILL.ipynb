{
 "cells": [
  {
   "cell_type": "markdown",
   "id": "1be512f4-3d90-4205-a3a1-dd67f24e6c09",
   "metadata": {},
   "source": [
    "# Pizza Order Instructions Congratulations, you've got a job at Python Pizza. Your first job is to build an automatic pizza order program. \r\n",
    "Based on a user's order, work out their final bill# \r\n",
    "\r\n",
    "Small Pizza: # 15\r\n",
    "\r\n",
    "Medium Pizza#  $20\r\n",
    "\r\n",
    "Large Piz# a: $25\r\n",
    "\r\n",
    "Pepperoni for Small P# zza: +$2\r\n",
    "\r\n",
    "Pepperoni for Medium or Large# # Pizza: +$3\r\n",
    "\r\n",
    "Extra cheese for any siz#  pizza: + $1\r\n",
    "\r\n",
    "Example I# put size = \"L\"\r\n",
    "\r\n",
    "ad# _pepperoni = \"Y\"\r\n",
    "\r",
    "# extra_cheese = \"N\"\r\n",
    "\r\n",
    "Example Output You#  final bill is: $28.\r\n",
    "\r\n",
    "Hint Think about what you've learnt about multiple if statements and see if you can reduce the number of lines of code while having the same functionality."
   ]
  },
  {
   "cell_type": "code",
   "execution_count": 9,
   "id": "db01fe55-fe29-4ce3-a4bd-561b40c8e5e6",
   "metadata": {},
   "outputs": [
    {
     "name": "stdin",
     "output_type": "stream",
     "text": [
      "Please select your PIZZA size (S/M/L) :  m\n",
      "Do you want to add pepproni (Y/N) :  y\n",
      "Do you want to add extra cheese (Y/N) :  y\n"
     ]
    },
    {
     "name": "stdout",
     "output_type": "stream",
     "text": [
      "You have order Medium PIZZA with pepproni and extra cheese your total bill is 29 \n"
     ]
    }
   ],
   "source": [
    "pizzasize = input(\"Please select your PIZZA size (S/M/L) : \").upper()\n",
    "bill = 0\n",
    "if pizzasize == \"S\" :\n",
    "    bill += 15\n",
    "    askpep = input(\"Do you want to add pepproni (Y/N) : \").upper()\n",
    "    askchz = input(\"Do you want to add extra cheese (Y/N) : \").upper()\n",
    "    if askpep == \"Y\" and askchz == \"Y\" :\n",
    "        bill += 2\n",
    "        bill += 1\n",
    "        print(f\"You have order Small PIZZA with pepproni and extra cheese your total bill is {bill} \")\n",
    "    elif askpep == \"Y\" :\n",
    "        bill += 2\n",
    "        print(f\"You have order Small PIZZA with pepproni and your total bill is {bill} \")\n",
    "    elif askchz == \"Y\" :\n",
    "        bill += 1\n",
    "        print(f\"You have order Small PIZZA with extra cheese and your total bill is {bill} \")\n",
    "    else :\n",
    "        print(f\"You have order Small PIZZA and your total bill is {bill}\")\n",
    "elif pizzasize == \"M\" :\n",
    "    bill += 25\n",
    "    askpep = input(\"Do you want to add pepproni (Y/N) : \").upper()\n",
    "    askchz = input(\"Do you want to add extra cheese (Y/N) : \").upper()\n",
    "    if askpep == \"Y\" and askchz == \"Y\" :\n",
    "        bill += 3\n",
    "        bill += 1\n",
    "        print(f\"You have order Medium PIZZA with pepproni and extra cheese your total bill is {bill} \")\n",
    "    elif askpep == \"Y\" :\n",
    "        bill += 3\n",
    "        print(f\"You have order Medium PIZZA with pepproni and your total bill is {bill} \")\n",
    "    elif askchz == \"Y\" :\n",
    "        bill += 1\n",
    "        print(f\"You have order Medium PIZZA with extra cheese and your total bill is {bill} \")\n",
    "    else :\n",
    "        print(f\"You have order Medium PIZZA and your total bill is {bill}\")\n",
    "elif pizzasize == \"L\" :\n",
    "    bill += 25\n",
    "    askpep = input(\"Do you want to add pepproni (Y/N) : \").upper()\n",
    "    askchz = input(\"Do you want to add extra cheese (Y/N) : \").upper()\n",
    "    if askpep == \"Y\" and askchz == \"Y\" :\n",
    "        bill += 3\n",
    "        bill += 1\n",
    "        print(f\"You have order Large PIZZA with pepproni and extra cheese your total bill is {bill} \")\n",
    "    elif askpep == \"Y\" :\n",
    "        bill += 3\n",
    "        print(f\"You have order Large PIZZA with pepproni and your total bill is {bill} \")\n",
    "    elif askchz == \"Y\" :\n",
    "        bill += 1\n",
    "        print(f\"You have order Large PIZZA with extra cheese and your total bill is {bill} \")\n",
    "    else :\n",
    "        print(f\"You have order Large PIZZA and your total bill is {bill}\")\n",
    "else :\n",
    "    print(\"Please select correct PIZZA SIZE !!!\")"
   ]
  },
  {
   "cell_type": "code",
   "execution_count": null,
   "id": "56755d72-04bb-491b-9c31-914b978667c6",
   "metadata": {},
   "outputs": [],
   "source": []
  }
 ],
 "metadata": {
  "kernelspec": {
   "display_name": "Python 3 (ipykernel)",
   "language": "python",
   "name": "python3"
  },
  "language_info": {
   "codemirror_mode": {
    "name": "ipython",
    "version": 3
   },
   "file_extension": ".py",
   "mimetype": "text/x-python",
   "name": "python",
   "nbconvert_exporter": "python",
   "pygments_lexer": "ipython3",
   "version": "3.11.7"
  }
 },
 "nbformat": 4,
 "nbformat_minor": 5
}
