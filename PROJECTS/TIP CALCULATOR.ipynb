{
 "cells": [
  {
   "cell_type": "code",
   "execution_count": 3,
   "id": "c27bb45d-f8ca-4fb6-b0a8-9d1e43fe80ad",
   "metadata": {},
   "outputs": [
    {
     "name": "stdout",
     "output_type": "stream",
     "text": [
      "WELCOME TO TIP CALCULATER\n"
     ]
    }
   ],
   "source": [
    "print(\"WELCOME TO TIP CALCULATER\")\n"
   ]
  },
  {
   "cell_type": "code",
   "execution_count": 4,
   "id": "3528b2b7-528a-4d4a-a1b9-f35f6556f11d",
   "metadata": {},
   "outputs": [
    {
     "name": "stdin",
     "output_type": "stream",
     "text": [
      "What was the total bill ?   500\n",
      "How much tip would you like to give? (10, 12, or 15)   15\n",
      "How many people to split the bill ?    5\n"
     ]
    },
    {
     "name": "stdout",
     "output_type": "stream",
     "text": [
      "0.15\n"
     ]
    }
   ],
   "source": [
    "bill = float(input(\"What was the total bill ?  \"))\n",
    "tipgive = int(input(\"How much tip would you like to give? (10, 12, or 15)  \"))\n",
    "splitbil1 = int(input(\"How many people to split the bill ?   \"))\n",
    "tipfinder = tipgive / 100\n",
    "print(tipfinder)"
   ]
  },
  {
   "cell_type": "code",
   "execution_count": null,
   "id": "b68c61b8-a37c-430b-bd58-8d6d1b95e124",
   "metadata": {},
   "outputs": [],
   "source": []
  }
 ],
 "metadata": {
  "kernelspec": {
   "display_name": "Python 3 (ipykernel)",
   "language": "python",
   "name": "python3"
  },
  "language_info": {
   "codemirror_mode": {
    "name": "ipython",
    "version": 3
   },
   "file_extension": ".py",
   "mimetype": "text/x-python",
   "name": "python",
   "nbconvert_exporter": "python",
   "pygments_lexer": "ipython3",
   "version": "3.11.7"
  }
 },
 "nbformat": 4,
 "nbformat_minor": 5
}
