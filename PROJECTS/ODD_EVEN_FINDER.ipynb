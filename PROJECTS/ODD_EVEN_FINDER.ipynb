{
 "cells": [
  {
   "cell_type": "code",
   "execution_count": 3,
   "id": "14e8ba3a-8566-43a8-9de7-99ae8b712c0c",
   "metadata": {},
   "outputs": [
    {
     "name": "stdin",
     "output_type": "stream",
     "text": [
      "Enter a number to find its ODD or EVEN number :  12345\n"
     ]
    },
    {
     "name": "stdout",
     "output_type": "stream",
     "text": [
      "This is ODD number\n"
     ]
    }
   ],
   "source": [
    "findnum = int(input(\"Enter a number to find its ODD or EVEN number : \"))\n",
    "findeven = findnum % 2\n",
    "if findeven == 0 :\n",
    "    print(\"This is EVEN number\")\n",
    "else :\n",
    "    print(\"This is ODD number\")"
   ]
  },
  {
   "cell_type": "code",
   "execution_count": null,
   "id": "13d91777-4c9a-4f7a-b179-16ea60d8ded2",
   "metadata": {},
   "outputs": [],
   "source": []
  }
 ],
 "metadata": {
  "kernelspec": {
   "display_name": "Python 3 (ipykernel)",
   "language": "python",
   "name": "python3"
  },
  "language_info": {
   "codemirror_mode": {
    "name": "ipython",
    "version": 3
   },
   "file_extension": ".py",
   "mimetype": "text/x-python",
   "name": "python",
   "nbconvert_exporter": "python",
   "pygments_lexer": "ipython3",
   "version": "3.11.7"
  }
 },
 "nbformat": 4,
 "nbformat_minor": 5
}
