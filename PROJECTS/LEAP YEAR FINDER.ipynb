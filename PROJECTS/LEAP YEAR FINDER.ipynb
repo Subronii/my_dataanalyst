{
 "cells": [
  {
   "cell_type": "markdown",
   "id": "e1002af7-530e-4619-9311-bf196a2fe1c8",
   "metadata": {},
   "source": [
    "# In the Gregorian calendar, which is the most widely used calendar system today, the leap year calculation is as follows:\n",
    "# If the year is evenly divisible by 4, it is a leap year, unless:\n",
    "# If the year is evenly divisible by 100, it is not a leap year, unless:\n",
    "# If the year is evenly divisible by 400, it is a leap year."
   ]
  },
  {
   "cell_type": "code",
   "execution_count": 2,
   "id": "37e523ea-ac42-4761-961e-22b6b559bb89",
   "metadata": {},
   "outputs": [
    {
     "name": "stdin",
     "output_type": "stream",
     "text": [
      "Please enter a year :  2024\n"
     ]
    },
    {
     "name": "stdout",
     "output_type": "stream",
     "text": [
      "2024 is a LEAP YEAR\n"
     ]
    }
   ],
   "source": [
    "leapyear = int(input(\"Please enter a year : \"))\n",
    "findleap1 = leapyear % 4\n",
    "findleap2 = leapyear % 100\n",
    "findleap3 = leapyear % 400\n",
    "if findleap1 == 0 :\n",
    "    print(f\"{leapyear} is a LEAP YEAR\")\n",
    "elif findleap2 != 0 :\n",
    "    print(f\"{leapyear} is a LEAP YEAR\")\n",
    "elif findleap3 == 0 :\n",
    "    print(f\"{leapyear} is a LEAP YEAR\")"
   ]
  },
  {
   "cell_type": "code",
   "execution_count": null,
   "id": "9db699fd-6977-41c2-9619-5ca7d5296c02",
   "metadata": {},
   "outputs": [],
   "source": []
  }
 ],
 "metadata": {
  "kernelspec": {
   "display_name": "Python 3 (ipykernel)",
   "language": "python",
   "name": "python3"
  },
  "language_info": {
   "codemirror_mode": {
    "name": "ipython",
    "version": 3
   },
   "file_extension": ".py",
   "mimetype": "text/x-python",
   "name": "python",
   "nbconvert_exporter": "python",
   "pygments_lexer": "ipython3",
   "version": "3.11.7"
  }
 },
 "nbformat": 4,
 "nbformat_minor": 5
}
