{
 "cells": [
  {
   "cell_type": "markdown",
   "id": "c6ead0b1-e63a-4eba-9ee8-69edbf8f7e8c",
   "metadata": {},
   "source": [
    "# The formula to calculate BMI is:\n",
    "# BMI = WEIGHT / HIGHT.. POWER OF 2\n",
    "#  ≤ 18.4\tUnderweight\r",
    "#  \n",
    "18.5 - 24.9\tNormal#  \r\n",
    "25.0 - 39.9\tOverweigh#  t\r\n",
    "≥ 40.0\tObese"
   ]
  },
  {
   "cell_type": "code",
   "execution_count": 9,
   "id": "70159ddd-4d65-40b9-9a4c-653adc649428",
   "metadata": {},
   "outputs": [
    {
     "name": "stdin",
     "output_type": "stream",
     "text": [
      "Enter your weight in KG :  90\n",
      "Enter your height in CM :  172.4\n"
     ]
    },
    {
     "name": "stdout",
     "output_type": "stream",
     "text": [
      "Your Body Mass Index is 302808.45\n",
      "Your are OBESE\n"
     ]
    }
   ],
   "source": [
    "weight1 = int(input(\"Enter your weight in KG : \"))\n",
    "height1 = float(input(\"Enter your height in CM : \"))\n",
    "hm = height1 / 100\n",
    "BMIcal = (weight1 / (hm ** 2)) * 10000\n",
    "BMI = round(BMIcal,2)\n",
    "print(f\"Your Body Mass Index is {BMI}\" )\n",
    "if BMIcal <= 18.4 :\n",
    "    print(\"Your are UNDER WEIGHT\")\n",
    "elif BMIcal <= 24.9 :\n",
    "    print(\"Your are NORMAL\")\n",
    "elif BMIcal <= 39.9 :\n",
    "    print(\"Your are OVER WEIGHT\")\n",
    "elif BMIcal > 40.0 :\n",
    "    print(\"Your are OBESE\")"
   ]
  },
  {
   "cell_type": "code",
   "execution_count": null,
   "id": "e657c796-6f62-4ec1-bcde-d2493e573a5c",
   "metadata": {},
   "outputs": [],
   "source": []
  }
 ],
 "metadata": {
  "kernelspec": {
   "display_name": "Python 3 (ipykernel)",
   "language": "python",
   "name": "python3"
  },
  "language_info": {
   "codemirror_mode": {
    "name": "ipython",
    "version": 3
   },
   "file_extension": ".py",
   "mimetype": "text/x-python",
   "name": "python",
   "nbconvert_exporter": "python",
   "pygments_lexer": "ipython3",
   "version": "3.11.7"
  }
 },
 "nbformat": 4,
 "nbformat_minor": 5
}
