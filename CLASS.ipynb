{
 "cells": [
  {
   "cell_type": "code",
   "execution_count": 1,
   "id": "5afb6dfc-b463-4971-bcc8-b28cdfc96a1f",
   "metadata": {},
   "outputs": [
    {
     "ename": "NameError",
     "evalue": "name 'a' is not defined",
     "output_type": "error",
     "traceback": [
      "\u001b[1;31m---------------------------------------------------------------------------\u001b[0m",
      "\u001b[1;31mNameError\u001b[0m                                 Traceback (most recent call last)",
      "Cell \u001b[1;32mIn[1], line 3\u001b[0m\n\u001b[0;32m      1\u001b[0m \u001b[38;5;28;01mclass\u001b[39;00m \u001b[38;5;21;01mmy_class\u001b[39;00m :\n\u001b[0;32m      2\u001b[0m     a \u001b[38;5;241m=\u001b[39m \u001b[38;5;241m5\u001b[39m\n\u001b[1;32m----> 3\u001b[0m \u001b[38;5;28mprint\u001b[39m(a)\n",
      "\u001b[1;31mNameError\u001b[0m: name 'a' is not defined"
     ]
    }
   ],
   "source": [
    "class my_class :\n",
    "    a = 5\n",
    "print(a)"
   ]
  },
  {
   "cell_type": "code",
   "execution_count": 3,
   "id": "aa240537-e298-4cbf-9305-831c2d845c21",
   "metadata": {},
   "outputs": [
    {
     "name": "stdout",
     "output_type": "stream",
     "text": [
      "5\n"
     ]
    }
   ],
   "source": [
    "class my_class : # DEFINING CLASS NAME\n",
    "    a = 5 # PROPERTIES OF CLASS\n",
    "aa = my_class() # CRTEATING A OBJECT(VARIBALE) AND GIVING ITS CLASS(BLUEPTINT) \n",
    "print(aa.a) # GIVING A PROPERTIES FROM THE CLASS"
   ]
  },
  {
   "cell_type": "code",
   "execution_count": 4,
   "id": "2d22f5eb-936c-4776-a4f9-d181b4edc16b",
   "metadata": {},
   "outputs": [
    {
     "name": "stdout",
     "output_type": "stream",
     "text": [
      "5\n",
      "10\n"
     ]
    }
   ],
   "source": [
    "class my_class : \n",
    "    a = 5\n",
    "    B = 10\n",
    "aa = my_class() \n",
    "print(aa.a)\n",
    "print(aa.B)"
   ]
  },
  {
   "cell_type": "code",
   "execution_count": 2,
   "id": "7d28d738-69c8-43da-8ce7-0c6c929fe081",
   "metadata": {},
   "outputs": [
    {
     "name": "stdout",
     "output_type": "stream",
     "text": [
      "38/B\n",
      "PRATHAM RESIDENCY\n",
      "M.P\n",
      "482020\n"
     ]
    }
   ],
   "source": [
    "class Address :\n",
    "    def __init__(starts,HNO,COLONY,STATE,PINCODE): # __INIT__ FUNCTION START,EXCECUTITE \n",
    "        starts.HNO = HNO      # ASSING PROPERTY \n",
    "        starts.COLONY = COLONY\n",
    "        starts.STATE = STATE\n",
    "        starts.PINCODE = PINCODE\n",
    "ADDRESS = Address(\"38/B\", \"PRATHAM RESIDENCY\", \"M.P\", 482020)  # CRTEATING A OBJECT(VARIBALE) AND GIVING ITS CLASS(BLUEPTINT) \n",
    "print(ADDRESS.HNO)                                           # GIVING A PROPERTIES FROM THE CLASS AND PRINTING TO ACCESS THEM\n",
    "print(ADDRESS.COLONY)\n",
    "print(ADDRESS.STATE)\n",
    "print(ADDRESS.PINCODE)"
   ]
  },
  {
   "cell_type": "code",
   "execution_count": 9,
   "id": "ee1c0125-83fd-4242-9736-f39571ae1e81",
   "metadata": {},
   "outputs": [
    {
     "name": "stdout",
     "output_type": "stream",
     "text": [
      "38/B PRATHAM RESIDENCY M.P 482020\n"
     ]
    }
   ],
   "source": [
    "print(ADDRESS.HNO,ADDRESS.COLONY,ADDRESS.STATE,ADDRESS.PINCODE)"
   ]
  },
  {
   "cell_type": "code",
   "execution_count": 6,
   "id": "0e8a082e-8546-4f94-b05a-a85e93c3ba8b",
   "metadata": {},
   "outputs": [
    {
     "name": "stdout",
     "output_type": "stream",
     "text": [
      "38/B\n",
      "PRATHAM RESIDENCY\n",
      "M.P\n",
      "482020\n"
     ]
    }
   ],
   "source": [
    "class Address :\n",
    "    def filling(HNO,COLONY,STATE,PINCODE):\n",
    "        ADDRESS = Address(\"38/B\", \"PRATHAM RESIDENCY\", \"M.P\", 482020)  \n",
    "print(ADDRESS.HNO)                                           \n",
    "print(ADDRESS.COLONY)\n",
    "print(ADDRESS.STATE)\n",
    "print(ADDRESS.PINCODE)"
   ]
  },
  {
   "cell_type": "code",
   "execution_count": 9,
   "id": "46a20281-2a62-49b4-ad79-40f69f680c66",
   "metadata": {},
   "outputs": [
    {
     "name": "stdout",
     "output_type": "stream",
     "text": [
      "John(36)\n"
     ]
    }
   ],
   "source": [
    "class Person:\n",
    "  def __init__(self, name, age):\n",
    "    self.name = name\n",
    "    self.age = age\n",
    "\n",
    "  def __str__(self):\n",
    "    return f\"{self.name}({self.age})\"    \n",
    "\n",
    "p1 = Person(\"John\", 36)\n",
    "\n",
    "print(p1)"
   ]
  },
  {
   "cell_type": "code",
   "execution_count": null,
   "id": "10b22d97-7bbe-4930-938a-457f180e6a75",
   "metadata": {},
   "outputs": [],
   "source": []
  },
  {
   "cell_type": "code",
   "execution_count": null,
   "id": "08fab739-7f95-44ff-ab34-166e6b385f8d",
   "metadata": {},
   "outputs": [],
   "source": []
  },
  {
   "cell_type": "code",
   "execution_count": 14,
   "id": "e43077f0-ddcb-41d2-891f-42c16d0a3b56",
   "metadata": {},
   "outputs": [
    {
     "name": "stdout",
     "output_type": "stream",
     "text": [
      "Hello my name is John\n"
     ]
    }
   ],
   "source": [
    "class Person:\n",
    "  def __init__(self, name, age):\n",
    "    self.name = name\n",
    "    self.age = age\n",
    "\n",
    "  def myfunc(self):\n",
    "    print(\"Hello my name is \" + self.name)\n",
    "\n",
    "p1 = Person(\"John\", 36)\n",
    "p1.myfunc()"
   ]
  },
  {
   "cell_type": "code",
   "execution_count": null,
   "id": "cb91e915-d6b6-46e0-804f-b7646af7c70a",
   "metadata": {},
   "outputs": [],
   "source": []
  }
 ],
 "metadata": {
  "kernelspec": {
   "display_name": "Python 3 (ipykernel)",
   "language": "python",
   "name": "python3"
  },
  "language_info": {
   "codemirror_mode": {
    "name": "ipython",
    "version": 3
   },
   "file_extension": ".py",
   "mimetype": "text/x-python",
   "name": "python",
   "nbconvert_exporter": "python",
   "pygments_lexer": "ipython3",
   "version": "3.11.7"
  }
 },
 "nbformat": 4,
 "nbformat_minor": 5
}
