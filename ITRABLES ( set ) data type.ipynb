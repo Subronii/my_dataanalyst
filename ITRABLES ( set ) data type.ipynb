{
 "cells": [
  {
   "cell_type": "markdown",
   "id": "8ab84d6c-17be-4690-b47b-a06ba512e78b",
   "metadata": {},
   "source": [
    "# set{}"
   ]
  },
  {
   "cell_type": "code",
   "execution_count": 3,
   "id": "3fef8dce-c788-4daa-9a5a-93f900dc9042",
   "metadata": {},
   "outputs": [
    {
     "ename": "TypeError",
     "evalue": "unhashable type: 'set'",
     "output_type": "error",
     "traceback": [
      "\u001b[1;31m---------------------------------------------------------------------------\u001b[0m",
      "\u001b[1;31mTypeError\u001b[0m                                 Traceback (most recent call last)",
      "Cell \u001b[1;32mIn[3], line 1\u001b[0m\n\u001b[1;32m----> 1\u001b[0m set1 \u001b[38;5;241m=\u001b[39m {\u001b[38;5;124m\"\u001b[39m\u001b[38;5;124mapple\u001b[39m\u001b[38;5;124m\"\u001b[39m, \u001b[38;5;124m\"\u001b[39m\u001b[38;5;124mball\u001b[39m\u001b[38;5;124m\"\u001b[39m, \u001b[38;5;241m1\u001b[39m, \u001b[38;5;241m1\u001b[39m, \u001b[38;5;241m2\u001b[39m, \u001b[38;5;241m22.5\u001b[39m, \u001b[38;5;241m22\u001b[39m\u001b[38;5;241m+\u001b[39m\u001b[38;5;241m5\u001b[39mj, \u001b[38;5;28;01mTrue\u001b[39;00m, \u001b[38;5;28;01mNone\u001b[39;00m, {\u001b[38;5;124m\"\u001b[39m\u001b[38;5;124mbanana\u001b[39m\u001b[38;5;124m\"\u001b[39m, \u001b[38;5;124m\"\u001b[39m\u001b[38;5;124morange\u001b[39m\u001b[38;5;124m\"\u001b[39m}, [\u001b[38;5;124m\"\u001b[39m\u001b[38;5;124msubham\u001b[39m\u001b[38;5;124m\"\u001b[39m],(\u001b[38;5;124m\"\u001b[39m\u001b[38;5;124mrout\u001b[39m\u001b[38;5;124m\"\u001b[39m),{\u001b[38;5;124m\"\u001b[39m\u001b[38;5;124mbanana\u001b[39m\u001b[38;5;124m\"\u001b[39m, \u001b[38;5;124m\"\u001b[39m\u001b[38;5;124mmango\u001b[39m\u001b[38;5;124m\"\u001b[39m}}\n\u001b[0;32m      2\u001b[0m \u001b[38;5;28mprint\u001b[39m(set1)\n\u001b[0;32m      3\u001b[0m \u001b[38;5;28mprint\u001b[39m(\u001b[38;5;28mtype\u001b[39m(set1))\n",
      "\u001b[1;31mTypeError\u001b[0m: unhashable type: 'set'"
     ]
    }
   ],
   "source": [
    "set1 = {\"apple\", \"ball\", 1, 1, 2, 22.5, 22+5j, True, None, {\"banana\", \"orange\"}, [\"subham\"],(\"rout\"),{\"banana\", \"mango\"}}\n",
    "print(set1)\n",
    "print(type(set1))\n",
    "print(len(set1))"
   ]
  },
  {
   "cell_type": "code",
   "execution_count": 4,
   "id": "e50f4b54-3194-4e67-94a5-b4bc3bf29bcb",
   "metadata": {},
   "outputs": [
    {
     "name": "stdout",
     "output_type": "stream",
     "text": [
      "{1, 2, None, (22+5j), 22.5, 'ball', 'apple'}\n",
      "<class 'set'>\n",
      "7\n"
     ]
    }
   ],
   "source": [
    "set1 = {\"apple\", \"ball\", 1, 1, 2, 22.5, 22+5j, True, None,}\n",
    "print(set1)\n",
    "print(type(set1))\n",
    "print(len(set1))"
   ]
  },
  {
   "cell_type": "code",
   "execution_count": 5,
   "id": "6eccf08f-628f-46e0-9a4c-44da4fff8531",
   "metadata": {},
   "outputs": [
    {
     "name": "stdout",
     "output_type": "stream",
     "text": [
      "{1, 2, None, (22+5j), 22.5, 'ball', 'apple'}\n"
     ]
    }
   ],
   "source": [
    "print(set1)"
   ]
  },
  {
   "cell_type": "code",
   "execution_count": 13,
   "id": "525f4473-7ad2-427d-bcee-7c38f62a3e14",
   "metadata": {},
   "outputs": [
    {
     "name": "stdout",
     "output_type": "stream",
     "text": [
      "{1, 2, (22+5j), 'joker', 'apple', None, 22.5, 'ball'}\n"
     ]
    }
   ],
   "source": [
    "set1 = {\"apple\", \"ball\", 1, 1, 2, 22.5, 22+5j, True, None, \"ball\", \"joker\"}\n",
    "print(set1)"
   ]
  },
  {
   "cell_type": "code",
   "execution_count": 9,
   "id": "11de33a0-990c-4d6d-b551-64312fb55bfd",
   "metadata": {},
   "outputs": [
    {
     "name": "stdout",
     "output_type": "stream",
     "text": [
      "{False, True, 2, 3, None, ' '}\n"
     ]
    }
   ],
   "source": [
    "set2 = {True , False , None , 2 , 1 , 3, 0, \" \"}\n",
    "print(set2)"
   ]
  },
  {
   "cell_type": "code",
   "execution_count": 11,
   "id": "50df5ccd-c482-4281-8ab8-695c4ea6a817",
   "metadata": {},
   "outputs": [
    {
     "name": "stdout",
     "output_type": "stream",
     "text": [
      "{'kiwi', 1, 3, 4.5, 'banana', (33+5j)}\n",
      "<class 'set'>\n"
     ]
    }
   ],
   "source": [
    "set3 = set((\"banana\", \"kiwi\",1, 3, 4.5, True, 33+5j))\n",
    "print(set3)\n",
    "print(type(set3))"
   ]
  },
  {
   "cell_type": "code",
   "execution_count": 56,
   "id": "8e4af00c-0bdd-40cc-af98-30f5f95322dc",
   "metadata": {},
   "outputs": [
    {
     "ename": "TypeError",
     "evalue": "'set' object is not subscriptable",
     "output_type": "error",
     "traceback": [
      "\u001b[1;31m---------------------------------------------------------------------------\u001b[0m",
      "\u001b[1;31mTypeError\u001b[0m                                 Traceback (most recent call last)",
      "Cell \u001b[1;32mIn[56], line 1\u001b[0m\n\u001b[1;32m----> 1\u001b[0m \u001b[38;5;28mprint\u001b[39m(set3[\u001b[38;5;241m2\u001b[39m])\n\u001b[0;32m      2\u001b[0m \u001b[38;5;28mprint\u001b[39m(set3[\u001b[38;5;241m-\u001b[39m\u001b[38;5;241m3\u001b[39m])\n",
      "\u001b[1;31mTypeError\u001b[0m: 'set' object is not subscriptable"
     ]
    }
   ],
   "source": [
    "print(set3[2])\n",
    "print(set3[-3])"
   ]
  },
  {
   "cell_type": "code",
   "execution_count": null,
   "id": "4caa263e-9565-4bbf-b3fa-39337655f7c1",
   "metadata": {},
   "outputs": [],
   "source": []
  },
  {
   "cell_type": "code",
   "execution_count": 16,
   "id": "3b75e8a9-ae97-4c90-9ead-f64975ad4d4f",
   "metadata": {},
   "outputs": [
    {
     "name": "stdout",
     "output_type": "stream",
     "text": [
      "kiwi\n",
      "1\n",
      "3\n",
      "4.5\n",
      "banana\n",
      "(33+5j)\n"
     ]
    }
   ],
   "source": [
    "for s in set3:\n",
    "    print(s)"
   ]
  },
  {
   "cell_type": "code",
   "execution_count": 20,
   "id": "558b0d82-ea7e-48ce-a7ba-5e687f781dbd",
   "metadata": {},
   "outputs": [
    {
     "ename": "SyntaxError",
     "evalue": "cannot assign to literal (985678841.py, line 1)",
     "output_type": "error",
     "traceback": [
      "\u001b[1;36m  Cell \u001b[1;32mIn[20], line 1\u001b[1;36m\u001b[0m\n\u001b[1;33m    for \"kiwi\" in set3 :\u001b[0m\n\u001b[1;37m        ^\u001b[0m\n\u001b[1;31mSyntaxError\u001b[0m\u001b[1;31m:\u001b[0m cannot assign to literal\n"
     ]
    }
   ],
   "source": [
    "for \"kiwi\" in set3 :\n",
    "    print(set3)"
   ]
  },
  {
   "cell_type": "code",
   "execution_count": 21,
   "id": "07ef77b0-659e-4a97-9948-22076be47476",
   "metadata": {},
   "outputs": [
    {
     "name": "stdout",
     "output_type": "stream",
     "text": [
      "True\n"
     ]
    }
   ],
   "source": [
    "print(\"kiwi\" in set3)"
   ]
  },
  {
   "cell_type": "code",
   "execution_count": 22,
   "id": "ba3e7db2-e7dd-4c17-9df7-94557dd83131",
   "metadata": {},
   "outputs": [
    {
     "name": "stdout",
     "output_type": "stream",
     "text": [
      "False\n"
     ]
    }
   ],
   "source": [
    "print(2 in set3)"
   ]
  },
  {
   "cell_type": "code",
   "execution_count": 23,
   "id": "e5bb7533-4d20-4a5c-b5dc-1c23f91c351e",
   "metadata": {},
   "outputs": [
    {
     "name": "stdout",
     "output_type": "stream",
     "text": [
      "{'kiwi', 1, 3, 4.5, 'banana', (33+5j), 'tree'}\n"
     ]
    }
   ],
   "source": [
    "set3.add(\"tree\")\n",
    "print(set3)"
   ]
  },
  {
   "cell_type": "code",
   "execution_count": 24,
   "id": "9661a559-acd7-4e34-a467-fac6a489b406",
   "metadata": {},
   "outputs": [
    {
     "ename": "TypeError",
     "evalue": "set.add() takes exactly one argument (2 given)",
     "output_type": "error",
     "traceback": [
      "\u001b[1;31m---------------------------------------------------------------------------\u001b[0m",
      "\u001b[1;31mTypeError\u001b[0m                                 Traceback (most recent call last)",
      "Cell \u001b[1;32mIn[24], line 1\u001b[0m\n\u001b[1;32m----> 1\u001b[0m set3\u001b[38;5;241m.\u001b[39madd(\u001b[38;5;124m\"\u001b[39m\u001b[38;5;124mtree\u001b[39m\u001b[38;5;124m\"\u001b[39m,\u001b[38;5;124m\"\u001b[39m\u001b[38;5;124mPlant\u001b[39m\u001b[38;5;124m\"\u001b[39m)\n\u001b[0;32m      2\u001b[0m \u001b[38;5;28mprint\u001b[39m(set3)\n",
      "\u001b[1;31mTypeError\u001b[0m: set.add() takes exactly one argument (2 given)"
     ]
    }
   ],
   "source": [
    "set3.add(\"tree\",\"Plant\")\n",
    "print(set3)"
   ]
  },
  {
   "cell_type": "code",
   "execution_count": 25,
   "id": "3f3f410a-bfc0-45a7-8227-117091138ffb",
   "metadata": {},
   "outputs": [],
   "source": [
    "# add() only take one value,item,object"
   ]
  },
  {
   "cell_type": "code",
   "execution_count": 26,
   "id": "3942ea5e-1524-43bf-909d-c6be2729a050",
   "metadata": {},
   "outputs": [
    {
     "name": "stdout",
     "output_type": "stream",
     "text": [
      "{'kiwi', 1, 3, 4.5, 2, (22+5j), 'joker', 'banana', 'apple', (33+5j), 'tree', None, 22.5, 'ball'}\n"
     ]
    }
   ],
   "source": [
    "set3.update(set1)\n",
    "print(set3)"
   ]
  },
  {
   "cell_type": "code",
   "execution_count": 27,
   "id": "4efbfd20-d56c-4522-aacd-3841a42d60d2",
   "metadata": {},
   "outputs": [],
   "source": [
    "set3.remove(2)"
   ]
  },
  {
   "cell_type": "code",
   "execution_count": 28,
   "id": "29c53e79-faf0-46db-9705-2442acca3dc2",
   "metadata": {},
   "outputs": [
    {
     "name": "stdout",
     "output_type": "stream",
     "text": [
      "{'kiwi', 1, 3, 4.5, (22+5j), 'joker', 'banana', 'apple', (33+5j), 'tree', None, 22.5, 'ball'}\n"
     ]
    }
   ],
   "source": [
    "print(set3)"
   ]
  },
  {
   "cell_type": "code",
   "execution_count": 29,
   "id": "ed6abaf2-7168-4384-a30f-6efbf1201ea2",
   "metadata": {},
   "outputs": [
    {
     "ename": "KeyError",
     "evalue": "2",
     "output_type": "error",
     "traceback": [
      "\u001b[1;31m---------------------------------------------------------------------------\u001b[0m",
      "\u001b[1;31mKeyError\u001b[0m                                  Traceback (most recent call last)",
      "Cell \u001b[1;32mIn[29], line 1\u001b[0m\n\u001b[1;32m----> 1\u001b[0m set3\u001b[38;5;241m.\u001b[39mremove(\u001b[38;5;241m2\u001b[39m)\n",
      "\u001b[1;31mKeyError\u001b[0m: 2"
     ]
    }
   ],
   "source": [
    "set3.remove(2)"
   ]
  },
  {
   "cell_type": "code",
   "execution_count": 30,
   "id": "cabb1be6-4dcb-4779-b237-dd2f2b887c8e",
   "metadata": {},
   "outputs": [],
   "source": [
    "# giving error becoz item is not in set"
   ]
  },
  {
   "cell_type": "code",
   "execution_count": 31,
   "id": "5c6e218e-bb0e-4de8-8440-f149f81fee11",
   "metadata": {},
   "outputs": [
    {
     "name": "stdout",
     "output_type": "stream",
     "text": [
      "{'kiwi', 1, 3, 4.5, (22+5j), 'joker', 'banana', (33+5j), 'tree', None, 22.5, 'ball'}\n"
     ]
    }
   ],
   "source": [
    "set3.discard(\"apple\")\n",
    "print(set3)"
   ]
  },
  {
   "cell_type": "code",
   "execution_count": 32,
   "id": "9e80c47f-8c2e-4437-9bb5-96514b304273",
   "metadata": {},
   "outputs": [
    {
     "name": "stdout",
     "output_type": "stream",
     "text": [
      "{'kiwi', 1, 3, 4.5, (22+5j), 'joker', 'banana', (33+5j), 'tree', None, 22.5, 'ball'}\n"
     ]
    }
   ],
   "source": [
    "set3.discard(\"apple\")\n",
    "print(set3)"
   ]
  },
  {
   "cell_type": "code",
   "execution_count": 33,
   "id": "444c0ec1-0e97-4ac7-876a-12c3755c81ee",
   "metadata": {},
   "outputs": [
    {
     "name": "stdout",
     "output_type": "stream",
     "text": [
      "{2, 3, 4, 5, 'dfg', 'aa', 89, 'bb'}\n"
     ]
    }
   ],
   "source": [
    "st1 = {\"aa\", \"bb\", \"dfg\"}\n",
    "st2 = {2, 3, 4, 5, 89}\n",
    "st3 = st1.union(st2)\n",
    "print(st3)"
   ]
  },
  {
   "cell_type": "code",
   "execution_count": 34,
   "id": "ab7b0e72-207e-4fda-9136-0353121820b0",
   "metadata": {},
   "outputs": [
    {
     "name": "stdout",
     "output_type": "stream",
     "text": [
      "{'aa', 2, 5, 89, 'bb', 'dg'}\n"
     ]
    }
   ],
   "source": [
    "st1 = {\"aa\", \"bb\", \"dg\"}\n",
    "st2 = {2, 5, 89}\n",
    "st3 = st1 | st2\n",
    "print(st3)"
   ]
  },
  {
   "cell_type": "code",
   "execution_count": 35,
   "id": "f505118d-efe1-432f-8226-991b0f2b612e",
   "metadata": {},
   "outputs": [
    {
     "name": "stdout",
     "output_type": "stream",
     "text": [
      "{1, 2, 3, 4, 5, 4.5, 'apple', 'aa', 'tree', 22.5, 89, 'bb', 'ball', 'kiwi', (22+5j), 'dfg', 'joker', 'banana', (33+5j), None}\n"
     ]
    }
   ],
   "source": [
    "st1 = {\"aa\", \"bb\", \"dfg\"}\n",
    "st2 = {2, 3, 4, 5, 89}\n",
    "st3 = st1.union(st2,set1,set3)\n",
    "print(st3)"
   ]
  },
  {
   "cell_type": "code",
   "execution_count": 36,
   "id": "1994f76e-2fbb-4173-9a07-f3cce0fe1402",
   "metadata": {},
   "outputs": [
    {
     "name": "stdout",
     "output_type": "stream",
     "text": [
      "{1, 2, 5, (22+5j), 'joker', 'dg', 'apple', 'aa', None, 22.5, 89, 'bb', 'ball'}\n"
     ]
    }
   ],
   "source": [
    "st1 = {\"aa\", \"bb\", \"dg\"}\n",
    "st2 = {2, 5, 89}\n",
    "st3 = st1 | st2 | set1\n",
    "print(st3)"
   ]
  },
  {
   "cell_type": "code",
   "execution_count": 40,
   "id": "541848cb-ef6f-4eea-9bd7-dca33876f6cf",
   "metadata": {},
   "outputs": [
    {
     "name": "stdout",
     "output_type": "stream",
     "text": [
      "{'aa', 2, 5, 89, 'bb'}\n"
     ]
    }
   ],
   "source": [
    "st1 = {\"aa\", \"bb\"}\n",
    "st2 = {2, 5, 89}\n",
    "st1.update(st2)\n",
    "print(st1)"
   ]
  },
  {
   "cell_type": "markdown",
   "id": "8dfbc3d3-8508-4841-ae43-6bc20a7750cb",
   "metadata": {},
   "source": [
    "# intersection() only keep the duplicates"
   ]
  },
  {
   "cell_type": "code",
   "execution_count": 41,
   "id": "70e2e42f-9614-4528-a779-28e1472fe3d9",
   "metadata": {},
   "outputs": [
    {
     "name": "stdout",
     "output_type": "stream",
     "text": [
      "{'cat', 'apple'}\n"
     ]
    }
   ],
   "source": [
    "a = {\"apple\", \"ball\", \"cat\", \"dog\"}\n",
    "b = {\"elf\", \"cat\", \"apple\", \"fish\"}\n",
    "c = a.intersection(b)\n",
    "print(c)"
   ]
  },
  {
   "cell_type": "code",
   "execution_count": 42,
   "id": "01b8a8e8-163a-4947-997b-a8c0c2825c18",
   "metadata": {},
   "outputs": [
    {
     "name": "stdout",
     "output_type": "stream",
     "text": [
      "{'cat', 'ball', 'apple'}\n"
     ]
    }
   ],
   "source": [
    "a = {\"apple\", \"ball\", \"cat\", \"dog\"}\n",
    "b = {\"elf\", \"cat\", \"apple\", \"fish\",\"elf\",\"ball\"}\n",
    "c = a & b\n",
    "print(c)"
   ]
  },
  {
   "cell_type": "code",
   "execution_count": 47,
   "id": "0a048a7e-86bd-47ff-bb11-6896d4a2b78a",
   "metadata": {},
   "outputs": [
    {
     "name": "stdout",
     "output_type": "stream",
     "text": [
      "{'cat', 'apple'}\n",
      "{'elf', 'fish', 'cat', 'apple'}\n"
     ]
    }
   ],
   "source": [
    "a = {\"apple\", \"ball\", \"cat\", \"dog\"}\n",
    "b = {\"elf\", \"cat\", \"apple\", \"fish\"}\n",
    "a.intersection_update(b)\n",
    "print(a)\n",
    "print(b)"
   ]
  },
  {
   "cell_type": "markdown",
   "id": "13ef1388-1b6d-42de-aec4-08b0c86d3a75",
   "metadata": {},
   "source": [
    "# difference () what are diffent form 1st set"
   ]
  },
  {
   "cell_type": "code",
   "execution_count": 44,
   "id": "2a03081e-2d8a-45fb-be7f-2dfbc3c43651",
   "metadata": {},
   "outputs": [
    {
     "name": "stdout",
     "output_type": "stream",
     "text": [
      "{'ball', 'dog'}\n"
     ]
    }
   ],
   "source": [
    "a = {\"apple\", \"ball\", \"cat\", \"dog\"}\n",
    "b = {\"elf\", \"cat\", \"apple\", \"fish\"}\n",
    "c = a.difference(b)\n",
    "print(c)"
   ]
  },
  {
   "cell_type": "code",
   "execution_count": 45,
   "id": "6f1a520f-5ad4-4177-85c8-4585b59ee321",
   "metadata": {},
   "outputs": [
    {
     "name": "stdout",
     "output_type": "stream",
     "text": [
      "{'ball', 'dog'}\n"
     ]
    }
   ],
   "source": [
    "a = {\"apple\", \"ball\", \"cat\", \"dog\", True, 0}\n",
    "b = {\"elf\", \"cat\", \"apple\", \"fish\", 1, False}\n",
    "c = a - b\n",
    "print(c)"
   ]
  },
  {
   "cell_type": "code",
   "execution_count": 48,
   "id": "4cc581cc-0700-4aba-b943-670cbba149d4",
   "metadata": {},
   "outputs": [
    {
     "name": "stdout",
     "output_type": "stream",
     "text": [
      "{'dog', 'ball'}\n",
      "{'elf', 'fish', 'cat', 'apple'}\n"
     ]
    }
   ],
   "source": [
    "a = {\"apple\", \"ball\", \"cat\", \"dog\"}\n",
    "b = {\"elf\", \"cat\", \"apple\", \"fish\"}\n",
    "a.difference_update(b)\n",
    "print(a)\n",
    "print(b)"
   ]
  },
  {
   "cell_type": "markdown",
   "id": "72092d5f-10b5-41d1-b2b5-b34eab1b80d6",
   "metadata": {},
   "source": [
    "# symmetric_difference() method will keep only the elements that are NOT present in both sets. its shows what is diff in both set"
   ]
  },
  {
   "cell_type": "code",
   "execution_count": 49,
   "id": "28069151-27cc-4247-82f4-a08bd6267d0d",
   "metadata": {},
   "outputs": [
    {
     "name": "stdout",
     "output_type": "stream",
     "text": [
      "{'dog', 'elf', 'fish', 'ball'}\n"
     ]
    }
   ],
   "source": [
    "a = {\"apple\", \"ball\", \"cat\", \"dog\"}\n",
    "b = {\"elf\", \"cat\", \"apple\", \"fish\"}\n",
    "c = a.symmetric_difference(b)\n",
    "print(c)"
   ]
  },
  {
   "cell_type": "code",
   "execution_count": 51,
   "id": "68bf207c-ad7b-444b-8a3d-9fd2be4bc425",
   "metadata": {},
   "outputs": [
    {
     "name": "stdout",
     "output_type": "stream",
     "text": [
      "{2, 'dog', 'elf', 'fish', 'ball'}\n"
     ]
    }
   ],
   "source": [
    "a = {\"apple\", \"ball\", \"cat\", \"dog\"}\n",
    "b = {\"elf\", \"cat\", \"apple\", \"fish\", 2}\n",
    "c = a ^b\n",
    "print(c)"
   ]
  },
  {
   "cell_type": "code",
   "execution_count": 52,
   "id": "2bfd355e-3426-40ec-96d0-1e0ebdccbc0a",
   "metadata": {},
   "outputs": [
    {
     "name": "stdout",
     "output_type": "stream",
     "text": [
      "{'dog', 'elf', 'fish', 'ball'}\n",
      "{'elf', 'fish', 'cat', 'apple'}\n"
     ]
    }
   ],
   "source": [
    "a = {\"apple\", \"ball\", \"cat\", \"dog\"}\n",
    "b = {\"elf\", \"cat\", \"apple\", \"fish\"}\n",
    "a.symmetric_difference_update(b)\n",
    "print(a)\n",
    "print(b)"
   ]
  },
  {
   "cell_type": "code",
   "execution_count": 54,
   "id": "c3d3799c-bd8a-4250-8e64-92360e3276b9",
   "metadata": {},
   "outputs": [
    {
     "name": "stdout",
     "output_type": "stream",
     "text": [
      "{'dog', 'elf', 'fish', 'banana', 'ball'}\n"
     ]
    }
   ],
   "source": [
    "a.add(\"banana\")\n",
    "print(a)"
   ]
  },
  {
   "cell_type": "code",
   "execution_count": 55,
   "id": "d07f9e7e-134e-4115-ba35-b036794b9ead",
   "metadata": {},
   "outputs": [
    {
     "ename": "TypeError",
     "evalue": "unsupported operand type(s) for +: 'set' and 'set'",
     "output_type": "error",
     "traceback": [
      "\u001b[1;31m---------------------------------------------------------------------------\u001b[0m",
      "\u001b[1;31mTypeError\u001b[0m                                 Traceback (most recent call last)",
      "Cell \u001b[1;32mIn[55], line 1\u001b[0m\n\u001b[1;32m----> 1\u001b[0m c \u001b[38;5;241m=\u001b[39m a \u001b[38;5;241m+\u001b[39m b\n\u001b[0;32m      2\u001b[0m \u001b[38;5;28mprint\u001b[39m(c)\n",
      "\u001b[1;31mTypeError\u001b[0m: unsupported operand type(s) for +: 'set' and 'set'"
     ]
    }
   ],
   "source": [
    "c = a + b\n",
    "print(c)"
   ]
  },
  {
   "cell_type": "code",
   "execution_count": null,
   "id": "fdab1ce1-66d2-43ec-9b7c-e45e143178c6",
   "metadata": {},
   "outputs": [],
   "source": []
  }
 ],
 "metadata": {
  "kernelspec": {
   "display_name": "Python 3 (ipykernel)",
   "language": "python",
   "name": "python3"
  },
  "language_info": {
   "codemirror_mode": {
    "name": "ipython",
    "version": 3
   },
   "file_extension": ".py",
   "mimetype": "text/x-python",
   "name": "python",
   "nbconvert_exporter": "python",
   "pygments_lexer": "ipython3",
   "version": "3.11.7"
  }
 },
 "nbformat": 4,
 "nbformat_minor": 5
}
