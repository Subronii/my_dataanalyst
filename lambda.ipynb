{
 "cells": [
  {
   "cell_type": "code",
   "execution_count": 1,
   "id": "2e68bf40-71c8-465c-bb76-a5c89c1dacda",
   "metadata": {},
   "outputs": [
    {
     "name": "stdout",
     "output_type": "stream",
     "text": [
      "<function <lambda> at 0x000001C754FB6980>\n"
     ]
    }
   ],
   "source": [
    "a = lambda b : 2+3\n",
    "print(a)"
   ]
  },
  {
   "cell_type": "code",
   "execution_count": 2,
   "id": "8e8ab151-84ed-4b7a-a776-caca69123690",
   "metadata": {},
   "outputs": [
    {
     "name": "stdout",
     "output_type": "stream",
     "text": [
      "5\n"
     ]
    }
   ],
   "source": [
    "a = lambda b : b+3\n",
    "print(a(2))"
   ]
  },
  {
   "cell_type": "code",
   "execution_count": 3,
   "id": "d50eab61-2f19-4bae-9cbe-2c625b209164",
   "metadata": {},
   "outputs": [
    {
     "name": "stdout",
     "output_type": "stream",
     "text": [
      "5\n",
      "ab\n",
      "ac\n",
      "ad\n"
     ]
    }
   ],
   "source": [
    "def my_function(x):\n",
    "  return \"a\" + x\n",
    "a = lambda b : b+3\n",
    "print(a(2))\n",
    "print(my_function(\"b\"))\n",
    "print(my_function(\"c\"))\n",
    "print(my_function(\"d\"))"
   ]
  },
  {
   "cell_type": "code",
   "execution_count": 4,
   "id": "7198b2db-1b32-43f0-8ed8-e7c5d00d0b1a",
   "metadata": {},
   "outputs": [
    {
     "ename": "NameError",
     "evalue": "name 'fname' is not defined",
     "output_type": "error",
     "traceback": [
      "\u001b[1;31m---------------------------------------------------------------------------\u001b[0m",
      "\u001b[1;31mNameError\u001b[0m                                 Traceback (most recent call last)",
      "Cell \u001b[1;32mIn[4], line 4\u001b[0m\n\u001b[0;32m      2\u001b[0m     \u001b[38;5;28;01mreturn\u001b[39;00m \u001b[38;5;28;01mlambda\u001b[39;00m fname : fname \u001b[38;5;241m+\u001b[39m sname\n\u001b[0;32m      3\u001b[0m subham()\n\u001b[1;32m----> 4\u001b[0m \u001b[38;5;28mprint\u001b[39m(fname(\u001b[38;5;124m\"\u001b[39m\u001b[38;5;124msubham\u001b[39m\u001b[38;5;124m\"\u001b[39m))\n",
      "\u001b[1;31mNameError\u001b[0m: name 'fname' is not defined"
     ]
    }
   ],
   "source": [
    "def subham(sname = \"rout\"):\n",
    "    return lambda fname : fname + sname\n",
    "subham()\n",
    "print(fname(\"subham\"))"
   ]
  },
  {
   "cell_type": "code",
   "execution_count": 5,
   "id": "6e318f82-c99b-4cf6-89bb-897822046a18",
   "metadata": {},
   "outputs": [
    {
     "name": "stdout",
     "output_type": "stream",
     "text": [
      "subham rout\n"
     ]
    }
   ],
   "source": [
    "def subham(sname = \"rout\"):\n",
    "    return lambda fname : fname +\" \"+ sname\n",
    "fllname = subham()\n",
    "print(fllname(\"subham\"))"
   ]
  },
  {
   "cell_type": "code",
   "execution_count": 6,
   "id": "19185f4e-bb45-4c82-8494-62590ac36a00",
   "metadata": {},
   "outputs": [
    {
     "name": "stdout",
     "output_type": "stream",
     "text": [
      "subham RAWAT\n",
      "RONII camiin\n"
     ]
    }
   ],
   "source": [
    "def subham(sname):\n",
    "    return lambda fname : fname +\" \"+ sname\n",
    "fllname = subham(\"RAWAT\")\n",
    "hnamse = subham(\"camiin\")\n",
    "print(fllname(\"subham\"))\n",
    "print(hnamse(\"RONII\"))"
   ]
  },
  {
   "cell_type": "code",
   "execution_count": 1,
   "id": "9af6d7e8-bf6f-4913-85af-8a377c78dfe0",
   "metadata": {},
   "outputs": [
    {
     "name": "stdout",
     "output_type": "stream",
     "text": [
      "15\n"
     ]
    }
   ],
   "source": [
    "x = lambda a : a + 10\n",
    "print(x(5))"
   ]
  },
  {
   "cell_type": "code",
   "execution_count": 2,
   "id": "fae06492-16db-41a6-9e24-e7e7a138ea31",
   "metadata": {},
   "outputs": [
    {
     "name": "stdout",
     "output_type": "stream",
     "text": [
      "35\n"
     ]
    }
   ],
   "source": [
    "x = lambda a,b,c : a + 10 + b + 10 + c\n",
    "print(x(5,5,5))"
   ]
  },
  {
   "cell_type": "code",
   "execution_count": 3,
   "id": "566d54dc-4575-41bf-8ed5-3a4bccc04f0c",
   "metadata": {},
   "outputs": [
    {
     "name": "stdout",
     "output_type": "stream",
     "text": [
      "22\n"
     ]
    }
   ],
   "source": [
    "def myfunc(n):\n",
    "  return lambda a : a * n\n",
    "\n",
    "mydoubler = myfunc(2)\n",
    "\n",
    "print(mydoubler(11))"
   ]
  },
  {
   "cell_type": "code",
   "execution_count": 6,
   "id": "b084bfac-f77d-4471-91bb-8ec09a5bb347",
   "metadata": {},
   "outputs": [
    {
     "name": "stdout",
     "output_type": "stream",
     "text": [
      "20\n"
     ]
    }
   ],
   "source": [
    "def myfunc(n):\n",
    " mydoubler = lambda a : a * n\n",
    "myfunc(5)\n",
    "print(mydoubler(10))"
   ]
  },
  {
   "cell_type": "code",
   "execution_count": 7,
   "id": "967c3608-13d6-469b-9a31-b57889406b07",
   "metadata": {},
   "outputs": [
    {
     "name": "stdout",
     "output_type": "stream",
     "text": [
      "40\n"
     ]
    }
   ],
   "source": [
    "def myfunc(n):\n",
    " mydoubler = lambda a : a * n\n",
    "print(mydoubler(20))\n",
    "myfunc(2)"
   ]
  },
  {
   "cell_type": "code",
   "execution_count": null,
   "id": "3e93ba3d-e63c-4a03-a8c3-ae1bcee9a7c7",
   "metadata": {},
   "outputs": [],
   "source": []
  }
 ],
 "metadata": {
  "kernelspec": {
   "display_name": "Python 3 (ipykernel)",
   "language": "python",
   "name": "python3"
  },
  "language_info": {
   "codemirror_mode": {
    "name": "ipython",
    "version": 3
   },
   "file_extension": ".py",
   "mimetype": "text/x-python",
   "name": "python",
   "nbconvert_exporter": "python",
   "pygments_lexer": "ipython3",
   "version": "3.11.7"
  }
 },
 "nbformat": 4,
 "nbformat_minor": 5
}
