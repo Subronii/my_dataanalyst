{
 "cells": [
  {
   "cell_type": "code",
   "execution_count": 2,
   "id": "fc53bc79-3947-4698-8f87-81dd3bb84af6",
   "metadata": {},
   "outputs": [],
   "source": [
    "a = \"subham\"\n",
    "b = 1234\n",
    "c = [\"ap\", \"ct\", 1, 3]\n",
    "d = (\"bt\", \"dg\", 23.45, 34+3j)\n",
    "e = {1,2,3,4,4,2.5,2,3,0,\"apple\",\"ball\",\"apple\",\"cat\",2.5}\n",
    "f = {\"a\":2, \"b\":3, \"c\":3, \"a\":\"anana\", \"d\":3}"
   ]
  },
  {
   "cell_type": "code",
   "execution_count": 3,
   "id": "2e845c58-a5fb-4db7-bb82-afe8d0d36626",
   "metadata": {},
   "outputs": [
    {
     "name": "stdout",
     "output_type": "stream",
     "text": [
      "subham\n",
      "<class 'str'>\n",
      "1234\n",
      "<class 'int'>\n",
      "['ap', 'ct', 1, 3]\n",
      "<class 'list'>\n",
      "('bt', 'dg', 23.45, (34+3j))\n",
      "<class 'tuple'>\n",
      "{0, 1, 2.5, 2, 3, 4, 'cat', 'ball', 'apple'}\n",
      "<class 'set'>\n",
      "{'a': 'anana', 'b': 3, 'c': 3, 'd': 3}\n",
      "<class 'dict'>\n"
     ]
    }
   ],
   "source": [
    "print(a)\n",
    "print(type(a))\n",
    "print(b)\n",
    "print(type(b))\n",
    "print(c)\n",
    "print(type(c))\n",
    "print(d)\n",
    "print(type(d))\n",
    "print(e)\n",
    "print(type(e))\n",
    "print(f)\n",
    "print(type(f))"
   ]
  },
  {
   "cell_type": "code",
   "execution_count": 4,
   "id": "9f3eaeb6-4f6c-4cbc-a669-81a550ce44af",
   "metadata": {},
   "outputs": [
    {
     "name": "stdout",
     "output_type": "stream",
     "text": [
      "subham\n",
      "subham\n",
      "subham\n",
      "subham\n",
      "subham\n",
      "subham\n"
     ]
    },
    {
     "ename": "TypeError",
     "evalue": "'int' object is not iterable",
     "output_type": "error",
     "traceback": [
      "\u001b[1;31m---------------------------------------------------------------------------\u001b[0m",
      "\u001b[1;31mTypeError\u001b[0m                                 Traceback (most recent call last)",
      "Cell \u001b[1;32mIn[4], line 3\u001b[0m\n\u001b[0;32m      1\u001b[0m \u001b[38;5;28;01mfor\u001b[39;00m A \u001b[38;5;129;01min\u001b[39;00m a :\n\u001b[0;32m      2\u001b[0m     \u001b[38;5;28mprint\u001b[39m(a)\n\u001b[1;32m----> 3\u001b[0m \u001b[38;5;28;01mfor\u001b[39;00m B \u001b[38;5;129;01min\u001b[39;00m b :\n\u001b[0;32m      4\u001b[0m     \u001b[38;5;28mprint\u001b[39m(B)\n\u001b[0;32m      5\u001b[0m \u001b[38;5;28;01mfor\u001b[39;00m C \u001b[38;5;129;01min\u001b[39;00m c :\n",
      "\u001b[1;31mTypeError\u001b[0m: 'int' object is not iterable"
     ]
    }
   ],
   "source": [
    "for A in a :\n",
    "    print(a)\n",
    "for B in b :\n",
    "    print(B)\n",
    "for C in c :\n",
    "    print(C)\n",
    "for D in d :\n",
    "    print(D)\n",
    "for E in e :\n",
    "    print(E)\n",
    "for F in f :\n",
    "    print(f)  "
   ]
  },
  {
   "cell_type": "code",
   "execution_count": 5,
   "id": "cfbf6426-c73a-4679-a09c-24c3dec1fff8",
   "metadata": {},
   "outputs": [
    {
     "name": "stdout",
     "output_type": "stream",
     "text": [
      "subham\n",
      "subham\n",
      "subham\n",
      "subham\n",
      "subham\n",
      "subham\n",
      "ap\n",
      "ct\n",
      "1\n",
      "3\n",
      "bt\n",
      "dg\n",
      "23.45\n",
      "(34+3j)\n",
      "0\n",
      "1\n",
      "2.5\n",
      "2\n",
      "3\n",
      "4\n",
      "cat\n",
      "ball\n",
      "apple\n",
      "{'a': 'anana', 'b': 3, 'c': 3, 'd': 3}\n",
      "{'a': 'anana', 'b': 3, 'c': 3, 'd': 3}\n",
      "{'a': 'anana', 'b': 3, 'c': 3, 'd': 3}\n",
      "{'a': 'anana', 'b': 3, 'c': 3, 'd': 3}\n"
     ]
    }
   ],
   "source": [
    "for A in a :\n",
    "    print(a)\n",
    "# for B in b : 'int' object is not iterable\n",
    "#    print(B)\n",
    "for C in c :\n",
    "    print(C)\n",
    "for D in d :\n",
    "    print(D)\n",
    "for E in e :\n",
    "    print(E)\n",
    "for F in f :\n",
    "    print(f)  "
   ]
  },
  {
   "cell_type": "code",
   "execution_count": 6,
   "id": "8e8b9027-b467-43f3-b051-3129ea48b697",
   "metadata": {},
   "outputs": [
    {
     "name": "stdout",
     "output_type": "stream",
     "text": [
      "subham\n",
      "ronii\n",
      "tony\n"
     ]
    }
   ],
   "source": [
    "name = [\"subham\", \"ronii\", \"tony\", \"mamta\"]\n",
    "for n in name :\n",
    "    print(n)\n",
    "    if n == \"tony\" :\n",
    "        break"
   ]
  },
  {
   "cell_type": "code",
   "execution_count": 8,
   "id": "ec7f7f81-1ed0-4046-837b-bc27df4a9278",
   "metadata": {},
   "outputs": [
    {
     "name": "stdout",
     "output_type": "stream",
     "text": [
      "subham\n",
      "ronii\n"
     ]
    }
   ],
   "source": [
    "name = [\"subham\", \"ronii\", \"tony\", \"mamta\", \"suresh\"]\n",
    "for n in name :\n",
    "    if n == \"tony\" :\n",
    "        break\n",
    "    print(n)"
   ]
  },
  {
   "cell_type": "code",
   "execution_count": 9,
   "id": "e8426b07-b2e2-40fd-9b41-f2c2b551da4a",
   "metadata": {},
   "outputs": [
    {
     "name": "stdout",
     "output_type": "stream",
     "text": [
      "subham\n",
      "ronii\n",
      "mamta\n",
      "suresh\n"
     ]
    }
   ],
   "source": [
    "name = [\"subham\", \"ronii\", \"tony\", \"mamta\", \"suresh\"]\n",
    "for n in name :\n",
    "    if n == \"tony\" :\n",
    "        continue\n",
    "    print(n)"
   ]
  },
  {
   "cell_type": "code",
   "execution_count": 11,
   "id": "df4d610b-375f-4f9b-bcf6-22b42ede9a88",
   "metadata": {},
   "outputs": [
    {
     "name": "stdout",
     "output_type": "stream",
     "text": [
      "0\n",
      "1\n",
      "2\n",
      "3\n",
      "4\n",
      "5\n",
      "6\n",
      "7\n",
      "8\n",
      "9\n"
     ]
    }
   ],
   "source": [
    "for x in range(10) :\n",
    "    print(x)"
   ]
  },
  {
   "cell_type": "code",
   "execution_count": 13,
   "id": "170b2747-cf4a-4e60-88fc-23fab6dd53ec",
   "metadata": {},
   "outputs": [
    {
     "name": "stdout",
     "output_type": "stream",
     "text": [
      "12\n",
      "13\n",
      "14\n",
      "15\n",
      "16\n",
      "17\n",
      "18\n",
      "19\n",
      "20\n"
     ]
    }
   ],
   "source": [
    "for y in range(12,21) :\n",
    "    print(y)"
   ]
  },
  {
   "cell_type": "code",
   "execution_count": 15,
   "id": "13ccb538-0521-45d0-aff6-9028a28bde95",
   "metadata": {},
   "outputs": [
    {
     "name": "stdout",
     "output_type": "stream",
     "text": [
      "2\n",
      "4\n",
      "6\n",
      "8\n",
      "10\n",
      "12\n",
      "14\n",
      "16\n",
      "18\n",
      "20\n"
     ]
    }
   ],
   "source": [
    "for z in range(2,21,2) :\n",
    "    print(z)"
   ]
  },
  {
   "cell_type": "code",
   "execution_count": 16,
   "id": "fc6d450a-2b28-43b2-b4d9-71a8403c3536",
   "metadata": {},
   "outputs": [
    {
     "name": "stdout",
     "output_type": "stream",
     "text": [
      "2\n",
      "4\n",
      "6\n",
      "8\n",
      "10\n",
      "12\n",
      "14\n",
      "16\n",
      "18\n",
      "20\n",
      "2 table finish\n"
     ]
    }
   ],
   "source": [
    "for z in range(2,21,2) :\n",
    "    print(z)\n",
    "else :\n",
    "    print(\"2 table finish\")"
   ]
  },
  {
   "cell_type": "code",
   "execution_count": 18,
   "id": "ada14fa2-e8c3-4031-8c63-02f72e4d9b3d",
   "metadata": {},
   "outputs": [
    {
     "name": "stdout",
     "output_type": "stream",
     "text": [
      "a apple\n",
      "a ball\n",
      "a cat\n",
      "b apple\n",
      "b ball\n",
      "b cat\n",
      "c apple\n",
      "c ball\n",
      "c cat\n"
     ]
    }
   ],
   "source": [
    "a = [\"a\", \"b\", \"c\"]\n",
    "b = (\"apple\", \"ball\", \"cat\")\n",
    "for A in a :\n",
    "    for B in b :\n",
    "        print(A,B)"
   ]
  },
  {
   "cell_type": "code",
   "execution_count": null,
   "id": "d2a26eec-c652-4017-85f0-966c8dda122a",
   "metadata": {},
   "outputs": [],
   "source": []
  }
 ],
 "metadata": {
  "kernelspec": {
   "display_name": "Python 3 (ipykernel)",
   "language": "python",
   "name": "python3"
  },
  "language_info": {
   "codemirror_mode": {
    "name": "ipython",
    "version": 3
   },
   "file_extension": ".py",
   "mimetype": "text/x-python",
   "name": "python",
   "nbconvert_exporter": "python",
   "pygments_lexer": "ipython3",
   "version": "3.11.7"
  }
 },
 "nbformat": 4,
 "nbformat_minor": 5
}
