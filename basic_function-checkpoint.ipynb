{
 "cells": [
  {
   "cell_type": "code",
   "execution_count": 2,
   "id": "02687c45-f54b-421a-8230-2fbd46c5c75d",
   "metadata": {},
   "outputs": [
    {
     "name": "stdin",
     "output_type": "stream",
     "text": [
      "what is your name ? subham rout\n"
     ]
    },
    {
     "data": {
      "text/plain": [
       "'subham rout'"
      ]
     },
     "execution_count": 2,
     "metadata": {},
     "output_type": "execute_result"
    }
   ],
   "source": [
    "input(\"what is your name ? = \")"
   ]
  },
  {
   "cell_type": "code",
   "execution_count": 3,
   "id": "8b5df569-5329-4165-a8f3-8f23d9e631a3",
   "metadata": {},
   "outputs": [],
   "source": [
    "#concatanation\n"
   ]
  },
  {
   "cell_type": "code",
   "execution_count": 4,
   "id": "eeadf213-f5db-473b-9691-4a3c7be80489",
   "metadata": {},
   "outputs": [],
   "source": [
    "a=\"subham\""
   ]
  },
  {
   "cell_type": "code",
   "execution_count": 6,
   "id": "0a9b0dd6-adfc-4bbf-b5f3-247518250d4a",
   "metadata": {},
   "outputs": [],
   "source": [
    "b=\"rout\""
   ]
  },
  {
   "cell_type": "code",
   "execution_count": 8,
   "id": "cc9218a0-9e32-454e-b804-dd439573d1aa",
   "metadata": {},
   "outputs": [
    {
     "name": "stdout",
     "output_type": "stream",
     "text": [
      "subhamrout\n"
     ]
    }
   ],
   "source": [
    "c=a+b\n",
    "print(c)"
   ]
  },
  {
   "cell_type": "code",
   "execution_count": 9,
   "id": "f9219bc1-306d-46f9-9271-6a5146589b72",
   "metadata": {},
   "outputs": [
    {
     "name": "stdout",
     "output_type": "stream",
     "text": [
      "subham rout\n"
     ]
    }
   ],
   "source": [
    "c=a+\" \"+b\n",
    "print(c)"
   ]
  },
  {
   "cell_type": "code",
   "execution_count": 1,
   "id": "5c0ed4dd-5235-482c-90d3-4dd05d21f275",
   "metadata": {},
   "outputs": [],
   "source": [
    "#school name generator"
   ]
  },
  {
   "cell_type": "code",
   "execution_count": 2,
   "id": "55e087d3-3faa-484e-9629-904a67f891a4",
   "metadata": {},
   "outputs": [
    {
     "name": "stdin",
     "output_type": "stream",
     "text": [
      "name the city where you studied = jabalpur\n"
     ]
    }
   ],
   "source": [
    "city = input(\"name the city where you studied =\")"
   ]
  },
  {
   "cell_type": "code",
   "execution_count": 3,
   "id": "b2eca38d-beb4-4bba-a8a3-b69f7f3400e4",
   "metadata": {},
   "outputs": [
    {
     "data": {
      "text/plain": [
       "'jabalpur'"
      ]
     },
     "execution_count": 3,
     "metadata": {},
     "output_type": "execute_result"
    }
   ],
   "source": [
    "city"
   ]
  },
  {
   "cell_type": "code",
   "execution_count": 4,
   "id": "91d544b3-7d5c-489b-bb03-ab93b56920ee",
   "metadata": {},
   "outputs": [
    {
     "name": "stdin",
     "output_type": "stream",
     "text": [
      "name the school organization = kendriya vidayalaya\n"
     ]
    }
   ],
   "source": [
    "school = input(\"name the school organization =\")"
   ]
  },
  {
   "cell_type": "code",
   "execution_count": 5,
   "id": "620140ce-1c98-42b2-81ee-5d91538bbd25",
   "metadata": {},
   "outputs": [
    {
     "data": {
      "text/plain": [
       "'kendriya vidayalaya'"
      ]
     },
     "execution_count": 5,
     "metadata": {},
     "output_type": "execute_result"
    }
   ],
   "source": [
    "school"
   ]
  },
  {
   "cell_type": "code",
   "execution_count": 6,
   "id": "3b25e677-fd7a-43ae-8e72-9f2d6754501b",
   "metadata": {},
   "outputs": [],
   "source": [
    "school_name = school+\" \"+city"
   ]
  },
  {
   "cell_type": "code",
   "execution_count": 7,
   "id": "d197b7ee-933d-4113-b710-18b1c8cc84d8",
   "metadata": {},
   "outputs": [
    {
     "name": "stdout",
     "output_type": "stream",
     "text": [
      "kendriya vidayalaya jabalpur\n"
     ]
    }
   ],
   "source": [
    "print(school_name)"
   ]
  },
  {
   "cell_type": "code",
   "execution_count": 1,
   "id": "b70b6dd3-8e54-461c-95df-de54b2ab62e1",
   "metadata": {},
   "outputs": [
    {
     "name": "stdin",
     "output_type": "stream",
     "text": [
      "enter your age = 28\n"
     ]
    }
   ],
   "source": [
    "#intiger function in input\n",
    "age = int(input(\"enter your age =\"))"
   ]
  },
  {
   "cell_type": "code",
   "execution_count": 9,
   "id": "4c384714-8fa6-498f-bb85-848fc1135d36",
   "metadata": {},
   "outputs": [],
   "source": [
    "#28.5 is not intiger .. it is a float "
   ]
  },
  {
   "cell_type": "code",
   "execution_count": 10,
   "id": "a2e13693-ca54-4d5c-9083-030814019383",
   "metadata": {},
   "outputs": [
    {
     "name": "stdin",
     "output_type": "stream",
     "text": [
      "enter your age = 28\n"
     ]
    }
   ],
   "source": [
    "age = int(input(\"enter your age =\"))"
   ]
  },
  {
   "cell_type": "code",
   "execution_count": 11,
   "id": "389d0ca2-23a5-43b4-9274-cdd90517d499",
   "metadata": {},
   "outputs": [
    {
     "name": "stdout",
     "output_type": "stream",
     "text": [
      "28\n"
     ]
    }
   ],
   "source": [
    "print(age)"
   ]
  },
  {
   "cell_type": "code",
   "execution_count": 12,
   "id": "4f3a6182-e630-41a8-b326-b0f9fc5ddbed",
   "metadata": {},
   "outputs": [
    {
     "name": "stdin",
     "output_type": "stream",
     "text": [
      "enter your age = -28\n"
     ]
    }
   ],
   "source": [
    "Age = int(input(\"enter your age =\"))"
   ]
  },
  {
   "cell_type": "code",
   "execution_count": 13,
   "id": "ce66d1fd-73c7-4c90-b0c1-010fb3f5a45b",
   "metadata": {},
   "outputs": [
    {
     "name": "stdout",
     "output_type": "stream",
     "text": [
      "-28\n"
     ]
    }
   ],
   "source": [
    "print(Age)"
   ]
  },
  {
   "cell_type": "code",
   "execution_count": 15,
   "id": "6ab6f729-ddf5-4d4d-8540-eeb5251b9b0e",
   "metadata": {},
   "outputs": [
    {
     "name": "stdin",
     "output_type": "stream",
     "text": [
      "what your height =  5.6\n"
     ]
    }
   ],
   "source": [
    "#float function in input\n",
    "height = float(input(\"what your height = \"))"
   ]
  },
  {
   "cell_type": "code",
   "execution_count": 16,
   "id": "456e2878-164a-441c-a274-4c41c71052c5",
   "metadata": {},
   "outputs": [
    {
     "name": "stdout",
     "output_type": "stream",
     "text": [
      "5.6\n"
     ]
    }
   ],
   "source": [
    "print(height)"
   ]
  },
  {
   "cell_type": "code",
   "execution_count": 18,
   "id": "015adceb-14b0-4361-8151-df1cc57f73b0",
   "metadata": {},
   "outputs": [
    {
     "name": "stdin",
     "output_type": "stream",
     "text": [
      "jabalpur  ronii\n"
     ]
    }
   ],
   "source": [
    "#strings function in input\n",
    "nike_name = str(input(city+\" \"))"
   ]
  },
  {
   "cell_type": "code",
   "execution_count": 23,
   "id": "8464d260-f59b-4d2c-9dff-3c4412060f39",
   "metadata": {},
   "outputs": [
    {
     "name": "stdin",
     "output_type": "stream",
     "text": [
      " 22year\n"
     ]
    }
   ],
   "source": [
    "#strings function in input\n",
    "nike_name = str(input())"
   ]
  },
  {
   "cell_type": "code",
   "execution_count": 24,
   "id": "3a41b92a-8022-4344-8706-0d516f8c05ff",
   "metadata": {},
   "outputs": [
    {
     "name": "stdout",
     "output_type": "stream",
     "text": [
      "<class 'str'>\n"
     ]
    }
   ],
   "source": [
    "print(type(nike_name))"
   ]
  },
  {
   "cell_type": "code",
   "execution_count": null,
   "id": "501b7864-981a-403d-9b31-f0cec1494154",
   "metadata": {},
   "outputs": [],
   "source": []
  }
 ],
 "metadata": {
  "kernelspec": {
   "display_name": "Python 3 (ipykernel)",
   "language": "python",
   "name": "python3"
  },
  "language_info": {
   "codemirror_mode": {
    "name": "ipython",
    "version": 3
   },
   "file_extension": ".py",
   "mimetype": "text/x-python",
   "name": "python",
   "nbconvert_exporter": "python",
   "pygments_lexer": "ipython3",
   "version": "3.11.7"
  }
 },
 "nbformat": 4,
 "nbformat_minor": 5
}
