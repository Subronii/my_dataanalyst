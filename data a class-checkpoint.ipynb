{
 "cells": [
  {
   "cell_type": "code",
   "execution_count": 1,
   "id": "d9ab8f80-9093-4b6d-b77c-c7abb4836f3a",
   "metadata": {},
   "outputs": [],
   "source": [
    "a = 10"
   ]
  },
  {
   "cell_type": "code",
   "execution_count": 2,
   "id": "8f353222-e602-4382-b36e-f1f746b141fb",
   "metadata": {},
   "outputs": [
    {
     "data": {
      "text/plain": [
       "10"
      ]
     },
     "execution_count": 2,
     "metadata": {},
     "output_type": "execute_result"
    }
   ],
   "source": [
    "a"
   ]
  },
  {
   "cell_type": "code",
   "execution_count": 1,
   "id": "2e0d6598-c9fa-46a1-8788-a77596d9eaef",
   "metadata": {},
   "outputs": [
    {
     "name": "stdout",
     "output_type": "stream",
     "text": [
      "hello world\n"
     ]
    }
   ],
   "source": [
    "print(\"hello world\")"
   ]
  },
  {
   "cell_type": "code",
   "execution_count": 3,
   "id": "79fa06c1-90bb-4e02-b49b-170c6aa0b4ab",
   "metadata": {},
   "outputs": [
    {
     "name": "stdout",
     "output_type": "stream",
     "text": [
      "15\n"
     ]
    }
   ],
   "source": [
    "print(10+5)"
   ]
  },
  {
   "cell_type": "code",
   "execution_count": 1,
   "id": "7e6c377d-5112-4388-afec-5119b6e1b9e9",
   "metadata": {},
   "outputs": [
    {
     "name": "stdout",
     "output_type": "stream",
     "text": [
      "five is greater than two\n"
     ]
    }
   ],
   "source": [
    "if 5 > 2 :\n",
    "    print(\"five is greater than two\")"
   ]
  },
  {
   "cell_type": "code",
   "execution_count": 2,
   "id": "cf956f2a-b9f9-48d1-9b85-9f5e86e1b381",
   "metadata": {},
   "outputs": [
    {
     "ename": "IndentationError",
     "evalue": "expected an indented block after 'if' statement on line 1 (316599601.py, line 2)",
     "output_type": "error",
     "traceback": [
      "\u001b[1;36m  Cell \u001b[1;32mIn[2], line 2\u001b[1;36m\u001b[0m\n\u001b[1;33m    print(\"five is greater than two\")\u001b[0m\n\u001b[1;37m    ^\u001b[0m\n\u001b[1;31mIndentationError\u001b[0m\u001b[1;31m:\u001b[0m expected an indented block after 'if' statement on line 1\n"
     ]
    }
   ],
   "source": [
    "#space before print\n",
    "if 5 > 2 :\n",
    "print(\"five is greater than two\")"
   ]
  },
  {
   "cell_type": "code",
   "execution_count": 3,
   "id": "545dff78-3720-4d9d-a55d-302daa2320ea",
   "metadata": {},
   "outputs": [
    {
     "name": "stdout",
     "output_type": "stream",
     "text": [
      "five is greater than two\n"
     ]
    }
   ],
   "source": [
    "if 5 > 2 :\n",
    "    print(\"five is greater than two\")"
   ]
  },
  {
   "cell_type": "code",
   "execution_count": 4,
   "id": "6facee15-9e1a-4f89-a000-83967dd3bdaf",
   "metadata": {},
   "outputs": [
    {
     "name": "stdout",
     "output_type": "stream",
     "text": [
      "five is greater than two\n"
     ]
    }
   ],
   "source": [
    "if 5 > 2 :\n",
    " print(\"five is greater than two\")"
   ]
  },
  {
   "cell_type": "code",
   "execution_count": 5,
   "id": "6e10d05a-66b3-4724-8f94-33b17ffced1f",
   "metadata": {},
   "outputs": [],
   "source": [
    "x=5"
   ]
  },
  {
   "cell_type": "code",
   "execution_count": 6,
   "id": "7d3d91d2-5fee-46e6-8516-2ded3a086bde",
   "metadata": {},
   "outputs": [
    {
     "data": {
      "text/plain": [
       "5"
      ]
     },
     "execution_count": 6,
     "metadata": {},
     "output_type": "execute_result"
    }
   ],
   "source": [
    "x"
   ]
  },
  {
   "cell_type": "code",
   "execution_count": 7,
   "id": "59b4a3ad-ff6c-4b6b-a4fe-c6d16d1fcb09",
   "metadata": {},
   "outputs": [],
   "source": [
    "y=\"hello world!\""
   ]
  },
  {
   "cell_type": "code",
   "execution_count": 8,
   "id": "902ffdf0-88f0-49bc-b149-37acddbde006",
   "metadata": {},
   "outputs": [
    {
     "data": {
      "text/plain": [
       "'hello world!'"
      ]
     },
     "execution_count": 8,
     "metadata": {},
     "output_type": "execute_result"
    }
   ],
   "source": [
    "y"
   ]
  },
  {
   "cell_type": "code",
   "execution_count": 9,
   "id": "5db48ccd-00e5-4f93-8459-61ca708544cc",
   "metadata": {},
   "outputs": [
    {
     "name": "stdout",
     "output_type": "stream",
     "text": [
      "five is greater than two\n"
     ]
    }
   ],
   "source": [
    "#this is a comment\n",
    "if 5 > 2 :\n",
    "    print(\"five is greater than two\")"
   ]
  },
  {
   "cell_type": "code",
   "execution_count": 35,
   "id": "75fa3170-d61f-45a7-b2f7-46b379f3a4ed",
   "metadata": {},
   "outputs": [
    {
     "ename": "SyntaxError",
     "evalue": "unterminated string literal (detected at line 1) (3199208261.py, line 1)",
     "output_type": "error",
     "traceback": [
      "\u001b[1;36m  Cell \u001b[1;32mIn[35], line 1\u001b[1;36m\u001b[0m\n\u001b[1;33m    \"my name\u001b[0m\n\u001b[1;37m    ^\u001b[0m\n\u001b[1;31mSyntaxError\u001b[0m\u001b[1;31m:\u001b[0m unterminated string literal (detected at line 1)\n"
     ]
    }
   ],
   "source": [
    "#what is the error in it\n",
    "\"my name\n",
    "is subham\n",
    "rout\""
   ]
  },
  {
   "cell_type": "code",
   "execution_count": 12,
   "id": "2d5320cc-19e0-496b-9313-1b88e78a0811",
   "metadata": {},
   "outputs": [
    {
     "data": {
      "text/plain": [
       "'\\nmy name is subham rout\\ni am doing a course on DA\\nand this is the comment \\n'"
      ]
     },
     "execution_count": 12,
     "metadata": {},
     "output_type": "execute_result"
    }
   ],
   "source": [
    "\"\"\"\n",
    "my name is subham rout\n",
    "i am doing a course on DA\n",
    "and this is the comment \n",
    "\"\"\""
   ]
  },
  {
   "cell_type": "code",
   "execution_count": 1,
   "id": "35e809d1-daf2-4daa-8384-53decafea74c",
   "metadata": {},
   "outputs": [],
   "source": [
    "x=5\n",
    "y=\"ronii\""
   ]
  },
  {
   "cell_type": "code",
   "execution_count": 2,
   "id": "16f869ef-5852-42b3-ab5e-336965e001aa",
   "metadata": {},
   "outputs": [
    {
     "name": "stdout",
     "output_type": "stream",
     "text": [
      "5 ronii\n"
     ]
    }
   ],
   "source": [
    "print(x,y)"
   ]
  },
  {
   "cell_type": "code",
   "execution_count": 18,
   "id": "aa62a607-c1a8-4228-8570-fbb36036edc0",
   "metadata": {},
   "outputs": [],
   "source": [
    "a,b,c,d = 5, \"tony\" ,9.5, 25+2j"
   ]
  },
  {
   "cell_type": "code",
   "execution_count": 8,
   "id": "a72f0baa-0c10-4053-9cd7-a1f0af5fa465",
   "metadata": {},
   "outputs": [
    {
     "name": "stdout",
     "output_type": "stream",
     "text": [
      "<class 'int'>\n"
     ]
    }
   ],
   "source": [
    "print(type(x))"
   ]
  },
  {
   "cell_type": "code",
   "execution_count": 9,
   "id": "9fc766ec-9c1e-4786-a1d9-684a93f010ec",
   "metadata": {},
   "outputs": [
    {
     "name": "stdout",
     "output_type": "stream",
     "text": [
      "<class 'str'>\n"
     ]
    }
   ],
   "source": [
    "print(type(y))"
   ]
  },
  {
   "cell_type": "code",
   "execution_count": 10,
   "id": "993f2fab-32e4-4f25-9e65-32acb098439b",
   "metadata": {},
   "outputs": [],
   "source": [
    "import sys"
   ]
  },
  {
   "cell_type": "code",
   "execution_count": 11,
   "id": "55d57428-1c32-4ad8-b986-64359f2530b0",
   "metadata": {},
   "outputs": [
    {
     "name": "stdout",
     "output_type": "stream",
     "text": [
      "3.11.7 | packaged by Anaconda, Inc. | (main, Dec 15 2023, 18:05:47) [MSC v.1916 64 bit (AMD64)]\n"
     ]
    }
   ],
   "source": [
    "print(sys.version)"
   ]
  },
  {
   "cell_type": "code",
   "execution_count": 12,
   "id": "ab97ee8f-d98c-4df2-8f89-bb5e581bb17d",
   "metadata": {},
   "outputs": [
    {
     "name": "stdout",
     "output_type": "stream",
     "text": [
      "5 is greater\n"
     ]
    }
   ],
   "source": [
    "if 5>2:\n",
    "    print(\"5 is greater\")"
   ]
  },
  {
   "cell_type": "code",
   "execution_count": 13,
   "id": "e6653ac0-3f6c-49d7-b494-bd9441753d5b",
   "metadata": {},
   "outputs": [
    {
     "name": "stdout",
     "output_type": "stream",
     "text": [
      "15\n"
     ]
    }
   ],
   "source": [
    "if 4>2:\n",
    "    print(10+5)"
   ]
  },
  {
   "cell_type": "code",
   "execution_count": 14,
   "id": "032a4e5f-06df-4f96-bebb-e0415edf82c4",
   "metadata": {},
   "outputs": [],
   "source": [
    "a=\"subham\""
   ]
  },
  {
   "cell_type": "code",
   "execution_count": 15,
   "id": "c2375788-6f41-48c1-87ce-afdddd83b627",
   "metadata": {},
   "outputs": [
    {
     "data": {
      "text/plain": [
       "'subham'"
      ]
     },
     "execution_count": 15,
     "metadata": {},
     "output_type": "execute_result"
    }
   ],
   "source": [
    "a"
   ]
  },
  {
   "cell_type": "code",
   "execution_count": 19,
   "id": "4f890ac1-2518-4b1b-b3f3-e8aed3dc4ecb",
   "metadata": {},
   "outputs": [],
   "source": [
    "b = \"tony\"\n",
    "c = 38\n",
    "d = 23+4j\n",
    "e = 9.8"
   ]
  },
  {
   "cell_type": "code",
   "execution_count": 20,
   "id": "f60e0050-4ef7-4adb-95b4-ed8a9bd3532e",
   "metadata": {},
   "outputs": [
    {
     "name": "stdout",
     "output_type": "stream",
     "text": [
      "tony 38 (23+4j) 9.8\n"
     ]
    }
   ],
   "source": [
    "print(b,c,d,e)"
   ]
  },
  {
   "cell_type": "code",
   "execution_count": 37,
   "id": "3c5349b4-c5e1-4268-9832-1ad1925c0380",
   "metadata": {},
   "outputs": [
    {
     "ename": "TypeError",
     "evalue": "type() takes 1 or 3 arguments",
     "output_type": "error",
     "traceback": [
      "\u001b[1;31m---------------------------------------------------------------------------\u001b[0m",
      "\u001b[1;31mTypeError\u001b[0m                                 Traceback (most recent call last)",
      "Cell \u001b[1;32mIn[37], line 1\u001b[0m\n\u001b[1;32m----> 1\u001b[0m \u001b[38;5;28mprint\u001b[39m(\u001b[38;5;28mtype\u001b[39m(b,c,d,e))\n",
      "\u001b[1;31mTypeError\u001b[0m: type() takes 1 or 3 arguments"
     ]
    }
   ],
   "source": [
    "#why its showing the error\n",
    "print(type(b,c,d,e))"
   ]
  },
  {
   "cell_type": "code",
   "execution_count": 22,
   "id": "31b1b164-cb47-4e09-9a26-2422a2b8eaee",
   "metadata": {},
   "outputs": [
    {
     "name": "stdout",
     "output_type": "stream",
     "text": [
      "<class 'str'>\n"
     ]
    }
   ],
   "source": [
    "print(type(b))"
   ]
  },
  {
   "cell_type": "code",
   "execution_count": 23,
   "id": "dea53217-72df-4f2f-993e-7f9f00701a68",
   "metadata": {},
   "outputs": [
    {
     "name": "stdout",
     "output_type": "stream",
     "text": [
      "<class 'int'>\n"
     ]
    }
   ],
   "source": [
    "print(type(c))"
   ]
  },
  {
   "cell_type": "code",
   "execution_count": 24,
   "id": "706a8a23-e2e9-4810-b1d7-3569ff32ac38",
   "metadata": {},
   "outputs": [
    {
     "name": "stdout",
     "output_type": "stream",
     "text": [
      "<class 'complex'>\n"
     ]
    }
   ],
   "source": [
    "print(type(d))"
   ]
  },
  {
   "cell_type": "code",
   "execution_count": 25,
   "id": "6a6ce22d-93e2-481f-baf3-d50178a1f807",
   "metadata": {},
   "outputs": [
    {
     "name": "stdout",
     "output_type": "stream",
     "text": [
      "<class 'float'>\n"
     ]
    }
   ],
   "source": [
    "print(type(e))"
   ]
  },
  {
   "cell_type": "code",
   "execution_count": 28,
   "id": "ade8f2e7-e20d-4129-afcf-494f03e8e39f",
   "metadata": {},
   "outputs": [
    {
     "ename": "ValueError",
     "evalue": "could not convert string to float: 'tony'",
     "output_type": "error",
     "traceback": [
      "\u001b[1;31m---------------------------------------------------------------------------\u001b[0m",
      "\u001b[1;31mValueError\u001b[0m                                Traceback (most recent call last)",
      "Cell \u001b[1;32mIn[28], line 1\u001b[0m\n\u001b[1;32m----> 1\u001b[0m b \u001b[38;5;241m=\u001b[39m \u001b[38;5;28mfloat\u001b[39m(b)\n",
      "\u001b[1;31mValueError\u001b[0m: could not convert string to float: 'tony'"
     ]
    }
   ],
   "source": [
    "#why its not converting into float class\n",
    "b = float(b)"
   ]
  },
  {
   "cell_type": "code",
   "execution_count": 29,
   "id": "7293a87c-d88b-4c69-a698-d8e452ec8784",
   "metadata": {},
   "outputs": [],
   "source": [
    "e = str(e)"
   ]
  },
  {
   "cell_type": "code",
   "execution_count": 30,
   "id": "90056d85-0253-4c1e-a7e4-b60bf84008a0",
   "metadata": {},
   "outputs": [
    {
     "name": "stdout",
     "output_type": "stream",
     "text": [
      "<class 'str'>\n"
     ]
    }
   ],
   "source": [
    "print(type(e))"
   ]
  },
  {
   "cell_type": "code",
   "execution_count": 32,
   "id": "8a2e67a2-604c-4844-ae3a-0e9ac453eeca",
   "metadata": {},
   "outputs": [
    {
     "ename": "ValueError",
     "evalue": "invalid literal for int() with base 10: 'tony'",
     "output_type": "error",
     "traceback": [
      "\u001b[1;31m---------------------------------------------------------------------------\u001b[0m",
      "\u001b[1;31mValueError\u001b[0m                                Traceback (most recent call last)",
      "Cell \u001b[1;32mIn[32], line 1\u001b[0m\n\u001b[1;32m----> 1\u001b[0m b \u001b[38;5;241m=\u001b[39m \u001b[38;5;28mint\u001b[39m(b)\n",
      "\u001b[1;31mValueError\u001b[0m: invalid literal for int() with base 10: 'tony'"
     ]
    }
   ],
   "source": [
    "#why its not converting into intiger class\n",
    "b = int(b)"
   ]
  },
  {
   "cell_type": "code",
   "execution_count": 38,
   "id": "795d1684-e28c-4a4d-87be-c6506b7444da",
   "metadata": {},
   "outputs": [],
   "source": [
    "c = float(c)"
   ]
  },
  {
   "cell_type": "code",
   "execution_count": 39,
   "id": "20abcddb-ed56-4114-9841-bf0b3428e642",
   "metadata": {},
   "outputs": [
    {
     "data": {
      "text/plain": [
       "38.0"
      ]
     },
     "execution_count": 39,
     "metadata": {},
     "output_type": "execute_result"
    }
   ],
   "source": [
    "c"
   ]
  },
  {
   "cell_type": "code",
   "execution_count": 42,
   "id": "f51f2a4e-2317-461d-8ee5-14ef53ef737a",
   "metadata": {},
   "outputs": [
    {
     "data": {
      "text/plain": [
       "10"
      ]
     },
     "execution_count": 42,
     "metadata": {},
     "output_type": "execute_result"
    }
   ],
   "source": [
    "B = 10\n",
    "b\n",
    "B"
   ]
  },
  {
   "cell_type": "code",
   "execution_count": 43,
   "id": "8aab2e30-1e60-4230-8a31-6f792f2a2d97",
   "metadata": {},
   "outputs": [
    {
     "name": "stdout",
     "output_type": "stream",
     "text": [
      "tony 10\n"
     ]
    }
   ],
   "source": [
    "print(b,B)"
   ]
  },
  {
   "cell_type": "code",
   "execution_count": 48,
   "id": "6a8ad1b7-0ed1-4f0e-8df6-a56b9b8492c0",
   "metadata": {},
   "outputs": [],
   "source": [
    "# tuple becoz using []\n",
    "whole_number = [1,2,6,0,9]"
   ]
  },
  {
   "cell_type": "code",
   "execution_count": 45,
   "id": "97f6657d-08dd-41a2-81b8-a1a8adaddb74",
   "metadata": {},
   "outputs": [
    {
     "name": "stdout",
     "output_type": "stream",
     "text": [
      "(1, 2, 6, 0, 9)\n"
     ]
    }
   ],
   "source": [
    "print(whole_number)"
   ]
  },
  {
   "cell_type": "code",
   "execution_count": 46,
   "id": "23311314-451b-4814-87c7-0c21f2becfe7",
   "metadata": {},
   "outputs": [
    {
     "data": {
      "text/plain": [
       "(1, 2, 6, 0, 9)"
      ]
     },
     "execution_count": 46,
     "metadata": {},
     "output_type": "execute_result"
    }
   ],
   "source": [
    "whole_number"
   ]
  },
  {
   "cell_type": "code",
   "execution_count": 49,
   "id": "7af7a7f4-d735-439e-a01a-7e17520eaadb",
   "metadata": {},
   "outputs": [
    {
     "data": {
      "text/plain": [
       "list"
      ]
     },
     "execution_count": 49,
     "metadata": {},
     "output_type": "execute_result"
    }
   ],
   "source": [
    "type(whole_number)"
   ]
  },
  {
   "cell_type": "code",
   "execution_count": 50,
   "id": "0f14926c-236d-4658-a725-6a3d2376db7f",
   "metadata": {},
   "outputs": [],
   "source": [
    "# tuple becoz using ()\n",
    "whole_number = (1,2,6,0,9)"
   ]
  },
  {
   "cell_type": "code",
   "execution_count": 51,
   "id": "ba549c53-05c8-4e73-933a-c027f76050b1",
   "metadata": {},
   "outputs": [
    {
     "data": {
      "text/plain": [
       "tuple"
      ]
     },
     "execution_count": 51,
     "metadata": {},
     "output_type": "execute_result"
    }
   ],
   "source": [
    "type(whole_number)"
   ]
  },
  {
   "cell_type": "code",
   "execution_count": 52,
   "id": "42009454-683f-4821-8452-0c3aa4a41781",
   "metadata": {},
   "outputs": [],
   "source": [
    "k,l,m,n = \"mam\", \"sir\", 9.66 , 22+56j"
   ]
  },
  {
   "cell_type": "code",
   "execution_count": 53,
   "id": "f0ad8eca-f640-4c25-a570-ff2b10a024cf",
   "metadata": {},
   "outputs": [
    {
     "data": {
      "text/plain": [
       "(22+56j)"
      ]
     },
     "execution_count": 53,
     "metadata": {},
     "output_type": "execute_result"
    }
   ],
   "source": [
    "k\n",
    "l\n",
    "m\n",
    "n"
   ]
  },
  {
   "cell_type": "code",
   "execution_count": 54,
   "id": "c2457aa2-fcac-4c98-a152-f369a2fc5346",
   "metadata": {},
   "outputs": [
    {
     "data": {
      "text/plain": [
       "9.66"
      ]
     },
     "execution_count": 54,
     "metadata": {},
     "output_type": "execute_result"
    }
   ],
   "source": [
    "m"
   ]
  },
  {
   "cell_type": "code",
   "execution_count": 55,
   "id": "b7779920-1623-4a5c-a1dc-535955e826fb",
   "metadata": {},
   "outputs": [
    {
     "data": {
      "text/plain": [
       "'sir'"
      ]
     },
     "execution_count": 55,
     "metadata": {},
     "output_type": "execute_result"
    }
   ],
   "source": [
    "l"
   ]
  },
  {
   "cell_type": "code",
   "execution_count": 56,
   "id": "72962f5b-ff29-4002-af02-2e4e24340609",
   "metadata": {},
   "outputs": [
    {
     "data": {
      "text/plain": [
       "'mam'"
      ]
     },
     "execution_count": 56,
     "metadata": {},
     "output_type": "execute_result"
    }
   ],
   "source": [
    "k"
   ]
  },
  {
   "cell_type": "code",
   "execution_count": 57,
   "id": "96ec8c92-65ac-4ca5-8540-e0b88f7d9523",
   "metadata": {},
   "outputs": [
    {
     "name": "stdout",
     "output_type": "stream",
     "text": [
      "apple\n",
      "banana\n",
      "cherry\n"
     ]
    }
   ],
   "source": [
    "fruits = [\"apple\", \"banana\", \"cherry\"]\n",
    "x, y, z = fruits\n",
    "print(x)\n",
    "print(y)\n",
    "print(z)"
   ]
  },
  {
   "cell_type": "code",
   "execution_count": 58,
   "id": "c4efab59-b8ef-43af-b25c-341f009a5c34",
   "metadata": {},
   "outputs": [
    {
     "name": "stdout",
     "output_type": "stream",
     "text": [
      "['apple', 'banana', 'cherry']\n"
     ]
    }
   ],
   "source": [
    "print(fruits)"
   ]
  },
  {
   "cell_type": "code",
   "execution_count": 59,
   "id": "c089359b-3173-43da-bc64-7140021c2b45",
   "metadata": {},
   "outputs": [],
   "source": [
    "x = y = z = \"Orange\""
   ]
  },
  {
   "cell_type": "code",
   "execution_count": 60,
   "id": "19e3c4ed-53c1-408e-8726-ec212c6e0f18",
   "metadata": {},
   "outputs": [
    {
     "data": {
      "text/plain": [
       "'Orange'"
      ]
     },
     "execution_count": 60,
     "metadata": {},
     "output_type": "execute_result"
    }
   ],
   "source": [
    "x"
   ]
  },
  {
   "cell_type": "code",
   "execution_count": 61,
   "id": "45a8d1f6-7bd9-42bb-b78b-a97603bba196",
   "metadata": {},
   "outputs": [
    {
     "data": {
      "text/plain": [
       "'Orange'"
      ]
     },
     "execution_count": 61,
     "metadata": {},
     "output_type": "execute_result"
    }
   ],
   "source": [
    "y"
   ]
  },
  {
   "cell_type": "code",
   "execution_count": 62,
   "id": "f846c359-7f35-45a1-95ce-c23dd0498e84",
   "metadata": {},
   "outputs": [
    {
     "data": {
      "text/plain": [
       "'Orange'"
      ]
     },
     "execution_count": 62,
     "metadata": {},
     "output_type": "execute_result"
    }
   ],
   "source": [
    "z"
   ]
  },
  {
   "cell_type": "code",
   "execution_count": 63,
   "id": "081527cd-eb92-4a86-b434-ac00daf3f692",
   "metadata": {},
   "outputs": [
    {
     "name": "stdout",
     "output_type": "stream",
     "text": [
      "Orange Orange Orange\n"
     ]
    }
   ],
   "source": [
    "print(x, y, z)"
   ]
  },
  {
   "cell_type": "code",
   "execution_count": 64,
   "id": "5ff6ca6b-f96d-4fdf-a13f-c160d667f2bf",
   "metadata": {},
   "outputs": [
    {
     "name": "stdout",
     "output_type": "stream",
     "text": [
      "Lorem ipsum dolor sit amet,\n",
      "consectetur adipiscing elit,\n",
      "sed do eiusmod tempor incididunt\n",
      "ut labore et dolore magna aliqua.\n"
     ]
    }
   ],
   "source": [
    "a = \"\"\"Lorem ipsum dolor sit amet,\n",
    "consectetur adipiscing elit,\n",
    "sed do eiusmod tempor incididunt\n",
    "ut labore et dolore magna aliqua.\"\"\"\n",
    "print(a)"
   ]
  },
  {
   "cell_type": "code",
   "execution_count": 65,
   "id": "0980a123-694a-45ba-a435-c40dec128bd8",
   "metadata": {},
   "outputs": [
    {
     "data": {
      "text/plain": [
       "'Lorem ipsum dolor sit amet,\\nconsectetur adipiscing elit,\\nsed do eiusmod tempor incididunt\\nut labore et dolore magna aliqua.'"
      ]
     },
     "execution_count": 65,
     "metadata": {},
     "output_type": "execute_result"
    }
   ],
   "source": [
    "a"
   ]
  },
  {
   "cell_type": "code",
   "execution_count": null,
   "id": "4b7ce559-9b69-44d2-8ff0-fd03428ecdf8",
   "metadata": {},
   "outputs": [],
   "source": []
  }
 ],
 "metadata": {
  "kernelspec": {
   "display_name": "Python 3 (ipykernel)",
   "language": "python",
   "name": "python3"
  },
  "language_info": {
   "codemirror_mode": {
    "name": "ipython",
    "version": 3
   },
   "file_extension": ".py",
   "mimetype": "text/x-python",
   "name": "python",
   "nbconvert_exporter": "python",
   "pygments_lexer": "ipython3",
   "version": "3.11.7"
  }
 },
 "nbformat": 4,
 "nbformat_minor": 5
}
