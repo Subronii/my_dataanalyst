{
 "cells": [
  {
   "cell_type": "code",
   "execution_count": 1,
   "id": "bdda460c-b0ac-42b9-8a86-80843c55bc02",
   "metadata": {},
   "outputs": [
    {
     "name": "stdout",
     "output_type": "stream",
     "text": [
      "True\n"
     ]
    }
   ],
   "source": [
    "s = 200\n",
    "r = 100\n",
    "if s > 4 :\n",
    "    print(\"True\")"
   ]
  },
  {
   "cell_type": "code",
   "execution_count": 2,
   "id": "b03812c7-932d-47cb-9838-76521969eec5",
   "metadata": {},
   "outputs": [
    {
     "name": "stdout",
     "output_type": "stream",
     "text": [
      "False\n"
     ]
    }
   ],
   "source": [
    "a = \"apple\"\n",
    "b = \"apple\"\n",
    "if b == a :\n",
    "    print(\"False\")"
   ]
  },
  {
   "cell_type": "code",
   "execution_count": 3,
   "id": "d7eca4b1-62ba-43ac-9bd0-36f3f6c83be0",
   "metadata": {},
   "outputs": [
    {
     "name": "stdout",
     "output_type": "stream",
     "text": [
      "TRUE\n"
     ]
    }
   ],
   "source": [
    "a = \"apple\"\n",
    "b = \"APPLE\"\n",
    "if b == a :\n",
    "    print(\"False\")\n",
    "else :\n",
    "    print(\"TRUE\")"
   ]
  },
  {
   "cell_type": "code",
   "execution_count": 4,
   "id": "3b0efa13-235d-4738-ad37-29a98cc5c5a7",
   "metadata": {},
   "outputs": [
    {
     "name": "stdout",
     "output_type": "stream",
     "text": [
      "That's True\n"
     ]
    }
   ],
   "source": [
    "a = \"apple\"\n",
    "b = \"Apple\"\n",
    "if b == a :\n",
    "    print(\"False\")\n",
    "elif b !=a :\n",
    "    print (\"That's True\")"
   ]
  },
  {
   "cell_type": "code",
   "execution_count": 5,
   "id": "236817b6-9cf3-4356-9437-15a9d3f60c9c",
   "metadata": {},
   "outputs": [
    {
     "name": "stdout",
     "output_type": "stream",
     "text": [
      "NOT POSSIBLE\n"
     ]
    }
   ],
   "source": [
    "a = \"apple\"\n",
    "b = \"Apple\"\n",
    "if b == a :\n",
    "    print(\"False\")\n",
    "elif \"Apple\" in a :\n",
    "    print (\"That's True\")\n",
    "else :\n",
    "    print(\"NOT POSSIBLE\")"
   ]
  },
  {
   "cell_type": "code",
   "execution_count": 3,
   "id": "75d1b270-5a81-4b7b-90dc-9dfef3078a49",
   "metadata": {},
   "outputs": [
    {
     "name": "stdout",
     "output_type": "stream",
     "text": [
      "2\n",
      "1\n",
      "ball\n",
      "apple\n"
     ]
    }
   ],
   "source": [
    "alist = [\"apple\", \"ball\", 1, 2]\n",
    "if \"apple\" in alist :\n",
    "    print(alist[3])\n",
    "    if \"ball\" in alist :\n",
    "        print(alist[2])\n",
    "        if 1 in alist :\n",
    "            print(alist[1])\n",
    "            if 2 in alist :\n",
    "                print(alist[0])\n",
    "else :\n",
    "    print(\"its error\")"
   ]
  },
  {
   "cell_type": "code",
   "execution_count": 7,
   "id": "d8163e64-dec4-4f7d-af8c-6b71acfe1827",
   "metadata": {},
   "outputs": [
    {
     "name": "stdout",
     "output_type": "stream",
     "text": [
      "['ball', 1]\n"
     ]
    }
   ],
   "source": [
    "if \"apple\" in alist and 1 in alist :\n",
    "    print(alist[1:3])"
   ]
  },
  {
   "cell_type": "code",
   "execution_count": 19,
   "id": "1fe4cfc7-b186-4163-9246-4153e9867598",
   "metadata": {},
   "outputs": [
    {
     "name": "stdout",
     "output_type": "stream",
     "text": [
      "['ball', 1]\n"
     ]
    }
   ],
   "source": [
    "if \"apple\" in alist or 4 in alist :\n",
    "    print(alist[1:3])\n",
    "else:\n",
    "    (\"False\")"
   ]
  },
  {
   "cell_type": "code",
   "execution_count": 4,
   "id": "30177fa2-7791-4946-892c-49e6fdcbc7c2",
   "metadata": {},
   "outputs": [],
   "source": [
    "if 3 in alist or 4 in alist :\n",
    "    print(alist)\n",
    "else:\n",
    "    (\"Fa\")"
   ]
  },
  {
   "cell_type": "code",
   "execution_count": 5,
   "id": "aec58b53-4b05-4ca1-95a0-de7758ef7c12",
   "metadata": {},
   "outputs": [],
   "source": [
    "if not 1 in alist :\n",
    "    print(\"True\")"
   ]
  },
  {
   "cell_type": "code",
   "execution_count": 6,
   "id": "7259dc27-2646-4dd4-ab69-5f6c09e6eb02",
   "metadata": {},
   "outputs": [
    {
     "name": "stdout",
     "output_type": "stream",
     "text": [
      "['apple', 'ball', 1, 2]\n"
     ]
    }
   ],
   "source": [
    "if \"apple\" in alist :\n",
    "    print(alist)\n",
    "    pass\n",
    "else :\n",
    "    print(\"true\")"
   ]
  },
  {
   "cell_type": "code",
   "execution_count": 8,
   "id": "b04740ee-e62e-41cd-8954-513147621341",
   "metadata": {},
   "outputs": [],
   "source": [
    "if \"apple\" in alist : # empty/unvalid syntax\n",
    "    pass"
   ]
  },
  {
   "cell_type": "code",
   "execution_count": null,
   "id": "91e036a3-878e-4823-8fb3-2f13fa366745",
   "metadata": {},
   "outputs": [],
   "source": []
  }
 ],
 "metadata": {
  "kernelspec": {
   "display_name": "Python 3 (ipykernel)",
   "language": "python",
   "name": "python3"
  },
  "language_info": {
   "codemirror_mode": {
    "name": "ipython",
    "version": 3
   },
   "file_extension": ".py",
   "mimetype": "text/x-python",
   "name": "python",
   "nbconvert_exporter": "python",
   "pygments_lexer": "ipython3",
   "version": "3.11.7"
  }
 },
 "nbformat": 4,
 "nbformat_minor": 5
}
