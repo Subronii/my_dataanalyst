{
 "cells": [
  {
   "cell_type": "markdown",
   "id": "7545e023-4151-40a4-8b61-bf83f1593a6d",
   "metadata": {},
   "source": [
    "# list []"
   ]
  },
  {
   "cell_type": "code",
   "execution_count": 4,
   "id": "5f0efb33-4c04-4ddb-a157-8d8a05cea183",
   "metadata": {},
   "outputs": [
    {
     "name": "stdout",
     "output_type": "stream",
     "text": [
      "['a', 'b', 'c', 'd']\n",
      "<class 'list'>\n",
      "4\n"
     ]
    }
   ],
   "source": [
    "list1 = ['a', 'b', 'c', 'd']\n",
    "print(list1)\n",
    "print(type(list1))\n",
    "print(len(list))"
   ]
  },
  {
   "cell_type": "code",
   "execution_count": 5,
   "id": "69ca2974-cd06-4069-8ffe-d6c5082e83d7",
   "metadata": {},
   "outputs": [
    {
     "name": "stdout",
     "output_type": "stream",
     "text": [
      "c\n",
      "c\n",
      "['d']\n",
      "b\n",
      "['b', 'c']\n",
      "['b', 'c']\n"
     ]
    }
   ],
   "source": [
    "print(list1[2])\n",
    "print(list1[-2])\n",
    "print(list1[3:])\n",
    "print(list1[1])\n",
    "print(list1[1:3])\n",
    "print(list1[-3:-1])"
   ]
  },
  {
   "cell_type": "code",
   "execution_count": 6,
   "id": "bcef814e-f86f-4ba3-b354-ab3e0185a4b8",
   "metadata": {},
   "outputs": [
    {
     "name": "stdout",
     "output_type": "stream",
     "text": [
      "['abc', 1, 2, 4.55, (33+2j), True, False, None]\n",
      "<class 'list'>\n",
      "8\n"
     ]
    }
   ],
   "source": [
    "list2 = [\"abc\" , 1 ,2, 4.55 , 33+2j, True , False, None ]\n",
    "print(list2)\n",
    "print(type(list2))\n",
    "print(len(list2))"
   ]
  },
  {
   "cell_type": "code",
   "execution_count": 7,
   "id": "7b8b80be-feb7-4913-b9ac-f71d8977a4f9",
   "metadata": {},
   "outputs": [],
   "source": [
    "list3 = [['a', 'b', 'c', 'd'],\"abc\" , 1 ,2, 4.55 , 33+2j, True , False, None]"
   ]
  },
  {
   "cell_type": "code",
   "execution_count": 8,
   "id": "75d779dd-b976-401d-84cf-9c0fc1e4f02b",
   "metadata": {},
   "outputs": [
    {
     "name": "stdout",
     "output_type": "stream",
     "text": [
      "[['a', 'b', 'c', 'd'], 'abc', 1, 2, 4.55, (33+2j), True, False, None]\n",
      "<class 'list'>\n",
      "9\n"
     ]
    }
   ],
   "source": [
    "print(list3)\n",
    "print(type(list3))\n",
    "print(len(list3))"
   ]
  },
  {
   "cell_type": "code",
   "execution_count": 10,
   "id": "6729f32a-4917-42f6-b2c9-3062ce9b16ca",
   "metadata": {
    "scrolled": true
   },
   "outputs": [
    {
     "name": "stdout",
     "output_type": "stream",
     "text": [
      "[['a', 'b', 'c', 'd'], ['a', 'b', 'c', 'd'], ('aa', 'bd', 'kc', 'md'), ('aa', 'bd', 'kc', 'md')]\n",
      "<class 'list'>\n",
      "4\n"
     ]
    }
   ],
   "source": [
    "list4 = [['a', 'b', 'c', 'd'], ['a', 'b', 'c', 'd'],('aa', 'bd', 'kc', 'md'),('aa', 'bd', 'kc', 'md')]\n",
    "print(list4)\n",
    "print(type(list4))\n",
    "print(len(list4))"
   ]
  },
  {
   "cell_type": "code",
   "execution_count": 2,
   "id": "54c853ad-5d89-453b-bbc7-2f347ae9843e",
   "metadata": {},
   "outputs": [
    {
     "name": "stdout",
     "output_type": "stream",
     "text": [
      "['name', 23, 34.6, (22+4j)]\n"
     ]
    }
   ],
   "source": [
    "list5 = list((\"name\", 23, 34.6, 22+4j))\n",
    "print(list5)"
   ]
  },
  {
   "cell_type": "code",
   "execution_count": 4,
   "id": "cad8b5d1-57f1-4cdd-9f5d-7a0c151a41d2",
   "metadata": {},
   "outputs": [
    {
     "name": "stdout",
     "output_type": "stream",
     "text": [
      "name is in the list\n"
     ]
    }
   ],
   "source": [
    "if \"name\" in list5 :\n",
    "    print(\"name is in the list\")"
   ]
  },
  {
   "cell_type": "code",
   "execution_count": 8,
   "id": "5462f913-1248-43fc-8921-fd46fa22f12f",
   "metadata": {},
   "outputs": [
    {
     "name": "stdout",
     "output_type": "stream",
     "text": [
      "name is not in the list\n"
     ]
    }
   ],
   "source": [
    "if \"name\" not in list5 :\n",
    "    print(\"name is not in the list\")\n",
    "else :\n",
    "    print(\"name is not in the list\")"
   ]
  },
  {
   "cell_type": "code",
   "execution_count": null,
   "id": "53f16958-bd24-49a9-bf4c-07021f55eb8e",
   "metadata": {},
   "outputs": [],
   "source": []
  },
  {
   "cell_type": "code",
   "execution_count": 11,
   "id": "f24b2238-bc8b-415a-9c24-71620edf3484",
   "metadata": {},
   "outputs": [
    {
     "name": "stdout",
     "output_type": "stream",
     "text": [
      "['subham', 'ronii', 'anku', 'santosh', 'abraham']\n",
      "5\n",
      "['subham', 'ronii', 'anku', 'santosh', 'abraham', 'prateek', 'bhanu']\n",
      "7\n"
     ]
    }
   ],
   "source": [
    "name1 = [\"subham\", \"ronii\", \"anku\", \"santosh\", \"abraham\"]\n",
    "print(name1)\n",
    "print(len(name1))\n",
    "name1.append(\"prateek\")\n",
    "name1.append(\"bhanu\")\n",
    "print(name1)\n",
    "print(len(name1))"
   ]
  },
  {
   "cell_type": "code",
   "execution_count": 12,
   "id": "45d51a23-23f3-47da-96fd-ad093faf0f38",
   "metadata": {},
   "outputs": [
    {
     "name": "stdout",
     "output_type": "stream",
     "text": [
      "['subham', 'Sanjay', 'ronii', 'anku', 'santosh', 'abraham', 'prateek', 'bhanu']\n",
      "8\n"
     ]
    }
   ],
   "source": [
    "name1.insert(1,\"Sanjay\")\n",
    "print(name1)\n",
    "print(len(name1))"
   ]
  },
  {
   "cell_type": "code",
   "execution_count": 13,
   "id": "d57761ff-4eeb-438e-851d-1793bb5a31ac",
   "metadata": {},
   "outputs": [
    {
     "name": "stdout",
     "output_type": "stream",
     "text": [
      "['subham', 'Sanjay', 'ronii', 'anku', 'santosh', 'abraham', 'prateek', 'bhanu', 'kvs', 'dps', 'xiaver']\n",
      "11\n"
     ]
    }
   ],
   "source": [
    "schl = [\"kvs\", \"dps\" ,\"xiaver\"] # list\n",
    "name1.extend(schl)\n",
    "print(name1)\n",
    "print(len(name1))"
   ]
  },
  {
   "cell_type": "code",
   "execution_count": 14,
   "id": "ff60e697-4fcf-4dd7-8f10-0a24d2a9a8c7",
   "metadata": {},
   "outputs": [
    {
     "name": "stdout",
     "output_type": "stream",
     "text": [
      "['subham', 'Sanjay', 'ronii', 'anku', 'santosh', 'abraham', 'prateek', 'bhanu', 'kvs', 'dps', 'xiaver', 'basket', 'cricket']\n",
      "13\n",
      "<class 'list'>\n"
     ]
    }
   ],
   "source": [
    "games = (\"basket\", \"cricket\") # tuple\n",
    "name1.extend(games)\n",
    "print(name1)\n",
    "print(len(name1))\n",
    "print(type(name1))"
   ]
  },
  {
   "cell_type": "code",
   "execution_count": 15,
   "id": "11115c9d-c36b-438d-afd7-61a7e2f50822",
   "metadata": {},
   "outputs": [
    {
     "name": "stdout",
     "output_type": "stream",
     "text": [
      "['subham', 'tota', 'ronii', 'anku', 'santosh', 'abraham', 'prateek', 'bhanu', 'kvs', 'dps', 'xiaver', 'basket', 'cricket']\n"
     ]
    }
   ],
   "source": [
    "name1[1] = \"tota\"\n",
    "print(name1)"
   ]
  },
  {
   "cell_type": "code",
   "execution_count": 16,
   "id": "1cb4d9ce-c5bb-40ed-8a87-bbe77c389356",
   "metadata": {},
   "outputs": [
    {
     "name": "stdout",
     "output_type": "stream",
     "text": [
      "['subham', 'tota', 'ronii', 'anku', 'santosh', 'abraham', 'prateek', 'bhanu', 'kvs', 'dps', 'xiaver', 'basket', 3]\n"
     ]
    }
   ],
   "source": [
    "name1[-1] = 3\n",
    "print(name1)"
   ]
  },
  {
   "cell_type": "code",
   "execution_count": 18,
   "id": "c4930ece-8edc-4662-ae21-10a2c1035db9",
   "metadata": {},
   "outputs": [
    {
     "name": "stdout",
     "output_type": "stream",
     "text": [
      "['subham', 'rout', 'u', 't', 'anku', 'santosh', 'abraham', 'prateek', 'bhanu', 'kvs', 'dps', 'xiaver', 'basket', 3]\n",
      "14\n"
     ]
    }
   ],
   "source": [
    "name1[1:3] = [\"rout\"]\n",
    "print(name1)\n",
    "print(len(name1))"
   ]
  },
  {
   "cell_type": "code",
   "execution_count": 19,
   "id": "aa74a133-d140-4107-b24b-1802c0719514",
   "metadata": {},
   "outputs": [
    {
     "name": "stdout",
     "output_type": "stream",
     "text": [
      "['subham', 'suresh', 'anku', 'santosh', 'abraham', 'prateek', 'bhanu', 'kvs', 'dps', 'xiaver', 'basket', 3]\n"
     ]
    }
   ],
   "source": [
    "name1[1:4] = [\"suresh\"]\n",
    "print(name1)"
   ]
  },
  {
   "cell_type": "code",
   "execution_count": 22,
   "id": "9fce3c5b-72b3-4564-8379-3f8f19aa1006",
   "metadata": {},
   "outputs": [
    {
     "name": "stdout",
     "output_type": "stream",
     "text": [
      "['subham', 'suresh', 'anku', 'santosh', 'abraham', 'prateek', 'dps', 'xiaver', 'basket', 3]\n"
     ]
    }
   ],
   "source": [
    "name1.remove(\"bhanu\")\n",
    "print(name1)"
   ]
  },
  {
   "cell_type": "code",
   "execution_count": 23,
   "id": "2640a097-5c78-442b-a32d-e9ce8a8e0708",
   "metadata": {},
   "outputs": [
    {
     "name": "stdout",
     "output_type": "stream",
     "text": [
      "['subham', 'suresh', 'anku', 'santosh', 'abraham', 'prateek', 'dps', 'xiaver', 'basket']\n"
     ]
    }
   ],
   "source": [
    "name1.pop() #remove the last item\n",
    "print(name1)"
   ]
  },
  {
   "cell_type": "code",
   "execution_count": 24,
   "id": "7a14890e-a6c0-4bf6-8c72-d06c03804770",
   "metadata": {},
   "outputs": [
    {
     "name": "stdout",
     "output_type": "stream",
     "text": [
      "['subham', 'suresh', 'anku', 'santosh', 'prateek', 'dps', 'xiaver', 'basket']\n"
     ]
    }
   ],
   "source": [
    "name1.pop(4)\n",
    "print(name1)"
   ]
  },
  {
   "cell_type": "code",
   "execution_count": 25,
   "id": "0a70fd7a-92e6-418d-8530-815f3349ecdf",
   "metadata": {},
   "outputs": [
    {
     "name": "stdout",
     "output_type": "stream",
     "text": [
      "['rout', 'singh', 'malik', 'dhoni']\n",
      "<class 'list'>\n",
      "4\n"
     ]
    },
    {
     "ename": "NameError",
     "evalue": "name 'surname' is not defined",
     "output_type": "error",
     "traceback": [
      "\u001b[1;31m---------------------------------------------------------------------------\u001b[0m",
      "\u001b[1;31mNameError\u001b[0m                                 Traceback (most recent call last)",
      "Cell \u001b[1;32mIn[25], line 6\u001b[0m\n\u001b[0;32m      4\u001b[0m \u001b[38;5;28mprint\u001b[39m(\u001b[38;5;28mlen\u001b[39m(surname))\n\u001b[0;32m      5\u001b[0m \u001b[38;5;28;01mdel\u001b[39;00m surname\n\u001b[1;32m----> 6\u001b[0m \u001b[38;5;28mprint\u001b[39m(surname)\n",
      "\u001b[1;31mNameError\u001b[0m: name 'surname' is not defined"
     ]
    }
   ],
   "source": [
    "surname = [\"rout\", \"singh\", \"malik\", \"dhoni\"]\n",
    "print(surname)\n",
    "print(type(surname))\n",
    "print(len(surname))\n",
    "del surname\n",
    "print(surname)"
   ]
  },
  {
   "cell_type": "code",
   "execution_count": 26,
   "id": "86811743-7f46-4bbd-a31a-16c12491b1e4",
   "metadata": {},
   "outputs": [
    {
     "name": "stdout",
     "output_type": "stream",
     "text": [
      "['rout', 'singh', 'malik', 'dhoni']\n",
      "<class 'list'>\n",
      "4\n",
      "['singh', 'malik', 'dhoni']\n"
     ]
    }
   ],
   "source": [
    "surname = [\"rout\", \"singh\", \"malik\", \"dhoni\"]\n",
    "print(surname)\n",
    "print(type(surname))\n",
    "print(len(surname))\n",
    "del surname[0]\n",
    "print(surname)"
   ]
  },
  {
   "cell_type": "code",
   "execution_count": 27,
   "id": "203be47d-1379-49b5-b0ae-2a6aff7818b4",
   "metadata": {},
   "outputs": [
    {
     "name": "stdout",
     "output_type": "stream",
     "text": [
      "['rout', 'singh', 'malik', 'dhoni']\n",
      "<class 'list'>\n",
      "4\n",
      "[]\n"
     ]
    }
   ],
   "source": [
    "surname = [\"rout\", \"singh\", \"malik\", \"dhoni\"]\n",
    "print(surname)\n",
    "print(type(surname))\n",
    "print(len(surname))\n",
    "surname.clear()\n",
    "print(surname)"
   ]
  },
  {
   "cell_type": "code",
   "execution_count": 29,
   "id": "8b549c0f-7042-4f3a-b814-1c77185057e4",
   "metadata": {},
   "outputs": [
    {
     "name": "stdout",
     "output_type": "stream",
     "text": [
      "rout\n",
      "singh\n",
      "malik\n",
      "dhoni\n"
     ]
    }
   ],
   "source": [
    "surname = [\"rout\", \"singh\", \"malik\", \"dhoni\"]\n",
    "for s in surname :\n",
    "    print(s)"
   ]
  },
  {
   "cell_type": "code",
   "execution_count": 30,
   "id": "d12338fd-763f-4dfa-9318-5808cf63f081",
   "metadata": {},
   "outputs": [
    {
     "name": "stdout",
     "output_type": "stream",
     "text": [
      "<generator object <genexpr> at 0x000002009CF35FF0>\n"
     ]
    }
   ],
   "source": [
    "schl = [\"kvs\", \"dps\" ,\"xiaver\"]\n",
    "print(c for c in schl)"
   ]
  },
  {
   "cell_type": "code",
   "execution_count": 31,
   "id": "af7cc1c9-0750-4be1-aa4a-28ee9cc7f600",
   "metadata": {},
   "outputs": [
    {
     "name": "stdout",
     "output_type": "stream",
     "text": [
      "kvs\n",
      "dps\n",
      "xiaver\n"
     ]
    },
    {
     "data": {
      "text/plain": [
       "[None, None, None]"
      ]
     },
     "execution_count": 31,
     "metadata": {},
     "output_type": "execute_result"
    }
   ],
   "source": [
    "[print(c) for c in schl]"
   ]
  },
  {
   "cell_type": "code",
   "execution_count": 36,
   "id": "7aad1dc4-0502-4d30-a7e6-f5e779e55127",
   "metadata": {},
   "outputs": [
    {
     "name": "stdout",
     "output_type": "stream",
     "text": [
      "[1, 2, 22, 3, 32, 4, 5, 6, 72, 2, 25, 30]\n",
      "[]\n"
     ]
    },
    {
     "ename": "TypeError",
     "evalue": "argument of type 'int' is not iterable",
     "output_type": "error",
     "traceback": [
      "\u001b[1;31m---------------------------------------------------------------------------\u001b[0m",
      "\u001b[1;31mTypeError\u001b[0m                                 Traceback (most recent call last)",
      "Cell \u001b[1;32mIn[36], line 6\u001b[0m\n\u001b[0;32m      4\u001b[0m \u001b[38;5;28mprint\u001b[39m(nums1)\n\u001b[0;32m      5\u001b[0m \u001b[38;5;28;01mfor\u001b[39;00m n \u001b[38;5;129;01min\u001b[39;00m nums :\n\u001b[1;32m----> 6\u001b[0m     \u001b[38;5;28;01mif\u001b[39;00m \u001b[38;5;124m\"\u001b[39m\u001b[38;5;124m2\u001b[39m\u001b[38;5;124m\"\u001b[39m \u001b[38;5;129;01min\u001b[39;00m n :\n\u001b[0;32m      7\u001b[0m         nums1\u001b[38;5;241m.\u001b[39mappend(n)\n\u001b[0;32m      8\u001b[0m         \u001b[38;5;28mprint\u001b[39m(nums1)\n",
      "\u001b[1;31mTypeError\u001b[0m: argument of type 'int' is not iterable"
     ]
    }
   ],
   "source": [
    "nums =  [1, 2 , 22 , 3 , 32 ,4 , 5, 6 , 72, 2 , 25 , 30]\n",
    "nums1 = []\n",
    "print(nums)\n",
    "print(nums1)\n",
    "for n in nums :\n",
    "    if \"2\" in n :\n",
    "        nums1.append(n)\n",
    "        print(nums1)"
   ]
  },
  {
   "cell_type": "code",
   "execution_count": null,
   "id": "ebf03d6c-dfe7-4f7f-a89c-38dd1c024a1d",
   "metadata": {},
   "outputs": [],
   "source": []
  },
  {
   "cell_type": "code",
   "execution_count": 34,
   "id": "a02ca896-c4ca-4ba8-b47c-3ee3f4db6bbc",
   "metadata": {},
   "outputs": [
    {
     "name": "stdout",
     "output_type": "stream",
     "text": [
      "['a', 'b', 'ab', 'ca', 'd', 'dc']\n",
      "['a']\n",
      "['a', 'ab']\n",
      "['a', 'ab', 'ca']\n"
     ]
    }
   ],
   "source": [
    "alf = [\"a\", \"b\" , \"ab\" ,\"ca\", \"d\", \"dc\"]\n",
    "print(alf)\n",
    "alf1 = []\n",
    "for x in alf :\n",
    "    if \"a\" in x :\n",
    "        alf1.append(x)\n",
    "        print(alf1)"
   ]
  },
  {
   "cell_type": "code",
   "execution_count": 37,
   "id": "c1a76faf-fe48-4959-ad09-19d456470a62",
   "metadata": {},
   "outputs": [
    {
     "ename": "SyntaxError",
     "evalue": "invalid syntax (2392490086.py, line 2)",
     "output_type": "error",
     "traceback": [
      "\u001b[1;36m  Cell \u001b[1;32mIn[37], line 2\u001b[1;36m\u001b[0m\n\u001b[1;33m    alf2 = [for x in alf if \"a\" in x]\u001b[0m\n\u001b[1;37m            ^\u001b[0m\n\u001b[1;31mSyntaxError\u001b[0m\u001b[1;31m:\u001b[0m invalid syntax\n"
     ]
    }
   ],
   "source": [
    "alf = [\"a\", \"b\" , \"ab\" ,\"ca\", \"d\", \"dc\"]\n",
    "alf2 = [for x in alf if \"a\" in x]\n",
    "print(alf2)"
   ]
  },
  {
   "cell_type": "code",
   "execution_count": 38,
   "id": "774086ab-ab23-4099-8ba1-562f42a6c8c0",
   "metadata": {},
   "outputs": [
    {
     "name": "stdout",
     "output_type": "stream",
     "text": [
      "['a', 'ab', 'ca']\n"
     ]
    }
   ],
   "source": [
    "alf = [\"a\", \"b\" , \"ab\" ,\"ca\", \"d\", \"dc\"]\n",
    "alf2 = [x for x in alf if \"a\" in x]\n",
    "print(alf2)"
   ]
  },
  {
   "cell_type": "code",
   "execution_count": 39,
   "id": "e74492c5-8c52-4868-ac8c-a9fc04546ac5",
   "metadata": {},
   "outputs": [
    {
     "name": "stdout",
     "output_type": "stream",
     "text": [
      "[]\n"
     ]
    }
   ],
   "source": [
    "alf = [\"a\", \"b\" , \"ab\" ,\"ca\", \"d\", \"dc\"]\n",
    "alf2 = [x for x in alf if \"e\" in x]\n",
    "print(alf2)"
   ]
  },
  {
   "cell_type": "code",
   "execution_count": 40,
   "id": "b9fe0495-0db2-41a1-9736-b091e3a32dfd",
   "metadata": {},
   "outputs": [
    {
     "name": "stdout",
     "output_type": "stream",
     "text": [
      "['b', 'ab', 'ca', 'd', 'dc']\n"
     ]
    }
   ],
   "source": [
    "alf2 = [x for x in alf if \"a\" != x]\n",
    "print(alf2)"
   ]
  },
  {
   "cell_type": "code",
   "execution_count": 41,
   "id": "f0695a0d-f358-4723-975a-827c949a0b1a",
   "metadata": {},
   "outputs": [
    {
     "name": "stdout",
     "output_type": "stream",
     "text": [
      "[2, 1, 4, 5, 7, 4, 33, 999, 97, 31]\n",
      "[1, 2, 4, 4, 5, 7, 31, 33, 97, 999]\n"
     ]
    }
   ],
   "source": [
    "nums = [2,1,4,5,7,4,33,999,97,31]\n",
    "print(nums)\n",
    "nums.sort()\n",
    "print(nums)"
   ]
  },
  {
   "cell_type": "code",
   "execution_count": 42,
   "id": "bb33ea91-d0b2-49d3-a5e4-2720a8beb458",
   "metadata": {},
   "outputs": [
    {
     "name": "stdout",
     "output_type": "stream",
     "text": [
      "['subham', 'bikash', 'abishek', 'Anku', 'Zakir', 'chaman']\n",
      "['Anku', 'Zakir', 'abishek', 'bikash', 'chaman', 'subham']\n"
     ]
    }
   ],
   "source": [
    "names1 = [\"subham\", \"bikash\", \"abishek\", \"Anku\", \"Zakir\",\"chaman\"]\n",
    "print(names1)\n",
    "names1.sort()\n",
    "print(names1)"
   ]
  },
  {
   "cell_type": "code",
   "execution_count": 43,
   "id": "9565b82b-a60a-43a7-b272-d33878443fa4",
   "metadata": {},
   "outputs": [
    {
     "name": "stdout",
     "output_type": "stream",
     "text": [
      "['subham', 'chaman', 'bikash', 'abishek', 'Zakir', 'Anku']\n"
     ]
    }
   ],
   "source": [
    "names1.sort(reverse = True)\n",
    "print(names1)"
   ]
  },
  {
   "cell_type": "code",
   "execution_count": 44,
   "id": "8809066f-e9dd-41a9-b83e-1daa3e32697e",
   "metadata": {},
   "outputs": [
    {
     "name": "stdout",
     "output_type": "stream",
     "text": [
      "[999, 97, 33, 31, 7, 5, 4, 4, 2, 1]\n"
     ]
    }
   ],
   "source": [
    "nums.sort(reverse = True)\n",
    "print(nums)"
   ]
  },
  {
   "cell_type": "code",
   "execution_count": 45,
   "id": "49f2576e-0d42-4916-bec4-bd8170be7301",
   "metadata": {},
   "outputs": [
    {
     "name": "stdout",
     "output_type": "stream",
     "text": [
      "['basketball', 'vollyball', 'handball', 'circket']\n",
      "['basketball', 'circket', 'handball', 'vollyball']\n"
     ]
    }
   ],
   "source": [
    "games1 = [\"basketball\", \"vollyball\", \"handball\", \"circket\"]\n",
    "print(games1)\n",
    "games2 = games1.copy()\n",
    "games2.sort()\n",
    "print(games2)"
   ]
  },
  {
   "cell_type": "code",
   "execution_count": 46,
   "id": "d2927767-9cd8-4ea1-97d9-c028585ddace",
   "metadata": {},
   "outputs": [
    {
     "name": "stdout",
     "output_type": "stream",
     "text": [
      "['basketball', 'vollyball', 'handball', 'circket']\n",
      "['basketball', 'circket', 'handball', 'vollyball']\n"
     ]
    }
   ],
   "source": [
    "games1 = [\"basketball\", \"vollyball\", \"handball\", \"circket\"]\n",
    "print(games1)\n",
    "games2 = list(games1) #list() method use\n",
    "games2.sort()\n",
    "print(games2)"
   ]
  },
  {
   "cell_type": "code",
   "execution_count": 48,
   "id": "725ff4f3-1804-46a4-b5f3-73b5336a23cd",
   "metadata": {},
   "outputs": [
    {
     "name": "stdout",
     "output_type": "stream",
     "text": [
      "['basketball', 'circket', 'handball', 'vollyball', 999, 97, 33, 31, 7, 5, 4, 4, 2, 1]\n",
      "14\n"
     ]
    }
   ],
   "source": [
    "ans = games2 + nums\n",
    "print(ans)\n",
    "print(len(ans))"
   ]
  },
  {
   "cell_type": "code",
   "execution_count": 49,
   "id": "17f9c073-0e86-4b0d-b05a-55c7c3dc5257",
   "metadata": {},
   "outputs": [
    {
     "name": "stdout",
     "output_type": "stream",
     "text": [
      "None\n"
     ]
    }
   ],
   "source": [
    "ans1 = games1.append(names1)\n",
    "print(ans1)"
   ]
  },
  {
   "cell_type": "code",
   "execution_count": 50,
   "id": "1499e8bf-9a20-46a1-86f4-3b1cc2cef43c",
   "metadata": {},
   "outputs": [
    {
     "name": "stdout",
     "output_type": "stream",
     "text": [
      "['basketball', 'vollyball', 'handball', 'circket', 'subham']\n",
      "['basketball', 'vollyball', 'handball', 'circket', 'subham', 'bikash']\n",
      "['basketball', 'vollyball', 'handball', 'circket', 'subham', 'bikash', 'abishek']\n",
      "['basketball', 'vollyball', 'handball', 'circket', 'subham', 'bikash', 'abishek', 'Anku']\n",
      "['basketball', 'vollyball', 'handball', 'circket', 'subham', 'bikash', 'abishek', 'Anku', 'Zakir']\n",
      "['basketball', 'vollyball', 'handball', 'circket', 'subham', 'bikash', 'abishek', 'Anku', 'Zakir', 'chaman']\n"
     ]
    }
   ],
   "source": [
    "games1 = [\"basketball\", \"vollyball\", \"handball\", \"circket\"]\n",
    "names1 = [\"subham\", \"bikash\", \"abishek\", \"Anku\", \"Zakir\",\"chaman\"]\n",
    "for g in names1:\n",
    "    games1.append(g)\n",
    "    print(games1)"
   ]
  },
  {
   "cell_type": "code",
   "execution_count": 51,
   "id": "347cd0cf-9aa6-4cb3-af9f-728d27c5b7b3",
   "metadata": {},
   "outputs": [
    {
     "name": "stdout",
     "output_type": "stream",
     "text": [
      "['basketball', 'vollyball', 'handball', 'circket', 'subham', 'bikash', 'abishek', 'Anku', 'Zakir', 'chaman']\n"
     ]
    }
   ],
   "source": [
    "games1 = [\"basketball\", \"vollyball\", \"handball\", \"circket\"]\n",
    "names1 = [\"subham\", \"bikash\", \"abishek\", \"Anku\", \"Zakir\",\"chaman\"]\n",
    "games1.extend(names1)\n",
    "print(games1)"
   ]
  },
  {
   "cell_type": "code",
   "execution_count": null,
   "id": "06677eb8-fab0-466b-9e60-f61c6e7ed9e6",
   "metadata": {},
   "outputs": [],
   "source": []
  }
 ],
 "metadata": {
  "kernelspec": {
   "display_name": "Python 3 (ipykernel)",
   "language": "python",
   "name": "python3"
  },
  "language_info": {
   "codemirror_mode": {
    "name": "ipython",
    "version": 3
   },
   "file_extension": ".py",
   "mimetype": "text/x-python",
   "name": "python",
   "nbconvert_exporter": "python",
   "pygments_lexer": "ipython3",
   "version": "3.11.7"
  }
 },
 "nbformat": 4,
 "nbformat_minor": 5
}
