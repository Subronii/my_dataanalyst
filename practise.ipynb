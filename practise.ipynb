{
 "cells": [
  {
   "cell_type": "code",
   "execution_count": 2,
   "id": "5a64440a-40b5-4f8a-bd23-d6f2e88372ed",
   "metadata": {},
   "outputs": [
    {
     "name": "stdout",
     "output_type": "stream",
     "text": [
      "HII\n"
     ]
    }
   ],
   "source": [
    "print(\"HII\")"
   ]
  },
  {
   "cell_type": "code",
   "execution_count": 3,
   "id": "dae6d95f-a302-4b1e-b078-cfdca48c0681",
   "metadata": {},
   "outputs": [
    {
     "name": "stdout",
     "output_type": "stream",
     "text": [
      "Hello world\n"
     ]
    }
   ],
   "source": [
    "print(\"Hello world\")"
   ]
  },
  {
   "cell_type": "code",
   "execution_count": 4,
   "id": "7f64911c-0fa6-4e67-854b-45a23435d732",
   "metadata": {},
   "outputs": [
    {
     "name": "stdout",
     "output_type": "stream",
     "text": [
      "2\n"
     ]
    }
   ],
   "source": [
    "print(2)"
   ]
  },
  {
   "cell_type": "code",
   "execution_count": 5,
   "id": "147f7ff2-824d-40e5-8815-d0efafcde358",
   "metadata": {},
   "outputs": [
    {
     "name": "stdout",
     "output_type": "stream",
     "text": [
      "6\n"
     ]
    }
   ],
   "source": [
    "print(2+4)"
   ]
  },
  {
   "cell_type": "code",
   "execution_count": 6,
   "id": "68c60c3d-294f-4018-88bf-08f7ac35587c",
   "metadata": {},
   "outputs": [
    {
     "name": "stdout",
     "output_type": "stream",
     "text": [
      "subhamrout\n"
     ]
    }
   ],
   "source": [
    "print(\"subham\"+\"rout\")"
   ]
  },
  {
   "cell_type": "code",
   "execution_count": 7,
   "id": "498fa2ff-5c6e-4b41-b078-788916151d3f",
   "metadata": {},
   "outputs": [
    {
     "name": "stdout",
     "output_type": "stream",
     "text": [
      "roniironii\n"
     ]
    }
   ],
   "source": [
    "print(\"ronii\"*2)"
   ]
  },
  {
   "cell_type": "code",
   "execution_count": 8,
   "id": "ea450699-4ad2-4d83-9e18-1c09569ebf59",
   "metadata": {},
   "outputs": [
    {
     "name": "stdout",
     "output_type": "stream",
     "text": [
      "30\n"
     ]
    }
   ],
   "source": [
    "print(3*10)"
   ]
  },
  {
   "cell_type": "code",
   "execution_count": 9,
   "id": "0a980fc9-f1b4-40bb-91f5-56998a90dec1",
   "metadata": {},
   "outputs": [
    {
     "name": "stdout",
     "output_type": "stream",
     "text": [
      "Name : Subham\n",
      "Age : 28\n",
      "Address : Bilhari\n"
     ]
    }
   ],
   "source": [
    "print(\"Name : Subham\")\n",
    "print(\"Age : 28\")\n",
    "print(\"Address : Bilhari\")"
   ]
  },
  {
   "cell_type": "code",
   "execution_count": 10,
   "id": "496a5979-dcbe-413f-a41d-56e9efb717ca",
   "metadata": {},
   "outputs": [
    {
     "name": "stdout",
     "output_type": "stream",
     "text": [
      "hello world\n",
      "my name is\n",
      "subham rout\n",
      "i live in\n",
      "jabalpur MP\n"
     ]
    }
   ],
   "source": [
    "print(\"\"\"hello world\n",
    "my name is\n",
    "subham rout\n",
    "i live in\n",
    "jabalpur MP\"\"\")"
   ]
  },
  {
   "cell_type": "code",
   "execution_count": 11,
   "id": "eeee10a3-77fc-4b84-b7d9-0818cec5a3c6",
   "metadata": {},
   "outputs": [
    {
     "name": "stdout",
     "output_type": "stream",
     "text": [
      "Subham rout \n",
      "is my name and \n",
      "i live in jabalpur\n"
     ]
    }
   ],
   "source": [
    "print(\"Subham rout \\nis my name and \\ni live in jabalpur\")"
   ]
  },
  {
   "cell_type": "code",
   "execution_count": 12,
   "id": "8b5c765d-33de-465c-b742-88a55402fd30",
   "metadata": {},
   "outputs": [
    {
     "name": "stdout",
     "output_type": "stream",
     "text": [
      "subham rout\n"
     ]
    }
   ],
   "source": [
    "a = \"subham rout\"\n",
    "print(a)"
   ]
  },
  {
   "cell_type": "code",
   "execution_count": 13,
   "id": "49905def-e0ad-4e2a-8e08-e90a989dd069",
   "metadata": {},
   "outputs": [
    {
     "name": "stdout",
     "output_type": "stream",
     "text": [
      "subham rout\n"
     ]
    }
   ],
   "source": [
    "_su = a\n",
    "print(_su)"
   ]
  },
  {
   "cell_type": "code",
   "execution_count": 14,
   "id": "5844c6bc-b8ad-4f82-ba22-25eaf3148a51",
   "metadata": {},
   "outputs": [
    {
     "name": "stdin",
     "output_type": "stream",
     "text": [
      "Enter your name :  subham rout\n"
     ]
    },
    {
     "name": "stdout",
     "output_type": "stream",
     "text": [
      "SUBHAM ROUT\n"
     ]
    }
   ],
   "source": [
    "name = input(\"Enter your name : \").upper()\n",
    "print(name)"
   ]
  },
  {
   "cell_type": "code",
   "execution_count": 16,
   "id": "d45f4587-52c5-4b96-bd2a-e156dabb9637",
   "metadata": {
    "scrolled": true
   },
   "outputs": [
    {
     "name": "stdin",
     "output_type": "stream",
     "text": [
      "Enter the numbers to print it in reverse : 8719028671\n"
     ]
    },
    {
     "name": "stdout",
     "output_type": "stream",
     "text": [
      "1768209178\n"
     ]
    }
   ],
   "source": [
    "rcon = input(\"Enter the numbers to print it in reverse :\")\n",
    "print(rcon[::-1])"
   ]
  },
  {
   "cell_type": "code",
   "execution_count": 9,
   "id": "f9a20b92-32a3-4d05-803e-e6bd050fc90a",
   "metadata": {},
   "outputs": [
    {
     "name": "stdout",
     "output_type": "stream",
     "text": [
      "     WELCOME TO CALCULATOR     \n"
     ]
    },
    {
     "name": "stdin",
     "output_type": "stream",
     "text": [
      "DO YOU WANT TO DO CALCULATION (YES/ NO) :  23+2\n",
      "DO YOU WANT TO DO ANOTHER CALCULATION (YES/ NO) :  r\n"
     ]
    }
   ],
   "source": [
    "def calculation():\n",
    "    print(\"     WELCOME TO CALCULATOR     \")\n",
    "    ask = input(\"DO YOU WANT TO DO CALCULATION (YES/ NO) : \").upper()\n",
    "    while ask == \"YES\":\n",
    "        cal = eval(input(\"Enter your equation : \"))\n",
    "        print(cal)\n",
    "        ask = input(\"DO YOU WANT TO DO ANOTHER CALCULATION (YES/ NO) : \").upper()\n",
    "    else :\n",
    "        if ask == \"NO\" :\n",
    "            return cal\n",
    "        elif ask != \"YES\" and ask != \"NO\" :\n",
    "           ask = input(\"DO YOU WANT TO DO ANOTHER CALCULATION (YES/ NO) : \").upper() \n",
    "\n",
    "calculation()"
   ]
  },
  {
   "cell_type": "code",
   "execution_count": null,
   "id": "40ab9d58-fb6a-45ba-9e4b-41935d43323b",
   "metadata": {},
   "outputs": [],
   "source": []
  },
  {
   "cell_type": "code",
   "execution_count": 20,
   "id": "c50adb09-a5c2-479b-a73b-ee2447f72b57",
   "metadata": {},
   "outputs": [
    {
     "name": "stdin",
     "output_type": "stream",
     "text": [
      "Enter your equation :  2+2-4*2\n"
     ]
    },
    {
     "name": "stdout",
     "output_type": "stream",
     "text": [
      "-4\n"
     ]
    }
   ],
   "source": [
    "\n",
    "cal = eval(input(\"Enter your equation : \"))\n",
    "print(cal)"
   ]
  },
  {
   "cell_type": "code",
   "execution_count": 8,
   "id": "620e2ef5-4001-4823-8a87-05f8a173c780",
   "metadata": {},
   "outputs": [
    {
     "ename": "NameError",
     "evalue": "name 'printans' is not defined",
     "output_type": "error",
     "traceback": [
      "\u001b[1;31m---------------------------------------------------------------------------\u001b[0m",
      "\u001b[1;31mNameError\u001b[0m                                 Traceback (most recent call last)",
      "Cell \u001b[1;32mIn[8], line 8\u001b[0m\n\u001b[0;32m      6\u001b[0m         number \u001b[38;5;241m=\u001b[39m call\n\u001b[0;32m      7\u001b[0m calculation(call)\n\u001b[1;32m----> 8\u001b[0m printans()\n",
      "\u001b[1;31mNameError\u001b[0m: name 'printans' is not defined"
     ]
    }
   ],
   "source": [
    "class calculation :\n",
    "    def __init__(self,number):\n",
    "        self.number = number\n",
    "    def printans():\n",
    "        call = eval(input(\"Enter your Calculation Problem\"))\n",
    "        number = call\n",
    "calculation(call)\n",
    "printans()"
   ]
  },
  {
   "cell_type": "code",
   "execution_count": null,
   "id": "52aaa174-a670-4813-9e44-a2096fb827e7",
   "metadata": {},
   "outputs": [],
   "source": []
  },
  {
   "cell_type": "code",
   "execution_count": null,
   "id": "2d7ff565-d17a-4361-8fad-f667785420ee",
   "metadata": {},
   "outputs": [],
   "source": []
  },
  {
   "cell_type": "code",
   "execution_count": 12,
   "id": "e9d03333-d7c9-4670-a457-67b5bcbb5cce",
   "metadata": {
    "scrolled": true
   },
   "outputs": [
    {
     "ename": "AttributeError",
     "evalue": "module 'demo001' has no attribute 'add'",
     "output_type": "error",
     "traceback": [
      "\u001b[1;31m---------------------------------------------------------------------------\u001b[0m",
      "\u001b[1;31mAttributeError\u001b[0m                            Traceback (most recent call last)",
      "Cell \u001b[1;32mIn[12], line 2\u001b[0m\n\u001b[0;32m      1\u001b[0m \u001b[38;5;28;01mimport\u001b[39;00m \u001b[38;5;21;01mdemo001\u001b[39;00m\n\u001b[1;32m----> 2\u001b[0m a \u001b[38;5;241m=\u001b[39m demo001\u001b[38;5;241m.\u001b[39madd(\u001b[38;5;241m2\u001b[39m,\u001b[38;5;241m8\u001b[39m)\n\u001b[0;32m      3\u001b[0m \u001b[38;5;28mprint\u001b[39m(a)\n",
      "\u001b[1;31mAttributeError\u001b[0m: module 'demo001' has no attribute 'add'"
     ]
    }
   ],
   "source": [
    "import demo001\n",
    "a = demo001.add(2,8)\n",
    "print(a)"
   ]
  },
  {
   "cell_type": "code",
   "execution_count": 31,
   "id": "319b00a7-120c-48ff-a256-c346e2725680",
   "metadata": {},
   "outputs": [
    {
     "name": "stdout",
     "output_type": "stream",
     "text": [
      "Name : subham rout\n",
      "Age : 28\n",
      "Address : B-Block Pratham Residecy \n",
      "Bilhari Jabalpur \n",
      "Madhya Pradesh\n"
     ]
    }
   ],
   "source": [
    "def Person():\n",
    "    print(\"\"\"Name : subham rout\n",
    "Age : 28\"\"\")\n",
    "    print(\"Address : B-Block Pratham Residecy \\nBilhari Jabalpur \\nMadhya Pradesh\")\n",
    "Person()"
   ]
  },
  {
   "cell_type": "code",
   "execution_count": 34,
   "id": "add415e3-262d-4eb3-b5dd-ee89fa076ecf",
   "metadata": {},
   "outputs": [
    {
     "name": "stdin",
     "output_type": "stream",
     "text": [
      "Enter a number : 1234\n",
      "Enter a decimal number 34.21\n"
     ]
    },
    {
     "name": "stdout",
     "output_type": "stream",
     "text": [
      "1234\n",
      "<class 'int'>\n",
      "34.21\n",
      "<class 'float'>\n",
      "\n",
      "1234.0\n",
      "<class 'float'>\n",
      "34\n",
      "<class 'int'>\n"
     ]
    }
   ],
   "source": [
    "def Swap():\n",
    "    inti = int(input(\"Enter a number :\"))\n",
    "    deci = float(input(\"Enter a decimal number\"))\n",
    "    print(inti)\n",
    "    print(type(inti))\n",
    "    print(deci)\n",
    "    print(type(deci))\n",
    "    print()\n",
    "    inti = float(inti)\n",
    "    print(inti)\n",
    "    print(type(inti))\n",
    "    deci = int(deci)\n",
    "    print(deci)\n",
    "    print(type(deci))\n",
    "Swap()"
   ]
  },
  {
   "cell_type": "code",
   "execution_count": 36,
   "id": "86b102db-ebd6-41f6-ae50-e5e7a439b183",
   "metadata": {},
   "outputs": [
    {
     "name": "stdout",
     "output_type": "stream",
     "text": [
      "Subham Rout\n",
      "28\n",
      "\n",
      "28\n",
      "Subham Rout\n"
     ]
    }
   ],
   "source": [
    "def SwapV():\n",
    "    name = \"Subham Rout\"\n",
    "    age = 28\n",
    "    print(name)\n",
    "    print(age)\n",
    "    print()\n",
    "    swap = name\n",
    "    name = age\n",
    "    age = swap\n",
    "    print(name)\n",
    "    print(age)\n",
    "SwapV()"
   ]
  },
  {
   "cell_type": "code",
   "execution_count": 37,
   "id": "7dc45e3c-1ff0-4fd3-85f0-74d28789136d",
   "metadata": {},
   "outputs": [
    {
     "name": "stdin",
     "output_type": "stream",
     "text": [
      "Enter Your Name :  subham rout\n",
      "Enter Your Age :  28\n",
      "Enter Your Batch Course :  BA\n",
      "Enter Your Address pratahm residency bilhari mp\n"
     ]
    },
    {
     "name": "stdout",
     "output_type": "stream",
     "text": [
      "subham rout \n",
      "28 \n",
      "BA \n",
      "pratahm residency bilhari mp\n"
     ]
    }
   ],
   "source": [
    "def Student_ID():\n",
    "    name = input(\"Enter Your Name : \")\n",
    "    age = int(input(\"Enter Your Age : \"))\n",
    "    subject = input(\"Enter Your Batch Course : \")\n",
    "    address = input(\"Enter Your Address\")\n",
    "    print()\n",
    "    print(f\"{name} \\n{age} \\n{subject} \\n{address}\")\n",
    "Student_ID()"
   ]
  },
  {
   "cell_type": "code",
   "execution_count": 39,
   "id": "00b0bc27-ceb4-453b-9fb4-641f80c1a67a",
   "metadata": {},
   "outputs": [
    {
     "name": "stdin",
     "output_type": "stream",
     "text": [
      "Enter a number : 123\n"
     ]
    },
    {
     "name": "stdout",
     "output_type": "stream",
     "text": [
      "123 is a Positive Number\n"
     ]
    }
   ],
   "source": [
    "def Positive():\n",
    "    number = int(input(\"Enter a number :\"))\n",
    "    if number > 0 :\n",
    "        print(f\"{number} is a Positive Number\")\n",
    "    else :\n",
    "        print(f\"{number} is a Negative Number\")\n",
    "Positive()"
   ]
  },
  {
   "cell_type": "code",
   "execution_count": 43,
   "id": "56860775-f3cf-41a2-8f39-4ceae08a68df",
   "metadata": {},
   "outputs": [
    {
     "name": "stdin",
     "output_type": "stream",
     "text": [
      "Enter the number : 1234\n"
     ]
    },
    {
     "name": "stdout",
     "output_type": "stream",
     "text": [
      "1234 is a Even number \n"
     ]
    }
   ],
   "source": [
    "def ODD_EVEN():\n",
    "    check = int(input(\"Enter the number :\"))\n",
    "    even = check % 2\n",
    "    if even == 0 :\n",
    "        print(f\"{check} is a Even number \")\n",
    "    else :\n",
    "        print(f\"{check} is a Odd number \")\n",
    "ODD_EVEN()"
   ]
  },
  {
   "cell_type": "code",
   "execution_count": 1,
   "id": "3a1bf64a-36f2-4f09-9b60-99d700d9b3a0",
   "metadata": {},
   "outputs": [
    {
     "name": "stdout",
     "output_type": "stream",
     "text": [
      "     AREA CALCULATOR     \n",
      "1 - SQAURE \n",
      "2 - TRIANGLE \n",
      "3 - RECTANGLE \n",
      "4 - CIRCLE\n"
     ]
    },
    {
     "name": "stdin",
     "output_type": "stream",
     "text": [
      "Enter the number from Above :  2\n",
      "Enter the base of Triangle :  20\n",
      "Enter the height of Triangle :  15\n"
     ]
    },
    {
     "name": "stdout",
     "output_type": "stream",
     "text": [
      "The area of TRIANGLE is 150.0\n"
     ]
    }
   ],
   "source": [
    "import math\n",
    "def Area_Cal():\n",
    "    print(\"     AREA CALCULATOR     \")\n",
    "    print(\"1 - SQAURE \\n2 - TRIANGLE \\n3 - RECTANGLE \\n4 - CIRCLE\")\n",
    "    choose = int(input(\"Enter the number from Above : \"))\n",
    "    if choose == 1 :\n",
    "        side = int(input(\"Enter the side of Sqaure : \"))\n",
    "        area = side * side\n",
    "        print(f\"The area of SQAURE is {area}\")\n",
    "    elif choose == 2 :\n",
    "        base = int(input(\"Enter the base of Triangle : \"))\n",
    "        height = int(input(\"Enter the height of Triangle : \"))\n",
    "        area = (base*height)/2\n",
    "        print(f\"The area of TRIANGLE is {area}\")\n",
    "    elif choose == 3 :\n",
    "        length = int(input(\"Enter the length of Rectangle : \"))\n",
    "        width = int(input(\"Enter the widht of Rectangle : \"))\n",
    "        area = length * width\n",
    "        print(f\"The area of RECTANGLE is {area}\")\n",
    "    elif choose == 4 :\n",
    "        radius = int(input(\"Enter the raduis of the circle : \"))\n",
    "        area = math.pi * radius ** 2\n",
    "        print(f\"The total area of the CIRCLE is {area}\")\n",
    "    else :\n",
    "        print(\"   PLEASE CHOOSE CORRECT NUMBER   \")\n",
    "Area_Cal()"
   ]
  },
  {
   "cell_type": "code",
   "execution_count": 66,
   "id": "90dff727-49f4-4109-89b4-68f484f273b4",
   "metadata": {},
   "outputs": [
    {
     "name": "stdin",
     "output_type": "stream",
     "text": [
      "Enter a word subham\n"
     ]
    },
    {
     "name": "stdout",
     "output_type": "stream",
     "text": [
      "SUBHAM have  VOWELS in it\n"
     ]
    }
   ],
   "source": [
    "def Vowel():\n",
    "    check = input(\"Enter a word\").upper()\n",
    "    if \"A\" or \"E\" or \"I\" or \"O\" or \"U\" in check :\n",
    "        print(f\"{check} have  VOWELS in it\")\n",
    "    else :\n",
    "        print(f\"{check} not have VOWELS in it\")\n",
    "Vowel()"
   ]
  },
  {
   "cell_type": "code",
   "execution_count": 3,
   "id": "9441f748-5119-4fee-8df0-091f226c5166",
   "metadata": {},
   "outputs": [
    {
     "name": "stdin",
     "output_type": "stream",
     "text": [
      "Enter the number :  5555555\n"
     ]
    },
    {
     "name": "stdout",
     "output_type": "stream",
     "text": [
      "5555555 is more then five digit number\n"
     ]
    }
   ],
   "source": [
    "def Digit_():\n",
    "    number = int(input(\"Enter the number : \"))\n",
    "    length = len(str(number))\n",
    "    if length <= 5 :\n",
    "        print(f\"You Have Enter {length} Digit Number \")\n",
    "    else :\n",
    "        print (f\"{number} is more then five digit number\")\n",
    "Digit_()"
   ]
  },
  {
   "cell_type": "code",
   "execution_count": 5,
   "id": "03d9235a-43d9-480b-bd73-28323342a9da",
   "metadata": {},
   "outputs": [
    {
     "name": "stdin",
     "output_type": "stream",
     "text": [
      "Enter number to find out its length :  123456\n"
     ]
    },
    {
     "name": "stdout",
     "output_type": "stream",
     "text": [
      "123456 is more than 5 DIGIT NUMBER\n"
     ]
    }
   ],
   "source": [
    "def length():\n",
    "    number = int(input(\"Enter number to find out its length : \"))\n",
    "    if number >= 0 and number < 10 :\n",
    "        print(f\"{number} is 1 DIGIT NUMBER\")\n",
    "    elif number >= 10 and number < 100 :\n",
    "        print(f\"{number} is 2 DIGIT NUMBER\")\n",
    "    elif number >= 100 and number < 1000 :\n",
    "        print(f\"{number} is 3 DIGIT NUMBER\")\n",
    "    elif number >= 1000 and number < 10000 :\n",
    "        print(f\"{number} is 4 DIGIT NUMBER\")\n",
    "    elif number >= 10000 and number < 100000 :\n",
    "        print(f\"{number} is 5 DIGIT NUMBER\")\n",
    "    else :\n",
    "        if number < 0 :\n",
    "            print(f\"{number} is a NEGATIVE NUMBER\")\n",
    "        else :\n",
    "            print(f\"{number} is more than 5 DIGIT NUMBER\")\n",
    "\n",
    "length()"
   ]
  },
  {
   "cell_type": "code",
   "execution_count": null,
   "id": "603b1ed9-09ac-41bf-8fb7-c0092a961e83",
   "metadata": {},
   "outputs": [],
   "source": []
  },
  {
   "cell_type": "code",
   "execution_count": 4,
   "id": "1f638a06-1563-422c-8882-1e6327599e8d",
   "metadata": {},
   "outputs": [
    {
     "name": "stdout",
     "output_type": "stream",
     "text": [
      "***** Welcome Table Counting *****\n"
     ]
    },
    {
     "name": "stdin",
     "output_type": "stream",
     "text": [
      "Enter the number :  2\n"
     ]
    },
    {
     "name": "stdout",
     "output_type": "stream",
     "text": [
      "2 X 1 = 2\n"
     ]
    },
    {
     "name": "stdin",
     "output_type": "stream",
     "text": [
      "Do You Want To Count Another Table (Y/N) : y\n"
     ]
    },
    {
     "name": "stdout",
     "output_type": "stream",
     "text": [
      "2 X 2 = 4\n"
     ]
    },
    {
     "name": "stdin",
     "output_type": "stream",
     "text": [
      "Do You Want To Count Another Table (Y/N) : n\n"
     ]
    }
   ],
   "source": [
    "def table_count():\n",
    "    print(\"***** Welcome Table Counting *****\")\n",
    "    number = int(input(\"Enter the number : \"))\n",
    "    n = 1\n",
    "    while True :\n",
    "        table = n * number\n",
    "        print(f\"{number} X {n} = {table}\")\n",
    "        n +=1\n",
    "        n <= 10\n",
    "        ask = input(\"Do You Want To Count Another Table (Y/N) :\").upper()\n",
    "        if ask == \"N\":\n",
    "            break\n",
    "            number = int(input(\"Enter the number : \"))\n",
    "table_count()"
   ]
  },
  {
   "cell_type": "code",
   "execution_count": null,
   "id": "f09c5f66-0382-427c-848a-78fff9fe4302",
   "metadata": {},
   "outputs": [],
   "source": []
  },
  {
   "cell_type": "code",
   "execution_count": 1,
   "id": "25ad7e50-506b-4b7e-856a-2299606c7d0e",
   "metadata": {},
   "outputs": [
    {
     "name": "stdout",
     "output_type": "stream",
     "text": [
      "@@@@ WELCOME TO TABLE COUNTING @@@@\n"
     ]
    },
    {
     "name": "stdin",
     "output_type": "stream",
     "text": [
      "Enter the Number :  2\n"
     ]
    },
    {
     "name": "stdout",
     "output_type": "stream",
     "text": [
      "2\n",
      "4\n",
      "6\n",
      "8\n",
      "10\n",
      "12\n",
      "14\n",
      "16\n",
      "18\n",
      "20\n"
     ]
    }
   ],
   "source": [
    "def forloop_table():\n",
    "    print(\"@@@@ WELCOME TO TABLE COUNTING @@@@\")\n",
    "    number = int(input(\"Enter the Number : \"))\n",
    "    for n in range(1,11):\n",
    "        print(n*number)\n",
    "forloop_table()"
   ]
  },
  {
   "cell_type": "code",
   "execution_count": 19,
   "id": "5a161af7-6752-4ed4-b9f3-6d118b47c8d2",
   "metadata": {},
   "outputs": [
    {
     "name": "stdout",
     "output_type": "stream",
     "text": [
      "1\n",
      "12\n",
      "123\n",
      "1234\n",
      "12345\n"
     ]
    }
   ],
   "source": [
    "def pattern():\n",
    "    for i in range(1, 6):  \n",
    "        for p in range(1, i + 1): \n",
    "            print(p, end=\"\")\n",
    "        print()  \n",
    "\n",
    "pattern()"
   ]
  },
  {
   "cell_type": "code",
   "execution_count": 24,
   "id": "f205f1ef-592d-45d4-aca8-61d4376b30db",
   "metadata": {
    "scrolled": true
   },
   "outputs": [
    {
     "name": "stdin",
     "output_type": "stream",
     "text": [
      "Enter the Symbol :  %\n",
      "Enter the length of Pattern :  5\n"
     ]
    },
    {
     "name": "stdout",
     "output_type": "stream",
     "text": [
      "%\n",
      "%%\n",
      "%%%\n",
      "%%%%\n",
      "%%%%%\n"
     ]
    }
   ],
   "source": [
    "def symbol_pattern():\n",
    "    symbol = input(\"Enter the Symbol : \")\n",
    "    line = int(input(\"Enter the length of Pattern : \"))\n",
    "    for s in range(1,line+1):\n",
    "        for _ in range(s):\n",
    "            print(symbol, end=\"\")\n",
    "        print()\n",
    "\n",
    "symbol_pattern()"
   ]
  },
  {
   "cell_type": "code",
   "execution_count": 25,
   "id": "310f1d66-449d-4954-9749-fa8a212c0e2b",
   "metadata": {},
   "outputs": [
    {
     "name": "stdout",
     "output_type": "stream",
     "text": [
      "##### WELCOME ODD NUMBER FINDER IN RANGE #####\n"
     ]
    },
    {
     "name": "stdin",
     "output_type": "stream",
     "text": [
      "ENTER STARTING NUMBER OF RANGE :  2\n",
      "ENTER THE LAST NUMBER OF RANGE :  20\n"
     ]
    },
    {
     "name": "stdout",
     "output_type": "stream",
     "text": [
      "3\n",
      "5\n",
      "7\n",
      "9\n",
      "11\n",
      "13\n",
      "15\n",
      "17\n",
      "19\n"
     ]
    }
   ],
   "source": [
    "def odd_range():\n",
    "    print(\"##### WELCOME ODD NUMBER FINDER IN RANGE #####\")\n",
    "    first = int(input(\"ENTER STARTING NUMBER OF RANGE : \"))\n",
    "    last = int(input(\"ENTER THE LAST NUMBER OF RANGE : \"))\n",
    "    for odd in range(first,last+1):\n",
    "        if odd % 2 != 0 :\n",
    "            print(odd)\n",
    "\n",
    "odd_range()"
   ]
  },
  {
   "cell_type": "code",
   "execution_count": 50,
   "id": "1a615f7a-bd48-43f0-8d1a-e658a014ac5c",
   "metadata": {},
   "outputs": [
    {
     "name": "stdin",
     "output_type": "stream",
     "text": [
      "Which song do you want to skip (1-15) :  2\n"
     ]
    },
    {
     "name": "stdout",
     "output_type": "stream",
     "text": [
      "1-O Mere Dil Ke Chain\n",
      "3-Ae Dil Hai Mushkil\n",
      "4-Dhadak\n",
      "5-Enna Sona\n",
      "6-Phir Aur Kya Chahiye\n",
      "7-Udd Jaa Kaale Kaava\n",
      "8-Ruaan\n",
      "9-Halka Halka Sa\n",
      "10-Hone Do Jo Hota Hai\n",
      "11-Aaj Se Teri\n",
      "12-Tere Mere\n",
      "13-Main Tere Kabil Hoon\n",
      "14-Humsafar\n",
      "15-Lambiyaan Si Judaiyan\n",
      "\n",
      "\n"
     ]
    },
    {
     "name": "stdin",
     "output_type": "stream",
     "text": [
      "At wich song you want to stop (1-15) :  6\n"
     ]
    },
    {
     "name": "stdout",
     "output_type": "stream",
     "text": [
      "1-O Mere Dil Ke Chain\n",
      "2-Tum Hi Ho\n",
      "3-Ae Dil Hai Mushkil\n",
      "4-Dhadak\n",
      "5-Enna Sona\n"
     ]
    }
   ],
   "source": [
    "def playlist():\n",
    "    songs = (\"1-O Mere Dil Ke Chain\",\"2-Tum Hi Ho\",\"3-Ae Dil Hai Mushkil\",\"4-Dhadak\",\"5-Enna Sona\",\"6-Phir Aur Kya Chahiye\",\"7-Udd Jaa Kaale Kaava\",\"8-Ruaan\",\"9-Halka Halka Sa\",\"10-Hone Do Jo Hota Hai\",\"11-Aaj Se Teri\",\"12-Tere Mere\",\"13-Main Tere Kabil Hoon\",\"14-Humsafar\",\"15-Lambiyaan Si Judaiyan\")\n",
    "    skip = int(input(\"Which song do you want to skip (1-15) : \"))-1\n",
    "    \n",
    "    for plist in range(len(songs)):\n",
    "        if plist == skip:\n",
    "            continue\n",
    "        else :\n",
    "            print(songs[plist])\n",
    "\n",
    "playlist()\n",
    "print()\n",
    "print()\n",
    "def playlist1():\n",
    "    songs = (\"1-O Mere Dil Ke Chain\",\"2-Tum Hi Ho\",\"3-Ae Dil Hai Mushkil\",\"4-Dhadak\",\"5-Enna Sona\",\"6-Phir Aur Kya Chahiye\",\"7-Udd Jaa Kaale Kaava\",\"8-Ruaan\",\"9-Halka Halka Sa\",\"10-Hone Do Jo Hota Hai\",\"11-Aaj Se Teri\",\"12-Tere Mere\",\"13-Main Tere Kabil Hoon\",\"14-Humsafar\",\"15-Lambiyaan Si Judaiyan\")\n",
    "    skip = int(input(\"At wich song you want to stop (1-15) : \"))-1\n",
    "    song = songs[skip]\n",
    "    for plist in range(len(songs)):\n",
    "        if plist == skip:\n",
    "             break\n",
    "        else :\n",
    "            print(songs[plist])\n",
    "\n",
    "playlist1()"
   ]
  },
  {
   "cell_type": "code",
   "execution_count": 59,
   "id": "e82540fe-2650-4d2d-ad1b-22c6b36cc642",
   "metadata": {},
   "outputs": [
    {
     "name": "stdout",
     "output_type": "stream",
     "text": [
      "650\n"
     ]
    }
   ],
   "source": [
    "# sum of even number upto 50\n",
    "even = 0\n",
    "for num in range(1,51):\n",
    "    if num % 2 == 0 :\n",
    "        even += num\n",
    "print(even)"
   ]
  },
  {
   "cell_type": "code",
   "execution_count": 71,
   "id": "1f7f6aea-3491-4464-b937-360372532fa1",
   "metadata": {},
   "outputs": [
    {
     "name": "stdout",
     "output_type": "stream",
     "text": [
      "!@#$% SUM OF EVEN NUMBERS !@#$%\n"
     ]
    },
    {
     "name": "stdin",
     "output_type": "stream",
     "text": [
      "ENTER THE STARTING NUMBER :  1\n",
      "ENTER THE ENDING NUMBER :  5\n"
     ]
    },
    {
     "name": "stdout",
     "output_type": "stream",
     "text": [
      "6\n",
      "\n",
      "\n",
      "^&*~? SUM OF ODD NUMBERS ?~*&^\n"
     ]
    },
    {
     "name": "stdin",
     "output_type": "stream",
     "text": [
      "ENTER THE STARTING NUMBER :  1\n",
      "ENTER THE ENDING NUMBER :  5\n"
     ]
    },
    {
     "name": "stdout",
     "output_type": "stream",
     "text": [
      "9\n"
     ]
    }
   ],
   "source": [
    "print(\"!@#$% SUM OF EVEN NUMBERS !@#$%\")\n",
    "def sum_even():\n",
    "    starts = int(input(\"ENTER THE STARTING NUMBER : \"))\n",
    "    ends = int(input(\"ENTER THE ENDING NUMBER : \"))+1\n",
    "    even = 0\n",
    "    for e in range(starts,ends):\n",
    "        if e % 2 == 0:\n",
    "            even += e\n",
    "    print(even)\n",
    "\n",
    "sum_even()\n",
    "print()\n",
    "print()\n",
    "print(\"^&*~? SUM OF ODD NUMBERS ?~*&^\")\n",
    "def sum_odd():\n",
    "    starts = int(input(\"ENTER THE STARTING NUMBER : \"))\n",
    "    ends = int(input(\"ENTER THE ENDING NUMBER : \"))\n",
    "    odd = 0\n",
    "    while starts <= ends :\n",
    "        if starts % 2 != 0:\n",
    "            odd += starts\n",
    "        starts += 1\n",
    "    print(odd)\n",
    "\n",
    "sum_odd()"
   ]
  },
  {
   "cell_type": "code",
   "execution_count": 65,
   "id": "873c519a-a85a-4b64-9099-337afb7ef38f",
   "metadata": {},
   "outputs": [
    {
     "name": "stdout",
     "output_type": "stream",
     "text": [
      "The Sqaue of 1 is 1\n",
      "The Sqaue of 2 is 4\n",
      "The Sqaue of 3 is 9\n",
      "The Sqaue of 4 is 16\n",
      "The Sqaue of 5 is 25\n",
      "The Sqaue of 6 is 36\n",
      "The Sqaue of 7 is 49\n",
      "The Sqaue of 8 is 64\n",
      "The Sqaue of 9 is 81\n",
      "The Sqaue of 10 is 100\n",
      "The Sqaue of 11 is 121\n",
      "The Sqaue of 12 is 144\n",
      "The Sqaue of 13 is 169\n",
      "The Sqaue of 14 is 196\n",
      "The Sqaue of 15 is 225\n",
      "The Sqaue of 16 is 256\n",
      "The Sqaue of 17 is 289\n",
      "The Sqaue of 18 is 324\n",
      "The Sqaue of 19 is 361\n",
      "The Sqaue of 20 is 400\n"
     ]
    }
   ],
   "source": [
    "# first 20 numbers and there sqaure number\n",
    "for sq in range (1,21):\n",
    "    print(\"The Sqaue of\",sq,\"is\",sq*sq)"
   ]
  },
  {
   "cell_type": "code",
   "execution_count": 67,
   "id": "368b1ce7-0041-4e91-a7cb-08e5052470ab",
   "metadata": {},
   "outputs": [
    {
     "name": "stdout",
     "output_type": "stream",
     "text": [
      "@@@@@ SQUARE OF NUMBERS @@@@@\n"
     ]
    },
    {
     "name": "stdin",
     "output_type": "stream",
     "text": [
      "ENTER THE STARTING NUMBER :  2\n",
      "ENTER THE ENDING NUMBER :  10\n"
     ]
    },
    {
     "name": "stdout",
     "output_type": "stream",
     "text": [
      "The Sqaue of 2 is 4\n",
      "The Sqaue of 3 is 27\n",
      "The Sqaue of 4 is 256\n",
      "The Sqaue of 5 is 3125\n",
      "The Sqaue of 6 is 46656\n",
      "The Sqaue of 7 is 823543\n",
      "The Sqaue of 8 is 16777216\n",
      "The Sqaue of 9 is 387420489\n",
      "The Sqaue of 10 is 10000000000\n"
     ]
    }
   ],
   "source": [
    "print(\"@@@@@ SQUARE OF NUMBERS @@@@@\")\n",
    "def square():\n",
    "    starts = int(input(\"ENTER THE STARTING NUMBER : \"))\n",
    "    ends = int(input(\"ENTER THE ENDING NUMBER : \"))+1\n",
    "    for sq in range(starts,ends):\n",
    "        print(\"The Sqaue of\",sq,\"is\",sq**sq)\n",
    "        \n",
    "square()"
   ]
  },
  {
   "cell_type": "code",
   "execution_count": null,
   "id": "cb8f4f2b-b4cb-4be4-8e09-86317aab954e",
   "metadata": {},
   "outputs": [],
   "source": []
  },
  {
   "cell_type": "code",
   "execution_count": 1,
   "id": "ba1ab3ba-bd98-4d13-93b8-f47f32cbf489",
   "metadata": {},
   "outputs": [
    {
     "name": "stdout",
     "output_type": "stream",
     "text": [
      "24\n",
      "48\n",
      "72\n",
      "96\n"
     ]
    }
   ],
   "source": [
    "# check from 1-100 which  number are divisible by 8 and 12\n",
    "def check_div():\n",
    "    for number in range(1,101):\n",
    "        if number % 8 == 0 and number % 12 == 0 :\n",
    "            print(number)\n",
    "\n",
    "check_div()"
   ]
  },
  {
   "cell_type": "code",
   "execution_count": 4,
   "id": "304d582d-8c2a-4d7e-9833-7531205bb97c",
   "metadata": {},
   "outputs": [
    {
     "name": "stdout",
     "output_type": "stream",
     "text": [
      "A:- MAGGIE \n",
      "B:- PARLE-G \n",
      "C:-WATER BOTTLE \n",
      "D:- POTATO CHIPS \n",
      "E:- MILK\n"
     ]
    },
    {
     "name": "stdin",
     "output_type": "stream",
     "text": [
      "Enter the name of Customer :   ronii\n"
     ]
    },
    {
     "name": "stdout",
     "output_type": "stream",
     "text": [
      "ENTER THE ITEM AND QUANTITY\n"
     ]
    },
    {
     "name": "stdin",
     "output_type": "stream",
     "text": [
      "ENTER THE ITEM :  a\n",
      "ENTER THE QUANTITY OF THE ITEM :  5\n",
      "DO YOU WANT TO ADD MORE ITEM (YES/NO) :  yes\n"
     ]
    },
    {
     "name": "stdout",
     "output_type": "stream",
     "text": [
      "ENTER THE ITEM AND QUANTITY\n"
     ]
    },
    {
     "name": "stdin",
     "output_type": "stream",
     "text": [
      "ENTER THE ITEM :  c\n",
      "ENTER THE QUANTITY OF THE ITEM :  2\n",
      "DO YOU WANT TO ADD MORE ITEM (YES/NO) :  yes\n"
     ]
    },
    {
     "name": "stdout",
     "output_type": "stream",
     "text": [
      "ENTER THE ITEM AND QUANTITY\n"
     ]
    },
    {
     "name": "stdin",
     "output_type": "stream",
     "text": [
      "ENTER THE ITEM :  e\n",
      "ENTER THE QUANTITY OF THE ITEM :  5\n",
      "DO YOU WANT TO ADD MORE ITEM (YES/NO) :  no\n"
     ]
    },
    {
     "name": "stdout",
     "output_type": "stream",
     "text": [
      "$$$$$$$$$$$$$$$$$$$$$$$$$$$$$$$$$$$$$$$$\n",
      "Name : RONII\n",
      "The total Bill is 501.5\n",
      "$$$$$$$$$$$$$$$$$$$$$$$$$$$$$$$$$$$$$$$$\n",
      "********** HAPPY SHOPPING COME AGAIN!! **********\n"
     ]
    },
    {
     "name": "stdin",
     "output_type": "stream",
     "text": [
      "DO YOU WANT TO GO ANOTHER CUSTOMER (YES/NO):  yes\n"
     ]
    },
    {
     "name": "stdout",
     "output_type": "stream",
     "text": [
      "A:- MAGGIE \n",
      "B:- PARLE-G \n",
      "C:-WATER BOTTLE \n",
      "D:- POTATO CHIPS \n",
      "E:- MILK\n"
     ]
    },
    {
     "name": "stdin",
     "output_type": "stream",
     "text": [
      "Enter the name of Customer :   tony\n"
     ]
    },
    {
     "name": "stdout",
     "output_type": "stream",
     "text": [
      "ENTER THE ITEM AND QUANTITY\n"
     ]
    },
    {
     "name": "stdin",
     "output_type": "stream",
     "text": [
      "ENTER THE ITEM :  a\n",
      "ENTER THE QUANTITY OF THE ITEM :  1\n",
      "DO YOU WANT TO ADD MORE ITEM (YES/NO) :  no\n"
     ]
    },
    {
     "name": "stdout",
     "output_type": "stream",
     "text": [
      "$$$$$$$$$$$$$$$$$$$$$$$$$$$$$$$$$$$$$$$$\n",
      "Name : TONY\n",
      "The total Bill is 40\n",
      "$$$$$$$$$$$$$$$$$$$$$$$$$$$$$$$$$$$$$$$$\n",
      "********** HAPPY SHOPPING COME AGAIN!! **********\n"
     ]
    },
    {
     "name": "stdin",
     "output_type": "stream",
     "text": [
      "DO YOU WANT TO GO ANOTHER CUSTOMER (YES/NO):  no\n"
     ]
    }
   ],
   "source": [
    "# super market biling system\n",
    "def super_market():\n",
    "    while True :\n",
    "        print(\"A:- MAGGIE \\nB:- PARLE-G \\nC:-WATER BOTTLE \\nD:- POTATO CHIPS \\nE:- MILK\")\n",
    "        name = input(\"Enter the name of Customer :  \").upper()\n",
    "        total_bill = 0\n",
    "        A = 40\n",
    "        B = 10\n",
    "        C = 12\n",
    "        D = 15\n",
    "        E = 55.50\n",
    "        \n",
    "        while True :\n",
    "            print(\"ENTER THE ITEM AND QUANTITY\")\n",
    "            item = input(\"ENTER THE ITEM : \").upper()\n",
    "            quantity = int(input(\"ENTER THE QUANTITY OF THE ITEM : \"))\n",
    "            if item == \"A\" :\n",
    "                total_bill += A * quantity\n",
    "                ask_again = input(\"DO YOU WANT TO ADD MORE ITEM (YES/NO) : \").upper()\n",
    "                if ask_again == \"NO\" :\n",
    "                    break\n",
    "            elif item == \"B\" :\n",
    "                total_bill += B * quantity\n",
    "                ask_again = input(\"DO YOU WANT TO ADD MORE ITEM (YES/NO) : \").upper()\n",
    "                if ask_again == \"NO\" :\n",
    "                    break\n",
    "            elif item == \"C\" :\n",
    "                total_bill += C * quantity\n",
    "                ask_again = input(\"DO YOU WANT TO ADD MORE ITEM (YES/NO) : \").upper()\n",
    "                if ask_again == \"NO\" :\n",
    "                    break\n",
    "            elif item == \"D\" :\n",
    "                total_bill += D * quantity\n",
    "                ask_again = input(\"DO YOU WANT TO ADD MORE ITEM (YES/NO) : \").upper()\n",
    "                if ask_again == \"NO\" :\n",
    "                    break\n",
    "            elif item == \"E\" :\n",
    "                total_bill += E * quantity\n",
    "                ask_again = input(\"DO YOU WANT TO ADD MORE ITEM (YES/NO) : \").upper()\n",
    "                if ask_again == \"NO\" :\n",
    "                    break\n",
    "        print(\"$\"*40)\n",
    "        print(f\"Name : {name}\")\n",
    "        print(f\"The total Bill is {total_bill}\")\n",
    "        print(\"$\"*40)\n",
    "        print(\"********** HAPPY SHOPPING COME AGAIN!! **********\")\n",
    "        repeat = input(\"DO YOU WANT TO GO ANOTHER CUSTOMER (YES/NO): \").upper()\n",
    "        if repeat == \"NO\":\n",
    "            break\n",
    "\n",
    "\n",
    "super_market()"
   ]
  },
  {
   "cell_type": "code",
   "execution_count": 5,
   "id": "404d7f5e-9f95-4d6f-ba18-c15d0fd11cc9",
   "metadata": {},
   "outputs": [
    {
     "name": "stdout",
     "output_type": "stream",
     "text": [
      "Why fit in, When you are Born to Stand Out!\n",
      "43\n"
     ]
    }
   ],
   "source": [
    "a = \"Why fit in, When you are Born to Stand Out!\"\n",
    "print(a)\n",
    "print(len(a))"
   ]
  },
  {
   "cell_type": "code",
   "execution_count": 6,
   "id": "be6c3545-1b96-4a32-9c6b-783ce1b4fae8",
   "metadata": {},
   "outputs": [
    {
     "name": "stdout",
     "output_type": "stream",
     "text": [
      "3\n"
     ]
    }
   ],
   "source": [
    "print(a.count(\"o\"))"
   ]
  },
  {
   "cell_type": "code",
   "execution_count": 7,
   "id": "1848e7b5-3acd-4fa4-bb4e-475a33a5b3ee",
   "metadata": {},
   "outputs": [
    {
     "name": "stdout",
     "output_type": "stream",
     "text": [
      "WHY FIT IN, WHEN YOU ARE BORN TO STAND OUT!\n",
      "why fit in, when you are born to stand out!\n"
     ]
    }
   ],
   "source": [
    "print(a.upper())\n",
    "print(a.lower())"
   ]
  },
  {
   "cell_type": "code",
   "execution_count": 8,
   "id": "988a9f8c-4e10-4414-92b9-0fae4366ff39",
   "metadata": {},
   "outputs": [
    {
     "name": "stdout",
     "output_type": "stream",
     "text": [
      "Why Fit In, When You Are Born To Stand Out!\n"
     ]
    }
   ],
   "source": [
    "print(a.title())"
   ]
  },
  {
   "cell_type": "code",
   "execution_count": 10,
   "id": "cc902273-dba5-41ed-be35-865e89cc00b5",
   "metadata": {},
   "outputs": [
    {
     "name": "stdout",
     "output_type": "stream",
     "text": [
      "4\n"
     ]
    }
   ],
   "source": [
    "print(a.find(\"fit in\"))"
   ]
  },
  {
   "cell_type": "code",
   "execution_count": 14,
   "id": "0a4dc2a9-3dcd-4d22-80dd-48a3eba68f46",
   "metadata": {},
   "outputs": [
    {
     "name": "stdout",
     "output_type": "stream",
     "text": [
      "1 2 3 4 5 \n",
      "1 2 3 4 5 \n",
      "1 2 3 4 5 \n",
      "1 2 3 4 5 \n",
      "1 2 3 4 5 \n"
     ]
    }
   ],
   "source": [
    "for n in range(1,6):\n",
    "    for m in range(1,6):\n",
    "        print(m, end=\" \")\n",
    "    print()"
   ]
  },
  {
   "cell_type": "code",
   "execution_count": 15,
   "id": "ae76b229-3697-4d36-9fdc-5046867fc10b",
   "metadata": {},
   "outputs": [
    {
     "name": "stdout",
     "output_type": "stream",
     "text": [
      "1 \n",
      "1 2 \n",
      "1 2 3 \n",
      "1 2 3 4 \n",
      "1 2 3 4 5 \n"
     ]
    }
   ],
   "source": [
    "for n in range(1,6):\n",
    "    for m in range(1,n+1):\n",
    "        print(m, end=\" \")\n",
    "    print()"
   ]
  },
  {
   "cell_type": "code",
   "execution_count": 16,
   "id": "fd343581-0b6e-4e39-9142-371963065f6c",
   "metadata": {},
   "outputs": [
    {
     "name": "stdout",
     "output_type": "stream",
     "text": [
      "# \n",
      "# # \n",
      "# # # \n",
      "# # # # \n",
      "# # # # # \n"
     ]
    }
   ],
   "source": [
    "for n in range(1,6):\n",
    "    for m in range(1,n+1):\n",
    "        print(\"#\", end=\" \")\n",
    "    print()"
   ]
  },
  {
   "cell_type": "code",
   "execution_count": 17,
   "id": "9caaf354-e525-4240-ba1e-c060c21f99eb",
   "metadata": {},
   "outputs": [
    {
     "name": "stdout",
     "output_type": "stream",
     "text": [
      "1 \n",
      "2 2 \n",
      "3 3 3 \n",
      "4 4 4 4 \n",
      "5 5 5 5 5 \n"
     ]
    }
   ],
   "source": [
    "for n in range(1,6):\n",
    "    for m in range(1,n+1):\n",
    "        print(n, end=\" \")\n",
    "    print()"
   ]
  },
  {
   "cell_type": "code",
   "execution_count": 18,
   "id": "5566018e-7c15-46b1-b7c2-ff155c9fbed0",
   "metadata": {},
   "outputs": [
    {
     "name": "stdout",
     "output_type": "stream",
     "text": [
      "1 1 1 1 1 \n",
      "2 2 2 2 \n",
      "3 3 3 \n",
      "4 4 \n",
      "5 \n"
     ]
    }
   ],
   "source": [
    "for n in range(1,6):\n",
    "    for m in range(6,n,-1):\n",
    "        print(n, end=\" \")\n",
    "    print()"
   ]
  },
  {
   "cell_type": "code",
   "execution_count": 22,
   "id": "c0f8e1a4-f4fd-445a-aed1-155e6fcd64d5",
   "metadata": {},
   "outputs": [
    {
     "name": "stdin",
     "output_type": "stream",
     "text": [
      "Enter to check it's STRING TYPE :  123q\n"
     ]
    },
    {
     "name": "stdout",
     "output_type": "stream",
     "text": [
      "123q have 2 string methods :- \n",
      "1.isalnum() \n",
      "2.islower()\n"
     ]
    }
   ],
   "source": [
    "# check the sting\n",
    "def check_string():\n",
    "    string = input(\"Enter to check it's STRING TYPE : \")\n",
    "    alnum = string.isalnum()\n",
    "    alpha = string.isalpha()\n",
    "    decimal = string.isdecimal()\n",
    "    digit = string.isdigit()\n",
    "    numeric = string.isnumeric()\n",
    "    lower = string.islower()\n",
    "    upper = string.isupper()\n",
    "    space = string.isspace()\n",
    "    title = string.istitle()\n",
    "    if alnum == True and alpha == True and lower == True :\n",
    "        print(f\"{string} have 3 string methods :- \\n1.isalnum() \\n2.isalpha \\n3.islower()\")\n",
    "    elif alnum == True and alpha == True and upper == True :\n",
    "        print(f\"{string} have 3 string methods :- \\n1.isalnum() \\n2.isalpha \\n3.isupper()\")\n",
    "    elif alnum == True and alpha == False and lower == True :\n",
    "        print(f\"{string} have 2 string methods :- \\n1.isalnum() \\n2.islower()\")\n",
    "    elif alnum == False and alpha == False and lower == True :\n",
    "        print(f\"{string} have 1 string methods :- \\n1.islower()\")\n",
    "    elif alnum == True and alpha == False and upper == True :\n",
    "        print(f\"{string} have 2 string methods :- \\n1.isalnum() \\n2.isupper()\")\n",
    "    elif alnum == False and alpha == False and upper == True :\n",
    "        print(f\"{string} have 1 string methods :- \\n1.isupper()\")\n",
    "    elif alnum == True and decimal == True and digit == True and numeric == True:\n",
    "        print(f\"{string} have 4 string methods :- \\n1.isalnum() \\n2.isdecimal \\n3.isdigit() \\n4.isnumeric()\")\n",
    "    elif alnum == True and title == True :\n",
    "        print(f\"{string} have 2 string methods :- \\n1.isalnum() \\n2.istitle()\")\n",
    "    elif alnum == False and title == True :\n",
    "        print(f\"{string} have 1 string methods :- \\n1.istitle()\")\n",
    "    elif upper == True and title == True :\n",
    "        print(f\"{string} have 2 string methods :- \\n1.istitle() \\n2.isupper()\")\n",
    "    elif space == True :\n",
    "        print(f\"{string} have 1 string methods :- \\n1.isspace() \")\n",
    "    elif alnum == False and alpha == False and decimal == False and digit == False and numeric == False and lower == False and upper == False and space == False and title == False :\n",
    "        print(f\"{string} have not come under any string method\")\n",
    "\n",
    "check_string()"
   ]
  },
  {
   "cell_type": "code",
   "execution_count": 24,
   "id": "b957ae15-e4e3-4ab9-9e9a-2b5ee08ba18a",
   "metadata": {},
   "outputs": [
    {
     "name": "stdin",
     "output_type": "stream",
     "text": [
      "Enter Number You Want To Show Fibonaci Series :  10\n"
     ]
    },
    {
     "name": "stdout",
     "output_type": "stream",
     "text": [
      "0\n",
      "1\n",
      "1\n",
      "2\n",
      "3\n",
      "5\n",
      "8\n",
      "13\n",
      "21\n",
      "34\n"
     ]
    }
   ],
   "source": [
    "def fibonaci():\n",
    "    number = int(input(\"Enter Number You Want To Show Fibonaci Series : \"))\n",
    "    a = 0 \n",
    "    b = 1\n",
    "    for n in range(1,number+1):\n",
    "        print(a)\n",
    "        \n",
    "        a,b = b,a+b\n",
    "\n",
    "fibonaci()"
   ]
  },
  {
   "cell_type": "code",
   "execution_count": 32,
   "id": "a58af4a7-3881-4709-949a-0cae34c70ac2",
   "metadata": {},
   "outputs": [],
   "source": []
  },
  {
   "cell_type": "code",
   "execution_count": 2,
   "id": "bc2c7234-2ba2-4154-b2e7-2ef9e5be9c3a",
   "metadata": {},
   "outputs": [],
   "source": [
    "import subron"
   ]
  },
  {
   "cell_type": "code",
   "execution_count": 3,
   "id": "2bb01915-41a5-4da0-93a1-f94b944d831f",
   "metadata": {},
   "outputs": [
    {
     "name": "stdout",
     "output_type": "stream",
     "text": [
      "7\n"
     ]
    }
   ],
   "source": [
    "ab = subron.adding(2,5)\n",
    "print(ab)"
   ]
  },
  {
   "cell_type": "code",
   "execution_count": 4,
   "id": "a5201409-82e0-4295-b532-1d2d8eb94b8d",
   "metadata": {
    "scrolled": true
   },
   "outputs": [
    {
     "ename": "AttributeError",
     "evalue": "module 'subron' has no attribute 'cars'",
     "output_type": "error",
     "traceback": [
      "\u001b[1;31m---------------------------------------------------------------------------\u001b[0m",
      "\u001b[1;31mAttributeError\u001b[0m                            Traceback (most recent call last)",
      "Cell \u001b[1;32mIn[4], line 2\u001b[0m\n\u001b[0;32m      1\u001b[0m \u001b[38;5;28;01mimport\u001b[39;00m \u001b[38;5;21;01msubron\u001b[39;00m \u001b[38;5;28;01mas\u001b[39;00m \u001b[38;5;21;01msu\u001b[39;00m\n\u001b[1;32m----> 2\u001b[0m ba \u001b[38;5;241m=\u001b[39m subron\u001b[38;5;241m.\u001b[39mcars[\u001b[38;5;124m\"\u001b[39m\u001b[38;5;124mName\u001b[39m\u001b[38;5;124m\"\u001b[39m]\n\u001b[0;32m      3\u001b[0m \u001b[38;5;28mprint\u001b[39m(ba)\n",
      "\u001b[1;31mAttributeError\u001b[0m: module 'subron' has no attribute 'cars'"
     ]
    }
   ],
   "source": [
    "import subron as su\n",
    "ba = subron.cars[\"Name\"]\n",
    "print(ba)"
   ]
  },
  {
   "cell_type": "code",
   "execution_count": 2,
   "id": "4ebf5625-ea30-403d-bceb-7fb111131bce",
   "metadata": {},
   "outputs": [
    {
     "name": "stdout",
     "output_type": "stream",
     "text": [
      "\n",
      "['subham', 'RONII', 'Ankush', 'santhosh', 28, 27, 29, 22]\n",
      "\n"
     ]
    },
    {
     "name": "stdin",
     "output_type": "stream",
     "text": [
      "From where (1-8) :  2\n",
      "to where (1-8):  5\n"
     ]
    },
    {
     "name": "stdout",
     "output_type": "stream",
     "text": [
      "\n",
      "['subham', 28, 'Ankush', 'santhosh', 'RONII', 27, 29, 22]\n"
     ]
    }
   ],
   "source": [
    "def list_swap():\n",
    "    list = [\"subham\", \"RONII\", \"Ankush\", \"santhosh\", 28 , 27 , 29, 22]\n",
    "    print()\n",
    "    print(list)\n",
    "    print()\n",
    "    first = int(input(\"From where (1-8) : \"))-1\n",
    "    last = int(input(\"to where (1-8): \"))-1\n",
    "    list[first],list[last] = list[last],list[first]\n",
    "    print()\n",
    "    print(list)\n",
    "\n",
    "list_swap()"
   ]
  },
  {
   "cell_type": "code",
   "execution_count": 4,
   "id": "615934a2-1525-4775-b247-1c2b96c33a1e",
   "metadata": {},
   "outputs": [
    {
     "name": "stdout",
     "output_type": "stream",
     "text": [
      "\n",
      "['subham', 'RONII', 'Ankush', 'santhosh', 28, 27, 29, 22]\n",
      "\n"
     ]
    },
    {
     "name": "stdin",
     "output_type": "stream",
     "text": [
      "Enter the word :  rout\n",
      "Enter the position you want :  3\n"
     ]
    },
    {
     "name": "stdout",
     "output_type": "stream",
     "text": [
      "\n",
      "['subham', 'RONII', 'Ankush', 'rout', 'santhosh', 28, 27, 29, 22]\n"
     ]
    }
   ],
   "source": [
    "def list_insert():\n",
    "    list = [\"subham\", \"RONII\", \"Ankush\", \"santhosh\", 28 , 27 , 29, 22]\n",
    "    print()\n",
    "    print(list)\n",
    "    print()\n",
    "    enter = input(\"Enter the word : \")\n",
    "    index = int(input(\"Enter the position you want : \"))+1\n",
    "    list.insert(index,enter)\n",
    "    print()\n",
    "    print(list)\n",
    "\n",
    "list_insert()"
   ]
  },
  {
   "cell_type": "code",
   "execution_count": 12,
   "id": "b8bc6190-afe3-4e11-9624-14ef8316a128",
   "metadata": {},
   "outputs": [
    {
     "name": "stdout",
     "output_type": "stream",
     "text": [
      "\n",
      "['subham', 'RONII', 'Ankush', 'santhosh', 28, 27, 29, 22]\n",
      "\n"
     ]
    },
    {
     "name": "stdin",
     "output_type": "stream",
     "text": [
      "Enter the position in the list :  3\n"
     ]
    },
    {
     "name": "stdout",
     "output_type": "stream",
     "text": [
      "\n",
      "['subham', 'RONII', 'santhosh', 28, 27, 29, 22]\n"
     ]
    }
   ],
   "source": [
    "def list_remove():\n",
    "    lists = [\"subham\", \"RONII\", \"Ankush\", \"santhosh\", 28 , 27 , 29, 22]\n",
    "    print()\n",
    "    print(lists)\n",
    "    print()\n",
    "    enter = int(input(\"Enter the position in the list : \"))-1\n",
    "    lists.pop(enter)\n",
    "    print()\n",
    "    print(lists)\n",
    "\n",
    "list_remove()"
   ]
  },
  {
   "cell_type": "code",
   "execution_count": 17,
   "id": "6e8c5951-138e-4389-a608-3c7735c6e96a",
   "metadata": {},
   "outputs": [
    {
     "name": "stdout",
     "output_type": "stream",
     "text": [
      "55\n",
      "\n",
      "120\n",
      "\n",
      "1 2 3 6 9 10 7 4 "
     ]
    }
   ],
   "source": [
    "def list_math():\n",
    "    numbers = [1,2,3,4,5,6,7,8,9,10]\n",
    "    add = 0\n",
    "    for nums in numbers :\n",
    "        add += nums\n",
    "    print(add)\n",
    "    print()\n",
    "    numbers1 = [1,2,3,4,5]\n",
    "    mul = 1\n",
    "    for nums1 in numbers1:\n",
    "        mul *= nums1\n",
    "    print(mul)\n",
    "    print()\n",
    "    numbers2 = [2,4,6,12,18,20,14,8]\n",
    "    dvd = 2\n",
    "    for nums2 in numbers2 :\n",
    "        did = nums2 // dvd\n",
    "        print(did, end=\" \")\n",
    "\n",
    "list_math()"
   ]
  },
  {
   "cell_type": "code",
   "execution_count": 21,
   "id": "f9d07601-cbca-412d-a424-c2552a143109",
   "metadata": {},
   "outputs": [
    {
     "name": "stdin",
     "output_type": "stream",
     "text": [
      "Enter first number : 11\n",
      "Enter second number :  34\n",
      "Enter third number :  2\n",
      "Enter forth number :  56\n",
      "Enter fifth number :  10\n"
     ]
    },
    {
     "name": "stdout",
     "output_type": "stream",
     "text": [
      "\n",
      "[11, 34, 2, 56, 10]\n",
      "\n",
      "[2, 10, 11, 34, 56]\n",
      "****************************************\n"
     ]
    },
    {
     "name": "stdin",
     "output_type": "stream",
     "text": [
      "Enter first fruit : banana\n",
      "Enter second fruit :  apple\n",
      "Enter third fruit :  watermellon\n",
      "Enter forth fruit :  orange\n",
      "Enter fifth fruit :  grapes\n"
     ]
    },
    {
     "name": "stdout",
     "output_type": "stream",
     "text": [
      "\n",
      "[2, 10, 11, 34, 56]\n",
      "\n",
      "['banana', 'apple', 'watermellon', 'orange', 'grapes']\n"
     ]
    }
   ],
   "source": [
    "def list_sort():\n",
    "    a = int(input(\"Enter first number :\"))\n",
    "    b = int(input(\"Enter second number : \"))\n",
    "    c = int(input(\"Enter third number : \"))\n",
    "    d = int(input(\"Enter forth number : \"))\n",
    "    e = int(input(\"Enter fifth number : \"))\n",
    "    print()\n",
    "    numbers = [a,b,c,d,e]\n",
    "    print(numbers)\n",
    "    print()\n",
    "    numbers.sort()\n",
    "    print(numbers)\n",
    "    print(\"*\"*40)\n",
    "    aa = input(\"Enter first fruit :\")\n",
    "    bb = input(\"Enter second fruit : \")\n",
    "    cc = input(\"Enter third fruit : \")\n",
    "    dd = input(\"Enter forth fruit : \")\n",
    "    ee = input(\"Enter fifth fruit : \")\n",
    "    print()\n",
    "    numbers1 = [aa,bb,cc,dd,ee]\n",
    "    print(numbers1)\n",
    "    print()\n",
    "    numbers1.sort\n",
    "    print(numbers1)\n",
    "\n",
    "list_sort()"
   ]
  },
  {
   "cell_type": "code",
   "execution_count": 1,
   "id": "601e3f44-2adf-4afa-a0c0-d9bc5b891c28",
   "metadata": {},
   "outputs": [
    {
     "data": {
      "text/plain": [
       "6.5"
      ]
     },
     "execution_count": 1,
     "metadata": {},
     "output_type": "execute_result"
    }
   ],
   "source": [
    "3+3.5"
   ]
  },
  {
   "cell_type": "code",
   "execution_count": null,
   "id": "b5a2a1fc-bfe6-48d7-a17b-a13144c096c3",
   "metadata": {},
   "outputs": [],
   "source": []
  }
 ],
 "metadata": {
  "kernelspec": {
   "display_name": "Python 3 (ipykernel)",
   "language": "python",
   "name": "python3"
  },
  "language_info": {
   "codemirror_mode": {
    "name": "ipython",
    "version": 3
   },
   "file_extension": ".py",
   "mimetype": "text/x-python",
   "name": "python",
   "nbconvert_exporter": "python",
   "pygments_lexer": "ipython3",
   "version": "3.11.7"
  }
 },
 "nbformat": 4,
 "nbformat_minor": 5
}
