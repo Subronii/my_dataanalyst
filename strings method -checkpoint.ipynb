{
 "cells": [
  {
   "cell_type": "code",
   "execution_count": 7,
   "id": "ccc3ea86-cb5d-4d2f-9a4d-8cbd6d33088c",
   "metadata": {},
   "outputs": [
    {
     "name": "stdout",
     "output_type": "stream",
     "text": [
      "ronii camiin\n",
      "Ronii camiin\n"
     ]
    }
   ],
   "source": [
    "#Python String capitalize() Method\n",
    "#Upper case the first letter in this sentence\n",
    "a='ronii camiin'\n",
    "print(a)\n",
    "print(a.capitalize())"
   ]
  },
  {
   "cell_type": "code",
   "execution_count": 6,
   "id": "4f65e775-bf54-4d19-aa98-1942c58369ca",
   "metadata": {},
   "outputs": [
    {
     "name": "stdout",
     "output_type": "stream",
     "text": [
      "Papa nhi manege\n"
     ]
    }
   ],
   "source": [
    "b=\"papa nhi manege\"\n",
    "c=b.capitalize()\n",
    "print(c)"
   ]
  },
  {
   "cell_type": "code",
   "execution_count": 15,
   "id": "8f402689-61db-4031-a25e-64d699f5956a",
   "metadata": {},
   "outputs": [
    {
     "name": "stdout",
     "output_type": "stream",
     "text": [
      "My Name is KHAN\n",
      "my name is khan\n"
     ]
    }
   ],
   "source": [
    "#Python String casefold() Method\n",
    "ab='My Name is KHAN'\n",
    "print(ab)\n",
    "print(ab.lower())"
   ]
  },
  {
   "cell_type": "code",
   "execution_count": 16,
   "id": "8c889d3e-2231-4c83-b447-af8ea159e5ba",
   "metadata": {},
   "outputs": [
    {
     "name": "stdout",
     "output_type": "stream",
     "text": [
      "What Is Your NAME\n",
      "what is your name\n"
     ]
    }
   ],
   "source": [
    "bc=\"What Is Your NAME\"\n",
    "print(bc)\n",
    "print(bc.casefold())"
   ]
  },
  {
   "cell_type": "code",
   "execution_count": 18,
   "id": "0d763c03-9e3c-4e48-a1b7-d27e058b45cf",
   "metadata": {},
   "outputs": [
    {
     "name": "stdout",
     "output_type": "stream",
     "text": [
      "       subham       \n"
     ]
    }
   ],
   "source": [
    "#center()\n",
    "txt = \"subham\"\n",
    "print(txt.center(20))"
   ]
  },
  {
   "cell_type": "code",
   "execution_count": 20,
   "id": "c5f5d260-63f3-43f7-935c-60f7616bf67a",
   "metadata": {},
   "outputs": [
    {
     "name": "stdout",
     "output_type": "stream",
     "text": [
      "iiiiiiisubhamiiiiiii\n"
     ]
    }
   ],
   "source": [
    "#center(lenght,\"character\")\n",
    "print(txt.center(20,\"i\"))"
   ]
  },
  {
   "cell_type": "code",
   "execution_count": 22,
   "id": "7908d635-b3a1-40c2-a849-2b24aa3e51d7",
   "metadata": {},
   "outputs": [
    {
     "name": "stdout",
     "output_type": "stream",
     "text": [
      "22subham22\n"
     ]
    }
   ],
   "source": [
    "print(txt.center(10,\"2\"))"
   ]
  },
  {
   "cell_type": "code",
   "execution_count": 25,
   "id": "c99962d1-688f-449b-99e0-582043815d2d",
   "metadata": {},
   "outputs": [
    {
     "name": "stdout",
     "output_type": "stream",
     "text": [
      "my name is subham , what is your name ?\n",
      "2\n"
     ]
    }
   ],
   "source": [
    "#count(\"charcter\")\n",
    "tx = \"my name is subham , what is your name ?\"\n",
    "print(tx)\n",
    "print(tx.count(\"name\"))"
   ]
  },
  {
   "cell_type": "code",
   "execution_count": 26,
   "id": "779df2f9-f4c1-4a87-b850-ce05907076b6",
   "metadata": {},
   "outputs": [
    {
     "name": "stdout",
     "output_type": "stream",
     "text": [
      "2\n"
     ]
    }
   ],
   "source": [
    "print(tx.count(\"is\"))"
   ]
  },
  {
   "cell_type": "code",
   "execution_count": 32,
   "id": "4fc0b6d5-824f-4725-9578-31e90d739037",
   "metadata": {},
   "outputs": [
    {
     "name": "stdout",
     "output_type": "stream",
     "text": [
      "0\n"
     ]
    }
   ],
   "source": [
    "print(tx.count(\"name\",4,10))"
   ]
  },
  {
   "cell_type": "code",
   "execution_count": 33,
   "id": "487e718b-86b3-41d6-9938-35ea5355a331",
   "metadata": {},
   "outputs": [
    {
     "name": "stdout",
     "output_type": "stream",
     "text": [
      "True\n"
     ]
    }
   ],
   "source": [
    "#endswith(\"\")\n",
    "tst = \"where are you from ?\"\n",
    "print(tst.endswith(\"?\"))"
   ]
  },
  {
   "cell_type": "code",
   "execution_count": 34,
   "id": "e32e4e22-1807-4d14-9e64-42f147e4ed05",
   "metadata": {},
   "outputs": [
    {
     "name": "stdout",
     "output_type": "stream",
     "text": [
      "True\n"
     ]
    }
   ],
   "source": [
    "print(tst.endswith(\"from ?\"))"
   ]
  },
  {
   "cell_type": "code",
   "execution_count": 35,
   "id": "0b04eba5-7499-4759-b76f-df55c217b3d0",
   "metadata": {},
   "outputs": [
    {
     "name": "stdout",
     "output_type": "stream",
     "text": [
      "False\n"
     ]
    }
   ],
   "source": [
    "print(tst.endswith(\".\"))"
   ]
  },
  {
   "cell_type": "code",
   "execution_count": 36,
   "id": "8ac61d0f-4839-4660-b09b-bb69c921da31",
   "metadata": {},
   "outputs": [
    {
     "name": "stdout",
     "output_type": "stream",
     "text": [
      "correct\n"
     ]
    }
   ],
   "source": [
    "if tst.endswith(\"?\"):\n",
    "    print(\"correct\")"
   ]
  },
  {
   "cell_type": "code",
   "execution_count": 37,
   "id": "10f3f982-1b83-4751-afcf-25ee96842a80",
   "metadata": {},
   "outputs": [
    {
     "name": "stdout",
     "output_type": "stream",
     "text": [
      "False\n"
     ]
    }
   ],
   "source": [
    "print(tst.endswith(\"?\",0,10))"
   ]
  },
  {
   "cell_type": "code",
   "execution_count": 38,
   "id": "1b33fc42-a9cf-43cb-bd70-e4e479e113ec",
   "metadata": {},
   "outputs": [
    {
     "name": "stdout",
     "output_type": "stream",
     "text": [
      "True\n"
     ]
    }
   ],
   "source": [
    "print(tst.endswith(\"?\",5,100))"
   ]
  },
  {
   "cell_type": "code",
   "execution_count": 41,
   "id": "05bafc85-51f0-4019-83c9-cd17c92ca444",
   "metadata": {},
   "outputs": [
    {
     "name": "stdout",
     "output_type": "stream",
     "text": [
      "True\n"
     ]
    }
   ],
   "source": [
    "print(tst.endswith(\"?\",2,))"
   ]
  },
  {
   "cell_type": "code",
   "execution_count": 43,
   "id": "258a8a1b-e580-4f78-bfe3-1a82cc71a183",
   "metadata": {},
   "outputs": [
    {
     "name": "stdout",
     "output_type": "stream",
     "text": [
      "s\tu\tb\th\ta\tm\n",
      "ronii\n"
     ]
    }
   ],
   "source": [
    "#expandtabs() \n",
    "txt = \"s\\tu\\tb\\th\\ta\\tm\"\n",
    "print(txt)\n",
    "tst = \"ronii\"\n",
    "print(tst)"
   ]
  },
  {
   "cell_type": "code",
   "execution_count": 44,
   "id": "e95d707f-3bb7-4812-8854-a04d0d4bd2c2",
   "metadata": {},
   "outputs": [
    {
     "name": "stdout",
     "output_type": "stream",
     "text": [
      "s       u       b       h       a       m\n",
      "ronii\n"
     ]
    }
   ],
   "source": [
    "print(txt.expandtabs())\n",
    "print(tst.expandtabs())"
   ]
  },
  {
   "cell_type": "code",
   "execution_count": 45,
   "id": "a8de2ef5-ab80-46ce-8579-e82cd1f6aa63",
   "metadata": {},
   "outputs": [
    {
     "name": "stdout",
     "output_type": "stream",
     "text": [
      "ronii\n"
     ]
    }
   ],
   "source": [
    "print(tst.expandtabs(10))"
   ]
  },
  {
   "cell_type": "code",
   "execution_count": 46,
   "id": "86bdd3df-e92b-4347-a76b-cbd7d24dfcd7",
   "metadata": {},
   "outputs": [
    {
     "name": "stdout",
     "output_type": "stream",
     "text": [
      "s          u          b          h          a          m\n"
     ]
    }
   ],
   "source": [
    "print(txt.expandtabs(11))"
   ]
  },
  {
   "cell_type": "code",
   "execution_count": 47,
   "id": "64fb1059-4c6f-4493-b044-d5b459d6a4cc",
   "metadata": {},
   "outputs": [
    {
     "name": "stdout",
     "output_type": "stream",
     "text": [
      "s u b h a m\n"
     ]
    }
   ],
   "source": [
    "print(txt.expandtabs(2))"
   ]
  },
  {
   "cell_type": "code",
   "execution_count": 48,
   "id": "a993eeba-194e-4c2b-8170-458a5f8abc6a",
   "metadata": {},
   "outputs": [
    {
     "name": "stdout",
     "output_type": "stream",
     "text": [
      "3\n"
     ]
    }
   ],
   "source": [
    "#find(\"\")\n",
    "tct = \"tu janta ha mera baap kon h ?\"\n",
    "print(tct.find(\"janta\"))"
   ]
  },
  {
   "cell_type": "code",
   "execution_count": 49,
   "id": "e5853c75-425d-41ff-8bca-40b87271e326",
   "metadata": {
    "scrolled": true
   },
   "outputs": [
    {
     "name": "stdout",
     "output_type": "stream",
     "text": [
      "12\n"
     ]
    }
   ],
   "source": [
    "print(tct.find(\"m\"))"
   ]
  },
  {
   "cell_type": "code",
   "execution_count": 50,
   "id": "e1bedbf8-7914-4b1f-8601-51fe2fbf5f96",
   "metadata": {},
   "outputs": [
    {
     "name": "stdout",
     "output_type": "stream",
     "text": [
      "-1\n"
     ]
    }
   ],
   "source": [
    "print(tct.find(\"k\",5,3))"
   ]
  },
  {
   "cell_type": "code",
   "execution_count": 1,
   "id": "e9ff3880-9ec9-4c26-bfb4-f1b63e47b5d0",
   "metadata": {},
   "outputs": [],
   "source": [
    "# the output is -1 because its not found \"k\" in the given string address"
   ]
  },
  {
   "cell_type": "code",
   "execution_count": 52,
   "id": "834e1c79-3101-49e1-8cf0-ae69c2ea7bfa",
   "metadata": {},
   "outputs": [
    {
     "name": "stdout",
     "output_type": "stream",
     "text": [
      "22\n"
     ]
    }
   ],
   "source": [
    "print(tct.find(\"k\",5,30))"
   ]
  },
  {
   "cell_type": "code",
   "execution_count": 53,
   "id": "f7dcd9a1-7af0-422b-88cb-0d4284458556",
   "metadata": {},
   "outputs": [
    {
     "name": "stdout",
     "output_type": "stream",
     "text": [
      "20\n"
     ]
    }
   ],
   "source": [
    "print(tct.find(\"p\",5,))"
   ]
  },
  {
   "cell_type": "code",
   "execution_count": 54,
   "id": "84f71dc0-15aa-4af4-9116-7c80a7ca7e8b",
   "metadata": {},
   "outputs": [
    {
     "name": "stdout",
     "output_type": "stream",
     "text": [
      "My name is John and I am 30 years old.\n"
     ]
    }
   ],
   "source": [
    "#format_map()\n",
    "my_dict = {\"name\": \"John\", \"age\": 30}\n",
    "\n",
    "# Format the string using the mapping\n",
    "formatted_string = \"My name is {name} and I am {age} years old.\".format_map(my_dict)\n",
    "\n",
    "# Print the formatted string\n",
    "print(formatted_string)"
   ]
  },
  {
   "cell_type": "code",
   "execution_count": 56,
   "id": "8b68f2cc-87e9-4578-b1df-34be7a415bf9",
   "metadata": {},
   "outputs": [
    {
     "name": "stdout",
     "output_type": "stream",
     "text": [
      "{'city': 'jabalpur', 'pincode': 482020}\n",
      "<class 'dict'>\n",
      " I am from jabalpur and the pincode its serve 482020 .\n"
     ]
    }
   ],
   "source": [
    "tst= {\"city\":\"jabalpur\",\"pincode\":482020}\n",
    "state = \" I am from {city} and the pincode its serve {pincode} .\".format_map(tst)\n",
    "print(tst)\n",
    "print(type(tst))\n",
    "print(state)"
   ]
  },
  {
   "cell_type": "code",
   "execution_count": 57,
   "id": "489fdbc0-8180-4fc7-986f-c2d57b73328c",
   "metadata": {},
   "outputs": [
    {
     "name": "stdout",
     "output_type": "stream",
     "text": [
      " I am from jabalpur and the pincode its serve 482020 .\n"
     ]
    }
   ],
   "source": [
    "state = \" I am from {city} and the pincode its serve {pincode} .\"\n",
    "print(state.format_map(tst))"
   ]
  },
  {
   "cell_type": "code",
   "execution_count": 60,
   "id": "578670a8-1f87-4ca4-a789-87f9e8c5e949",
   "metadata": {},
   "outputs": [
    {
     "name": "stdout",
     "output_type": "stream",
     "text": [
      "i am gonna run daily in the morning\n",
      "11\n"
     ]
    }
   ],
   "source": [
    "#index(\"\")  FUNCUTIOn\n",
    "pop = \"i am gonna run daily in the morning\"\n",
    "print(pop)\n",
    "print(pop.index(\"run\"))"
   ]
  },
  {
   "cell_type": "code",
   "execution_count": 62,
   "id": "8b0c97f8-d9da-4470-9265-a8e9b4e2d308",
   "metadata": {},
   "outputs": [
    {
     "ename": "ValueError",
     "evalue": "substring not found",
     "output_type": "error",
     "traceback": [
      "\u001b[1;31m---------------------------------------------------------------------------\u001b[0m",
      "\u001b[1;31mValueError\u001b[0m                                Traceback (most recent call last)",
      "Cell \u001b[1;32mIn[62], line 2\u001b[0m\n\u001b[0;32m      1\u001b[0m \u001b[38;5;66;03m#becoz the index valuue is not found its showing error .. on like find\u001b[39;00m\n\u001b[1;32m----> 2\u001b[0m \u001b[38;5;28mprint\u001b[39m(pop\u001b[38;5;241m.\u001b[39mindex(\u001b[38;5;124m\"\u001b[39m\u001b[38;5;124mruun\u001b[39m\u001b[38;5;124m\"\u001b[39m))\n",
      "\u001b[1;31mValueError\u001b[0m: substring not found"
     ]
    }
   ],
   "source": [
    "#becoz the index valuue is not found its showing error .. on like find() that shows -1 when value not found\n",
    "print(pop.index(\"ruun\"))"
   ]
  },
  {
   "cell_type": "code",
   "execution_count": 63,
   "id": "3f3e28df-df18-4d70-89e4-32c79a3994a7",
   "metadata": {},
   "outputs": [
    {
     "name": "stdout",
     "output_type": "stream",
     "text": [
      "11\n"
     ]
    }
   ],
   "source": [
    "print(pop.index(\"run\",2,30))"
   ]
  },
  {
   "cell_type": "code",
   "execution_count": 65,
   "id": "2fad513b-d3de-4e4c-b34f-c640e87de7c3",
   "metadata": {},
   "outputs": [
    {
     "ename": "ValueError",
     "evalue": "substring not found",
     "output_type": "error",
     "traceback": [
      "\u001b[1;31m---------------------------------------------------------------------------\u001b[0m",
      "\u001b[1;31mValueError\u001b[0m                                Traceback (most recent call last)",
      "Cell \u001b[1;32mIn[65], line 1\u001b[0m\n\u001b[1;32m----> 1\u001b[0m \u001b[38;5;28mprint\u001b[39m(pop\u001b[38;5;241m.\u001b[39mindex(\u001b[38;5;124m\"\u001b[39m\u001b[38;5;124mrun\u001b[39m\u001b[38;5;124m\"\u001b[39m,\u001b[38;5;241m15\u001b[39m,\u001b[38;5;241m30\u001b[39m))\n",
      "\u001b[1;31mValueError\u001b[0m: substring not found"
     ]
    }
   ],
   "source": [
    "print(pop.index(\"run\",15,30))"
   ]
  },
  {
   "cell_type": "code",
   "execution_count": 66,
   "id": "38268a21-1a1e-410f-b93b-22c6dadc191e",
   "metadata": {},
   "outputs": [
    {
     "name": "stdout",
     "output_type": "stream",
     "text": [
      "11\n"
     ]
    }
   ],
   "source": [
    "print(pop.index(\"run\",2,))"
   ]
  },
  {
   "cell_type": "code",
   "execution_count": 99,
   "id": "b912cae0-1acc-4faa-add9-c5e5021265a7",
   "metadata": {},
   "outputs": [
    {
     "name": "stdout",
     "output_type": "stream",
     "text": [
      "<class 'str'>\n",
      "Comapny12\n"
     ]
    }
   ],
   "source": [
    "#isalnum() Method\n",
    "txt = \"Comapny12\"\n",
    "print(type(txt))\n",
    "print(txt)"
   ]
  },
  {
   "cell_type": "code",
   "execution_count": 100,
   "id": "0ef56170-c0de-4a29-9eec-66c3bbbf6d5c",
   "metadata": {},
   "outputs": [
    {
     "ename": "AttributeError",
     "evalue": "'str' object has no attribute 'islanum'",
     "output_type": "error",
     "traceback": [
      "\u001b[1;31m---------------------------------------------------------------------------\u001b[0m",
      "\u001b[1;31mAttributeError\u001b[0m                            Traceback (most recent call last)",
      "Cell \u001b[1;32mIn[100], line 1\u001b[0m\n\u001b[1;32m----> 1\u001b[0m \u001b[38;5;28mprint\u001b[39m(txt\u001b[38;5;241m.\u001b[39mislanum())\n",
      "\u001b[1;31mAttributeError\u001b[0m: 'str' object has no attribute 'islanum'"
     ]
    }
   ],
   "source": [
    "print(txt.islanum())"
   ]
  },
  {
   "cell_type": "code",
   "execution_count": 89,
   "id": "52487c95-06e5-4a38-852a-f3ff3e63d3a1",
   "metadata": {},
   "outputs": [
    {
     "ename": "AttributeError",
     "evalue": "'str' object has no attribute 'islanum'",
     "output_type": "error",
     "traceback": [
      "\u001b[1;31m---------------------------------------------------------------------------\u001b[0m",
      "\u001b[1;31mAttributeError\u001b[0m                            Traceback (most recent call last)",
      "Cell \u001b[1;32mIn[89], line 1\u001b[0m\n\u001b[1;32m----> 1\u001b[0m z \u001b[38;5;241m=\u001b[39m txt\u001b[38;5;241m.\u001b[39mislanum()\n\u001b[0;32m      2\u001b[0m \u001b[38;5;28mprint\u001b[39m(z)\n",
      "\u001b[1;31mAttributeError\u001b[0m: 'str' object has no attribute 'islanum'"
     ]
    }
   ],
   "source": [
    "z = txt.islanum()\n",
    "print(z)"
   ]
  },
  {
   "cell_type": "code",
   "execution_count": 82,
   "id": "da21216a-5cd1-49a2-affe-a67ae2f255a6",
   "metadata": {},
   "outputs": [
    {
     "name": "stdout",
     "output_type": "stream",
     "text": [
      "subhAM\n",
      "<class 'str'>\n",
      "True\n"
     ]
    }
   ],
   "source": [
    "#isalpha() Method\n",
    "abc = \"subhAM\"\n",
    "print(abc)\n",
    "print(type(abc))\n",
    "print(abc.isalpha())"
   ]
  },
  {
   "cell_type": "code",
   "execution_count": 83,
   "id": "dc1e369f-2f38-4ff1-a69e-dddfc3964093",
   "metadata": {},
   "outputs": [
    {
     "name": "stdout",
     "output_type": "stream",
     "text": [
      "subhAM rout\n",
      "<class 'str'>\n",
      "True\n"
     ]
    }
   ],
   "source": [
    "abd = \"subhAM rout\"\n",
    "print(abd)\n",
    "print(type(abd))\n",
    "print(abc.isalpha())"
   ]
  },
  {
   "cell_type": "code",
   "execution_count": 84,
   "id": "fad85fe7-b352-41a5-b97e-865fe6c08f24",
   "metadata": {},
   "outputs": [
    {
     "name": "stdout",
     "output_type": "stream",
     "text": [
      "subhAM1rout\n",
      "<class 'str'>\n",
      "True\n"
     ]
    }
   ],
   "source": [
    "ebd = \"subhAM1rout\"\n",
    "print(ebd)\n",
    "print(type(ebd))\n",
    "print(abc.isalpha())"
   ]
  },
  {
   "cell_type": "code",
   "execution_count": 85,
   "id": "ec10430b-2862-4673-b267-a5bede2eccfa",
   "metadata": {},
   "outputs": [
    {
     "name": "stdout",
     "output_type": "stream",
     "text": [
      "False\n"
     ]
    }
   ],
   "source": [
    "x = ebd.isalpha()\n",
    "print(x)"
   ]
  },
  {
   "cell_type": "code",
   "execution_count": 94,
   "id": "4ecf7f55-33f5-4862-9d41-b3f4ffa7449a",
   "metadata": {},
   "outputs": [
    {
     "name": "stdout",
     "output_type": "stream",
     "text": [
      "True\n",
      "<class 'str'>\n"
     ]
    }
   ],
   "source": [
    "#isdecimal() method\n",
    "qw = \"123\"\n",
    "print(qw.isdecimal())\n",
    "print(type(qw))"
   ]
  },
  {
   "cell_type": "code",
   "execution_count": 93,
   "id": "207e52ee-1ecd-4b68-a521-e4b9dc9a3151",
   "metadata": {},
   "outputs": [
    {
     "name": "stdout",
     "output_type": "stream",
     "text": [
      "False\n"
     ]
    }
   ],
   "source": [
    "wq = \"abc.5\"\n",
    "print(wq.isdecimal())"
   ]
  },
  {
   "cell_type": "code",
   "execution_count": 95,
   "id": "22ff9e9d-7211-441d-8f2a-e2895fb3d98b",
   "metadata": {},
   "outputs": [
    {
     "name": "stdout",
     "output_type": "stream",
     "text": [
      "<class 'int'>\n",
      "1234\n"
     ]
    },
    {
     "ename": "AttributeError",
     "evalue": "'int' object has no attribute 'isdigit'",
     "output_type": "error",
     "traceback": [
      "\u001b[1;31m---------------------------------------------------------------------------\u001b[0m",
      "\u001b[1;31mAttributeError\u001b[0m                            Traceback (most recent call last)",
      "Cell \u001b[1;32mIn[95], line 5\u001b[0m\n\u001b[0;32m      3\u001b[0m \u001b[38;5;28mprint\u001b[39m(\u001b[38;5;28mtype\u001b[39m(er))\n\u001b[0;32m      4\u001b[0m \u001b[38;5;28mprint\u001b[39m(er)\n\u001b[1;32m----> 5\u001b[0m \u001b[38;5;28mprint\u001b[39m(er\u001b[38;5;241m.\u001b[39misdigit())\n",
      "\u001b[1;31mAttributeError\u001b[0m: 'int' object has no attribute 'isdigit'"
     ]
    }
   ],
   "source": [
    "#isdigit() Method\n",
    "er = 1234\n",
    "print(type(er))\n",
    "print(er)\n",
    "print(er.isdigit())"
   ]
  },
  {
   "cell_type": "code",
   "execution_count": 97,
   "id": "2329c37c-4c07-4992-979d-8b64381a0c14",
   "metadata": {},
   "outputs": [
    {
     "name": "stdout",
     "output_type": "stream",
     "text": [
      "True\n",
      "<class 'str'>\n"
     ]
    }
   ],
   "source": [
    "er = '1234'\n",
    "print(er.isdigit())\n",
    "print(type(er))"
   ]
  },
  {
   "cell_type": "code",
   "execution_count": 98,
   "id": "eaf32638-2d98-4f2a-a5f3-787737602516",
   "metadata": {},
   "outputs": [
    {
     "name": "stdout",
     "output_type": "stream",
     "text": [
      "False\n"
     ]
    }
   ],
   "source": [
    "re = \"12we\"\n",
    "print(re.isdigit())"
   ]
  },
  {
   "cell_type": "code",
   "execution_count": 102,
   "id": "9792ecd1-3434-4f16-b6bc-ce53586265f9",
   "metadata": {},
   "outputs": [
    {
     "name": "stdout",
     "output_type": "stream",
     "text": [
      "True\n",
      "False\n",
      "False\n",
      "True\n"
     ]
    }
   ],
   "source": [
    "#isidentifier()\n",
    "qaz = \"subham_rout001\"\n",
    "zaq = \"12ronii\"\n",
    "aqz = \"subham rout\"\n",
    "zqa = \"_subham\"\n",
    "print(qaz.isidentifier())\n",
    "print(zaq.isidentifier())\n",
    "print(aqz.isidentifier())\n",
    "print(zqa.isidentifier())"
   ]
  },
  {
   "cell_type": "code",
   "execution_count": 1,
   "id": "ccf06dca-0bd3-442d-bf63-19f26d9e0536",
   "metadata": {},
   "outputs": [
    {
     "name": "stdout",
     "output_type": "stream",
     "text": [
      "subham\n",
      "subham\n"
     ]
    }
   ],
   "source": [
    "# islower()\n",
    "a = \"Subham\"\n",
    "b = 'SUBHAM'\n",
    "print(a.lower())\n",
    "print(b.lower())"
   ]
  },
  {
   "cell_type": "code",
   "execution_count": 2,
   "id": "a40e1069-7e73-4147-9305-08206b8b9516",
   "metadata": {},
   "outputs": [
    {
     "ename": "AttributeError",
     "evalue": "'int' object has no attribute 'isnumeric'",
     "output_type": "error",
     "traceback": [
      "\u001b[1;31m---------------------------------------------------------------------------\u001b[0m",
      "\u001b[1;31mAttributeError\u001b[0m                            Traceback (most recent call last)",
      "Cell \u001b[1;32mIn[2], line 6\u001b[0m\n\u001b[0;32m      4\u001b[0m e \u001b[38;5;241m=\u001b[39m \u001b[38;5;124m'\u001b[39m\u001b[38;5;124m345abc\u001b[39m\u001b[38;5;124m'\u001b[39m\n\u001b[0;32m      5\u001b[0m f \u001b[38;5;241m=\u001b[39m e \u001b[38;5;241m+\u001b[39m a\n\u001b[1;32m----> 6\u001b[0m \u001b[38;5;28mprint\u001b[39m(c\u001b[38;5;241m.\u001b[39misnumeric())\n\u001b[0;32m      7\u001b[0m \u001b[38;5;28mprint\u001b[39m(d\u001b[38;5;241m.\u001b[39misnumeric())\n\u001b[0;32m      8\u001b[0m \u001b[38;5;28mprint\u001b[39m(e\u001b[38;5;241m.\u001b[39misnumeric())\n",
      "\u001b[1;31mAttributeError\u001b[0m: 'int' object has no attribute 'isnumeric'"
     ]
    }
   ],
   "source": [
    "# isnumeric()\n",
    "c = 12346\n",
    "d = '2345'\n",
    "e = '345abc'\n",
    "f = e + a\n",
    "print(c.isnumeric())\n",
    "print(d.isnumeric())\n",
    "print(e.isnumeric())\n",
    "print(f.isnumeric())"
   ]
  },
  {
   "cell_type": "code",
   "execution_count": 3,
   "id": "8ec56d39-1a03-47bf-a879-ccba994851ac",
   "metadata": {},
   "outputs": [
    {
     "name": "stdout",
     "output_type": "stream",
     "text": [
      "True\n",
      "True\n",
      "False\n",
      "False\n"
     ]
    }
   ],
   "source": [
    "# isnumeric()\n",
    "c = '12346'\n",
    "d = '2345'\n",
    "e = '345abc'\n",
    "f = e + a\n",
    "print(c.isnumeric())\n",
    "print(d.isnumeric())\n",
    "print(e.isnumeric())\n",
    "print(f.isnumeric())"
   ]
  },
  {
   "cell_type": "code",
   "execution_count": 4,
   "id": "f792640d-7fef-4354-9f28-2bc390e1bd36",
   "metadata": {},
   "outputs": [
    {
     "name": "stdout",
     "output_type": "stream",
     "text": [
      "False\n",
      "True\n"
     ]
    }
   ],
   "source": [
    "# istitle\n",
    "a = \"My name is Subham Rout\"\n",
    "b = \"I Am Living In Jabalpur\"\n",
    "print(a.istitle())\n",
    "print(b.istitle())"
   ]
  },
  {
   "cell_type": "code",
   "execution_count": 7,
   "id": "5d6da7b6-652b-4624-9dd3-a0bcce6ea682",
   "metadata": {},
   "outputs": [
    {
     "name": "stdout",
     "output_type": "stream",
     "text": [
      "False\n",
      "False\n",
      "False\n",
      "True\n"
     ]
    },
    {
     "ename": "AttributeError",
     "evalue": "'list' object has no attribute 'isspace'",
     "output_type": "error",
     "traceback": [
      "\u001b[1;31m---------------------------------------------------------------------------\u001b[0m",
      "\u001b[1;31mAttributeError\u001b[0m                            Traceback (most recent call last)",
      "Cell \u001b[1;32mIn[7], line 9\u001b[0m\n\u001b[0;32m      7\u001b[0m \u001b[38;5;28mprint\u001b[39m(c\u001b[38;5;241m.\u001b[39misspace())\n\u001b[0;32m      8\u001b[0m \u001b[38;5;28mprint\u001b[39m(d\u001b[38;5;241m.\u001b[39misspace())\n\u001b[1;32m----> 9\u001b[0m \u001b[38;5;28mprint\u001b[39m(e\u001b[38;5;241m.\u001b[39misspace())\n",
      "\u001b[1;31mAttributeError\u001b[0m: 'list' object has no attribute 'isspace'"
     ]
    }
   ],
   "source": [
    "# isspace\n",
    "b = \"IAmLivingInJabalpur\"\n",
    "c = \"\"\n",
    "d = \" \"\n",
    "e = [\" \"]\n",
    "print(a.isspace())\n",
    "print(b.isspace())\n",
    "print(c.isspace())\n",
    "print(d.isspace())\n",
    "print(e.isspace())"
   ]
  },
  {
   "cell_type": "code",
   "execution_count": 12,
   "id": "2fc38d47-a430-4778-bc3b-013d1d74fe3a",
   "metadata": {},
   "outputs": [
    {
     "name": "stdout",
     "output_type": "stream",
     "text": [
      "('a', 'b', 'c', 'd')\n",
      "a!b!c!d\n"
     ]
    }
   ],
   "source": [
    "# join()\n",
    "alist = ('a', 'b', 'c', 'd')\n",
    "print(alist)\n",
    "cp = \"!\"\n",
    "print(cp.join(alist))"
   ]
  },
  {
   "cell_type": "code",
   "execution_count": 14,
   "id": "7939f1a5-3500-4cac-b3d1-5936ff5b4224",
   "metadata": {},
   "outputs": [
    {
     "name": "stdout",
     "output_type": "stream",
     "text": [
      "['a', 'b', 'c', 'd', 1, 2, 3, (23+2j), 2.44]\n",
      "<class 'list'>\n"
     ]
    },
    {
     "ename": "TypeError",
     "evalue": "sequence item 4: expected str instance, int found",
     "output_type": "error",
     "traceback": [
      "\u001b[1;31m---------------------------------------------------------------------------\u001b[0m",
      "\u001b[1;31mTypeError\u001b[0m                                 Traceback (most recent call last)",
      "Cell \u001b[1;32mIn[14], line 5\u001b[0m\n\u001b[0;32m      3\u001b[0m \u001b[38;5;28mprint\u001b[39m(\u001b[38;5;28mtype\u001b[39m(blist))\n\u001b[0;32m      4\u001b[0m sp \u001b[38;5;241m=\u001b[39m \u001b[38;5;124m\"\u001b[39m\u001b[38;5;124m*\u001b[39m\u001b[38;5;124m\"\u001b[39m\n\u001b[1;32m----> 5\u001b[0m \u001b[38;5;28mprint\u001b[39m(sp\u001b[38;5;241m.\u001b[39mjoin(blist))\n",
      "\u001b[1;31mTypeError\u001b[0m: sequence item 4: expected str instance, int found"
     ]
    }
   ],
   "source": [
    "blist = ['a', 'b', 'c', 'd', 1, 2, 3, 23+2j, 2.44]\n",
    "print(blist)\n",
    "print(type(blist))\n",
    "sp = \"*\"\n",
    "print(sp.join(blist))"
   ]
  },
  {
   "cell_type": "code",
   "execution_count": 15,
   "id": "82aba614-9bb0-4f97-8ff2-ef9a0287a7f9",
   "metadata": {},
   "outputs": [
    {
     "name": "stdout",
     "output_type": "stream",
     "text": [
      "['a', 'b', 'c', 'd', 1, 2, 3, (23+2j), 2.44]\n",
      "<class 'list'>\n",
      "[*'*a*'*,* *'*b*'*,* *'*c*'*,* *'*d*'*,* *1*,* *2*,* *3*,* *(*2*3*+*2*j*)*,* *2*.*4*4*]\n"
     ]
    }
   ],
   "source": [
    "blist = ['a', 'b', 'c', 'd', 1, 2, 3, 23+2j, 2.44]\n",
    "print(blist)\n",
    "print(type(blist))\n",
    "blist = str(blist)\n",
    "sp = \"*\"\n",
    "print(sp.join(blist))"
   ]
  },
  {
   "cell_type": "code",
   "execution_count": 16,
   "id": "10bfed4c-dccd-4dbb-afea-86c5e5f49517",
   "metadata": {},
   "outputs": [
    {
     "name": "stdout",
     "output_type": "stream",
     "text": [
      "('My name ', 'is', ' Subham Rout')\n"
     ]
    }
   ],
   "source": [
    "# partition()\n",
    "a = \"My name is Subham Rout\"\n",
    "print(a.partition(\"is\"))"
   ]
  },
  {
   "cell_type": "code",
   "execution_count": 17,
   "id": "dee7bf58-33a3-4e20-ab6e-7c84459fc756",
   "metadata": {},
   "outputs": [
    {
     "ename": "TypeError",
     "evalue": "must be str, not int",
     "output_type": "error",
     "traceback": [
      "\u001b[1;31m---------------------------------------------------------------------------\u001b[0m",
      "\u001b[1;31mTypeError\u001b[0m                                 Traceback (most recent call last)",
      "Cell \u001b[1;32mIn[17], line 2\u001b[0m\n\u001b[0;32m      1\u001b[0m a \u001b[38;5;241m=\u001b[39m \u001b[38;5;124m\"\u001b[39m\u001b[38;5;124mMy name is Subham Rout\u001b[39m\u001b[38;5;124m\"\u001b[39m\n\u001b[1;32m----> 2\u001b[0m \u001b[38;5;28mprint\u001b[39m(a\u001b[38;5;241m.\u001b[39mpartition(\u001b[38;5;241m3\u001b[39m))\n",
      "\u001b[1;31mTypeError\u001b[0m: must be str, not int"
     ]
    }
   ],
   "source": [
    "a = \"My name is Subham Rout\"\n",
    "print(a.partition(3)) #index nunber"
   ]
  },
  {
   "cell_type": "code",
   "execution_count": 23,
   "id": "89687741-cc95-4b3b-94c9-5d4b117a2b68",
   "metadata": {},
   "outputs": [
    {
     "name": "stdout",
     "output_type": "stream",
     "text": [
      " i will pay basket ball in ball court \n"
     ]
    },
    {
     "ename": "AttributeError",
     "evalue": "'str' object has no attribute 'repalce'",
     "output_type": "error",
     "traceback": [
      "\u001b[1;31m---------------------------------------------------------------------------\u001b[0m",
      "\u001b[1;31mAttributeError\u001b[0m                            Traceback (most recent call last)",
      "Cell \u001b[1;32mIn[23], line 4\u001b[0m\n\u001b[0;32m      2\u001b[0m ab \u001b[38;5;241m=\u001b[39m \u001b[38;5;124m\"\u001b[39m\u001b[38;5;124m i will pay basket ball in ball court \u001b[39m\u001b[38;5;124m\"\u001b[39m\n\u001b[0;32m      3\u001b[0m \u001b[38;5;28mprint\u001b[39m(ab)\n\u001b[1;32m----> 4\u001b[0m \u001b[38;5;28mprint\u001b[39m(ab\u001b[38;5;241m.\u001b[39mrepalce(\u001b[38;5;124m\"\u001b[39m\u001b[38;5;124mbasket\u001b[39m\u001b[38;5;124m\"\u001b[39m, \u001b[38;5;124m\"\u001b[39m\u001b[38;5;124mvolley\u001b[39m\u001b[38;5;124m\"\u001b[39m))\n",
      "\u001b[1;31mAttributeError\u001b[0m: 'str' object has no attribute 'repalce'"
     ]
    }
   ],
   "source": [
    "# repalce()\n",
    "ab = \" i will pay basket ball in ball court \"\n",
    "print(ab)\n",
    "print(ab.repalce(\"basket\", \"volley\"))"
   ]
  },
  {
   "cell_type": "code",
   "execution_count": 24,
   "id": "b3206544-fbe7-4877-b654-745e180d1559",
   "metadata": {},
   "outputs": [
    {
     "name": "stdout",
     "output_type": "stream",
     "text": [
      " i will pay basket ball in ball court \n",
      " I WILL PAY BASKET BALL IN BALL COURT \n"
     ]
    }
   ],
   "source": [
    "# swapcase()\n",
    "ab = \" i will pay basket ball in ball court \"\n",
    "print(ab)\n",
    "print(ab.swapcase())"
   ]
  },
  {
   "cell_type": "code",
   "execution_count": 26,
   "id": "a60a058d-0d7c-4d0a-a110-8e810fcb86c3",
   "metadata": {},
   "outputs": [
    {
     "name": "stdout",
     "output_type": "stream",
     "text": [
      "I Will Pay BasKet bAll in baLl cOUrt \n",
      "i wILL pAY bASkET BaLL IN BAlL CouRT \n"
     ]
    }
   ],
   "source": [
    "ab = \"I Will Pay BasKet bAll in baLl cOUrt \"\n",
    "print(ab)\n",
    "print(ab.swapcase())"
   ]
  },
  {
   "cell_type": "code",
   "execution_count": null,
   "id": "a7ed8fd7-9137-4b32-a370-2b125659da68",
   "metadata": {},
   "outputs": [],
   "source": []
  }
 ],
 "metadata": {
  "kernelspec": {
   "display_name": "Python 3 (ipykernel)",
   "language": "python",
   "name": "python3"
  },
  "language_info": {
   "codemirror_mode": {
    "name": "ipython",
    "version": 3
   },
   "file_extension": ".py",
   "mimetype": "text/x-python",
   "name": "python",
   "nbconvert_exporter": "python",
   "pygments_lexer": "ipython3",
   "version": "3.11.7"
  }
 },
 "nbformat": 4,
 "nbformat_minor": 5
}
