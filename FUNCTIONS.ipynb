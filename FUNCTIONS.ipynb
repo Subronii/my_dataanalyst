{
 "cells": [
  {
   "cell_type": "code",
   "execution_count": 3,
   "id": "35e15e90-3d21-4a83-a4c1-a10fa32794e9",
   "metadata": {
    "scrolled": true
   },
   "outputs": [
    {
     "name": "stdout",
     "output_type": "stream",
     "text": [
      "hello\n"
     ]
    }
   ],
   "source": [
    "def hello():\n",
    "    print(\"hello\")\n",
    "hello ()"
   ]
  },
  {
   "cell_type": "code",
   "execution_count": 4,
   "id": "9ae36ead-1722-4823-9a23-63927a52e2b4",
   "metadata": {},
   "outputs": [
    {
     "name": "stdout",
     "output_type": "stream",
     "text": [
      "3\n"
     ]
    }
   ],
   "source": [
    "def adding():\n",
    "    A = 1+2\n",
    "    print(A)\n",
    "adding()"
   ]
  },
  {
   "cell_type": "code",
   "execution_count": 5,
   "id": "277e5023-d186-4506-8edc-5940160a9fc3",
   "metadata": {},
   "outputs": [
    {
     "name": "stdout",
     "output_type": "stream",
     "text": [
      "8\n"
     ]
    }
   ],
   "source": [
    "def multi(a,b):\n",
    "    c = a*b\n",
    "    print(c)\n",
    "multi(2,4)"
   ]
  },
  {
   "cell_type": "code",
   "execution_count": 6,
   "id": "4cefce44-b34c-4e51-9ce5-9963cb418519",
   "metadata": {},
   "outputs": [
    {
     "name": "stdout",
     "output_type": "stream",
     "text": [
      "10\n",
      "8\n"
     ]
    }
   ],
   "source": [
    "def multi(a,b):\n",
    "    if a > b :\n",
    "        c = a*b\n",
    "        print(c)\n",
    "    else:\n",
    "        c = a**b\n",
    "        print(c)\n",
    "multi(5,2)\n",
    "multi(2,3)"
   ]
  },
  {
   "cell_type": "code",
   "execution_count": 8,
   "id": "aa3acf10-ee74-4976-8206-e680572d8e1b",
   "metadata": {},
   "outputs": [
    {
     "name": "stdout",
     "output_type": "stream",
     "text": [
      "My name is Subham Rout\n",
      "My name is Suresh Rout\n",
      "My name is Swarnalata Rout\n",
      "My name is Subhendu Rout\n"
     ]
    }
   ],
   "source": [
    "def family_name(nam):\n",
    "    print(f\"My name is {nam} Rout\")\n",
    "family_name(\"Subham\")\n",
    "family_name(\"Suresh\")\n",
    "family_name(\"Swarnalata\")\n",
    "family_name(\"Subhendu\")"
   ]
  },
  {
   "cell_type": "code",
   "execution_count": 14,
   "id": "1c653ac0-b388-4766-9ad1-da8fc991bdfa",
   "metadata": {},
   "outputs": [
    {
     "name": "stdout",
     "output_type": "stream",
     "text": [
      "My favourite sport is handball\n"
     ]
    }
   ],
   "source": [
    "def fsport(*sport):\n",
    "    print(f\"My favourite sport is {sport[3]}\")\n",
    "fsport(\"circket\",\"basketball\",\"volleball\",\"handball\",\"tennis\")"
   ]
  },
  {
   "cell_type": "code",
   "execution_count": 19,
   "id": "15eb42a2-aaad-4a7e-b029-506d77fefbec",
   "metadata": {},
   "outputs": [
    {
     "name": "stdout",
     "output_type": "stream",
     "text": [
      "My favourite fruit is Mango\n"
     ]
    }
   ],
   "source": [
    "def ffruits(f1,f2,f3,f4):\n",
    "    print(f\"My favourite fruit is {f2}\")\n",
    "ffruits(f1=\"Apple\", f2=\"Mango\", f3=\"Orange\", f4=\"Banana\")"
   ]
  },
  {
   "cell_type": "code",
   "execution_count": 22,
   "id": "1a394fa1-b550-4dc9-8959-8ec4cbc1ae56",
   "metadata": {},
   "outputs": [
    {
     "name": "stdout",
     "output_type": "stream",
     "text": [
      "the newly weds are Virat  & Anushka\n"
     ]
    }
   ],
   "source": [
    "def lpair(**couple):\n",
    "    print(\"the newly weds are \" + couple[\"groom\"] , \" & \" + couple[\"bride\"] )\n",
    "lpair(groom=\"Virat\", bride=\"Anushka\")"
   ]
  },
  {
   "cell_type": "code",
   "execution_count": 23,
   "id": "666e3000-326c-483b-a7c0-af5667958ff5",
   "metadata": {},
   "outputs": [
    {
     "name": "stdout",
     "output_type": "stream",
     "text": [
      "My currect living state is Delhi\n",
      "My currect living state is Odisha\n",
      "My currect living state is Kerela\n",
      "My currect living state is Madhya Pradesh\n",
      "My currect living state is Punjab\n",
      "My currect living state is Haryana\n"
     ]
    }
   ],
   "source": [
    "def mystate(state = \"Madhya Pradesh\"):\n",
    "    print(f\"My currect living state is {state}\")\n",
    "mystate(\"Delhi\")\n",
    "mystate(\"Odisha\")\n",
    "mystate(\"Kerela\")\n",
    "mystate()\n",
    "mystate(\"Punjab\")\n",
    "mystate(\"Haryana\")"
   ]
  },
  {
   "cell_type": "code",
   "execution_count": 25,
   "id": "52cf2d6f-dddc-42e0-a9c0-4e66526ca682",
   "metadata": {},
   "outputs": [
    {
     "name": "stdout",
     "output_type": "stream",
     "text": [
      "1\n",
      "2\n",
      "3\n",
      "4\n",
      "5\n",
      "6\n",
      "7\n",
      "8\n",
      "9\n",
      "0\n"
     ]
    }
   ],
   "source": [
    "def nums(nnums):\n",
    "    for n in nnums:\n",
    "        print(n)\n",
    "wnum = (1,2,3,4,5,6,7,8,9,0)\n",
    "nums(wnum)"
   ]
  },
  {
   "cell_type": "code",
   "execution_count": 30,
   "id": "4ed8e77f-1aa0-41a8-919c-f6ee14407554",
   "metadata": {},
   "outputs": [
    {
     "name": "stdout",
     "output_type": "stream",
     "text": [
      "0\n",
      "9\n",
      "8\n",
      "7\n",
      "6\n",
      "5\n",
      "4\n",
      "3\n",
      "2\n",
      "1\n"
     ]
    }
   ],
   "source": [
    "def nums(nnums):\n",
    "    for n in nnums:\n",
    "        print(n)\n",
    "wnum = (1,2,3,4,5,6,7,8,9,0)\n",
    "rnums = wnum[::-1]\n",
    "nums(rnums)"
   ]
  },
  {
   "cell_type": "code",
   "execution_count": 31,
   "id": "f6872702-e1ee-4336-9214-cd4fedfaa8f7",
   "metadata": {},
   "outputs": [
    {
     "name": "stdout",
     "output_type": "stream",
     "text": [
      "2\n",
      "4\n",
      "6\n",
      "8\n",
      "10\n"
     ]
    }
   ],
   "source": [
    "def tableof2(t):\n",
    "    return 2*t\n",
    "print(tableof2(1))\n",
    "print(tableof2(2))\n",
    "print(tableof2(3))\n",
    "print(tableof2(4))\n",
    "print(tableof2(5))"
   ]
  },
  {
   "cell_type": "code",
   "execution_count": 32,
   "id": "1dea325b-b578-455b-95db-0385fd85b291",
   "metadata": {},
   "outputs": [
    {
     "name": "stdout",
     "output_type": "stream",
     "text": [
      "5\n"
     ]
    }
   ],
   "source": [
    "def numb(x):\n",
    "    print(x)\n",
    "numb(5)"
   ]
  },
  {
   "cell_type": "code",
   "execution_count": 33,
   "id": "284f4d76-d3c6-4c4c-ad4c-b03c84c3574a",
   "metadata": {},
   "outputs": [
    {
     "name": "stdout",
     "output_type": "stream",
     "text": [
      "6\n"
     ]
    }
   ],
   "source": [
    "def numb(x):\n",
    "    print(x)\n",
    "numb(x = 6)"
   ]
  },
  {
   "cell_type": "code",
   "execution_count": 34,
   "id": "8fec446b-3029-4ac3-81f9-3842ccbd6723",
   "metadata": {},
   "outputs": [
    {
     "name": "stdout",
     "output_type": "stream",
     "text": [
      "1\n"
     ]
    }
   ],
   "source": [
    "def numb(x,/):\n",
    "    print(x)\n",
    "numb(1)"
   ]
  },
  {
   "cell_type": "code",
   "execution_count": 35,
   "id": "da7f2fdf-6982-4a6d-8e38-9127d95fa913",
   "metadata": {},
   "outputs": [
    {
     "ename": "TypeError",
     "evalue": "numb() got some positional-only arguments passed as keyword arguments: 'x'",
     "output_type": "error",
     "traceback": [
      "\u001b[1;31m---------------------------------------------------------------------------\u001b[0m",
      "\u001b[1;31mTypeError\u001b[0m                                 Traceback (most recent call last)",
      "Cell \u001b[1;32mIn[35], line 3\u001b[0m\n\u001b[0;32m      1\u001b[0m \u001b[38;5;28;01mdef\u001b[39;00m \u001b[38;5;21mnumb\u001b[39m(x,\u001b[38;5;241m/\u001b[39m):\n\u001b[0;32m      2\u001b[0m     \u001b[38;5;28mprint\u001b[39m(x)\n\u001b[1;32m----> 3\u001b[0m numb(x \u001b[38;5;241m=\u001b[39m \u001b[38;5;241m15\u001b[39m)\n",
      "\u001b[1;31mTypeError\u001b[0m: numb() got some positional-only arguments passed as keyword arguments: 'x'"
     ]
    }
   ],
   "source": [
    "def numb(x,/):\n",
    "    print(x)\n",
    "numb(x = 15)"
   ]
  },
  {
   "cell_type": "code",
   "execution_count": 1,
   "id": "3c7a9503-1067-4521-ba20-01cfbac6d857",
   "metadata": {},
   "outputs": [
    {
     "name": "stdout",
     "output_type": "stream",
     "text": [
      "ab\n",
      "ac\n",
      "ad\n"
     ]
    }
   ],
   "source": [
    "def my_function(x):\n",
    "  return \"a\" + x\n",
    "\n",
    "print(my_function(\"b\"))\n",
    "print(my_function(\"c\"))\n",
    "print(my_function(\"d\"))"
   ]
  },
  {
   "cell_type": "code",
   "execution_count": 1,
   "id": "4f0fce63-06b0-41a7-85c8-7f7abedd0dee",
   "metadata": {},
   "outputs": [
    {
     "name": "stdout",
     "output_type": "stream",
     "text": [
      "<function <lambda> at 0x000002B906D20CC0>\n"
     ]
    }
   ],
   "source": [
    "a = lambda b : 2+3\n",
    "print(a)"
   ]
  },
  {
   "cell_type": "code",
   "execution_count": 3,
   "id": "924e748e-3cc3-410c-a21e-036046be055d",
   "metadata": {},
   "outputs": [
    {
     "name": "stdout",
     "output_type": "stream",
     "text": [
      "5\n"
     ]
    }
   ],
   "source": [
    "a = lambda b : b+3\n",
    "print(a(2))"
   ]
  },
  {
   "cell_type": "code",
   "execution_count": 4,
   "id": "0f59ccf6-b1b4-4b61-9597-a11bcf491d7e",
   "metadata": {},
   "outputs": [
    {
     "name": "stdout",
     "output_type": "stream",
     "text": [
      "5\n",
      "ab\n",
      "ac\n",
      "ad\n"
     ]
    }
   ],
   "source": [
    "def my_function(x):\n",
    "  return \"a\" + x\n",
    "a = lambda b : b+3\n",
    "print(a(2))\n",
    "print(my_function(\"b\"))\n",
    "print(my_function(\"c\"))\n",
    "print(my_function(\"d\"))"
   ]
  },
  {
   "cell_type": "code",
   "execution_count": 5,
   "id": "316ac04f-2d9e-4662-99ba-4dcfd1eeed64",
   "metadata": {},
   "outputs": [
    {
     "ename": "NameError",
     "evalue": "name 'fname' is not defined",
     "output_type": "error",
     "traceback": [
      "\u001b[1;31m---------------------------------------------------------------------------\u001b[0m",
      "\u001b[1;31mNameError\u001b[0m                                 Traceback (most recent call last)",
      "Cell \u001b[1;32mIn[5], line 4\u001b[0m\n\u001b[0;32m      2\u001b[0m     \u001b[38;5;28;01mreturn\u001b[39;00m \u001b[38;5;28;01mlambda\u001b[39;00m fname : fname \u001b[38;5;241m+\u001b[39m sname\n\u001b[0;32m      3\u001b[0m subham()\n\u001b[1;32m----> 4\u001b[0m \u001b[38;5;28mprint\u001b[39m(fname(\u001b[38;5;124m\"\u001b[39m\u001b[38;5;124msubham\u001b[39m\u001b[38;5;124m\"\u001b[39m))\n",
      "\u001b[1;31mNameError\u001b[0m: name 'fname' is not defined"
     ]
    }
   ],
   "source": [
    "def subham(sname = \"rout\"):\n",
    "    return lambda fname : fname + sname\n",
    "subham()\n",
    "print(fname(\"subham\"))"
   ]
  },
  {
   "cell_type": "code",
   "execution_count": 7,
   "id": "080c65b4-8bbd-460c-abaf-a65e736747e0",
   "metadata": {},
   "outputs": [
    {
     "name": "stdout",
     "output_type": "stream",
     "text": [
      "subham rout\n"
     ]
    }
   ],
   "source": [
    "def subham(sname = \"rout\"):\n",
    "    return lambda fname : fname +\" \"+ sname\n",
    "fllname = subham()\n",
    "print(fllname(\"subham\"))"
   ]
  },
  {
   "cell_type": "code",
   "execution_count": 8,
   "id": "f3b26d68-c7b8-4d25-bc42-bdca24b14dcf",
   "metadata": {},
   "outputs": [
    {
     "name": "stdout",
     "output_type": "stream",
     "text": [
      "subham RAWAT\n",
      "RONII camiin\n"
     ]
    }
   ],
   "source": [
    "def subham(sname):\n",
    "    return lambda fname : fname +\" \"+ sname\n",
    "fllname = subham(\"RAWAT\")\n",
    "hnamse = subham(\"camiin\")\n",
    "print(fllname(\"subham\"))\n",
    "print(hnamse(\"RONII\"))"
   ]
  },
  {
   "cell_type": "code",
   "execution_count": null,
   "id": "b1bf807c-70c6-4fba-93cb-b33e9932415e",
   "metadata": {},
   "outputs": [],
   "source": []
  }
 ],
 "metadata": {
  "kernelspec": {
   "display_name": "Python 3 (ipykernel)",
   "language": "python",
   "name": "python3"
  },
  "language_info": {
   "codemirror_mode": {
    "name": "ipython",
    "version": 3
   },
   "file_extension": ".py",
   "mimetype": "text/x-python",
   "name": "python",
   "nbconvert_exporter": "python",
   "pygments_lexer": "ipython3",
   "version": "3.11.7"
  }
 },
 "nbformat": 4,
 "nbformat_minor": 5
}
