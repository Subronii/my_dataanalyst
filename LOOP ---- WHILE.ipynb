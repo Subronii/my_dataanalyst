{
 "cells": [
  {
   "cell_type": "code",
   "execution_count": 2,
   "id": "03188eab-e5c9-4d8c-bd48-0d6f7661205b",
   "metadata": {},
   "outputs": [
    {
     "name": "stdout",
     "output_type": "stream",
     "text": [
      "2\n",
      "4\n",
      "6\n",
      "8\n",
      "10\n",
      "12\n",
      "14\n",
      "16\n",
      "18\n",
      "20\n"
     ]
    }
   ],
   "source": [
    "t = 2\n",
    "while t < 21 :\n",
    "    print(t)\n",
    "    t += 2"
   ]
  },
  {
   "cell_type": "code",
   "execution_count": 7,
   "id": "b052f8b0-8435-4350-9845-ce81643b3085",
   "metadata": {},
   "outputs": [
    {
     "name": "stdin",
     "output_type": "stream",
     "text": [
      "(y/n) :  2\n"
     ]
    },
    {
     "name": "stdout",
     "output_type": "stream",
     "text": [
      "1\n"
     ]
    }
   ],
   "source": [
    "number1 = 1\n",
    "nums = 0\n",
    "ask1 = input(\"(y/n) : \").upper()\n",
    "while \"Y\" in ask1 :\n",
    "    nums += number1\n",
    "    print(nums)\n",
    "    ask1 = input(\"(y/n) : \").upper()\n",
    "else :\n",
    "    print(nums+1)"
   ]
  },
  {
   "cell_type": "code",
   "execution_count": 9,
   "id": "c9234f6e-4b12-4abb-a7b0-6defae8f247e",
   "metadata": {},
   "outputs": [
    {
     "name": "stdin",
     "output_type": "stream",
     "text": [
      "(y/n) :  y\n"
     ]
    },
    {
     "name": "stdout",
     "output_type": "stream",
     "text": [
      "1\n"
     ]
    },
    {
     "name": "stdin",
     "output_type": "stream",
     "text": [
      "(y/n) :  y\n"
     ]
    },
    {
     "name": "stdout",
     "output_type": "stream",
     "text": [
      "2\n"
     ]
    },
    {
     "name": "stdin",
     "output_type": "stream",
     "text": [
      "(y/n) :  y\n"
     ]
    },
    {
     "name": "stdout",
     "output_type": "stream",
     "text": [
      "3\n"
     ]
    },
    {
     "name": "stdin",
     "output_type": "stream",
     "text": [
      "(y/n) :  y\n"
     ]
    },
    {
     "name": "stdout",
     "output_type": "stream",
     "text": [
      "4\n"
     ]
    },
    {
     "name": "stdin",
     "output_type": "stream",
     "text": [
      "(y/n) :  y\n"
     ]
    },
    {
     "name": "stdout",
     "output_type": "stream",
     "text": [
      "5\n"
     ]
    }
   ],
   "source": [
    "number1 = 1\n",
    "nums = 0\n",
    "ask1 = input(\"(y/n) : \").upper()\n",
    "while \"Y\" in ask1 :\n",
    "    nums += number1\n",
    "    print(nums)\n",
    "    if nums == 5 :\n",
    "        break\n",
    "    ask1 = input(\"(y/n) : \").upper()"
   ]
  },
  {
   "cell_type": "code",
   "execution_count": 12,
   "id": "77b5d364-589c-4867-b222-a0c5521a5040",
   "metadata": {},
   "outputs": [
    {
     "name": "stdin",
     "output_type": "stream",
     "text": [
      "(y/n) :  y\n",
      "(y/n) :  y\n",
      "(y/n) :  y'\n",
      "(y/n) :  y\n",
      "(y/n) :  n\n"
     ]
    }
   ],
   "source": [
    "number1 = 1\n",
    "nums = 0\n",
    "ask1 = input(\"(y/n) : \").upper()\n",
    "while \"Y\" in ask1 :\n",
    "    nums += number1\n",
    "    if nums == 5 :\n",
    "        print(nums)\n",
    "        continue\n",
    "        print(nums)\n",
    "    ask1 = input(\"(y/n) : \").upper()"
   ]
  },
  {
   "cell_type": "code",
   "execution_count": null,
   "id": "1d9e589b-83ce-4082-ad41-08f8c5f87bf2",
   "metadata": {},
   "outputs": [],
   "source": []
  }
 ],
 "metadata": {
  "kernelspec": {
   "display_name": "Python 3 (ipykernel)",
   "language": "python",
   "name": "python3"
  },
  "language_info": {
   "codemirror_mode": {
    "name": "ipython",
    "version": 3
   },
   "file_extension": ".py",
   "mimetype": "text/x-python",
   "name": "python",
   "nbconvert_exporter": "python",
   "pygments_lexer": "ipython3",
   "version": "3.11.7"
  }
 },
 "nbformat": 4,
 "nbformat_minor": 5
}
