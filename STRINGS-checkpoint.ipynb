{
 "cells": [
  {
   "cell_type": "code",
   "execution_count": 42,
   "id": "c09aa9e9-2247-432f-96d2-8339933b8b41",
   "metadata": {},
   "outputs": [
    {
     "name": "stdout",
     "output_type": "stream",
     "text": [
      "6\n",
      "subham\n"
     ]
    }
   ],
   "source": [
    "#LEN IS USED FOR TO FING CHARACTER LENGHT\n",
    "name = \"subham\"\n",
    "print(len(name))\n",
    "print(name)"
   ]
  },
  {
   "cell_type": "code",
   "execution_count": 14,
   "id": "cee7017c-2327-46c7-ba54-a570b054fc9d",
   "metadata": {},
   "outputs": [
    {
     "name": "stdout",
     "output_type": "stream",
     "text": [
      "11\n",
      "subham rout\n"
     ]
    }
   ],
   "source": [
    "full_name = 'subham rout'\n",
    "print(len(full_name))\n",
    "print(full_name)"
   ]
  },
  {
   "cell_type": "code",
   "execution_count": 4,
   "id": "f27ae10e-bc3b-4fbb-8e95-b065c2dd85ac",
   "metadata": {},
   "outputs": [],
   "source": [
    "#slicing of the string >>> using [:]\n",
    "# positive indexing starts from left to right and counting starts from 0 to 1,2,3,4 ... numbers\n",
    "# negative indexing starts from right to left and counting starts from -1 to -2,-3,-4 ... numbers"
   ]
  },
  {
   "cell_type": "code",
   "execution_count": 8,
   "id": "35bbcc15-172e-424b-99e4-93d775170386",
   "metadata": {},
   "outputs": [
    {
     "name": "stdout",
     "output_type": "stream",
     "text": [
      "b\n"
     ]
    }
   ],
   "source": [
    "print(name[2])"
   ]
  },
  {
   "cell_type": "code",
   "execution_count": 10,
   "id": "18c72f76-e178-46b3-b75e-df38cd2b0ff4",
   "metadata": {},
   "outputs": [
    {
     "name": "stdout",
     "output_type": "stream",
     "text": [
      "m\n"
     ]
    }
   ],
   "source": [
    "print(name[5])"
   ]
  },
  {
   "cell_type": "code",
   "execution_count": 12,
   "id": "f7286569-a952-4e13-aebe-8b3ee9c58523",
   "metadata": {},
   "outputs": [
    {
     "name": "stdout",
     "output_type": "stream",
     "text": [
      "u\n"
     ]
    }
   ],
   "source": [
    "print(name[1])"
   ]
  },
  {
   "cell_type": "code",
   "execution_count": 13,
   "id": "937c7994-6e95-4873-8693-be89a423b79f",
   "metadata": {},
   "outputs": [
    {
     "name": "stdout",
     "output_type": "stream",
     "text": [
      "s\n"
     ]
    }
   ],
   "source": [
    "print(name[0])"
   ]
  },
  {
   "cell_type": "code",
   "execution_count": 14,
   "id": "e041736c-364b-455e-a705-2457b39aea83",
   "metadata": {},
   "outputs": [
    {
     "name": "stdout",
     "output_type": "stream",
     "text": [
      "m\n"
     ]
    }
   ],
   "source": [
    "print(name[-1])"
   ]
  },
  {
   "cell_type": "code",
   "execution_count": 15,
   "id": "b2be227a-3184-49b8-a0a2-57abe8e2520d",
   "metadata": {},
   "outputs": [
    {
     "name": "stdout",
     "output_type": "stream",
     "text": [
      "s\n"
     ]
    }
   ],
   "source": [
    "print(name[-6])"
   ]
  },
  {
   "cell_type": "code",
   "execution_count": 8,
   "id": "249942c3-1391-4927-89fa-5a79d75141b9",
   "metadata": {},
   "outputs": [
    {
     "data": {
      "text/plain": [
       "'subham'"
      ]
     },
     "execution_count": 8,
     "metadata": {},
     "output_type": "execute_result"
    }
   ],
   "source": [
    "name"
   ]
  },
  {
   "cell_type": "code",
   "execution_count": 9,
   "id": "80cdd674-92bb-4847-a1ca-63d6ce77158e",
   "metadata": {},
   "outputs": [
    {
     "name": "stdout",
     "output_type": "stream",
     "text": [
      "subh\n"
     ]
    }
   ],
   "source": [
    "print(name[0:4])"
   ]
  },
  {
   "cell_type": "code",
   "execution_count": 13,
   "id": "ebd6a732-b27f-49ae-b54d-ebec4c3cbe6d",
   "metadata": {},
   "outputs": [
    {
     "name": "stdout",
     "output_type": "stream",
     "text": [
      "sub\n"
     ]
    }
   ],
   "source": [
    "print(name[0:-3])"
   ]
  },
  {
   "cell_type": "code",
   "execution_count": 15,
   "id": "3e73dc21-7f90-4f4d-92d9-d0dabd4d3c43",
   "metadata": {},
   "outputs": [
    {
     "name": "stdout",
     "output_type": "stream",
     "text": [
      "subham r\n"
     ]
    }
   ],
   "source": [
    "print(full_name[0:-3])"
   ]
  },
  {
   "cell_type": "code",
   "execution_count": 16,
   "id": "8ac1cec6-5179-46a5-81b6-caf9c135efa3",
   "metadata": {},
   "outputs": [
    {
     "name": "stdout",
     "output_type": "stream",
     "text": [
      "ham r\n"
     ]
    }
   ],
   "source": [
    "print(full_name[-8:-3])"
   ]
  },
  {
   "cell_type": "code",
   "execution_count": 18,
   "id": "be7906fd-53af-44c1-ac7d-80eefea7587e",
   "metadata": {},
   "outputs": [
    {
     "data": {
      "text/plain": [
       "'subham rout'"
      ]
     },
     "execution_count": 18,
     "metadata": {},
     "output_type": "execute_result"
    }
   ],
   "source": [
    "full_name"
   ]
  },
  {
   "cell_type": "code",
   "execution_count": 19,
   "id": "8657ef3a-e957-49c9-848d-b0c23c239bd0",
   "metadata": {},
   "outputs": [],
   "source": [
    "#[start:end:step] here we are skipikng the characters"
   ]
  },
  {
   "cell_type": "code",
   "execution_count": 21,
   "id": "1693b79d-b7aa-448e-b5de-a8125d96203b",
   "metadata": {},
   "outputs": [
    {
     "name": "stdout",
     "output_type": "stream",
     "text": [
      "<class 'str'>\n",
      "ABCDEFIGKLMNOPQRST\n"
     ]
    }
   ],
   "source": [
    "new_name = 'ABCDEFIGKLMNOPQRST'\n",
    "print(type(new_name))\n",
    "print(new_name)"
   ]
  },
  {
   "cell_type": "code",
   "execution_count": 22,
   "id": "ea4c3ffe-2355-4a5e-971f-3ea382387630",
   "metadata": {},
   "outputs": [
    {
     "name": "stdout",
     "output_type": "stream",
     "text": [
      "ACEIKMOQS\n"
     ]
    }
   ],
   "source": [
    "print(new_name[0::2])"
   ]
  },
  {
   "cell_type": "code",
   "execution_count": 23,
   "id": "d0e1a036-10fe-4d5e-87a9-870d1ec3f23b",
   "metadata": {},
   "outputs": [
    {
     "name": "stdout",
     "output_type": "stream",
     "text": [
      "ADILOR\n"
     ]
    }
   ],
   "source": [
    "print(new_name[0::3])"
   ]
  },
  {
   "cell_type": "code",
   "execution_count": 24,
   "id": "6055e1c4-2dad-4f0b-b077-dcc90602bc59",
   "metadata": {},
   "outputs": [
    {
     "name": "stdout",
     "output_type": "stream",
     "text": [
      "BDFGLNPRT\n"
     ]
    }
   ],
   "source": [
    "print(new_name[1::2])"
   ]
  },
  {
   "cell_type": "code",
   "execution_count": 25,
   "id": "967c6164-0d92-4ab0-94b3-b7b07955a527",
   "metadata": {},
   "outputs": [
    {
     "name": "stdout",
     "output_type": "stream",
     "text": [
      "BEGMPS\n"
     ]
    }
   ],
   "source": [
    "print(new_name[1::3])"
   ]
  },
  {
   "cell_type": "code",
   "execution_count": 28,
   "id": "396756d5-1710-42ad-b9a3-9c1088017c9f",
   "metadata": {},
   "outputs": [
    {
     "name": "stdout",
     "output_type": "stream",
     "text": [
      "ACEIKMOQS\n"
     ]
    }
   ],
   "source": [
    "print(new_name[0::2])"
   ]
  },
  {
   "cell_type": "code",
   "execution_count": 30,
   "id": "bcad65e7-6aa0-4c22-b622-4ee60c0d3d88",
   "metadata": {},
   "outputs": [
    {
     "name": "stdout",
     "output_type": "stream",
     "text": [
      "<class 'list'>\n",
      "[1, 2, 3, 4, 'one', 'two', 'three', 'four', 1.5, 2.5, 3.5, 4.5, (1+2j), (2+2j), (3+2j)]\n"
     ]
    }
   ],
   "source": [
    "# using []slicing in the list[]\n",
    "list_1 = [1,2,3,4,\"one\",\"two\",\"three\",\"four\",1.5,2.5,3.5,4.5,1+2j,2+2j,3+2j]\n",
    "print(type(list_1))\n",
    "print(list_1)"
   ]
  },
  {
   "cell_type": "code",
   "execution_count": 31,
   "id": "1eb6f946-42d8-47a1-ab28-584e1f9dd883",
   "metadata": {},
   "outputs": [
    {
     "name": "stdout",
     "output_type": "stream",
     "text": [
      "one\n"
     ]
    }
   ],
   "source": [
    "print(list_1[4])"
   ]
  },
  {
   "cell_type": "code",
   "execution_count": 33,
   "id": "ca5e211b-5e39-4dcd-9c13-4b397905fd67",
   "metadata": {},
   "outputs": [
    {
     "name": "stdout",
     "output_type": "stream",
     "text": [
      "[1, 2, 3, 4, 'one']\n"
     ]
    }
   ],
   "source": [
    "print(list_1[0:5])"
   ]
  },
  {
   "cell_type": "code",
   "execution_count": 34,
   "id": "83c75230-afd9-4c60-9f1c-09431d8390f1",
   "metadata": {},
   "outputs": [
    {
     "name": "stdout",
     "output_type": "stream",
     "text": [
      "[2, 3, 4, 'one', 'two', 'three', 'four', 1.5, 2.5]\n"
     ]
    }
   ],
   "source": [
    "print(list_1[1:-5])"
   ]
  },
  {
   "cell_type": "code",
   "execution_count": 35,
   "id": "698228ea-8065-4dd6-874f-eef18a412961",
   "metadata": {},
   "outputs": [
    {
     "name": "stdout",
     "output_type": "stream",
     "text": [
      "[1, 3, 'one', 'three', 1.5, 3.5, (1+2j), (3+2j)]\n"
     ]
    }
   ],
   "source": [
    "print(list_1[0::2])"
   ]
  },
  {
   "cell_type": "code",
   "execution_count": 36,
   "id": "67ff2785-296b-4ead-8056-411551b32d3a",
   "metadata": {},
   "outputs": [
    {
     "name": "stdout",
     "output_type": "stream",
     "text": [
      "[2, 4, 'two', 'four', 2.5, 4.5, (2+2j)]\n"
     ]
    }
   ],
   "source": [
    "print(list_1[1::2])"
   ]
  },
  {
   "cell_type": "code",
   "execution_count": 37,
   "id": "955ecb62-92c9-422d-b37c-29177139457e",
   "metadata": {},
   "outputs": [
    {
     "name": "stdout",
     "output_type": "stream",
     "text": [
      "<class 'tuple'>\n",
      "(1, 2, 3, 4, 'one', 'two', 'three', 'four', 1.5, 2.5, 3.5, 4.5, [(1+2j), (2+2j), (3+2j)])\n"
     ]
    }
   ],
   "source": [
    "# using []slicing in the tuple()\n",
    "tuple_1 = (1,2,3,4,\"one\",\"two\",\"three\",\"four\",1.5,2.5,3.5,4.5,[1+2j,2+2j,3+2j])\n",
    "print(type(tuple_1))\n",
    "print(tuple_1)"
   ]
  },
  {
   "cell_type": "code",
   "execution_count": 38,
   "id": "95cef6e8-a3e4-44c2-b945-3f8d39f16bce",
   "metadata": {},
   "outputs": [
    {
     "name": "stdout",
     "output_type": "stream",
     "text": [
      "one\n"
     ]
    }
   ],
   "source": [
    "print(tuple_1[4])"
   ]
  },
  {
   "cell_type": "code",
   "execution_count": 141,
   "id": "4270c607-46db-41ea-9331-7b4a126ef908",
   "metadata": {},
   "outputs": [
    {
     "name": "stdout",
     "output_type": "stream",
     "text": [
      "(1, 2, 3, 4, 'one', 'two')\n"
     ]
    }
   ],
   "source": [
    "print(tuple_1[0:6])"
   ]
  },
  {
   "cell_type": "code",
   "execution_count": 46,
   "id": "629f3029-5396-4210-9b39-aa0f27c2894a",
   "metadata": {},
   "outputs": [
    {
     "name": "stdout",
     "output_type": "stream",
     "text": [
      "s\n",
      "u\n",
      "b\n",
      "h\n",
      "a\n",
      "m\n"
     ]
    }
   ],
   "source": [
    "#looping through string using .. for .. loop\n",
    "for a in name:\n",
    " print(a)"
   ]
  },
  {
   "cell_type": "code",
   "execution_count": 48,
   "id": "22d5d073-0522-4848-a9ff-98494a61b1e6",
   "metadata": {},
   "outputs": [
    {
     "name": "stdout",
     "output_type": "stream",
     "text": [
      "s\n",
      "<class 'str'>\n",
      "u\n",
      "<class 'str'>\n",
      "b\n",
      "<class 'str'>\n",
      "h\n",
      "<class 'str'>\n",
      "a\n",
      "<class 'str'>\n",
      "m\n",
      "<class 'str'>\n",
      " \n",
      "<class 'str'>\n",
      "r\n",
      "<class 'str'>\n",
      "o\n",
      "<class 'str'>\n",
      "u\n",
      "<class 'str'>\n",
      "t\n",
      "<class 'str'>\n"
     ]
    }
   ],
   "source": [
    "for b in full_name:\n",
    "    print(b)\n",
    "    print(type(b))"
   ]
  },
  {
   "cell_type": "code",
   "execution_count": 49,
   "id": "a46de5e4-2e54-4db3-be66-8df569321d88",
   "metadata": {},
   "outputs": [
    {
     "name": "stdout",
     "output_type": "stream",
     "text": [
      "A\n",
      "B\n",
      "C\n",
      "D\n",
      "E\n",
      "F\n",
      "I\n",
      "G\n",
      "K\n",
      "L\n",
      "M\n",
      "N\n",
      "O\n",
      "P\n",
      "Q\n",
      "R\n",
      "S\n",
      "T\n"
     ]
    }
   ],
   "source": [
    "for c in new_name:\n",
    "    print(c)"
   ]
  },
  {
   "cell_type": "code",
   "execution_count": 50,
   "id": "58711073-cba9-49cd-ba8e-6f32e2dd6c16",
   "metadata": {},
   "outputs": [
    {
     "name": "stdout",
     "output_type": "stream",
     "text": [
      "s\n",
      "u\n",
      "r\n",
      "e\n",
      "s\n",
      "h\n"
     ]
    }
   ],
   "source": [
    "for d in \"suresh\":\n",
    "    print(d)"
   ]
  },
  {
   "cell_type": "code",
   "execution_count": 51,
   "id": "870f65bc-3fdc-4b6d-917c-e615de86faf1",
   "metadata": {},
   "outputs": [
    {
     "name": "stdout",
     "output_type": "stream",
     "text": [
      "m\n",
      "a\n",
      "m\n",
      "a\n",
      "t\n",
      "a\n",
      " \n",
      "r\n",
      "o\n",
      "u\n",
      "t\n"
     ]
    }
   ],
   "source": [
    "for e in 'mamata rout':\n",
    "    print(e)"
   ]
  },
  {
   "cell_type": "code",
   "execution_count": 52,
   "id": "5763a3f6-db0b-4c6e-80aa-bb4a98d20a08",
   "metadata": {},
   "outputs": [
    {
     "name": "stdout",
     "output_type": "stream",
     "text": [
      " my name is subham rout . i am doing a DA cource from skill circle\n",
      "True\n"
     ]
    }
   ],
   "source": [
    "#check string  or  not\n",
    "txt = \" my name is subham rout . i am doing a DA cource from skill circle\"\n",
    "print(txt)\n",
    "print(\"subham\" in txt)\n"
   ]
  },
  {
   "cell_type": "code",
   "execution_count": 54,
   "id": "5e7d2135-9eb1-4ac2-bc1a-dd6275f0f458",
   "metadata": {},
   "outputs": [
    {
     "name": "stdout",
     "output_type": "stream",
     "text": [
      " my name is subham rout . i am doing a DA cource from skill circle\n",
      "True\n"
     ]
    }
   ],
   "source": [
    "print(txt)\n",
    "print(\"ronii\" not in txt)"
   ]
  },
  {
   "cell_type": "code",
   "execution_count": 55,
   "id": "69a137eb-5ea7-43c4-b34e-6e7e75657d6c",
   "metadata": {},
   "outputs": [
    {
     "name": "stdout",
     "output_type": "stream",
     "text": [
      " my name is subham rout . i am doing a DA cource from skill circle\n",
      "False\n"
     ]
    }
   ],
   "source": [
    "print(txt)\n",
    "print(\"rout\" not in txt)"
   ]
  },
  {
   "cell_type": "code",
   "execution_count": 56,
   "id": "4aa3c6b3-80fc-4d7d-afc9-d558c9858dae",
   "metadata": {},
   "outputs": [
    {
     "name": "stdout",
     "output_type": "stream",
     "text": [
      "correct\n"
     ]
    }
   ],
   "source": [
    "if \"DA cource\" in txt:\n",
    "    print(\"correct\")"
   ]
  },
  {
   "cell_type": "code",
   "execution_count": 57,
   "id": "e9ae778f-4835-4f2c-9795-527a2021a8b7",
   "metadata": {},
   "outputs": [
    {
     "name": "stdout",
     "output_type": "stream",
     "text": [
      "<class 'list'>\n",
      "[1, 2, 3, 4, 5, 6, 7, 8, 9]\n"
     ]
    }
   ],
   "source": [
    "tst = [1,2,3,4,5,6,7,8,9]\n",
    "print(type(tst))\n",
    "print(tst)"
   ]
  },
  {
   "cell_type": "code",
   "execution_count": 58,
   "id": "4d020196-d1e7-4aa1-a649-8a9e7bc11cd7",
   "metadata": {},
   "outputs": [
    {
     "name": "stdout",
     "output_type": "stream",
     "text": [
      "True\n"
     ]
    }
   ],
   "source": [
    "print(1 in tst)"
   ]
  },
  {
   "cell_type": "code",
   "execution_count": 59,
   "id": "53242ef0-f6e0-40cf-86b7-3856af2bee44",
   "metadata": {},
   "outputs": [
    {
     "name": "stdout",
     "output_type": "stream",
     "text": [
      "False\n"
     ]
    }
   ],
   "source": [
    "print(0 in tst)"
   ]
  },
  {
   "cell_type": "code",
   "execution_count": 62,
   "id": "2baec351-5102-4626-878f-56123aa21ff0",
   "metadata": {},
   "outputs": [
    {
     "name": "stdout",
     "output_type": "stream",
     "text": [
      "1 4 False\n"
     ]
    }
   ],
   "source": [
    "print(1,4,0 in tst)"
   ]
  },
  {
   "cell_type": "code",
   "execution_count": 61,
   "id": "9aabb872-a6c6-4205-98d5-8f447bf10397",
   "metadata": {},
   "outputs": [
    {
     "name": "stdout",
     "output_type": "stream",
     "text": [
      "8 True\n"
     ]
    }
   ],
   "source": [
    "print(8,9 in tst)"
   ]
  },
  {
   "cell_type": "code",
   "execution_count": 63,
   "id": "654a5841-0286-4d56-8b17-61f2282086bf",
   "metadata": {},
   "outputs": [
    {
     "name": "stdout",
     "output_type": "stream",
     "text": [
      "2 5 True\n"
     ]
    }
   ],
   "source": [
    "print(2,5,9 in tst)"
   ]
  },
  {
   "cell_type": "code",
   "execution_count": 64,
   "id": "227e7575-c412-430e-8295-cea488e0e79e",
   "metadata": {},
   "outputs": [
    {
     "name": "stdin",
     "output_type": "stream",
     "text": [
      "your name =  subham rout\n"
     ]
    },
    {
     "name": "stdout",
     "output_type": "stream",
     "text": [
      "subham rout\n"
     ]
    }
   ],
   "source": [
    "if 1 in tst:\n",
    "    print(input(\"your name = \"))"
   ]
  },
  {
   "cell_type": "code",
   "execution_count": 69,
   "id": "28633190-b3c1-4989-8bb5-99604e8e495c",
   "metadata": {},
   "outputs": [
    {
     "name": "stdin",
     "output_type": "stream",
     "text": [
      "your height =  8.9\n"
     ]
    },
    {
     "name": "stdout",
     "output_type": "stream",
     "text": [
      "8.9\n"
     ]
    }
   ],
   "source": [
    "if 2 in tst:\n",
    " print(float(input(\"your height = \")))"
   ]
  },
  {
   "cell_type": "code",
   "execution_count": 73,
   "id": "2375d5a4-4a85-4e68-a730-05bfec79f1ce",
   "metadata": {},
   "outputs": [
    {
     "name": "stdout",
     "output_type": "stream",
     "text": [
      "subham\n"
     ]
    }
   ],
   "source": [
    "if 2 in tst:\n",
    " print(name)"
   ]
  },
  {
   "cell_type": "code",
   "execution_count": 74,
   "id": "1cd16a0e-1a76-4d8d-a97c-b0b9945997d6",
   "metadata": {},
   "outputs": [
    {
     "name": "stdout",
     "output_type": "stream",
     "text": [
      "hello\n"
     ]
    }
   ],
   "source": [
    "if 0 not in tst:\n",
    "    print('hello')"
   ]
  },
  {
   "cell_type": "code",
   "execution_count": 76,
   "id": "177dfd3d-1ab9-456c-834a-07660378c8cc",
   "metadata": {},
   "outputs": [],
   "source": [
    "if 9 not in tst:\n",
    "    print(\"world!\")"
   ]
  },
  {
   "cell_type": "code",
   "execution_count": 77,
   "id": "374a17a5-4eba-45d9-8116-0ca3d1c0e04d",
   "metadata": {},
   "outputs": [
    {
     "name": "stdout",
     "output_type": "stream",
     "text": [
      "True\n"
     ]
    }
   ],
   "source": [
    "print(0 not in tst)"
   ]
  },
  {
   "cell_type": "code",
   "execution_count": 78,
   "id": "706f244e-11a6-49ce-8ea2-18bd652d1827",
   "metadata": {},
   "outputs": [
    {
     "name": "stdout",
     "output_type": "stream",
     "text": [
      "False\n"
     ]
    }
   ],
   "source": [
    "print(1 not in tst)"
   ]
  },
  {
   "cell_type": "code",
   "execution_count": 79,
   "id": "5d50ba5a-7ba0-4cf3-a2d5-834bb01305a5",
   "metadata": {},
   "outputs": [],
   "source": [
    "if \"doing\" not in txt:\n",
    "    print(\"true\")\n",
    "    "
   ]
  },
  {
   "cell_type": "code",
   "execution_count": 80,
   "id": "b331525c-7604-47e7-b637-1f1155264b1a",
   "metadata": {},
   "outputs": [
    {
     "name": "stdout",
     "output_type": "stream",
     "text": [
      "true\n"
     ]
    }
   ],
   "source": [
    "if \"doing\" in txt:\n",
    "    print(\"true\")"
   ]
  },
  {
   "cell_type": "code",
   "execution_count": 81,
   "id": "25bb86b4-9ac6-4318-867c-66f13b951fd0",
   "metadata": {},
   "outputs": [
    {
     "name": "stdout",
     "output_type": "stream",
     "text": [
      "True\n"
     ]
    }
   ],
   "source": [
    "print(\"subham\" in txt)"
   ]
  },
  {
   "cell_type": "code",
   "execution_count": 82,
   "id": "b9156596-e8d8-467a-b94d-75d7a63d883c",
   "metadata": {},
   "outputs": [
    {
     "name": "stdout",
     "output_type": "stream",
     "text": [
      "True\n"
     ]
    }
   ],
   "source": [
    "print(\"mamta\" not in txt)"
   ]
  },
  {
   "cell_type": "code",
   "execution_count": 83,
   "id": "7704c7c7-657a-4cc0-9045-768edcb6f453",
   "metadata": {},
   "outputs": [
    {
     "name": "stdout",
     "output_type": "stream",
     "text": [
      "False\n"
     ]
    }
   ],
   "source": [
    "print(\"subham\" not in txt)"
   ]
  },
  {
   "cell_type": "code",
   "execution_count": 84,
   "id": "69139768-0570-44c3-89c8-b4e844c9464e",
   "metadata": {},
   "outputs": [
    {
     "name": "stdout",
     "output_type": "stream",
     "text": [
      "False\n"
     ]
    }
   ],
   "source": [
    "print(\"mamta\" in txt)"
   ]
  },
  {
   "cell_type": "code",
   "execution_count": 85,
   "id": "6c19fe13-facc-45fe-98ec-d213dad1e6e9",
   "metadata": {},
   "outputs": [
    {
     "name": "stdout",
     "output_type": "stream",
     "text": [
      "subham rout RONII CAMIIN\n"
     ]
    }
   ],
   "source": [
    "a = 'subham rout'\n",
    "A = 'RONII CAMIIN'\n",
    "print(a,A)"
   ]
  },
  {
   "cell_type": "code",
   "execution_count": 86,
   "id": "4430a6d7-1133-4ab2-abf3-b490f3376280",
   "metadata": {},
   "outputs": [
    {
     "name": "stdout",
     "output_type": "stream",
     "text": [
      "SUBHAM ROUT\n",
      "ronii camiin\n"
     ]
    }
   ],
   "source": [
    "#change character into lower to upper  and upper to lower\n",
    "print(a.upper())\n",
    "print(A.lower())"
   ]
  },
  {
   "cell_type": "code",
   "execution_count": 87,
   "id": "1d42ce57-08f6-4ede-8a61-0097454f94f2",
   "metadata": {},
   "outputs": [
    {
     "name": "stdout",
     "output_type": "stream",
     "text": [
      "  my name   is anthony   gonsalvis    . me duniya me   akela hu\n"
     ]
    }
   ],
   "source": [
    "#removing extra space in sting useing ... strip() .. function\n",
    "b = \"  my name   is anthony   gonsalvis    . me duniya me   akela hu\"\n",
    "print(b)"
   ]
  },
  {
   "cell_type": "code",
   "execution_count": 89,
   "id": "cad9e982-deb1-4338-b866-ef6ab7fc960b",
   "metadata": {},
   "outputs": [
    {
     "name": "stdout",
     "output_type": "stream",
     "text": [
      "my name   is anthony   gonsalvis    . me duniya me   akela hu\n"
     ]
    }
   ],
   "source": [
    "print(b.strip())"
   ]
  },
  {
   "cell_type": "code",
   "execution_count": 90,
   "id": "8b55bacb-26a2-4f34-8795-3e5d29d7deeb",
   "metadata": {},
   "outputs": [
    {
     "name": "stdout",
     "output_type": "stream",
     "text": [
      "  dil b h kali, ghar b h khali  \n",
      "dil b h kali, ghar b h khali\n"
     ]
    }
   ],
   "source": [
    "c = \"  dil b h kali, ghar b h khali  \"\n",
    "print(c)\n",
    "print(c.strip())"
   ]
  },
  {
   "cell_type": "code",
   "execution_count": 92,
   "id": "2082da46-68fe-4ca6-a16a-b69dd956797d",
   "metadata": {},
   "outputs": [
    {
     "name": "stdout",
     "output_type": "stream",
     "text": [
      "tony ne sony ka j.sony thod diya taa\n",
      "mony ne sony ka j.sony mhod diya maa\n"
     ]
    }
   ],
   "source": [
    "#using ... replace ... function to replace the character in the strings\n",
    "d = \"tony ne sony ka j.sony thod diya taa\"\n",
    "print(d)\n",
    "print(d.replace(\"t\",\"m\"))"
   ]
  },
  {
   "cell_type": "code",
   "execution_count": 97,
   "id": "458928aa-aa29-47cf-8917-116143d6e134",
   "metadata": {},
   "outputs": [
    {
     "name": "stdout",
     "output_type": "stream",
     "text": [
      "tony ne ronii ka j.ronii thod diya taa\n"
     ]
    }
   ],
   "source": [
    "print(d.replace(\"sony\",\"ronii\"))"
   ]
  },
  {
   "cell_type": "code",
   "execution_count": 154,
   "id": "4240c614-aa96-4d68-af42-5ce83c2e807b",
   "metadata": {},
   "outputs": [
    {
     "name": "stdout",
     "output_type": "stream",
     "text": [
      "focus on ,own world\n",
      "focus on ,own world\n",
      "(1, 2, 3, 4, 5, 6)\n",
      "<class 'tuple'>\n",
      "('india is the', 'greatest country')\n",
      "<class 'tuple'>\n"
     ]
    }
   ],
   "source": [
    "#split(\"\") .. function for spliting the characters\n",
    "f = \"focus on ,own world\"\n",
    "g = \"messi is goat\"\n",
    "h = (1,2,3,4,5,6)\n",
    "i = (\"india is the\" , \"greatest country\")\n",
    "print(f)\n",
    "print(f)\n",
    "print(h)\n",
    "print(type(h))\n",
    "print(i)\n",
    "print(type(i))"
   ]
  },
  {
   "cell_type": "code",
   "execution_count": 100,
   "id": "8109795b-4305-4461-ac3e-ee8f5ca95fd1",
   "metadata": {},
   "outputs": [
    {
     "name": "stdout",
     "output_type": "stream",
     "text": [
      "['focus on ', 'own world']\n"
     ]
    }
   ],
   "source": [
    "print(f.split(\",\"))"
   ]
  },
  {
   "cell_type": "code",
   "execution_count": 101,
   "id": "6368faff-01fa-40ff-94b6-dc01a2ba8b80",
   "metadata": {},
   "outputs": [
    {
     "name": "stdout",
     "output_type": "stream",
     "text": [
      "['messi', 'is', 'goat']\n"
     ]
    }
   ],
   "source": [
    "print(g.split(\" \"))"
   ]
  },
  {
   "cell_type": "code",
   "execution_count": 145,
   "id": "310684da-71a8-4218-a9b3-99c00cbf9aae",
   "metadata": {},
   "outputs": [
    {
     "ename": "AttributeError",
     "evalue": "'tuple' object has no attribute 'split'",
     "output_type": "error",
     "traceback": [
      "\u001b[1;31m---------------------------------------------------------------------------\u001b[0m",
      "\u001b[1;31mAttributeError\u001b[0m                            Traceback (most recent call last)",
      "Cell \u001b[1;32mIn[145], line 1\u001b[0m\n\u001b[1;32m----> 1\u001b[0m \u001b[38;5;28mprint\u001b[39m(h\u001b[38;5;241m.\u001b[39msplit(\u001b[38;5;124m\"\u001b[39m\u001b[38;5;124m,\u001b[39m\u001b[38;5;124m\"\u001b[39m))\n",
      "\u001b[1;31mAttributeError\u001b[0m: 'tuple' object has no attribute 'split'"
     ]
    }
   ],
   "source": [
    "print(h.split(\",\"))"
   ]
  },
  {
   "cell_type": "code",
   "execution_count": 152,
   "id": "bbad3488-284a-4a36-a826-f0c883d419be",
   "metadata": {},
   "outputs": [
    {
     "ename": "AttributeError",
     "evalue": "'tuple' object has no attribute 'split'",
     "output_type": "error",
     "traceback": [
      "\u001b[1;31m---------------------------------------------------------------------------\u001b[0m",
      "\u001b[1;31mAttributeError\u001b[0m                            Traceback (most recent call last)",
      "Cell \u001b[1;32mIn[152], line 1\u001b[0m\n\u001b[1;32m----> 1\u001b[0m \u001b[38;5;28mprint\u001b[39m(i\u001b[38;5;241m.\u001b[39msplit(\u001b[38;5;124m\"\u001b[39m\u001b[38;5;124m,\u001b[39m\u001b[38;5;124m\"\u001b[39m))\n",
      "\u001b[1;31mAttributeError\u001b[0m: 'tuple' object has no attribute 'split'"
     ]
    }
   ],
   "source": [
    "print(i.split(\",\"))"
   ]
  },
  {
   "cell_type": "code",
   "execution_count": 105,
   "id": "fb3209bc-0ec8-442d-b1ed-cfec42005e16",
   "metadata": {},
   "outputs": [
    {
     "name": "stdout",
     "output_type": "stream",
     "text": [
      "['tony', 'ne', 'sony', 'ka', 'j.sony', 'thod', 'diya', 'taa']\n"
     ]
    }
   ],
   "source": [
    "print(d.split(\" \"))"
   ]
  },
  {
   "cell_type": "code",
   "execution_count": 112,
   "id": "2a23b7cc-7563-4f25-828f-ffef6effa328",
   "metadata": {},
   "outputs": [
    {
     "name": "stdout",
     "output_type": "stream",
     "text": [
      "MY DOB IS {}DATE {}MONTH {}YEAR\n",
      "MY DOB IS 30DATE 7MONTH 1996YEAR\n"
     ]
    }
   ],
   "source": [
    "#format {} .. funtion use for enter valuues from other variable in the stings\n",
    "\n",
    "#date_of_birth_generator \n",
    "date_1 = 30\n",
    "month_1 = 7\n",
    "year_1 = 1996\n",
    "DOB = \"MY DOB IS {}DATE {}MONTH {}YEAR\"\n",
    "print(DOB)\n",
    "print(DOB.format(date_1,month_1,year_1))"
   ]
  },
  {
   "cell_type": "code",
   "execution_count": 123,
   "id": "e19c4100-25cd-4c0f-849e-fdd83b7dec3e",
   "metadata": {},
   "outputs": [
    {
     "name": "stdout",
     "output_type": "stream",
     "text": [
      "your ROLL NUMBER IS {1}{0}\n",
      "your ROLL NUMBER IS 199611\n"
     ]
    }
   ],
   "source": [
    "#roll number generator\n",
    "dateofjoing = 11\n",
    "birthyear = 1996\n",
    "roll_number = \"your ROLL NUMBER IS {1}{0}\"\n",
    "print(roll_number)\n",
    "print(roll_number.format(dateofjoing, birthyear))"
   ]
  },
  {
   "cell_type": "code",
   "execution_count": 127,
   "id": "0dda48b5-8140-423c-8751-2e02848e510f",
   "metadata": {},
   "outputs": [
    {
     "data": {
      "text/plain": [
       "'my city is JABALPUR! and pincode is = 482020'"
      ]
     },
     "execution_count": 127,
     "metadata": {},
     "output_type": "execute_result"
    }
   ],
   "source": [
    "city = 'jabalpur'\n",
    "pincode = 482020\n",
    "f\"my city is {city.upper()}! and pincode is = {pincode}\""
   ]
  },
  {
   "cell_type": "code",
   "execution_count": 129,
   "id": "88c80dd8-a4d7-4f08-b4c3-864e444336a2",
   "metadata": {},
   "outputs": [],
   "source": [
    "#using backlash \\\n",
    "z = \" i am from 'odisha' state.\"\n",
    "y = ' we are speaks \"odia\" in odisha.'\n",
    "u = \" do you learn \\\"english\\\" from school.\""
   ]
  },
  {
   "cell_type": "code",
   "execution_count": 131,
   "id": "ed550782-6f61-4bf6-bfb8-1d70d0d3490d",
   "metadata": {},
   "outputs": [
    {
     "name": "stdout",
     "output_type": "stream",
     "text": [
      " i am from 'odisha' state.\n",
      " we are speaks \"odia\" in odisha.\n",
      " do you learn \"english\" from school.\n"
     ]
    }
   ],
   "source": [
    "print(z)\n",
    "print(y)\n",
    "print(u)"
   ]
  },
  {
   "cell_type": "code",
   "execution_count": 133,
   "id": "aa0a1f3f-50d3-4929-9c11-09431bed1e93",
   "metadata": {},
   "outputs": [
    {
     "name": "stdout",
     "output_type": "stream",
     "text": [
      "my name is \n",
      "subham rout \n",
      "i live in jabalpur \n",
      "m.p india\n"
     ]
    }
   ],
   "source": [
    "#change the line of the string using .... \\n ..\n",
    "k = \"my name is \\nsubham rout \\ni live in jabalpur \\nm.p india\"\n",
    "print(k)"
   ]
  },
  {
   "cell_type": "code",
   "execution_count": 138,
   "id": "d94dfa27-1efb-411f-8ffa-7e0e7d371434",
   "metadata": {},
   "outputs": [
    {
     "data": {
      "text/plain": [
       "'sususususe'"
      ]
     },
     "execution_count": 138,
     "metadata": {},
     "output_type": "execute_result"
    }
   ],
   "source": [
    "#Strings can be concatenated (glued together) with the + operator, and repeated with *:\n",
    "4*'su'+'se'"
   ]
  },
  {
   "cell_type": "code",
   "execution_count": 139,
   "id": "1906f378-78c7-4a43-9a5a-86de1e7602d6",
   "metadata": {},
   "outputs": [
    {
     "data": {
      "text/plain": [
       "'subham'"
      ]
     },
     "execution_count": 139,
     "metadata": {},
     "output_type": "execute_result"
    }
   ],
   "source": [
    "'subh''am'"
   ]
  },
  {
   "cell_type": "code",
   "execution_count": 140,
   "id": "a3019691-513c-4f87-b1e8-73702623d162",
   "metadata": {},
   "outputs": [
    {
     "data": {
      "text/plain": [
       "'rout'"
      ]
     },
     "execution_count": 140,
     "metadata": {},
     "output_type": "execute_result"
    }
   ],
   "source": [
    "\"ro\"\"ut\""
   ]
  },
  {
   "cell_type": "code",
   "execution_count": null,
   "id": "8bf4c5a7-acdf-490f-bccf-191d1205a457",
   "metadata": {},
   "outputs": [],
   "source": []
  }
 ],
 "metadata": {
  "kernelspec": {
   "display_name": "Python 3 (ipykernel)",
   "language": "python",
   "name": "python3"
  },
  "language_info": {
   "codemirror_mode": {
    "name": "ipython",
    "version": 3
   },
   "file_extension": ".py",
   "mimetype": "text/x-python",
   "name": "python",
   "nbconvert_exporter": "python",
   "pygments_lexer": "ipython3",
   "version": "3.11.7"
  }
 },
 "nbformat": 4,
 "nbformat_minor": 5
}
