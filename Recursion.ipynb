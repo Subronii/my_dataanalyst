{
 "cells": [
  {
   "cell_type": "code",
   "execution_count": 7,
   "id": "40694d97-89aa-4029-930f-367615e1f7b6",
   "metadata": {},
   "outputs": [
    {
     "name": "stdout",
     "output_type": "stream",
     "text": [
      "2\n",
      "4\n",
      "6\n",
      "8\n",
      "10\n",
      "12\n",
      "14\n",
      "16\n",
      "18\n",
      "20\n",
      "22\n",
      "24\n",
      "26\n",
      "28\n",
      "30\n",
      "32\n",
      "34\n",
      "36\n",
      "38\n",
      "40\n",
      "table complete\n"
     ]
    }
   ],
   "source": [
    "# two table to power 20\n",
    "def twotable(tt) :\n",
    "   if tt > 40 : # base case\n",
    "       print(\"table complete\")\n",
    "   else :\n",
    "        print(tt)\n",
    "        twotable(tt+2)  # Recursion\n",
    "twotable(2)"
   ]
  },
  {
   "cell_type": "code",
   "execution_count": 10,
   "id": "c20d011e-de93-4b9b-8090-77889293b2e8",
   "metadata": {},
   "outputs": [
    {
     "name": "stdin",
     "output_type": "stream",
     "text": [
      "Enter a number you want to find it's table :  5\n"
     ]
    },
    {
     "name": "stdout",
     "output_type": "stream",
     "text": [
      "5\n",
      "10\n",
      "15\n",
      "20\n",
      "25\n",
      "30\n",
      "35\n",
      "40\n",
      "45\n",
      "50\n"
     ]
    }
   ],
   "source": [
    "# table to 10 power any number user input\n",
    "itable = int(input(\"Enter a number you want to find it's table : \"))\n",
    "def ttable(value):\n",
    "    tlast = itable * 10\n",
    "    if value > tlast :\n",
    "        return value\n",
    "    print(value)\n",
    "    ttable(value+itable)\n",
    "ttable(itable)"
   ]
  },
  {
   "cell_type": "code",
   "execution_count": null,
   "id": "fedcedc8-1096-49c9-a362-8867bc044ec3",
   "metadata": {},
   "outputs": [],
   "source": []
  }
 ],
 "metadata": {
  "kernelspec": {
   "display_name": "Python 3 (ipykernel)",
   "language": "python",
   "name": "python3"
  },
  "language_info": {
   "codemirror_mode": {
    "name": "ipython",
    "version": 3
   },
   "file_extension": ".py",
   "mimetype": "text/x-python",
   "name": "python",
   "nbconvert_exporter": "python",
   "pygments_lexer": "ipython3",
   "version": "3.11.7"
  }
 },
 "nbformat": 4,
 "nbformat_minor": 5
}
