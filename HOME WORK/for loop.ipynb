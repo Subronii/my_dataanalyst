{
 "cells": [
  {
   "cell_type": "markdown",
   "id": "668a12cc-1a6e-4bc9-a854-a19088256c21",
   "metadata": {},
   "source": [
    "# 035 Ask the user to enter their name and then display their name three times."
   ]
  },
  {
   "cell_type": "code",
   "execution_count": 4,
   "id": "4b883282-b489-4f9c-8866-3169c81cc6e8",
   "metadata": {},
   "outputs": [
    {
     "name": "stdin",
     "output_type": "stream",
     "text": [
      "Please enter your name :  subham\n"
     ]
    },
    {
     "name": "stdout",
     "output_type": "stream",
     "text": [
      "subham\n",
      "subham\n",
      "subham\n"
     ]
    }
   ],
   "source": [
    "askname = input(\"Please enter your name : \")\n",
    "for n in range(3) :\n",
    "    print(askname)"
   ]
  },
  {
   "cell_type": "markdown",
   "id": "5e1648b9-b47c-4943-ba88-f421b7d4d236",
   "metadata": {},
   "source": [
    "# 036 Alter program 035 so that it will ask the user to enter their name and a number and then display their name that number of times."
   ]
  },
  {
   "cell_type": "code",
   "execution_count": 6,
   "id": "27dc4ced-ce53-422f-959c-77663e6ed97a",
   "metadata": {},
   "outputs": [
    {
     "name": "stdin",
     "output_type": "stream",
     "text": [
      "Please enter your name :  ronii\n",
      "Please enter a number :  6\n"
     ]
    },
    {
     "name": "stdout",
     "output_type": "stream",
     "text": [
      "ronii\n",
      "ronii\n",
      "ronii\n",
      "ronii\n",
      "ronii\n",
      "ronii\n"
     ]
    }
   ],
   "source": [
    "askname1 = input(\"Please enter your name : \")\n",
    "num1 = int(input(\"Please enter a number : \"))\n",
    "for n in range(num1) :\n",
    "    print(askname1)"
   ]
  },
  {
   "cell_type": "markdown",
   "id": "2cc3165c-2127-4dba-bbcb-92fc42db7346",
   "metadata": {},
   "source": [
    "# 037 Ask the user to enter their name and display each letter in their name on a separate line."
   ]
  },
  {
   "cell_type": "code",
   "execution_count": 7,
   "id": "f0fa4f18-1b38-4343-89c2-f9fb42c04a60",
   "metadata": {},
   "outputs": [
    {
     "name": "stdin",
     "output_type": "stream",
     "text": [
      "Please enter your name :  subhendu\n"
     ]
    },
    {
     "name": "stdout",
     "output_type": "stream",
     "text": [
      "s\n",
      "u\n",
      "b\n",
      "h\n",
      "e\n",
      "n\n",
      "d\n",
      "u\n"
     ]
    }
   ],
   "source": [
    "askname2 = input(\"Please enter your name : \")\n",
    "for ak in askname2 :\n",
    "    print(ak)"
   ]
  },
  {
   "cell_type": "markdown",
   "id": "7713a775-555d-4b06-b585-d480790730ba",
   "metadata": {},
   "source": [
    "# 038 Change program 037 to also ask for a number. Display their name (one letter at a time on each line) and repeat this for the number of times they entered."
   ]
  },
  {
   "cell_type": "code",
   "execution_count": 8,
   "id": "b907e9f7-f520-4a8f-b583-9fdebe19a86d",
   "metadata": {},
   "outputs": [
    {
     "name": "stdin",
     "output_type": "stream",
     "text": [
      "Please enter your name :  roy\n",
      "Please enter a number :  4\n"
     ]
    },
    {
     "name": "stdout",
     "output_type": "stream",
     "text": [
      "r\n",
      "o\n",
      "y\n",
      "r\n",
      "o\n",
      "y\n",
      "r\n",
      "o\n",
      "y\n",
      "r\n",
      "o\n",
      "y\n"
     ]
    }
   ],
   "source": [
    "askname3 = input(\"Please enter your name : \")\n",
    "num2 = int(input(\"Please enter a number : \"))\n",
    "for n in range(num2) :\n",
    "    for ak3 in askname3 :\n",
    "        print(ak3)"
   ]
  },
  {
   "cell_type": "markdown",
   "id": "8af4b53f-6d90-4e0c-8a2b-15ddfa24fa06",
   "metadata": {},
   "source": [
    "# 039 Ask the user to enter a number between 1 and 12 and then display the times table for that number."
   ]
  },
  {
   "cell_type": "code",
   "execution_count": 13,
   "id": "4a9c230d-a773-424b-b70e-36f579c205f6",
   "metadata": {},
   "outputs": [
    {
     "name": "stdin",
     "output_type": "stream",
     "text": [
      "Please enter a number between 1 - 12 :  2\n"
     ]
    },
    {
     "name": "stdout",
     "output_type": "stream",
     "text": [
      "2\n",
      "4\n",
      "6\n",
      "8\n",
      "10\n",
      "12\n",
      "14\n",
      "16\n",
      "18\n",
      "20\n",
      "22\n",
      "24\n"
     ]
    }
   ],
   "source": [
    "asknums1 = int(input(\"Please enter a number between 1 - 12 : \"))\n",
    "times13 = asknums1 * 12 + 1\n",
    "asknums2 = asknums1\n",
    "if asknums2 < times13 :\n",
    "    for t in range(12) :\n",
    "        print(asknums2)\n",
    "        asknums2 += asknums1"
   ]
  },
  {
   "cell_type": "markdown",
   "id": "561f776c-5461-4c17-9573-d880436f6800",
   "metadata": {},
   "source": [
    "# 040 Ask for a number below 50 and then count down from 50 to that number, making sure you show the number they entered in the output."
   ]
  },
  {
   "cell_type": "code",
   "execution_count": 16,
   "id": "80436f6f-69ac-426e-91bd-0bcc0637e0ce",
   "metadata": {},
   "outputs": [
    {
     "name": "stdin",
     "output_type": "stream",
     "text": [
      "Please enter a number below 50 :  10\n"
     ]
    },
    {
     "name": "stdout",
     "output_type": "stream",
     "text": [
      "10\n",
      "9\n",
      "8\n",
      "7\n",
      "6\n",
      "5\n",
      "4\n",
      "3\n",
      "2\n",
      "1\n"
     ]
    }
   ],
   "source": [
    "asknums2 = int(input(\"Please enter a number below 50 : \"))\n",
    "asknums3 = asknums2\n",
    "if asknums3 < 50 :\n",
    "    for nums in range(asknums2) :\n",
    "        print(asknums2)\n",
    "        asknums2 -= 1\n",
    "else :\n",
    "    print(\"PLEASE ENTER A NUMBER BELOW 50 ONLY !!!\")"
   ]
  },
  {
   "cell_type": "markdown",
   "id": "de5dea21-936f-4a89-859c-ae4cf225c568",
   "metadata": {},
   "source": [
    "# 041 Ask the user to enter their name and a number. If the number is less than 10, then display their name that number of times; otherwise display the message “Too high” three times."
   ]
  },
  {
   "cell_type": "code",
   "execution_count": 20,
   "id": "29687a6b-a91d-4f33-883a-df8091980726",
   "metadata": {},
   "outputs": [
    {
     "name": "stdin",
     "output_type": "stream",
     "text": [
      "Please enter your name :  roni\n",
      "Please enter a number :  10\n"
     ]
    },
    {
     "name": "stdout",
     "output_type": "stream",
     "text": [
      "Too High\n",
      "Too High\n",
      "Too High\n"
     ]
    }
   ],
   "source": [
    "nameask = input(\"Please enter your name : \")\n",
    "nmb = int(input(\"Please enter a number : \"))\n",
    "if nmb < 10 :\n",
    "    for nbm in range(nmb) :\n",
    "        print(nameask)\n",
    "else :\n",
    "    for th in range(3) :\n",
    "        print(\"Too High\")"
   ]
  },
  {
   "cell_type": "markdown",
   "id": "0f15524c-2347-45c3-8ec4-a6717460a556",
   "metadata": {},
   "source": [
    "# 042 Set a variable called total to 0. Ask the user to enter five numbers and after each input ask them if they want that number included. If they do, then add the number to the total. If they do not want it included, don’t add it to the total. After they have entered all five numbers, display the total."
   ]
  },
  {
   "cell_type": "code",
   "execution_count": 22,
   "id": "82c4487e-0f48-44a8-af77-da155a741a3f",
   "metadata": {},
   "outputs": [
    {
     "name": "stdin",
     "output_type": "stream",
     "text": [
      "Enter a number :  2\n",
      "Do you want it to include (y/n) :  y\n",
      "Enter a number :  3\n",
      "Do you want it to include (y/n) :  n\n",
      "Enter a number :  4\n",
      "Do you want it to include (y/n) :  y\n",
      "Enter a number :  5\n",
      "Do you want it to include (y/n) :  n\n",
      "Enter a number :  6\n",
      "Do you want it to include (y/n) :  y\n"
     ]
    },
    {
     "name": "stdout",
     "output_type": "stream",
     "text": [
      "12\n"
     ]
    }
   ],
   "source": [
    "number0 = 0\n",
    "number1ask = int(input(\"Enter 1st number : \"))\n",
    "ask1 = input(\"Do you want it to include (y/n) : \").upper()\n",
    "if ask1 == \"Y\" :\n",
    "    number0 += number1ask\n",
    "number2ask = int(input(\"Enter 2nd number : \"))\n",
    "ask2 = input(\"Do you want it to include (y/n) : \").upper()\n",
    "if ask2 == \"Y\" :\n",
    "    number0 += number2ask\n",
    "number3ask = int(input(\"Enter 3rd number : \"))\n",
    "ask3 = input(\"Do you want it to include (y/n) : \").upper()\n",
    "if ask3 == \"Y\" :\n",
    "    number0 += number3ask\n",
    "number4ask = int(input(\"Enter 4th number : \"))\n",
    "ask4 = input(\"Do you want it to include (y/n) : \").upper()\n",
    "if ask4 == \"Y\" :\n",
    "    number0 += number4ask\n",
    "number5ask = int(input(\"Enter 5th number : \"))\n",
    "ask4 = input(\"Do you want it to include (y/n) : \").upper()\n",
    "if ask4 == \"Y\" :\n",
    "    number0 += number5ask\n",
    "print(number0)"
   ]
  },
  {
   "cell_type": "markdown",
   "id": "0a1bac71-3af2-4822-a718-6921fc3e00ab",
   "metadata": {},
   "source": [
    "# 043 Ask which direction the user wants to count (up or down). If they select up, then ask them for the top number and then count from 1 to that number. If they select down, ask them to enter a number below 20 and then count down from 20 to that number. If they entered something other than up or down, display the message “I don’t understand”."
   ]
  },
  {
   "cell_type": "code",
   "execution_count": 30,
   "id": "e1d60d0a-4a17-4779-9c4b-aa4662005db9",
   "metadata": {},
   "outputs": [
    {
     "name": "stdin",
     "output_type": "stream",
     "text": [
      "Which direct you want to count (up/down) :  down\n",
      "Enter a number below 20 :  11\n"
     ]
    },
    {
     "name": "stdout",
     "output_type": "stream",
     "text": [
      "20\n",
      "19\n",
      "18\n",
      "17\n",
      "16\n",
      "15\n",
      "14\n",
      "13\n",
      "12\n",
      "11\n"
     ]
    }
   ],
   "source": [
    "askdirection = input(\"Which direct you want to count (up/down) : \").upper()\n",
    "up1 = 1\n",
    "dwn = 20\n",
    "if askdirection == \"UP\" :\n",
    "    asktopnum = int(input(\"Enter a top number : \"))\n",
    "    for upp in range(asktopnum) :\n",
    "        up1 < asktopnum\n",
    "        print(up1)\n",
    "        up1 += 1\n",
    "elif askdirection == \"DOWN\" :\n",
    "    askdownnum = int(input(\"Enter a number below 20 : \"))\n",
    "    countstop = 21 - askdownnum\n",
    "    for dd in range(countstop) :\n",
    "        dwn <= askdownnum\n",
    "        print(dwn)\n",
    "        dwn -= 1\n",
    "else :\n",
    "    print(\"I don't understand\")"
   ]
  },
  {
   "cell_type": "markdown",
   "id": "4f331a1c-f5de-4b5c-9449-e3e893b3aa85",
   "metadata": {},
   "source": [
    "# 044 Ask how many people the user wants to invite to a party. If they enter a number below 10, ask for the names and after each name display “[name] has been invited”. If they enter a number which is 10 or higher, display the message “Too many people”."
   ]
  },
  {
   "cell_type": "code",
   "execution_count": 32,
   "id": "eeed9607-9c16-4d66-a909-03d40268e74b",
   "metadata": {},
   "outputs": [
    {
     "name": "stdin",
     "output_type": "stream",
     "text": [
      "How many people you want to invite to a party :  4\n",
      "Enter a name you want to invite to the party :  subham\n"
     ]
    },
    {
     "name": "stdout",
     "output_type": "stream",
     "text": [
      "subham has been invited\n"
     ]
    },
    {
     "name": "stdin",
     "output_type": "stream",
     "text": [
      "Enter a name you want to invite to the party :  ronii\n"
     ]
    },
    {
     "name": "stdout",
     "output_type": "stream",
     "text": [
      "ronii has been invited\n"
     ]
    },
    {
     "name": "stdin",
     "output_type": "stream",
     "text": [
      "Enter a name you want to invite to the party :  tony\n"
     ]
    },
    {
     "name": "stdout",
     "output_type": "stream",
     "text": [
      "tony has been invited\n"
     ]
    },
    {
     "name": "stdin",
     "output_type": "stream",
     "text": [
      "Enter a name you want to invite to the party :  suresh\n"
     ]
    },
    {
     "name": "stdout",
     "output_type": "stream",
     "text": [
      "suresh has been invited\n"
     ]
    }
   ],
   "source": [
    "invitename = int(input(\"How many people you want to invite to a party : \"))\n",
    "if invitename < 10 :\n",
    "    for inname in range(invitename) :\n",
    "        asknames = input(\"Enter a name you want to invite to the party : \")\n",
    "        print(f\"{asknames} has been invited\")\n",
    "else :\n",
    "    print(\"Too many people\")"
   ]
  },
  {
   "cell_type": "code",
   "execution_count": null,
   "id": "e130ba9b-ac77-498d-83ea-a5b1babd2e8f",
   "metadata": {},
   "outputs": [],
   "source": []
  }
 ],
 "metadata": {
  "kernelspec": {
   "display_name": "Python 3 (ipykernel)",
   "language": "python",
   "name": "python3"
  },
  "language_info": {
   "codemirror_mode": {
    "name": "ipython",
    "version": 3
   },
   "file_extension": ".py",
   "mimetype": "text/x-python",
   "name": "python",
   "nbconvert_exporter": "python",
   "pygments_lexer": "ipython3",
   "version": "3.11.7"
  }
 },
 "nbformat": 4,
 "nbformat_minor": 5
}
