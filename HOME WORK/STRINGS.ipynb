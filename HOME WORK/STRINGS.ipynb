{
 "cells": [
  {
   "cell_type": "markdown",
   "id": "39b4adce-2a1b-420c-9993-e21ec1cfa838",
   "metadata": {},
   "source": [
    "# 020 Ask the user to enter their first name and then display the length of their name."
   ]
  },
  {
   "cell_type": "code",
   "execution_count": 1,
   "id": "75bfe8c8-e981-402c-aca2-2b0a8a62c8e2",
   "metadata": {},
   "outputs": [
    {
     "name": "stdin",
     "output_type": "stream",
     "text": [
      "Please enter your first name :  subham\n"
     ]
    },
    {
     "name": "stdout",
     "output_type": "stream",
     "text": [
      "6\n"
     ]
    }
   ],
   "source": [
    "fname = input(\"Please enter your first name : \")\n",
    "print(len(fname))"
   ]
  },
  {
   "cell_type": "markdown",
   "id": "22944b98-5234-4df3-9fab-05eb2904ee06",
   "metadata": {},
   "source": [
    "# 021 Ask the user to enter their first name and then ask them to enter their surname. Join them together with a space between and display the name and the length of whole name."
   ]
  },
  {
   "cell_type": "code",
   "execution_count": 2,
   "id": "01d8cc08-d8c2-4864-95e8-4f279f6e5fb3",
   "metadata": {},
   "outputs": [
    {
     "name": "stdin",
     "output_type": "stream",
     "text": [
      "Please enter your first name :  subham\n",
      "Please enter your surname :  rout\n"
     ]
    },
    {
     "name": "stdout",
     "output_type": "stream",
     "text": [
      "subham rout\n",
      "10\n"
     ]
    }
   ],
   "source": [
    "fname1 = input(\"Please enter your first name : \")\n",
    "sname = input(\"Please enter your surname : \")\n",
    "print(fname,sname)\n",
    "lname = fname+sname\n",
    "print(len(lname))\n"
   ]
  },
  {
   "cell_type": "markdown",
   "id": "4babb009-02d2-48cf-8099-398cb12fee16",
   "metadata": {},
   "source": [
    "# 022 Ask the user to enter their first name and surname in lower case. Change the case to title case and join them together. Display the finished result."
   ]
  },
  {
   "cell_type": "code",
   "execution_count": 6,
   "id": "7d306116-4a82-4ddb-9266-b1caca1e9793",
   "metadata": {},
   "outputs": [
    {
     "name": "stdin",
     "output_type": "stream",
     "text": [
      "Please enter your first name :  subhendu\n",
      "Please enter your surname :  rout\n"
     ]
    },
    {
     "name": "stdout",
     "output_type": "stream",
     "text": [
      "Subhendu Rout\n"
     ]
    }
   ],
   "source": [
    "fname2 = input(\"Please enter your first name : \")\n",
    "sname1 = input(\"Please enter your surname : \")\n",
    "print(fname2.title(),sname1.title())"
   ]
  },
  {
   "cell_type": "markdown",
   "id": "787ce5ca-5e66-4d3b-ba52-b0319da060be",
   "metadata": {},
   "source": [
    "# 023 Ask the user to type in the first line of a nursery rhyme and display the length of the string. Ask for a starting number and an ending number and then display just that section of the text (remember Python starts counting from 0 and not 1)."
   ]
  },
  {
   "cell_type": "code",
   "execution_count": 9,
   "id": "69ab9c1f-d01f-4bef-ae17-b16a234fd8a5",
   "metadata": {},
   "outputs": [
    {
     "name": "stdin",
     "output_type": "stream",
     "text": [
      "Please type first line of a nursery rhyme you know :  Humpty Dumpty sat on a wall\n"
     ]
    },
    {
     "name": "stdout",
     "output_type": "stream",
     "text": [
      "27\n"
     ]
    },
    {
     "name": "stdin",
     "output_type": "stream",
     "text": [
      "Please enter a number from 0 to 30 :  2\n",
      "Please enter a number from 31 to 61 :  26\n"
     ]
    },
    {
     "name": "stdout",
     "output_type": "stream",
     "text": [
      "mpty Dumpty sat on a wal\n"
     ]
    }
   ],
   "source": [
    "nrhyme = input(\"Please type first line of a nursery rhyme you know : \")\n",
    "print(len(nrhyme))\n",
    "snum = int(input(\"Please enter a number from 0 to 30 : \"))\n",
    "enum = int(input(\"Please enter a number from 31 to 61 : \"))\n",
    "print(nrhyme[snum:enum])"
   ]
  },
  {
   "cell_type": "markdown",
   "id": "e1c1f8e3-01c5-464b-9e1b-d411d84ee32d",
   "metadata": {},
   "source": [
    "# 024 Ask the user to type in any word and display it in upper case."
   ]
  },
  {
   "cell_type": "code",
   "execution_count": 10,
   "id": "8aa62a7d-7715-4c0f-a43c-5a1f8c4a3a80",
   "metadata": {},
   "outputs": [
    {
     "name": "stdin",
     "output_type": "stream",
     "text": [
      "Enter any word apple\n"
     ]
    },
    {
     "name": "stdout",
     "output_type": "stream",
     "text": [
      "APPLE\n"
     ]
    }
   ],
   "source": [
    "tword = input(\"Enter any word\")\n",
    "print(tword.upper())"
   ]
  },
  {
   "cell_type": "markdown",
   "id": "8db370ed-8e06-4b57-9a46-aeac99c158ac",
   "metadata": {},
   "source": [
    "# 025 Ask the user to enter their first name. If the length of their first name is under five characters, ask them to enter their surname and join them together (without a space) and display the name in upper case. If the length of the first name is five or more characters, display their first name in lower case."
   ]
  },
  {
   "cell_type": "code",
   "execution_count": 12,
   "id": "9ad1edc0-a4af-438c-9965-a8c10c498c8f",
   "metadata": {},
   "outputs": [
    {
     "name": "stdin",
     "output_type": "stream",
     "text": [
      "Please enter your first name :  rony\n",
      "Please enter your surname :  camiin\n"
     ]
    },
    {
     "name": "stdout",
     "output_type": "stream",
     "text": [
      "RONY CAMIIN\n"
     ]
    }
   ],
   "source": [
    "afname = input(\"Please enter your first name : \")\n",
    "if len(afname) < 5 :\n",
    "    asname = input(\"Please enter your surname : \")\n",
    "    print(afname.upper(),asname.upper())\n",
    "else :\n",
    "    print(afname.lower())"
   ]
  },
  {
   "cell_type": "markdown",
   "id": "212d02a7-3ef8-4c4e-910b-0a6f2c33fd88",
   "metadata": {},
   "source": [
    "# 026 Pig Latin takes the first consonant of a word, moves it to the end of the word and adds on an “ay”. If a word begins with a vowel you just add “way” to the end. For example, pig becomes igpay, banana becomes ananabay, and aadvark becomes aadvarkway. Create a program that will ask the user to enter a word and change it into Pig Latin. Make sure the new word is displayed in lower case."
   ]
  },
  {
   "cell_type": "code",
   "execution_count": 1,
   "id": "32ab8bc6-b16e-4385-a42c-aea297e02346",
   "metadata": {},
   "outputs": [
    {
     "name": "stdin",
     "output_type": "stream",
     "text": [
      "Please enter a word :  apple\n"
     ]
    },
    {
     "name": "stdout",
     "output_type": "stream",
     "text": [
      "appleway\n"
     ]
    }
   ],
   "source": [
    "aword = input(\"Please enter a word : \").lower()\n",
    "vowel = (\"a\", \"e\", \"i\", \"o\", \"u\")\n",
    "if aword[0] not in vowel :\n",
    "    print(aword[1:]+aword[0]+\"ay\")\n",
    "else :\n",
    "    print(aword+\"way\")"
   ]
  },
  {
   "cell_type": "code",
   "execution_count": null,
   "id": "a669d1d9-b10b-4426-a8d4-e296519927aa",
   "metadata": {},
   "outputs": [],
   "source": []
  }
 ],
 "metadata": {
  "kernelspec": {
   "display_name": "Python 3 (ipykernel)",
   "language": "python",
   "name": "python3"
  },
  "language_info": {
   "codemirror_mode": {
    "name": "ipython",
    "version": 3
   },
   "file_extension": ".py",
   "mimetype": "text/x-python",
   "name": "python",
   "nbconvert_exporter": "python",
   "pygments_lexer": "ipython3",
   "version": "3.11.7"
  }
 },
 "nbformat": 4,
 "nbformat_minor": 5
}
