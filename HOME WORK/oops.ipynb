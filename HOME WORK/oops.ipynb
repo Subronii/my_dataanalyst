{
 "cells": [
  {
   "cell_type": "markdown",
   "id": "1d00b388-d435-43e9-b8f5-cc636de89034",
   "metadata": {},
   "source": [
    "# Write a Python program to create a class representing a Circle. Include methods to calculate its area and perimeter."
   ]
  },
  {
   "cell_type": "code",
   "execution_count": 2,
   "id": "75cd564f-cfb1-4a0f-a0fe-24e586bc5903",
   "metadata": {},
   "outputs": [],
   "source": [
    "import math"
   ]
  },
  {
   "cell_type": "code",
   "execution_count": 8,
   "id": "1479584f-cb97-4838-af38-f34d72994136",
   "metadata": {},
   "outputs": [
    {
     "name": "stdin",
     "output_type": "stream",
     "text": [
      "Please enter the Radius of the Circle:  25\n"
     ]
    },
    {
     "name": "stdout",
     "output_type": "stream",
     "text": [
      "The Area of Circle is 1963.4954084936207\n",
      "The Perimeter of Circle is 157.07963267948966\n"
     ]
    }
   ],
   "source": [
    "class Circle_AP:\n",
    "    def __init__(self,radius):\n",
    "        self.radius = radius\n",
    "\n",
    "    def Ans_AP(self):\n",
    "        areac = math.pi * self.radius ** 2\n",
    "        perimeterc = 2 * math.pi * self.radius\n",
    "        print(f\"The Area of Circle is {areac}\")\n",
    "        print(f\"The Perimeter of Circle is {perimeterc}\")\n",
    "        \n",
    "radius = float(input(\"Please enter the Radius of the Circle: \"))\n",
    "userinput = Circle_AP(radius)\n",
    "userinput.Ans_AP()"
   ]
  },
  {
   "cell_type": "markdown",
   "id": "d25c3bb2-0721-4116-be94-872882530b99",
   "metadata": {},
   "source": [
    "# Write a Python program to create a person class. Include attributes like name, country and date of birth. Implement a method to determine the person's age"
   ]
  },
  {
   "cell_type": "code",
   "execution_count": 1,
   "id": "48859ead-e027-485b-b550-ec8db6b2dacb",
   "metadata": {},
   "outputs": [],
   "source": [
    "import datetime"
   ]
  },
  {
   "cell_type": "code",
   "execution_count": 8,
   "id": "b7ecc203-d3ca-403f-b4e1-b238f54a8466",
   "metadata": {},
   "outputs": [
    {
     "name": "stdin",
     "output_type": "stream",
     "text": [
      "Enter your name :  subham\n",
      "Enter your County name :  rout\n",
      "Enter your Date-of-Birth (DD-MM-YYYY):  30-07-1996\n"
     ]
    },
    {
     "ename": "AttributeError",
     "evalue": "module 'datetime' has no attribute 'striptime'",
     "output_type": "error",
     "traceback": [
      "\u001b[1;31m---------------------------------------------------------------------------\u001b[0m",
      "\u001b[1;31mAttributeError\u001b[0m                            Traceback (most recent call last)",
      "Cell \u001b[1;32mIn[8], line 14\u001b[0m\n\u001b[0;32m     12\u001b[0m ucountry \u001b[38;5;241m=\u001b[39m \u001b[38;5;28minput\u001b[39m(\u001b[38;5;124m\"\u001b[39m\u001b[38;5;124mEnter your County name : \u001b[39m\u001b[38;5;124m\"\u001b[39m)\u001b[38;5;241m.\u001b[39mupper()\n\u001b[0;32m     13\u001b[0m udob \u001b[38;5;241m=\u001b[39m \u001b[38;5;28minput\u001b[39m(\u001b[38;5;124m\"\u001b[39m\u001b[38;5;124mEnter your Date-of-Birth (DD-MM-YYYY): \u001b[39m\u001b[38;5;124m\"\u001b[39m)\n\u001b[1;32m---> 14\u001b[0m printing \u001b[38;5;241m=\u001b[39m Person(uname,ucountry,udob)\n\u001b[0;32m     15\u001b[0m printing\u001b[38;5;241m.\u001b[39mshows()\n",
      "Cell \u001b[1;32mIn[8], line 5\u001b[0m, in \u001b[0;36mPerson.__init__\u001b[1;34m(self, name, country, dob)\u001b[0m\n\u001b[0;32m      3\u001b[0m \u001b[38;5;28mself\u001b[39m\u001b[38;5;241m.\u001b[39mname \u001b[38;5;241m=\u001b[39m name\n\u001b[0;32m      4\u001b[0m \u001b[38;5;28mself\u001b[39m\u001b[38;5;241m.\u001b[39mcountry \u001b[38;5;241m=\u001b[39m country\n\u001b[1;32m----> 5\u001b[0m \u001b[38;5;28mself\u001b[39m\u001b[38;5;241m.\u001b[39mdob \u001b[38;5;241m=\u001b[39m datetime\u001b[38;5;241m.\u001b[39mstriptime(dob,\u001b[38;5;124m\"\u001b[39m\u001b[38;5;132;01m%d\u001b[39;00m\u001b[38;5;124m%\u001b[39m\u001b[38;5;124mm\u001b[39m\u001b[38;5;124m%\u001b[39m\u001b[38;5;124mY\u001b[39m\u001b[38;5;124m\"\u001b[39m)\n",
      "\u001b[1;31mAttributeError\u001b[0m: module 'datetime' has no attribute 'striptime'"
     ]
    }
   ],
   "source": [
    "class Person:\n",
    "    def __init__(self,name,country,dob):\n",
    "        self.name = name\n",
    "        self.country = country\n",
    "        self.dob = datetime.striptime(dob,\"%d%m%Y\")\n",
    "    def shows(self):\n",
    "        today = datetime.today()\n",
    "        age = today.year - self.dob.year\n",
    "        print(f\"Your Name is {self.name}\")\n",
    "        print(f\"Your are from {self.country}\")\n",
    "uname = input(\"Enter your name : \").upper()\n",
    "ucountry = input(\"Enter your County name : \").upper()\n",
    "udob = input(\"Enter your Date-of-Birth (DD-MM-YYYY): \")\n",
    "printing = Person(uname,ucountry,udob)\n",
    "printing.shows()"
   ]
  },
  {
   "cell_type": "code",
   "execution_count": null,
   "id": "eed698a4-337f-47ff-9d06-2959d15881b8",
   "metadata": {},
   "outputs": [],
   "source": []
  }
 ],
 "metadata": {
  "kernelspec": {
   "display_name": "Python 3 (ipykernel)",
   "language": "python",
   "name": "python3"
  },
  "language_info": {
   "codemirror_mode": {
    "name": "ipython",
    "version": 3
   },
   "file_extension": ".py",
   "mimetype": "text/x-python",
   "name": "python",
   "nbconvert_exporter": "python",
   "pygments_lexer": "ipython3",
   "version": "3.11.7"
  }
 },
 "nbformat": 4,
 "nbformat_minor": 5
}
