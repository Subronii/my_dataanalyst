{
 "cells": [
  {
   "cell_type": "markdown",
   "id": "a60898cb-87b1-44f4-9f27-d95eb7bb2d95",
   "metadata": {},
   "source": [
    "# 080 Ask the user to enter their first name and then display the length of their first name. Then ask for their surname and display the length of their surname. Join their first name and surname together with a space between and display the result. Finally, display the length of their full name (including the space)."
   ]
  },
  {
   "cell_type": "code",
   "execution_count": 1,
   "id": "437f9682-8249-4563-a689-9dadd1cd8a7f",
   "metadata": {},
   "outputs": [
    {
     "name": "stdin",
     "output_type": "stream",
     "text": [
      "Please enter your first name :  amitabh\n"
     ]
    },
    {
     "name": "stdout",
     "output_type": "stream",
     "text": [
      "7\n"
     ]
    },
    {
     "name": "stdin",
     "output_type": "stream",
     "text": [
      "Please enter your surname :  bachan\n"
     ]
    },
    {
     "name": "stdout",
     "output_type": "stream",
     "text": [
      "6\n",
      "amitabh bachan\n",
      "14\n"
     ]
    }
   ],
   "source": [
    "fname = input(\"Please enter your first name : \")\n",
    "print(len(fname))\n",
    "sname = input(\"Please enter your surname : \")\n",
    "print(len(sname))\n",
    "flname = fname+\" \"+sname\n",
    "print(flname)\n",
    "print(len(flname))"
   ]
  },
  {
   "cell_type": "markdown",
   "id": "9d741b1d-5a0d-4614-889f-451627dfc8a6",
   "metadata": {},
   "source": [
    "# 081 Ask the user to type in their favourite school subject. Display it with “-” after each letter, e.g. S-p-a-n-i-s-h-."
   ]
  },
  {
   "cell_type": "code",
   "execution_count": 4,
   "id": "1d22657b-5f3d-4ce6-8f14-93893ec7ff5d",
   "metadata": {},
   "outputs": [
    {
     "name": "stdin",
     "output_type": "stream",
     "text": [
      "Please enter your favourite subject :  hindi\n"
     ]
    },
    {
     "name": "stdout",
     "output_type": "stream",
     "text": [
      "h-i-n-d-i\n"
     ]
    }
   ],
   "source": [
    "fsubject = input(\"Please enter your favourite subject : \")\n",
    "print(\"-\".join(fsubject))"
   ]
  },
  {
   "cell_type": "markdown",
   "id": "60ef1fff-a16e-434f-a27b-c13d6e19e9d6",
   "metadata": {},
   "source": [
    "# 082 Show the user a line of text from your favourite poem and ask for a starting and ending point. Display the characters between those two points."
   ]
  },
  {
   "cell_type": "code",
   "execution_count": 4,
   "id": "50bd891d-a3de-48d9-aec9-817a8624d3d5",
   "metadata": {},
   "outputs": [
    {
     "name": "stdout",
     "output_type": "stream",
     "text": [
      "Two roads diverged in a wood, and I – I took the road less traveled by\n"
     ]
    },
    {
     "name": "stdin",
     "output_type": "stream",
     "text": [
      "Please enter a word from starting :  in\n",
      "Please enter a word ending :  road\n"
     ]
    },
    {
     "name": "stdout",
     "output_type": "stream",
     "text": [
      "The characters between those two words is 30\n"
     ]
    }
   ],
   "source": [
    "p4 = \"Two roads diverged in a wood, and I – I took the road less traveled by\"\n",
    "print(p4)\n",
    "sp = input(\"Please enter a word from starting : \")\n",
    "ep = input(\"Please enter a word ending : \")\n",
    "fsp = p4.find(sp)\n",
    "fep = p4.rfind(ep)\n",
    "tc = len(p4[fsp:fep])\n",
    "print(f\"The characters between those two words is {tc}\")"
   ]
  },
  {
   "cell_type": "markdown",
   "id": "0a8221d6-303b-4392-86bc-5f103a8ea40e",
   "metadata": {},
   "source": [
    "# 083 Ask the user to type in a word in upper case. If they type it in lower case, ask them to try again. Keep repeating this until they type in a message all in uppercase."
   ]
  },
  {
   "cell_type": "code",
   "execution_count": 3,
   "id": "cb03e1bb-6d09-4d06-a24b-37886ada799e",
   "metadata": {
    "scrolled": true
   },
   "outputs": [
    {
     "name": "stdin",
     "output_type": "stream",
     "text": [
      "Please type a word in capital letters : subham\n"
     ]
    },
    {
     "name": "stdout",
     "output_type": "stream",
     "text": [
      "PLEASE TYPE WORD IN CAPITAL LETTERS ONLY !!! \n"
     ]
    },
    {
     "name": "stdin",
     "output_type": "stream",
     "text": [
      "Please type a word in capital letters : rout\n"
     ]
    },
    {
     "name": "stdout",
     "output_type": "stream",
     "text": [
      "PLEASE TYPE WORD IN CAPITAL LETTERS ONLY !!! \n"
     ]
    },
    {
     "name": "stdin",
     "output_type": "stream",
     "text": [
      "Please type a word in capital letters : RONII\n"
     ]
    },
    {
     "name": "stdout",
     "output_type": "stream",
     "text": [
      "RONII\n"
     ]
    }
   ],
   "source": [
    "upperword = input(\"Please type a word in capital letters :\")\n",
    "checkupper = upperword.isupper()\n",
    "while checkupper is False :\n",
    "    print(\"PLEASE TYPE WORD IN CAPITAL LETTERS ONLY !!! \")\n",
    "    upperword = input(\"Please type a word in capital letters :\")\n",
    "    checkupper = upperword.isupper()\n",
    "else :\n",
    "    print(upperword)"
   ]
  },
  {
   "cell_type": "markdown",
   "id": "4054d1a8-eea0-4953-a965-62426c5535c8",
   "metadata": {},
   "source": []
  },
  {
   "cell_type": "markdown",
   "id": "081807d1-1f7e-4f16-beb0-34d9e68248c1",
   "metadata": {},
   "source": [
    "# 084 Ask the user to type in their postcode. Display the first two letters in uppercase."
   ]
  },
  {
   "cell_type": "code",
   "execution_count": 5,
   "id": "d1c31b1a-d206-4327-ab2b-585d1febf261",
   "metadata": {},
   "outputs": [
    {
     "name": "stdin",
     "output_type": "stream",
     "text": [
      "Please enter your postcode :  qw776ttg\n"
     ]
    },
    {
     "name": "stdout",
     "output_type": "stream",
     "text": [
      "QW76ttg\n"
     ]
    }
   ],
   "source": [
    "pcode = input(\"Please enter your postcode : \")\n",
    "ucode = pcode[0:2]\n",
    "lcode = pcode[3:]\n",
    "print(ucode.upper()+lcode)"
   ]
  },
  {
   "cell_type": "markdown",
   "id": "291f2f3a-c066-4824-9235-f841d38d430a",
   "metadata": {},
   "source": [
    "# 085 Ask the user to type in their name and then tell them how many vowels are in their name."
   ]
  },
  {
   "cell_type": "code",
   "execution_count": 18,
   "id": "c8936edc-3221-4632-b863-812bcb4cea45",
   "metadata": {},
   "outputs": [
    {
     "name": "stdin",
     "output_type": "stream",
     "text": [
      "Please enter your name :  subham rout\n"
     ]
    },
    {
     "name": "stdout",
     "output_type": "stream",
     "text": [
      "In your name you have 4 vowels\n"
     ]
    }
   ],
   "source": [
    "askname = input(\"Please enter your name : \").upper()\n",
    "A = askname.count(\"A\")\n",
    "E = askname.count(\"E\")\n",
    "I = askname.count(\"I\")\n",
    "O = askname.count(\"O\")\n",
    "U = askname.count(\"U\")\n",
    "tvowels = A+E+I+O+U\n",
    "print(f\"In your name you have {tvowels} vowels\")"
   ]
  },
  {
   "cell_type": "markdown",
   "id": "3b28cac5-498a-4628-8a7e-0b7da6af4444",
   "metadata": {},
   "source": [
    "# 086 Ask the user to enter a new password. Ask them to enter it again. If the two passwords match, display “Thank you”. If the letters are correct but in the wrong case, display the message “They must be in the same case”, otherwise display the message “Incorrect”. @@@@"
   ]
  },
  {
   "cell_type": "code",
   "execution_count": 23,
   "id": "bd4524eb-2322-4c54-90f2-8e4d0580c50f",
   "metadata": {},
   "outputs": [
    {
     "name": "stdin",
     "output_type": "stream",
     "text": [
      "Please enter a new password :  subham\n",
      "Enter password again :  SUBHAM\n"
     ]
    },
    {
     "name": "stdout",
     "output_type": "stream",
     "text": [
      "Both password must be in the same case\n"
     ]
    }
   ],
   "source": [
    "epass = input(\"Please enter a new password : \")\n",
    "cpass = input(\"Enter password again : \")\n",
    "if epass == cpass :\n",
    "    print(\"Thank you\")\n",
    "elif epass.upper() == cpass.upper() or epass.lower() == cpass.lower() :\n",
    "    print(\"Both password must be in the same case\")\n",
    "else :\n",
    "    print(\"Incorrect\")"
   ]
  },
  {
   "cell_type": "markdown",
   "id": "f4569959-c5aa-41a0-bbe8-89bdadd7c962",
   "metadata": {},
   "source": [
    "# 087 Ask the user to type in a word and then display it backwards on separate lines."
   ]
  },
  {
   "cell_type": "code",
   "execution_count": 14,
   "id": "676f24f7-be14-4836-8381-66d5331040f4",
   "metadata": {},
   "outputs": [
    {
     "name": "stdin",
     "output_type": "stream",
     "text": [
      "Please enter a word :  subham\n"
     ]
    },
    {
     "name": "stdout",
     "output_type": "stream",
     "text": [
      "m\n",
      "a\n",
      "h\n",
      "b\n",
      "u\n",
      "s\n"
     ]
    }
   ],
   "source": [
    "enterword = input(\"Please enter a word : \")\n",
    "reverseword = enterword[::-1]\n",
    "for r in reverseword :\n",
    "    print(r)"
   ]
  },
  {
   "cell_type": "code",
   "execution_count": 10,
   "id": "0263a4aa-c042-4adb-b8e8-b49dcf584901",
   "metadata": {},
   "outputs": [
    {
     "name": "stdin",
     "output_type": "stream",
     "text": [
      "Enter a Word:  subham\n"
     ]
    },
    {
     "name": "stdout",
     "output_type": "stream",
     "text": [
      "m\n",
      "a\n",
      "h\n",
      "b\n",
      "u\n",
      "s\n"
     ]
    }
   ],
   "source": [
    "word = input(\"Enter a Word: \")\n",
    "length = len(word)\n",
    "num = 1\n",
    "for x in word:\n",
    "    position = length - num\n",
    "    letter = word[position]\n",
    "    print(letter)\n",
    "    num = num + 1"
   ]
  },
  {
   "cell_type": "code",
   "execution_count": null,
   "id": "de2a326f-35c5-4c92-9deb-cf99ef515ee7",
   "metadata": {},
   "outputs": [],
   "source": []
  }
 ],
 "metadata": {
  "kernelspec": {
   "display_name": "Python 3 (ipykernel)",
   "language": "python",
   "name": "python3"
  },
  "language_info": {
   "codemirror_mode": {
    "name": "ipython",
    "version": 3
   },
   "file_extension": ".py",
   "mimetype": "text/x-python",
   "name": "python",
   "nbconvert_exporter": "python",
   "pygments_lexer": "ipython3",
   "version": "3.11.7"
  }
 },
 "nbformat": 4,
 "nbformat_minor": 5
}
