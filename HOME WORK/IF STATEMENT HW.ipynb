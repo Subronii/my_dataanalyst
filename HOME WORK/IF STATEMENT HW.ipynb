{
 "cells": [
  {
   "cell_type": "markdown",
   "id": "1b4607a1-0442-4149-ba54-1f461139607b",
   "metadata": {},
   "source": [
    "# 012 Ask for two numbers. If the first one is larger than the second, display the second number first and then the first number, otherwise show the first number first and then the second."
   ]
  },
  {
   "cell_type": "code",
   "execution_count": 5,
   "id": "7c7570d3-46cd-4281-90d9-b83f3ed39b6a",
   "metadata": {},
   "outputs": [
    {
     "name": "stdin",
     "output_type": "stream",
     "text": [
      "Enter a number :  5\n",
      "Enter a number :  2\n"
     ]
    },
    {
     "name": "stdout",
     "output_type": "stream",
     "text": [
      "2\n",
      "5\n"
     ]
    }
   ],
   "source": [
    "asl_num1 = int(input(\"Enter a number : \"))\n",
    "asl_num2 = int(input(\"Enter a number : \"))\n",
    "if asl_num1 > asl_num2 :\n",
    "    print(asl_num2)\n",
    "    print(asl_num1)\n",
    "else :\n",
    "    print(asl_num1)\n",
    "    print(asl_num2)"
   ]
  },
  {
   "cell_type": "markdown",
   "id": "cf001561-bb76-4f7d-8a31-8a6fd0befcfe",
   "metadata": {},
   "source": [
    "# 013 Ask the user to enter a number that is under 20. If they enter a number that is 20 or more, display the message “Too high”, otherwise display “Thank you”."
   ]
  },
  {
   "cell_type": "code",
   "execution_count": 9,
   "id": "7606f964-2442-4fa2-b7da-d1cb1adb4a8a",
   "metadata": {},
   "outputs": [
    {
     "name": "stdin",
     "output_type": "stream",
     "text": [
      "Enter a number under 20 :  34\n"
     ]
    },
    {
     "name": "stdout",
     "output_type": "stream",
     "text": [
      "Too high\n"
     ]
    }
   ],
   "source": [
    "ask20 = int(input(\"Enter a number under 20 : \"))\n",
    "if ask20 > 20 :\n",
    "    print(\"Too high\")\n",
    "else :\n",
    "    print(\"Thank you\")"
   ]
  },
  {
   "cell_type": "markdown",
   "id": "0bf3c091-4987-4c9e-b9c8-f3135debb5bd",
   "metadata": {},
   "source": [
    "# 014 Ask the user to enter a number between 10 and 20 (inclusive). If they enter a number within this range, display the message “Thank you”, otherwise display the message “Incorrect answer”. "
   ]
  },
  {
   "cell_type": "code",
   "execution_count": 3,
   "id": "67a6f96f-108c-4b1e-90b8-2ab4a5a1e42c",
   "metadata": {},
   "outputs": [
    {
     "name": "stdin",
     "output_type": "stream",
     "text": [
      "Enter a number between 10-20 :  21\n"
     ]
    },
    {
     "name": "stdout",
     "output_type": "stream",
     "text": [
      "Incorrect answer\n"
     ]
    }
   ],
   "source": [
    "ask1020 = int(input(\"Enter a number between 10-20 : \"))\n",
    "if ask1020 > 10 :\n",
    "    if ask1020 < 20 :\n",
    "        print(\"Thank You\")\n",
    "    else :\n",
    "        print(\"Incorrect answer\")\n",
    "else :\n",
    "        print(\"Incorrect answer\")"
   ]
  },
  {
   "cell_type": "markdown",
   "id": "baf559f7-3e90-43e1-bba3-3637369df94f",
   "metadata": {},
   "source": [
    "# 015 Ask the user to enter their favourite colour. If they enter “red”, “RED” or “Red” display the message “I like red too”, otherwise display the message “I don’t like [colour], I prefer red”."
   ]
  },
  {
   "cell_type": "code",
   "execution_count": 30,
   "id": "ab843904-4617-4274-ba4b-c2a75c7b76ea",
   "metadata": {},
   "outputs": [
    {
     "name": "stdin",
     "output_type": "stream",
     "text": [
      "Enter your favourite colour :  Red\n"
     ]
    },
    {
     "name": "stdout",
     "output_type": "stream",
     "text": [
      "I like red too\n"
     ]
    }
   ],
   "source": [
    "askcolor = input(\"Enter your favourite colour : \")\n",
    "ac = askcolor.upper()\n",
    "if ac == \"RED\" :\n",
    "    print(\"I like red too\")\n",
    "else :\n",
    "    print(\"I don't like\", askcolor, \"I prefer red\")"
   ]
  },
  {
   "cell_type": "markdown",
   "id": "86b1a630-6d44-4ee7-b181-4f977b6ae289",
   "metadata": {},
   "source": [
    "# 016 Ask the user if it is raining and convert their answer to lower case so it doesn’t matter what case they type it in. If they answer “yes”, ask if it is windy. If they answer “yes” to this second question, display the answer “It is too windy for an umbrella”, otherwise display the message “Take an umbrella”. If they did not answer yes to the first question, display the answer “Enjoy your day”."
   ]
  },
  {
   "cell_type": "code",
   "execution_count": 19,
   "id": "2068c076-5c15-4b43-9aed-b1b009c6d9ed",
   "metadata": {},
   "outputs": [
    {
     "name": "stdin",
     "output_type": "stream",
     "text": [
      "Is it raining outside ? (Yes/No) :  yes\n",
      "Is it windy outside ? (Yes/No) :  yes\n"
     ]
    },
    {
     "name": "stdout",
     "output_type": "stream",
     "text": [
      "It is too windy for an umbrella\n"
     ]
    }
   ],
   "source": [
    "askrain = input(\"Is it raining outside ? (Yes/No) : \" )\n",
    "askrain = askrain.lower()\n",
    "if askrain == \"yes\" :\n",
    "    askwind = input(\"Is it windy outside ? (Yes/No) : \")\n",
    "    askwind = askwind.lower()\n",
    "    if askwind == \"yes\" :\n",
    "        print(\"It is too windy for an umbrella\")\n",
    "    else :\n",
    "        print(\"Take an umbrella\")\n",
    "else :\n",
    "    print(\"Enjoy your day\")"
   ]
  },
  {
   "cell_type": "markdown",
   "id": "a23a749e-719a-4ee2-b69f-6e96c22f95e3",
   "metadata": {},
   "source": [
    "# 017 Ask the user’s age. If they are 18 or over, display the message “You can vote”, if they are aged 17, display the message “You can learn to drive”, if they are 16, display the message “You can buy a lottery ticket”, if they are under 16, display the message “You can go Trick-or-Treating”"
   ]
  },
  {
   "cell_type": "code",
   "execution_count": 35,
   "id": "a0ade955-9586-4d07-81ba-201aa810a386",
   "metadata": {},
   "outputs": [
    {
     "name": "stdin",
     "output_type": "stream",
     "text": [
      "Enter your age :  19\n"
     ]
    },
    {
     "name": "stdout",
     "output_type": "stream",
     "text": [
      "You can vote\n"
     ]
    }
   ],
   "source": [
    "askage = int(input(\"Enter your age : \"))\n",
    "if askage >= 18 :\n",
    "    print(\"You can vote\")\n",
    "if askage == 17 :\n",
    "    print(\"You can learn to drive\")\n",
    "if askage == 16 :\n",
    "    print(\"You can buy a lottery ticket\")\n",
    "if askage < 16 :\n",
    "    print(\"You can go Trick-or-Treating\")"
   ]
  },
  {
   "cell_type": "markdown",
   "id": "d3c1d1d7-4edb-4e26-9ad0-12cea84e4e8c",
   "metadata": {},
   "source": [
    "# 018 Ask the user to enter a number. If it is under 10, display the message “Too low”, if their number is between 10 and 20, display “Correct”, otherwise display “Too high”."
   ]
  },
  {
   "cell_type": "code",
   "execution_count": 47,
   "id": "59f9ce3d-10d8-472d-b978-3bd9ee88582f",
   "metadata": {},
   "outputs": [
    {
     "name": "stdin",
     "output_type": "stream",
     "text": [
      "Enter a number under 10 :  21\n"
     ]
    },
    {
     "name": "stdout",
     "output_type": "stream",
     "text": [
      "Too high\n"
     ]
    }
   ],
   "source": [
    "ask_10 = int(input(\"Enter a number under 10 : \"))\n",
    "if ask_10 > 10 :\n",
    "    if ask_10 < 20 :\n",
    "        print(\"Correct\")\n",
    "    else :\n",
    "        print(\"Too high\")\n",
    "else :\n",
    "        print(\"Too low\")"
   ]
  },
  {
   "cell_type": "markdown",
   "id": "e811e9c1-5d93-4660-81a4-b4edd26a8c52",
   "metadata": {},
   "source": [
    "# 019 Ask the user to enter 1, 2 or 3. If they enter a 1, display the message “Thank you”, if they enter a 2, display “Well done”, if they enter a 3, display “Correct”. If they enter anything else, display “Error message”. @@@@"
   ]
  },
  {
   "cell_type": "code",
   "execution_count": 87,
   "id": "e2b0bcdc-76e2-4629-ad70-4d354b8e4fa3",
   "metadata": {},
   "outputs": [
    {
     "name": "stdin",
     "output_type": "stream",
     "text": [
      "Enter a number form 1-2-3 :  4\n"
     ]
    },
    {
     "name": "stdout",
     "output_type": "stream",
     "text": [
      "404 Error message\n"
     ]
    }
   ],
   "source": [
    "ASK_NUMS = int(input(\"Enter a number form 1-2-3 : \"))\n",
    "ASK_NUMS = str(ASK_NUMS)\n",
    "if ASK_NUMS == \"1\":\n",
    "    print(\"Thank you\")\n",
    "if ASK_NUMS == \"2\":\n",
    "    print(\"Well done\")\n",
    "if ASK_NUMS == \"3\":\n",
    "    print(\"Correct\")\n",
    "nums = (\"1\", \"2\", \"3\")\n",
    "if ASK_NUMS not in nums :\n",
    "    print(\"404 Error message\")"
   ]
  },
  {
   "cell_type": "code",
   "execution_count": null,
   "id": "4bf3ed3b-5cd7-48ee-8e58-3fc0128791ba",
   "metadata": {},
   "outputs": [],
   "source": []
  },
  {
   "cell_type": "code",
   "execution_count": 9,
   "id": "debdbdac-b8b5-4d9d-b22e-4a1a505e77e0",
   "metadata": {},
   "outputs": [
    {
     "name": "stdin",
     "output_type": "stream",
     "text": [
      "Enter a number form 1-2-3 :  4\n"
     ]
    },
    {
     "name": "stdout",
     "output_type": "stream",
     "text": [
      "404 Error message\n"
     ]
    }
   ],
   "source": [
    "ASK_NUMS = int(input(\"Enter a number form 1-2-3 : \"))\n",
    "if ASK_NUMS == 1:\n",
    "    print(\"Thank you\")\n",
    "elif ASK_NUMS == 2:\n",
    "    print(\"Well done\")\n",
    "elif ASK_NUMS == 3:\n",
    "    print(\"Correct\")\n",
    "nums = (1, 2, 3)\n",
    "if ASK_NUMS not in nums :\n",
    "    print(\"404 Error message\")"
   ]
  },
  {
   "cell_type": "code",
   "execution_count": null,
   "id": "63ac474e-4ab7-4230-8a06-176419c92e80",
   "metadata": {},
   "outputs": [],
   "source": []
  },
  {
   "cell_type": "code",
   "execution_count": 14,
   "id": "74326ab1-d15e-4fc4-a862-8e690a893b9a",
   "metadata": {},
   "outputs": [
    {
     "name": "stdin",
     "output_type": "stream",
     "text": [
      "Enter a number form 1-2-3 :  4\n"
     ]
    },
    {
     "name": "stdout",
     "output_type": "stream",
     "text": [
      "404 Error message\n"
     ]
    }
   ],
   "source": [
    "ASK_NUMS = int(input(\"Enter a number form 1-2-3 : \"))\n",
    "if ASK_NUMS == 1:\n",
    "    print(\"Thank you\")\n",
    "elif ASK_NUMS == 2:\n",
    "    print(\"Well done\")\n",
    "elif ASK_NUMS == 3:\n",
    "    print(\"Correct\")\n",
    "else :\n",
    "    print(\"404 Error message\")"
   ]
  },
  {
   "cell_type": "code",
   "execution_count": null,
   "id": "74149464-b098-467a-81f4-93f28d9be077",
   "metadata": {},
   "outputs": [],
   "source": []
  }
 ],
 "metadata": {
  "kernelspec": {
   "display_name": "Python 3 (ipykernel)",
   "language": "python",
   "name": "python3"
  },
  "language_info": {
   "codemirror_mode": {
    "name": "ipython",
    "version": 3
   },
   "file_extension": ".py",
   "mimetype": "text/x-python",
   "name": "python",
   "nbconvert_exporter": "python",
   "pygments_lexer": "ipython3",
   "version": "3.11.7"
  }
 },
 "nbformat": 4,
 "nbformat_minor": 5
}
