{
 "cells": [
  {
   "cell_type": "markdown",
   "id": "e6b278cb-1d71-4895-bb97-8f02995af5f5",
   "metadata": {},
   "source": [
    "# Ask for the user’s first name and display the output message"
   ]
  },
  {
   "cell_type": "code",
   "execution_count": 1,
   "id": "493fcef3-cb5e-48c5-a3aa-bf5cdb6287bd",
   "metadata": {},
   "outputs": [
    {
     "name": "stdin",
     "output_type": "stream",
     "text": [
      "What's Your Name =  subham\n"
     ]
    },
    {
     "name": "stdout",
     "output_type": "stream",
     "text": [
      "Hello  Subham\n"
     ]
    }
   ],
   "source": [
    "first_name = input(\"What's Your Name = \")\n",
    "print(\"Hello \", first_name.title())"
   ]
  },
  {
   "cell_type": "code",
   "execution_count": 3,
   "id": "7358fc2c-91dc-4666-ab0c-61eb90ce5e3b",
   "metadata": {},
   "outputs": [
    {
     "name": "stdout",
     "output_type": "stream",
     "text": [
      "3.11.7 | packaged by Anaconda, Inc. | (main, Dec 15 2023, 18:05:47) [MSC v.1916 64 bit (AMD64)]\n"
     ]
    }
   ],
   "source": [
    "import sys\n",
    "print(sys.version)"
   ]
  },
  {
   "cell_type": "code",
   "execution_count": null,
   "id": "3fae61bc-cdf4-47a8-93f3-d0dc549f1a2b",
   "metadata": {},
   "outputs": [],
   "source": []
  },
  {
   "cell_type": "markdown",
   "id": "204ffade-c58e-4232-8c9c-ce83ffb0c0e2",
   "metadata": {},
   "source": [
    "# 002 Ask for the user’s first name and then ask for their surname and display the output"
   ]
  },
  {
   "cell_type": "code",
   "execution_count": 37,
   "id": "d18b326b-a6cd-4fb2-8225-efa38b37e74d",
   "metadata": {},
   "outputs": [
    {
     "name": "stdin",
     "output_type": "stream",
     "text": [
      "What's Your Name =  suresh\n",
      "What's Your Surname =  rout\n"
     ]
    },
    {
     "name": "stdout",
     "output_type": "stream",
     "text": [
      "Hello  Suresh Rout\n"
     ]
    }
   ],
   "source": [
    "first_name1 = input(\"What's Your Name = \")\n",
    "Sur_name = input(\"What's Your Surname = \")\n",
    "print(\"Hello \",first_name1.title(), Sur_name.title())"
   ]
  },
  {
   "cell_type": "markdown",
   "id": "016540b6-074d-4109-b913-0a2490be3f8d",
   "metadata": {},
   "source": [
    "# 003 Write code that will display the joke “What do you call a bear with no teeth?” and on the next line display the answer “A gummy bear!”"
   ]
  },
  {
   "cell_type": "code",
   "execution_count": 32,
   "id": "b6b41064-d59c-4f32-97c0-b375e69276a3",
   "metadata": {},
   "outputs": [
    {
     "name": "stdout",
     "output_type": "stream",
     "text": [
      "What do you call a bear with no teeth?,\n",
      "A gummy bear!\n"
     ]
    }
   ],
   "source": [
    "print(\"What do you call a bear with no teeth?,\\nA gummy bear!\")"
   ]
  },
  {
   "cell_type": "markdown",
   "id": "702bebec-f944-4e15-9144-9d52dc9c84d8",
   "metadata": {},
   "source": [
    "# 004 Ask the user to enter two numbers. Add them together and display the answer as"
   ]
  },
  {
   "cell_type": "code",
   "execution_count": 36,
   "id": "d142c7f6-9dcd-43a6-920f-9ee8084fd461",
   "metadata": {},
   "outputs": [
    {
     "name": "stdin",
     "output_type": "stream",
     "text": [
      " 10\n",
      " 23\n"
     ]
    },
    {
     "name": "stdout",
     "output_type": "stream",
     "text": [
      "The Total Answer Is 33\n"
     ]
    }
   ],
   "source": [
    "num_1 = int(input())\n",
    "num_2 = int(input())\n",
    "print(\"The Total Answer Is\",num_1+num_2)"
   ]
  },
  {
   "cell_type": "markdown",
   "id": "60c107a0-ac93-4e44-8faf-4a64f542e628",
   "metadata": {},
   "source": [
    "# 005 Ask the user to enter three numbers. Add together the first two numbers and then multiply this total by the third."
   ]
  },
  {
   "cell_type": "code",
   "execution_count": 39,
   "id": "23385006-90d5-4e47-a313-5d277f87c482",
   "metadata": {},
   "outputs": [
    {
     "name": "stdin",
     "output_type": "stream",
     "text": [
      " 2\n",
      " 2\n",
      " 10\n"
     ]
    },
    {
     "name": "stdout",
     "output_type": "stream",
     "text": [
      "The Answer Is 40\n"
     ]
    }
   ],
   "source": [
    "num_3 = int(input())\n",
    "num_4 = int(input())\n",
    "num_5 = int(input())\n",
    "print(\"The Answer Is\",(num_3+num_4)*num_5)"
   ]
  },
  {
   "cell_type": "markdown",
   "id": "5ac1636c-5c55-42f8-978a-0fabb7ea8428",
   "metadata": {},
   "source": [
    "# 006 Ask how many slices of pizza the user started with and ask how many slices they have eaten. Work out how many slices they have left and display the answer in a user-friendly format."
   ]
  },
  {
   "cell_type": "code",
   "execution_count": 41,
   "id": "aab71287-2aba-4fca-90fb-ff85b9133156",
   "metadata": {},
   "outputs": [
    {
     "name": "stdin",
     "output_type": "stream",
     "text": [
      "How Many Slices of Pizza Are In The Starting ?  6\n",
      "How Many Slices Have You Eaten ?  4\n"
     ]
    },
    {
     "name": "stdout",
     "output_type": "stream",
     "text": [
      "The Total Slices Remains Are  2\n"
     ]
    }
   ],
   "source": [
    "ask_1 = int(input(\"How Many Slices of Pizza Are In The Starting ? \"))\n",
    "ask_2 = int(input(\"How Many Slices Have You Eaten ? \"))\n",
    "print(\"The Total Slices Remains Are \", ask_1 - ask_2)"
   ]
  },
  {
   "cell_type": "markdown",
   "id": "c8204416-c7bb-4e26-b7f0-13754e918918",
   "metadata": {},
   "source": [
    "# 007 Ask the user for their name and their age. Add 1 to their age and display the output"
   ]
  },
  {
   "cell_type": "code",
   "execution_count": 42,
   "id": "82c85fb6-28c0-4d43-88a1-e47a18f1eed9",
   "metadata": {},
   "outputs": [
    {
     "name": "stdin",
     "output_type": "stream",
     "text": [
      "What Is Your Name ?  subham rout\n",
      "What is Your Current Age ?  27\n"
     ]
    },
    {
     "name": "stdout",
     "output_type": "stream",
     "text": [
      "Subham Rout next birthday you will be 28\n"
     ]
    }
   ],
   "source": [
    "Name_1 = str(input(\"What Is Your Name ? \"))\n",
    "Age_1 = int(input(\"What is Your Current Age ? \"))\n",
    "print(Name_1.title(),\"next birthday you will be\",Age_1 + 1)"
   ]
  },
  {
   "cell_type": "markdown",
   "id": "062b7d31-7a64-43cd-b1ad-6ac4715076d4",
   "metadata": {},
   "source": [
    "# 008 Ask for the total price of the bill, then ask how many diners there are. Divide the total bill by the number of diners and show how much each person must pay."
   ]
  },
  {
   "cell_type": "code",
   "execution_count": 43,
   "id": "238ed615-e97f-4544-9694-4e62afd04ac8",
   "metadata": {},
   "outputs": [
    {
     "name": "stdin",
     "output_type": "stream",
     "text": [
      "Total Price Of The Bill ?  1500\n",
      "How Many Diners There Are ?  5\n"
     ]
    },
    {
     "name": "stdout",
     "output_type": "stream",
     "text": [
      "Each Person Must Pay  300.0\n"
     ]
    }
   ],
   "source": [
    "Bill_1 = int(input(\"Total Price Of The Bill ? \"))\n",
    "Dinners_1 = int(input(\"How Many Diners There Are ? \"))\n",
    "print(\"Each Person Must Pay \",Bill_1 / Dinners_1)"
   ]
  },
  {
   "cell_type": "markdown",
   "id": "767f950d-1ee9-47a1-98c7-478f0b14cbcd",
   "metadata": {},
   "source": [
    "# 009 Write a program that will ask for a number of days and then will show how many hours, minutes and seconds are in that number of days."
   ]
  },
  {
   "cell_type": "code",
   "execution_count": 46,
   "id": "1cbf10af-6173-4518-9c34-bbe73628c6ea",
   "metadata": {},
   "outputs": [
    {
     "name": "stdin",
     "output_type": "stream",
     "text": [
      "Enter the number of days?  30\n"
     ]
    },
    {
     "name": "stdout",
     "output_type": "stream",
     "text": [
      "In 30 Days, there are: 720 hours 43200 minutes 2592000 seconds\n"
     ]
    }
   ],
   "source": [
    "Days_1 = int(input(\"Enter the number of days? \"))\n",
    "hours_1 = Days_1 * 24\n",
    "minutes_1 = hours_1 * 60\n",
    "seconds_1 = minutes_1 * 60\n",
    "print(f\"In {Days_1} Days, there are:\" ,f\"{hours_1} hours\", f\"{minutes_1} minutes\", f\"{seconds_1} seconds\")\n"
   ]
  },
  {
   "cell_type": "code",
   "execution_count": 47,
   "id": "4b3591ab-9e5f-4d09-a886-e00ab0cd8477",
   "metadata": {},
   "outputs": [
    {
     "name": "stdin",
     "output_type": "stream",
     "text": [
      "Enter the number of days?  30\n"
     ]
    },
    {
     "name": "stdout",
     "output_type": "stream",
     "text": [
      "In 30  Days,there are\n",
      "720 hours\n",
      "43200 minutes\n",
      "2592000 seconds\n"
     ]
    }
   ],
   "source": [
    "Days_1 = int(input(\"Enter the number of days? \"))\n",
    "hours_1 = Days_1 * 24\n",
    "minutes_1 = hours_1 * 60\n",
    "seconds_1 = minutes_1 * 60\n",
    "print(\"In\",Days_1,\" Days,there are\")\n",
    "print(hours_1, \"hours\")\n",
    "print(minutes_1, \"minutes\")\n",
    "print(seconds_1, \"seconds\")"
   ]
  },
  {
   "cell_type": "markdown",
   "id": "7348205e-244e-4be0-94aa-65c99bf933a0",
   "metadata": {},
   "source": [
    "# 010 There are 2,204 pounds in a kilogram. Ask the user to enter a weight in kilograms and convert it to pounds."
   ]
  },
  {
   "cell_type": "code",
   "execution_count": 48,
   "id": "3692079c-c218-48d7-88b2-719dc59a08a3",
   "metadata": {},
   "outputs": [
    {
     "name": "stdin",
     "output_type": "stream",
     "text": [
      "Enter Weight In Kilograms ?  50\n"
     ]
    },
    {
     "name": "stdout",
     "output_type": "stream",
     "text": [
      "50.0 kilograms is equal to 110.2 pounds.\n",
      "50.0 kilograms is equal to 110.2 pounds.\n"
     ]
    }
   ],
   "source": [
    "\n",
    "Pounds_1 = 2.204\n",
    "weight_kg1 = float(input(\"Enter Weight In Kilograms ? \"))\n",
    "convert_1 = weight_kg1 * Pounds_1\n",
    "print(weight_kg1,\"kilograms is equal to\",convert_1, \"pounds.\")\n",
    "print(f\"{weight_kg1} kilograms is equal to {convert_1} pounds.\")"
   ]
  },
  {
   "cell_type": "markdown",
   "id": "eda117cc-9390-43db-8af5-1b7bd75c647b",
   "metadata": {},
   "source": [
    "# 011 Task the user to enter a number over 100 and then enter a number under 10 and tell them how many times the smaller number goes into the larger number in a user-friendly format."
   ]
  },
  {
   "cell_type": "code",
   "execution_count": 6,
   "id": "60fe55f4-1bb0-4926-9a05-4c41d6915d14",
   "metadata": {},
   "outputs": [
    {
     "name": "stdin",
     "output_type": "stream",
     "text": [
      "Enter A Number Over 100 120\n",
      "Enter A Number Under 10 5\n"
     ]
    },
    {
     "name": "stdout",
     "output_type": "stream",
     "text": [
      "24 times 5 goes into 120\n"
     ]
    }
   ],
   "source": [
    "Number_1 = int(input(\"Enter A Number Over 100\"))\n",
    "Number_1 >= 100\n",
    "Number_2 = int(input(\"Enter A Number Under 10\"))\n",
    "Number_2 <= 10\n",
    "times_1 = Number_1 // Number_2\n",
    "print(times_1 ,\"times\" ,Number_2, \"goes into\", Number_1)"
   ]
  },
  {
   "cell_type": "code",
   "execution_count": 8,
   "id": "4b89f266-538e-4b4c-a650-a2836d4ae287",
   "metadata": {},
   "outputs": [
    {
     "data": {
      "text/plain": [
       "120"
      ]
     },
     "execution_count": 8,
     "metadata": {},
     "output_type": "execute_result"
    }
   ],
   "source": [
    "5*24"
   ]
  },
  {
   "cell_type": "code",
   "execution_count": null,
   "id": "d1615c75-f063-4480-a9b8-6c4a5765d602",
   "metadata": {},
   "outputs": [],
   "source": []
  }
 ],
 "metadata": {
  "kernelspec": {
   "display_name": "Python 3 (ipykernel)",
   "language": "python",
   "name": "python3"
  },
  "language_info": {
   "codemirror_mode": {
    "name": "ipython",
    "version": 3
   },
   "file_extension": ".py",
   "mimetype": "text/x-python",
   "name": "python",
   "nbconvert_exporter": "python",
   "pygments_lexer": "ipython3",
   "version": "3.11.7"
  }
 },
 "nbformat": 4,
 "nbformat_minor": 5
}
