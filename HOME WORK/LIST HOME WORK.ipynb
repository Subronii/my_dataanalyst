{
 "cells": [
  {
   "cell_type": "markdown",
   "id": "9fb31343-843f-438b-a36f-2e9ce4e42a63",
   "metadata": {},
   "source": [
    "# 071 Create a list of two sports. Ask the user what their favourite sport is and add this to the end of the list. Sort the list and display it."
   ]
  },
  {
   "cell_type": "code",
   "execution_count": 8,
   "id": "bed3159a-7d26-4ab9-9088-efe0bac2a57b",
   "metadata": {},
   "outputs": [
    {
     "name": "stdout",
     "output_type": "stream",
     "text": [
      "BASKETBALL\n",
      "HANDBALL\n"
     ]
    },
    {
     "name": "stdin",
     "output_type": "stream",
     "text": [
      "Enter your favourite sport :  cricket\n"
     ]
    },
    {
     "name": "stdout",
     "output_type": "stream",
     "text": [
      "BASKETBALL\n",
      "HANDBALL\n",
      "CRICKET\n"
     ]
    }
   ],
   "source": [
    "sports_list = [\"BASKETBALL\", \"HANDBALL\"]\n",
    "for s in sports_list :\n",
    "    print(s)\n",
    "    \n",
    "ask_sport = input(\"Enter your favourite sport : \")\n",
    "sports_list.append(ask_sport)\n",
    "for ss in sports_list :\n",
    "    print(ss.upper())"
   ]
  },
  {
   "cell_type": "markdown",
   "id": "cdb2645f-cf68-4444-af0a-3dc77b387a4d",
   "metadata": {},
   "source": [
    "# 072 Create a list of six school subjects. Ask the user which of these subjects they don’t like. Delete the subject they have chosen from the list before you display the list again."
   ]
  },
  {
   "cell_type": "code",
   "execution_count": 19,
   "id": "36a27d10-9648-40f2-aa7b-757d608b62c7",
   "metadata": {},
   "outputs": [
    {
     "name": "stdout",
     "output_type": "stream",
     "text": [
      "['MATHS', 'ENGLISH', 'HINDI', 'SCIENCE', 'SANSKRIT', 'COMPUTER SCIENCE']\n"
     ]
    },
    {
     "name": "stdin",
     "output_type": "stream",
     "text": [
      "Enter the subject from the above you don't like :  hindi\n"
     ]
    },
    {
     "name": "stdout",
     "output_type": "stream",
     "text": [
      "['MATHS', 'ENGLISH', 'SCIENCE', 'SANSKRIT', 'COMPUTER SCIENCE']\n"
     ]
    }
   ],
   "source": [
    "subject_list = [\"MATHS\", \"ENGLISH\", \"HINDI\", \"SCIENCE\", \"SANSKRIT\", \"COMPUTER SCIENCE\"]\n",
    "print(subject_list)\n",
    "ask_subject = input(\"Enter the subject from the above you don't like : \")\n",
    "ak = ask_subject.upper()\n",
    "subject_list.remove(ak)\n",
    "print(subject_list)"
   ]
  },
  {
   "cell_type": "markdown",
   "id": "e3c10fea-a56d-4610-bd16-4cbe3ceb3a1f",
   "metadata": {},
   "source": [
    "# 074 Enter a list of ten colours. Ask the user for a starting number between 0 and 4 and an end number between 5 and 9. Display the list for those colours between the start and end numbers the user input."
   ]
  },
  {
   "cell_type": "code",
   "execution_count": 21,
   "id": "0c3ba5bf-c4e4-47a1-a44c-e83c4de6bc58",
   "metadata": {},
   "outputs": [
    {
     "name": "stdout",
     "output_type": "stream",
     "text": [
      "['RED', 'BLUE', 'YELLOW', 'BLACK', 'GREEN', 'PURPLE', 'WHITE', 'GREY', 'ORANGE', 'BROWN']\n"
     ]
    },
    {
     "name": "stdin",
     "output_type": "stream",
     "text": [
      "Enter number from 0 to 4 :  2\n",
      "Enter number from 5 to 9 :  7\n"
     ]
    },
    {
     "name": "stdout",
     "output_type": "stream",
     "text": [
      "['YELLOW', 'BLACK', 'GREEN', 'PURPLE', 'WHITE']\n"
     ]
    }
   ],
   "source": [
    "color_list = [\"RED\", \"BLUE\", \"YELLOW\", \"BLACK\", \"GREEN\", \"PURPLE\", \"WHITE\", \"GREY\", \"ORANGE\", \"BROWN\"]\n",
    "print(color_list)\n",
    "ask_num1 = int(input(\"Enter number from 0 to 4 : \"))\n",
    "ask_num2 = int(input(\"Enter number from 5 to 9 : \"))\n",
    "print(color_list[ask_num1:ask_num2])"
   ]
  },
  {
   "cell_type": "markdown",
   "id": "0963f08e-9fe4-496f-9619-a44a2cada13f",
   "metadata": {},
   "source": [
    "# 075 Create a list of four three-digit numbers. Display the list to the user, showing each item from the list on a separate line. Ask the user to enter a three-digit number. If the number they have typed in matches one in the list, display the position of that number in the list, otherwise display the message “That is not in the list”."
   ]
  },
  {
   "cell_type": "code",
   "execution_count": 28,
   "id": "19295d92-a85b-404f-85dd-e25847c84c35",
   "metadata": {},
   "outputs": [
    {
     "name": "stdout",
     "output_type": "stream",
     "text": [
      "111\n",
      "222\n",
      "333\n",
      "444\n"
     ]
    },
    {
     "name": "stdin",
     "output_type": "stream",
     "text": [
      "Enter three digit number :  3454\n"
     ]
    },
    {
     "name": "stdout",
     "output_type": "stream",
     "text": [
      "3454 is not in the list\n"
     ]
    }
   ],
   "source": [
    "num3_list = [111, 222, 333, 444]\n",
    "for nl in num3_list :\n",
    "    print(nl)\n",
    "ask_num3 = int(input(\"Enter three digit number : \"))\n",
    "akn = ask_num3\n",
    "if akn in num3_list :\n",
    "    print(num3_list.index(akn))\n",
    "else :\n",
    "    print(ask_num3, \"is not in the list\")"
   ]
  },
  {
   "cell_type": "markdown",
   "id": "6dc8f2b4-5d0f-4628-8e74-c975a2349b65",
   "metadata": {},
   "source": [
    "# 076 Ask the user to enter the names of three people they want to invite to a party and store them in a list. After they have entered all three names, ask them if they want to add another. If they do, allow them to add more names until they answer “no”. When they answer “no”, display how many people they have invited to the party."
   ]
  },
  {
   "cell_type": "code",
   "execution_count": 51,
   "id": "85db928e-e2e5-4b34-94c7-9964a5e6c01b",
   "metadata": {},
   "outputs": [
    {
     "name": "stdin",
     "output_type": "stream",
     "text": [
      "Enter 1'st person name you want to invite to a party :  a\n",
      "Enter 1'st person name you want to invite to a party :  b\n",
      "Enter 1'st person name you want to invite to a party :  c\n",
      "Do you wamt to another name for party (yes/no) :  yes\n",
      "Enter the another name you want to invite to a party :  d\n",
      "Do you wamt to another name for party (yes/no) :  yes\n",
      "Enter the another name you want to invite to a party :  e\n",
      "Do you wamt to another name for party (yes/no) :  no\n"
     ]
    },
    {
     "name": "stdout",
     "output_type": "stream",
     "text": [
      "You have invited 5 to your party ['a', 'b', 'c', 'd', 'e']\n"
     ]
    }
   ],
   "source": [
    "ask_name1 = input(\"Enter 1'st person name you want to invite to a party : \")\n",
    "ask_name2 = input(\"Enter 1'st person name you want to invite to a party : \")\n",
    "ask_name3 = input(\"Enter 1'st person name you want to invite to a party : \")\n",
    "name_list = [ask_name1, ask_name2, ask_name3]\n",
    "ask_another = input(\"Do you wamt to another name for party (yes/no) : \")\n",
    "\n",
    "while ask_another == \"yes\" :\n",
    "    another_name = name_list.append(input(\"Enter the another name you want to invite to a party : \"))\n",
    "    ask_another = input(\"Do you wamt to another name for party (yes/no) : \")\n",
    "print(\"You have invited\", len(name_list), \"to your party\", name_list)"
   ]
  },
  {
   "cell_type": "markdown",
   "id": "e70aa0d5-c915-456d-98c3-187839642cba",
   "metadata": {},
   "source": [
    "# 077 Change program 076 so that once the user has completed their list of names, display the full list and ask them to type in one of the names on the list. Display the position of that name in the list. Ask the user if they still want that person to come to the party. If they answer “no”, delete that entry from the list and display the list again."
   ]
  },
  {
   "cell_type": "code",
   "execution_count": 54,
   "id": "69e92ead-28b7-4488-88a3-bb1f7eeb889c",
   "metadata": {},
   "outputs": [
    {
     "name": "stdout",
     "output_type": "stream",
     "text": [
      "['a', 'b', 'd', 'e']\n"
     ]
    },
    {
     "name": "stdin",
     "output_type": "stream",
     "text": [
      "Enter the a name form the list :  d\n"
     ]
    },
    {
     "name": "stdout",
     "output_type": "stream",
     "text": [
      "2\n"
     ]
    },
    {
     "name": "stdin",
     "output_type": "stream",
     "text": [
      "Do you still want to invite this person to the party (yes/no) :  yes\n"
     ]
    },
    {
     "name": "stdout",
     "output_type": "stream",
     "text": [
      "['a', 'b', 'd', 'e']\n"
     ]
    }
   ],
   "source": [
    "print(name_list)\n",
    "enter_name = input(\"Enter the a name form the list : \")\n",
    "print(name_list.index(enter_name))\n",
    "name_ask = input(\"Do you still want to invite this person to the party (yes/no) : \")\n",
    "if name_ask == \"no\" :\n",
    "    name_list.remove(enter_name)\n",
    "    print(name_list)\n",
    "else :\n",
    "    print(name_list)"
   ]
  },
  {
   "cell_type": "markdown",
   "id": "1370c38c-0482-4c56-b4c1-ced0c81ab650",
   "metadata": {},
   "source": [
    "# 078 Create a list containing the titles of four TV programmes and display them on separate lines. Ask the user to enter another show and a position they want it inserted into the list. Display the list again, showing all five TV programmes in their new positions."
   ]
  },
  {
   "cell_type": "code",
   "execution_count": 60,
   "id": "612495ae-c2f8-4d3f-bb88-a3a2743a4c20",
   "metadata": {},
   "outputs": [
    {
     "name": "stdout",
     "output_type": "stream",
     "text": [
      "IPL\n",
      "NBA\n",
      "POWER RANGERS\n",
      "WWE\n",
      "\n"
     ]
    },
    {
     "name": "stdin",
     "output_type": "stream",
     "text": [
      "Enter another show :  bob the builder\n",
      "Enter postion in list from 0 to 4 :  3\n"
     ]
    },
    {
     "name": "stdout",
     "output_type": "stream",
     "text": [
      "['IPL', 'NBA', 'POWER RANGERS', 'BOB THE BUILDER', 'WWE']\n"
     ]
    }
   ],
   "source": [
    "tv_list = [\"IPL\", \"NBA\", \"POWER RANGERS\", \"WWE\"]\n",
    "for tv in tv_list :\n",
    "    print(tv)\n",
    "\n",
    "print()\n",
    "ask_tv = input(\"Enter another show : \")\n",
    "ask_pos = int(input(\"Enter postion in list from 0 to 4 : \"))\n",
    "tv_list.insert(ask_pos,ask_tv.upper())\n",
    "print(tv_list)\n"
   ]
  },
  {
   "cell_type": "markdown",
   "id": "a01ea5f5-fddd-44e5-bbba-50ecf7de93a9",
   "metadata": {},
   "source": [
    "# 079 Create an empty list called “nums”. Ask the user to enter numbers. After each number is entered, add it to the end of the nums list and display the list. Once they have entered three numbers, ask them if they still want the last number they entered saved. If they say “no”, remove the last item from the list. Display the list of numbers."
   ]
  },
  {
   "cell_type": "code",
   "execution_count": 66,
   "id": "f107d971-87a0-46d8-99c1-651867b7843d",
   "metadata": {},
   "outputs": [
    {
     "name": "stdin",
     "output_type": "stream",
     "text": [
      "Enter a number :  1\n",
      "Enter a number :  2\n",
      "Enter a number :  3\n",
      "Do you want another number (yes/no) :  yes\n",
      "Enter a number :  3\n",
      "Do you want another number (yes/no) :  yes\n",
      "Enter a number :  5\n",
      "Do you want another number (yes/no) :  yes\n",
      "Enter a number :  0\n",
      "Do you want another number (yes/no) :  no\n"
     ]
    },
    {
     "name": "stdout",
     "output_type": "stream",
     "text": [
      "0\n"
     ]
    }
   ],
   "source": [
    "number1 = int(input(\"Enter a number : \"))\n",
    "number2 = int(input(\"Enter a number : \"))\n",
    "number3 = int(input(\"Enter a number : \"))\n",
    "nums = [number1, number2, number3]\n",
    "ask_number = input(\"Do you want another number (yes/no) : \")\n",
    "\n",
    "while ask_number == \"yes\" :\n",
    "    anothernumber = nums.append(int(input(\"Enter a number : \")))\n",
    "    ask_number = input(\"Do you want another number (yes/no) : \")\n",
    "print(nums.())"
   ]
  },
  {
   "cell_type": "code",
   "execution_count": null,
   "id": "07cd1b41-2750-46ef-9380-da380f490a8b",
   "metadata": {},
   "outputs": [],
   "source": []
  }
 ],
 "metadata": {
  "kernelspec": {
   "display_name": "Python 3 (ipykernel)",
   "language": "python",
   "name": "python3"
  },
  "language_info": {
   "codemirror_mode": {
    "name": "ipython",
    "version": 3
   },
   "file_extension": ".py",
   "mimetype": "text/x-python",
   "name": "python",
   "nbconvert_exporter": "python",
   "pygments_lexer": "ipython3",
   "version": "3.11.7"
  }
 },
 "nbformat": 4,
 "nbformat_minor": 5
}
