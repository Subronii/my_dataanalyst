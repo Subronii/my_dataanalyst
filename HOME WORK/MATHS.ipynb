{
 "cells": [
  {
   "cell_type": "markdown",
   "id": "6bd35f65-f297-4039-864d-a0c36ab32370",
   "metadata": {},
   "source": [
    "# 027 Ask the user to enter a number with lots of decimal places. Multiply this number by two and display the answer."
   ]
  },
  {
   "cell_type": "code",
   "execution_count": 1,
   "id": "41e85ee2-b19e-445a-a7c9-b310a4945f11",
   "metadata": {},
   "outputs": [
    {
     "name": "stdin",
     "output_type": "stream",
     "text": [
      "Enter a number with lots of decimal places :  2.345678\n"
     ]
    },
    {
     "name": "stdout",
     "output_type": "stream",
     "text": [
      "4.691356\n"
     ]
    }
   ],
   "source": [
    "ask_decimal = float(input(\"Enter a number with lots of decimal places : \"))\n",
    "multiply = 2 * ask_decimal\n",
    "print(multiply)"
   ]
  },
  {
   "cell_type": "markdown",
   "id": "dc16dbc2-049b-4bdb-8e7e-a64d9d2e5b1f",
   "metadata": {},
   "source": [
    "# 028 Update program 027 so that it will display the answer to two decimal places."
   ]
  },
  {
   "cell_type": "code",
   "execution_count": 2,
   "id": "a2b0861b-e464-4a8d-8ac6-987fa90f7d24",
   "metadata": {},
   "outputs": [
    {
     "name": "stdin",
     "output_type": "stream",
     "text": [
      "Enter a number with lots of decimal places :  23.4857690\n"
     ]
    },
    {
     "name": "stdout",
     "output_type": "stream",
     "text": [
      "46.97\n"
     ]
    }
   ],
   "source": [
    "ask_decimal = float(input(\"Enter a number with lots of decimal places : \"))\n",
    "multiply = 2 * ask_decimal\n",
    "formatted = \"{:.2f}\".format(multiply)\n",
    "print(formatted)"
   ]
  },
  {
   "cell_type": "markdown",
   "id": "c5a5d075-ff5c-4bbc-9ac4-2c5e577fee4e",
   "metadata": {},
   "source": [
    "# 029 Ask the user to enter an integer that is over 500. Work out the square root of that number and display it to two decimal places."
   ]
  },
  {
   "cell_type": "code",
   "execution_count": 6,
   "id": "e2700f91-ef0c-49f7-816c-a94393a91b9c",
   "metadata": {},
   "outputs": [
    {
     "name": "stdin",
     "output_type": "stream",
     "text": [
      "Enter an integer number that is over 500 :  501\n"
     ]
    },
    {
     "name": "stdout",
     "output_type": "stream",
     "text": [
      "22.38\n"
     ]
    }
   ],
   "source": [
    "ask_int = int(input(\"Enter an integer number that is over 500 : \"))\n",
    "import math\n",
    "if ask_int > 500 :\n",
    "    sr = math.sqrt(ask_int)\n",
    "    formatted = \"{:.2f}\".format(sr)\n",
    "    print(formatted)\n",
    "else : \n",
    "    print(\"Enter an integer number that is over 500\")"
   ]
  },
  {
   "cell_type": "markdown",
   "id": "a54dbed1-9767-4565-a1fd-9c38df435c8f",
   "metadata": {},
   "source": [
    "# 030 Display pi (π) to five decimal places. @@@"
   ]
  },
  {
   "cell_type": "code",
   "execution_count": 11,
   "id": "6925164a-7d15-4223-b1b7-919688bc9e0e",
   "metadata": {},
   "outputs": [
    {
     "name": "stdout",
     "output_type": "stream",
     "text": [
      "3.141592653589793\n"
     ]
    }
   ],
   "source": [
    "pin = 3.14159\n",
    "pin = math.pi\n",
    "print(pin)"
   ]
  },
  {
   "cell_type": "markdown",
   "id": "94b3aa1e-8c71-45e3-940b-88b938c8627d",
   "metadata": {},
   "source": [
    "# 031 Ask the user to enter the radius of a circle (measurement from the centre point to the edge). Work out the area of the circle (π*radius2)."
   ]
  },
  {
   "cell_type": "code",
   "execution_count": 8,
   "id": "a0f3f00c-86f4-4681-aed6-e7e410183f78",
   "metadata": {},
   "outputs": [
    {
     "name": "stdin",
     "output_type": "stream",
     "text": [
      "Enter the raduis of the circle 25\n"
     ]
    },
    {
     "name": "stdout",
     "output_type": "stream",
     "text": [
      "The total area of the circle is 1963.4954084936207\n",
      "The total area of the circle is 1963.495\n"
     ]
    }
   ],
   "source": [
    "radius = int(input(\"Enter the raduis of the circle\"))\n",
    "area = math.pi * radius ** 2\n",
    "print(f\"The total area of the circle is {area}\")\n",
    "print(f\"The total area of the circle is {area:.3f}\")"
   ]
  },
  {
   "cell_type": "markdown",
   "id": "2f8d2650-49ad-450e-aca5-f18e9b95b5c2",
   "metadata": {},
   "source": [
    "# 032 Ask for the radius and the depth of a cylinder and work out the total volume (circle area*depth) rounded to three decimal places."
   ]
  },
  {
   "cell_type": "code",
   "execution_count": 14,
   "id": "b5a2ecb6-aeea-49dd-bc07-cbc63127c45e",
   "metadata": {},
   "outputs": [
    {
     "name": "stdin",
     "output_type": "stream",
     "text": [
      "Enter the raduis of the cylinder 25\n",
      "Enter the depth of the cylinder 30.5\n"
     ]
    },
    {
     "name": "stdout",
     "output_type": "stream",
     "text": [
      "The total volume of the cylinder is 59886.610\n"
     ]
    }
   ],
   "source": [
    "radius = float(input(\"Enter the raduis of the cylinder\"))\n",
    "depth = float(input(\"Enter the depth of the cylinder\"))\n",
    "area = math.pi * radius ** 2\n",
    "total_volume = area * depth\n",
    "print(f\"The total volume of the cylinder is {total_volume:.3f}\")"
   ]
  },
  {
   "cell_type": "markdown",
   "id": "91683529-60ec-497b-8f7c-fe9b028d84e2",
   "metadata": {},
   "source": [
    "# 033 Ask the user to enter two numbers. Use whole number division to divide the first number by the second and also work out the remainder and display the answer in a user-friendly way (e.g. if they enter 7 and 2 display “7 divided by 2 is 3 with 1 remaining”)."
   ]
  },
  {
   "cell_type": "code",
   "execution_count": 15,
   "id": "9680aced-a53b-4586-8dfd-ef41117c8375",
   "metadata": {},
   "outputs": [
    {
     "name": "stdin",
     "output_type": "stream",
     "text": [
      "Enter 1st whole number :  15\n",
      "Enter 2nd whole number :  2\n"
     ]
    },
    {
     "name": "stdout",
     "output_type": "stream",
     "text": [
      "15 divided by 2 is 7.5 with 1 remaining\n"
     ]
    }
   ],
   "source": [
    "first_number = int(input(\"Enter 1st whole number : \"))\n",
    "second_number = int(input(\"Enter 2nd whole number : \"))\n",
    "divider = first_number / second_number\n",
    "remainder = first_number % second_number\n",
    "print(f\"{first_number} divided by {second_number} is {divider} with {remainder} remaining\")"
   ]
  },
  {
   "cell_type": "markdown",
   "id": "44704435-47ca-40d4-9816-3662887bb0bc",
   "metadata": {},
   "source": [
    "# 034 Display the following message:\n",
    "# 1. Square\n",
    "# 2. Triangle\n",
    "# Enter a number:\n",
    "# If the user enters 1, then it should ask them for the length of one of its sides and display the area. If they select 2, it should ask for the base\n",
    "# and height of the triangle and display the area. If they type in anything else, it should give them a suitable error message."
   ]
  },
  {
   "cell_type": "code",
   "execution_count": 3,
   "id": "0b184120-6701-4c6d-bf4a-e2a6bc0c69cf",
   "metadata": {},
   "outputs": [
    {
     "name": "stdout",
     "output_type": "stream",
     "text": [
      "   FIND OUT THE AREA   \n",
      "1. Square\n",
      "2. Triangle\n"
     ]
    },
    {
     "name": "stdin",
     "output_type": "stream",
     "text": [
      "Choose from above (1/2) :  2\n",
      "Enter base of Triangle :  10\n",
      "Enter height of Triangle :  5\n"
     ]
    },
    {
     "name": "stdout",
     "output_type": "stream",
     "text": [
      "The area of Triangle is 25.0\n"
     ]
    }
   ],
   "source": [
    "print(\"   FIND OUT THE AREA   \")\n",
    "print(\"1. Square\")\n",
    "print(\"2. Triangle\")\n",
    "ask_sel = int(input(\"Choose from above (1/2) : \"))\n",
    "if ask_sel == 1 :\n",
    "    ask_len = int(input(\"Enter length of one side of Square : \"))\n",
    "    sqr_area = ask_len ** 2\n",
    "    print(f\"The area of Sqaure is {sqr_area}\")\n",
    "elif ask_sel == 2 :\n",
    "    ask_base = int(input(\"Enter base of Triangle : \"))\n",
    "    ask_height = int(input(\"Enter height of Triangle : \"))\n",
    "    tri_area = 1/2 * ask_base * ask_height\n",
    "    print(f\"The area of Triangle is {tri_area}\")\n",
    "else :\n",
    "    print(\"CHOOSE FROM THE ABOVE ONLY !!!\")"
   ]
  },
  {
   "cell_type": "code",
   "execution_count": null,
   "id": "a01ca7e7-2202-477e-b335-8660e8be2124",
   "metadata": {},
   "outputs": [],
   "source": []
  }
 ],
 "metadata": {
  "kernelspec": {
   "display_name": "Python 3 (ipykernel)",
   "language": "python",
   "name": "python3"
  },
  "language_info": {
   "codemirror_mode": {
    "name": "ipython",
    "version": 3
   },
   "file_extension": ".py",
   "mimetype": "text/x-python",
   "name": "python",
   "nbconvert_exporter": "python",
   "pygments_lexer": "ipython3",
   "version": "3.11.7"
  }
 },
 "nbformat": 4,
 "nbformat_minor": 5
}
