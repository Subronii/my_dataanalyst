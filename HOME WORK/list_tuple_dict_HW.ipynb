{
 "cells": [
  {
   "cell_type": "markdown",
   "id": "15d89bc6-ce55-4c52-ae87-93a575b21ca0",
   "metadata": {},
   "source": [
    "# 069 Create a tuple containing the names of five countries and display the whole tuple. Ask the user to enter one of the countries that have been shown to them and then display the index number (i.e. position in the list) of that item in the tuple."
   ]
  },
  {
   "cell_type": "code",
   "execution_count": 3,
   "id": "16f567a3-7f55-47f3-a5ba-bcb12f14d796",
   "metadata": {},
   "outputs": [
    {
     "name": "stdout",
     "output_type": "stream",
     "text": [
      "('INDIA', 'PAKISTAN', 'NEPAL', 'SRI LANKA', 'AFGANISTHAN')\n"
     ]
    },
    {
     "name": "stdin",
     "output_type": "stream",
     "text": [
      "Enter one of the countries names shown above :  nepal\n"
     ]
    },
    {
     "name": "stdout",
     "output_type": "stream",
     "text": [
      "2\n"
     ]
    }
   ],
   "source": [
    "countrytuple = (\"INDIA\", \"PAKISTAN\", \"NEPAL\", \"SRI LANKA\",\"AFGANISTHAN\")\n",
    "print(countrytuple)\n",
    "countryname = input(\"Enter one of the countries names shown above : \").upper()\n",
    "print(countrytuple.index(countryname))"
   ]
  },
  {
   "cell_type": "markdown",
   "id": "59dcd091-e694-4251-a60f-5dc6b424896a",
   "metadata": {},
   "source": [
    "# 070 Add to program 069 to ask the user to enter a number and display the country in that position."
   ]
  },
  {
   "cell_type": "code",
   "execution_count": 5,
   "id": "96dc3d25-e9ac-4846-9977-f657b90f3958",
   "metadata": {},
   "outputs": [
    {
     "name": "stdin",
     "output_type": "stream",
     "text": [
      "please enter a number :  3\n"
     ]
    },
    {
     "name": "stdout",
     "output_type": "stream",
     "text": [
      "SRI LANKA\n"
     ]
    }
   ],
   "source": [
    "findcountry = int(input(\"please enter a number : \"))\n",
    "print(countrytuple[findcountry])"
   ]
  },
  {
   "cell_type": "markdown",
   "id": "0629f46d-550a-44cd-9849-9a74f5eaec52",
   "metadata": {},
   "source": [
    "# 071 Create a list of two sports. Ask the user what their favourite sport is and add this to the end of the list. Sort the list and display it."
   ]
  },
  {
   "cell_type": "code",
   "execution_count": 7,
   "id": "0eeb7f74-e5ef-4bb4-bd52-0d6ea787b75f",
   "metadata": {},
   "outputs": [
    {
     "name": "stdout",
     "output_type": "stream",
     "text": [
      "['CIRCKET', 'BASKETBALL']\n"
     ]
    },
    {
     "name": "stdin",
     "output_type": "stream",
     "text": [
      "Enter your favourite sport name :  handball\n"
     ]
    },
    {
     "name": "stdout",
     "output_type": "stream",
     "text": [
      "['CIRCKET', 'BASKETBALL', 'HANDBALL']\n"
     ]
    }
   ],
   "source": [
    "sportlist = [\"CIRCKET\", \"BASKETBALL\"]\n",
    "print(sportlist)\n",
    "favsport = input(\"Enter your favourite sport name : \").upper()\n",
    "sportlist.append(favsport)\n",
    "print(sportlist)"
   ]
  },
  {
   "cell_type": "markdown",
   "id": "d32a8724-a3ba-41e8-875f-789194f2791b",
   "metadata": {},
   "source": [
    "# 072 Create a list of six school subjects. Ask the user which of these subjects they don’t like. Delete the subject they have chosen from the list before you display the list again."
   ]
  },
  {
   "cell_type": "code",
   "execution_count": 8,
   "id": "b74bd1ce-4b4b-4f48-a4f6-5e7b9aa8a52b",
   "metadata": {},
   "outputs": [
    {
     "name": "stdout",
     "output_type": "stream",
     "text": [
      "['MATHS', 'SCIENCE', 'HINDI', 'ENGLISH', 'SANSKRIT', 'COMPUTER']\n"
     ]
    },
    {
     "name": "stdin",
     "output_type": "stream",
     "text": [
      "Enter a subject from above you don't like :  hindi\n"
     ]
    },
    {
     "name": "stdout",
     "output_type": "stream",
     "text": [
      "['MATHS', 'SCIENCE', 'ENGLISH', 'SANSKRIT', 'COMPUTER']\n"
     ]
    }
   ],
   "source": [
    "sublist = [\"MATHS\", \"SCIENCE\", \"HINDI\", \"ENGLISH\", \"SANSKRIT\", \"COMPUTER\"]\n",
    "print(sublist)\n",
    "donlist = input(\"Enter a subject from above you don't like : \").upper()\n",
    "sublist.remove(donlist)\n",
    "print(sublist)"
   ]
  },
  {
   "cell_type": "markdown",
   "id": "49238739-bd9f-4acf-86da-d2f236bdf5dc",
   "metadata": {},
   "source": [
    "# 073 Ask the user to enter four of their favourite foods and store them in a dictionary so that they are indexed with numbers starting from 1. Display the dictionary in full, showing the index number and the item. Ask them which they want to get rid of and remove it from the list. Sort the remaining data and display the dictionary."
   ]
  },
  {
   "cell_type": "code",
   "execution_count": 13,
   "id": "47b4369c-980b-4c4d-9d77-13c08227ebb6",
   "metadata": {},
   "outputs": [
    {
     "name": "stdin",
     "output_type": "stream",
     "text": [
      "Enter your first favourite food :  dahi vada\n",
      "Enter your second favourite food :  aloo matter\n",
      "Enter your third favourite food :  spicy fish\n",
      "Enter your forth favourite food :  poha\n"
     ]
    },
    {
     "name": "stdout",
     "output_type": "stream",
     "text": [
      "{'1': 'DAHI VADA', '2': 'ALOO MATTER', '3': 'SPICY FISH', '4': 'POHA'}\n"
     ]
    },
    {
     "name": "stdin",
     "output_type": "stream",
     "text": [
      "Which one of above you want to get rid off (1-4) :  3\n"
     ]
    },
    {
     "name": "stdout",
     "output_type": "stream",
     "text": [
      "{'1': 'DAHI VADA', '2': 'ALOO MATTER', '4': 'POHA'}\n"
     ]
    }
   ],
   "source": [
    "favfood1 = input(\"Enter your first favourite food : \").upper()\n",
    "favfood2 = input(\"Enter your second favourite food : \").upper()\n",
    "favfood3 = input(\"Enter your third favourite food : \").upper()\n",
    "favfood4 = input(\"Enter your forth favourite food : \").upper()\n",
    "favouritefood = {}\n",
    "favouritefood.update({\"1\": favfood1})\n",
    "favouritefood.update({\"2\": favfood2})\n",
    "favouritefood.update({\"3\": favfood3})\n",
    "favouritefood.update({\"4\": favfood4})\n",
    "print(favouritefood)\n",
    "delfood = input(\"Which one of above you want to get rid off (1-4) : \")\n",
    "favouritefood.pop(delfood)\n",
    "print(favouritefood)"
   ]
  },
  {
   "cell_type": "markdown",
   "id": "158217a9-faf2-400a-b5c4-8b5f46c953d6",
   "metadata": {},
   "source": [
    "# 074 Enter a list of ten colours. Ask the user for a starting number between 0 and 4 and an end number between 5 and 9. Display the list for those colours between the start and end numbers the user input."
   ]
  },
  {
   "cell_type": "code",
   "execution_count": 15,
   "id": "b8c7780b-0813-439b-bacb-2baf5b2fb75b",
   "metadata": {},
   "outputs": [
    {
     "name": "stdout",
     "output_type": "stream",
     "text": [
      "['RED', 'BLUE', 'BLACK', 'ORANGE', 'GREEN', 'GREY', 'PURPLE', 'WHITE', 'BROWN', 'YELLOW']\n"
     ]
    },
    {
     "name": "stdin",
     "output_type": "stream",
     "text": [
      "Enter a number from 0-4 :  3\n",
      "Enter a number from 5-9 :  8\n"
     ]
    },
    {
     "name": "stdout",
     "output_type": "stream",
     "text": [
      "['ORANGE', 'GREEN', 'GREY', 'PURPLE', 'WHITE']\n"
     ]
    }
   ],
   "source": [
    "colorlist = [\"RED\", \"BLUE\", \"BLACK\", \"ORANGE\", \"GREEN\", \"GREY\", \"PURPLE\", \"WHITE\", \"BROWN\", \"YELLOW\"]\n",
    "print(colorlist)\n",
    "startnum = int(input(\"Enter a number from 0-4 : \"))\n",
    "endnum = int(input(\"Enter a number from 5-9 : \"))\n",
    "print(colorlist[startnum:endnum])"
   ]
  },
  {
   "cell_type": "markdown",
   "id": "27e2ac2b-1709-409f-bbc0-80c7eb990b00",
   "metadata": {},
   "source": [
    "# 075 Create a list of four three-digit numbers. Display the list to the user, showing each item from the list on a separate line. Ask the user to enter a three-digit number. If the number they have typed in matches one in the list, display the position of that number in the list, otherwise display the message “That is not in the list”."
   ]
  },
  {
   "cell_type": "code",
   "execution_count": 20,
   "id": "e78800c5-c843-4a33-8b4a-516dbcb83536",
   "metadata": {},
   "outputs": [
    {
     "name": "stdout",
     "output_type": "stream",
     "text": [
      "111\n",
      "222\n",
      "333\n",
      "444\n"
     ]
    },
    {
     "name": "stdin",
     "output_type": "stream",
     "text": [
      "Enter a number from above :  2344\n"
     ]
    },
    {
     "name": "stdout",
     "output_type": "stream",
     "text": [
      "2344 is not in the list\n"
     ]
    }
   ],
   "source": [
    "threenum = [111, 222, 333, 444]\n",
    "for n in threenum :\n",
    "    print(n)\n",
    "numberthree = int(input(\"Enter a number from above : \"))\n",
    "if numberthree in threenum :\n",
    "    print(threenum.index(numberthree))\n",
    "else :\n",
    "    print(f\"{numberthree} is not in the list\")"
   ]
  },
  {
   "cell_type": "markdown",
   "id": "b18c10cf-2636-4358-ade4-9824c46abffc",
   "metadata": {},
   "source": [
    "# 076 Ask the user to enter the names of three people they want to invite to a party and store them in a list. After they have entered all three names, ask them if they want to add another. If they do, allow them to add more names until they answer “no”. When they answer “no”, display how many people they have invited to the party."
   ]
  },
  {
   "cell_type": "code",
   "execution_count": 11,
   "id": "fa40a46b-918f-43cd-8773-47c407c45d8b",
   "metadata": {},
   "outputs": [
    {
     "name": "stdin",
     "output_type": "stream",
     "text": [
      "Enter first name to invite to party :  subham\n",
      "Enter second name to invite to party :  ronii\n",
      "Enter third name to invite to party :  tony\n",
      "Do you want to add another name (yes/no) :  yes\n",
      "Enter the name you want to invite to party :  rout\n",
      "Do you want to add another name (yes/no) :  yes\n",
      "Enter the name you want to invite to party :  sures\n",
      "Do you want to add another name (yes/no) :  yes\n",
      "Enter the name you want to invite to party :  mamta\n",
      "Do you want to add another name (yes/no) :  no\n"
     ]
    },
    {
     "name": "stdout",
     "output_type": "stream",
     "text": [
      "['SUBHAM', 'RONII', 'TONY', 'ROUT', 'SURES', 'MAMTA']\n",
      "You have invite 6 people\n"
     ]
    }
   ],
   "source": [
    "party1 = input(\"Enter first name to invite to party : \").upper()\n",
    "party2 = input(\"Enter second name to invite to party : \").upper()\n",
    "party3 = input(\"Enter third name to invite to party : \").upper()\n",
    "partyname = [party1, party2, party3]\n",
    "askinvite = input(\"Do you want to add another name (yes/no) : \").upper()\n",
    "while \"YES\" in askinvite :\n",
    "    addname = partyname.append(input(\"Enter the name you want to invite to party : \").upper())\n",
    "    askinvite = input(\"Do you want to add another name (yes/no) : \").upper()\n",
    "else :\n",
    "    print(partyname)\n",
    "    print(\"You have invite\",len(partyname),\"people\")"
   ]
  },
  {
   "cell_type": "markdown",
   "id": "b5a73e2b-4bec-4c22-a341-04710b59ed27",
   "metadata": {},
   "source": [
    "# 077 Change program 076 so that once the user has completed their list of names, display the full list and ask them to type in one of the names on the list. Display the position of that name in the list. Ask the user if they still want that person to come to the party. If they answer “no”, delete that entry from the list and display the list again."
   ]
  },
  {
   "cell_type": "code",
   "execution_count": 15,
   "id": "9c50627b-45e6-4643-bdf1-dec3682a86e3",
   "metadata": {},
   "outputs": [
    {
     "name": "stdout",
     "output_type": "stream",
     "text": [
      "['SUBHAM', 'RONII', 'TONY', 'ROUT', 'SURES', 'MAMTA']\n"
     ]
    },
    {
     "name": "stdin",
     "output_type": "stream",
     "text": [
      "Enter a name from the party invite list :  rout\n"
     ]
    },
    {
     "name": "stdout",
     "output_type": "stream",
     "text": [
      "3\n"
     ]
    },
    {
     "name": "stdin",
     "output_type": "stream",
     "text": [
      "Do you still want this person to came to the party (yes?no) :  yes\n"
     ]
    },
    {
     "name": "stdout",
     "output_type": "stream",
     "text": [
      "['SUBHAM', 'RONII', 'TONY', 'SURES', 'MAMTA']\n"
     ]
    }
   ],
   "source": [
    "print(partyname)\n",
    "nameparty = input(\"Enter a name from the party invite list : \").upper()\n",
    "print(partyname.index(nameparty))\n",
    "askdel = input(\"Do you still want this person to came to the party (yes/no) : \").upper()\n",
    "if \"YES\" in askdel :\n",
    "    partyname.remove(nameparty)\n",
    "    print(partyname)\n",
    "else :\n",
    "    print(partyname)"
   ]
  },
  {
   "cell_type": "markdown",
   "id": "36c3d904-a63d-4562-9ceb-511103104bfb",
   "metadata": {},
   "source": [
    "# 078 Create a list containing the titles of four TV programmes and display them on separate lines. Ask the user to enter another show and a position they want it inserted into the list. Display the list again, showing all five TV programmes in their new positions."
   ]
  },
  {
   "cell_type": "code",
   "execution_count": 19,
   "id": "c422d62e-d68b-4c03-a509-2b54d4e04900",
   "metadata": {},
   "outputs": [
    {
     "name": "stdout",
     "output_type": "stream",
     "text": [
      "IPL\n",
      "NBA\n",
      "BGIS\n",
      "PRO KABADI\n"
     ]
    },
    {
     "name": "stdin",
     "output_type": "stream",
     "text": [
      "Enter a TV programme name want to add in list :  wpl\n",
      "Enter the positionyou want in the list :  3\n"
     ]
    },
    {
     "name": "stdout",
     "output_type": "stream",
     "text": [
      "['IPL', 'NBA', 'WPL', 'BGIS', 'PRO KABADI']\n"
     ]
    }
   ],
   "source": [
    "tvpro = [\"IPL\", \"NBA\", \"BGIS\", \"PRO KABADI\"]\n",
    "for tv in tvpro :\n",
    "    print(tv)\n",
    "addshow = input(\"Enter a TV programme name want to add in list : \").upper()\n",
    "addpos = int(input(\"Enter the positionyou want in the list : \"))\n",
    "pos = addpos - 1\n",
    "tvpro.insert(pos,addshow)\n",
    "print(tvpro)"
   ]
  },
  {
   "cell_type": "markdown",
   "id": "a785f8f4-1a2d-4f9f-aefa-1472f1760b3d",
   "metadata": {},
   "source": [
    "# 079 Create an empty list called “nums”. Ask the user to enter numbers. After each number is entered, add it to the end of the nums list and display the list. Once they have entered three numbers, ask them if they still want the last number they entered saved. If they say “no”, remove the last item from the list. Display the list of numbers."
   ]
  },
  {
   "cell_type": "code",
   "execution_count": 23,
   "id": "fa8a3131-859b-44d4-9088-4c09606d394b",
   "metadata": {},
   "outputs": [
    {
     "name": "stdin",
     "output_type": "stream",
     "text": [
      "Enter a number :  11\n"
     ]
    },
    {
     "name": "stdout",
     "output_type": "stream",
     "text": [
      "[11]\n"
     ]
    },
    {
     "name": "stdin",
     "output_type": "stream",
     "text": [
      "Enter a number :  22\n"
     ]
    },
    {
     "name": "stdout",
     "output_type": "stream",
     "text": [
      "[11, 22]\n"
     ]
    },
    {
     "name": "stdin",
     "output_type": "stream",
     "text": [
      "Enter a number :  33\n"
     ]
    },
    {
     "name": "stdout",
     "output_type": "stream",
     "text": [
      "[11, 22, 33]\n"
     ]
    },
    {
     "name": "stdin",
     "output_type": "stream",
     "text": [
      "Do you still want the last number you enter (yes/no) :  yws\n"
     ]
    },
    {
     "name": "stdout",
     "output_type": "stream",
     "text": [
      "[11, 22, 33]\n"
     ]
    }
   ],
   "source": [
    "nums1 = int(input(\"Enter a number : \"))\n",
    "nums = [nums1]\n",
    "print(nums)\n",
    "nums2 = int(input(\"Enter a number : \"))\n",
    "nums = [nums1,nums2]\n",
    "print(nums)\n",
    "nums3 = int(input(\"Enter a number : \"))\n",
    "nums = [nums1,nums2,nums3]\n",
    "print(nums)\n",
    "asknums = input(\"Do you still want the last number you enter (yes/no) : \").upper()\n",
    "if \"NO\" in asknums :\n",
    "    nums.pop()\n",
    "    print(nums)\n",
    "else :\n",
    "    print(nums)"
   ]
  },
  {
   "cell_type": "code",
   "execution_count": null,
   "id": "15df22d6-e30f-4a10-b474-780e1ca3c146",
   "metadata": {},
   "outputs": [],
   "source": []
  }
 ],
 "metadata": {
  "kernelspec": {
   "display_name": "Python 3 (ipykernel)",
   "language": "python",
   "name": "python3"
  },
  "language_info": {
   "codemirror_mode": {
    "name": "ipython",
    "version": 3
   },
   "file_extension": ".py",
   "mimetype": "text/x-python",
   "name": "python",
   "nbconvert_exporter": "python",
   "pygments_lexer": "ipython3",
   "version": "3.11.7"
  }
 },
 "nbformat": 4,
 "nbformat_minor": 5
}
