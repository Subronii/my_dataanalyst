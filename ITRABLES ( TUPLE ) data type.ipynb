{
 "cells": [
  {
   "cell_type": "markdown",
   "id": "88abfc80-0acd-495e-8df0-b029b5b5d226",
   "metadata": {},
   "source": [
    "# tuple()"
   ]
  },
  {
   "cell_type": "code",
   "execution_count": 1,
   "id": "83904dcf-a6ee-497b-a53f-8e9ddb2ec85f",
   "metadata": {},
   "outputs": [
    {
     "name": "stdout",
     "output_type": "stream",
     "text": [
      "('a', 1, 2.3, (33+5j), True, None, ['1, 2.3, 33+5j'], ('a', 1, 2.3), {1, 2, 3, 4})\n",
      "<class 'tuple'>\n",
      "9\n"
     ]
    }
   ],
   "source": [
    "tup1 = (\"a\", 1, 2.3, 33+5j, True, None, [\"1, 2.3, 33+5j\"], (\"a\", 1, 2.3), {1, 2, 3, 4})\n",
    "print(tup1)\n",
    "print(type(tup1))\n",
    "print(len(tup1))"
   ]
  },
  {
   "cell_type": "code",
   "execution_count": 2,
   "id": "9118c6a9-0d67-401a-8ccc-d4e05d173083",
   "metadata": {},
   "outputs": [
    {
     "name": "stdout",
     "output_type": "stream",
     "text": [
      "('b', 'c', 3, 55)\n",
      "<class 'tuple'>\n"
     ]
    }
   ],
   "source": [
    "tup2 = (\"b\", \"c\", 3 , 55)\n",
    "print(tup2)\n",
    "print(type(tup2))"
   ]
  },
  {
   "cell_type": "code",
   "execution_count": 5,
   "id": "1317bda3-adb2-4989-9756-650bd697f2b1",
   "metadata": {},
   "outputs": [
    {
     "ename": "AttributeError",
     "evalue": "'tuple' object has no attribute 'append'",
     "output_type": "error",
     "traceback": [
      "\u001b[1;31m---------------------------------------------------------------------------\u001b[0m",
      "\u001b[1;31mAttributeError\u001b[0m                            Traceback (most recent call last)",
      "Cell \u001b[1;32mIn[5], line 1\u001b[0m\n\u001b[1;32m----> 1\u001b[0m tup1\u001b[38;5;241m.\u001b[39mappend(tup2)\n",
      "\u001b[1;31mAttributeError\u001b[0m: 'tuple' object has no attribute 'append'"
     ]
    }
   ],
   "source": [
    "tup1.append(tup2) # error boz tuple is unchangeable"
   ]
  },
  {
   "cell_type": "code",
   "execution_count": 4,
   "id": "b320aee1-b094-4557-bd7c-160f4b423162",
   "metadata": {},
   "outputs": [
    {
     "name": "stdout",
     "output_type": "stream",
     "text": [
      "<class 'list'>\n",
      "('a', 1, 2.3, (33+5j), True, None, ['1, 2.3, 33+5j'], ('a', 1, 2.3), {1, 2, 3, 4}, ('b', 'c', 3, 55))\n",
      "<class 'tuple'>\n"
     ]
    }
   ],
   "source": [
    "tup1 = list(tup1)\n",
    "print(type(tup1))\n",
    "tup1.append(tup2)\n",
    "tup1 = tuple(tup1)\n",
    "print(tup1)\n",
    "print(type(tup1))"
   ]
  },
  {
   "cell_type": "code",
   "execution_count": 6,
   "id": "b3f63e66-2dcc-4672-b7c3-f4012f4cf123",
   "metadata": {},
   "outputs": [
    {
     "name": "stdout",
     "output_type": "stream",
     "text": [
      "<class 'str'>\n",
      "<class 'tuple'>\n"
     ]
    }
   ],
   "source": [
    "a = (\"abhi\")\n",
    "b = (\"abhi\",)\n",
    "print(type(a))\n",
    "print(type(b))"
   ]
  },
  {
   "cell_type": "code",
   "execution_count": 8,
   "id": "e2fcf77e-9a72-45fd-9094-c31315354bd3",
   "metadata": {},
   "outputs": [
    {
     "name": "stdout",
     "output_type": "stream",
     "text": [
      "('lemon', 'banana', 1, 33, 5.6)\n",
      "<class 'tuple'>\n"
     ]
    }
   ],
   "source": [
    "c = tuple((\"lemon\", \"banana\", 1, 33, 5.6))\n",
    "print(c)\n",
    "print(type(c))"
   ]
  },
  {
   "cell_type": "code",
   "execution_count": 9,
   "id": "b78d5d4f-5594-42c4-87c0-6016983e3033",
   "metadata": {},
   "outputs": [
    {
     "name": "stdout",
     "output_type": "stream",
     "text": [
      "('a', 1, 2.3, (33+5j), True, None, ['1, 2.3, 33+5j'], ('a', 1, 2.3), {1, 2, 3, 4}, ('b', 'c', 3, 55))\n",
      "(33+5j)\n",
      "('a', 1, 2.3)\n",
      "((33+5j), True, None, ['1, 2.3, 33+5j'])\n",
      "((33+5j), True, None, ['1, 2.3, 33+5j'], ('a', 1, 2.3))\n",
      "('a', 1, 2.3, (33+5j), True)\n",
      "(True, None, ['1, 2.3, 33+5j'], ('a', 1, 2.3), {1, 2, 3, 4}, ('b', 'c', 3, 55))\n",
      "(('a', 1, 2.3), {1, 2, 3, 4}, ('b', 'c', 3, 55))\n",
      "('a', 1, 2.3, (33+5j), True, None)\n"
     ]
    }
   ],
   "source": [
    "print(tup1)\n",
    "print(tup1[3])\n",
    "print(tup1[-3])\n",
    "print(tup1[3:7])\n",
    "print(tup1[-7:-2])\n",
    "print(tup1[:5])\n",
    "print(tup1[4:])\n",
    "print(tup1[-3:])\n",
    "print(tup1[:-4])"
   ]
  },
  {
   "cell_type": "code",
   "execution_count": 10,
   "id": "21748f31-232d-47b3-96ca-fbefa7dc0e4e",
   "metadata": {},
   "outputs": [
    {
     "name": "stdout",
     "output_type": "stream",
     "text": [
      "('lemon', 'banana', 1, 33, 5.6)\n",
      "<class 'tuple'>\n",
      "('lemon', 'banana', 1, 33, 5.6, 'apple')\n"
     ]
    }
   ],
   "source": [
    "print(c)\n",
    "print(type(c))\n",
    "d = (\"apple\",)\n",
    "c += d\n",
    "print(c)"
   ]
  },
  {
   "cell_type": "markdown",
   "id": "eadf8f2a-12c1-4a19-8e02-e37ca606eadb",
   "metadata": {},
   "source": [
    "# Unpacking a Tuple"
   ]
  },
  {
   "cell_type": "code",
   "execution_count": 11,
   "id": "0c1303a0-0953-4f3c-804a-29da86629168",
   "metadata": {},
   "outputs": [
    {
     "name": "stdout",
     "output_type": "stream",
     "text": [
      "rony\n",
      "tony\n",
      "33\n"
     ]
    }
   ],
   "source": [
    "e = (\"rony\", \"tony\", 33)\n",
    "aa, bb, cc = e\n",
    "print(aa)\n",
    "print(bb)\n",
    "print(cc)"
   ]
  },
  {
   "cell_type": "code",
   "execution_count": 12,
   "id": "bf021a10-59a3-4fa3-ad74-32e4b599da71",
   "metadata": {},
   "outputs": [
    {
     "name": "stdout",
     "output_type": "stream",
     "text": [
      "subham\n",
      "abhi\n",
      "['mayank', 'anku', 'lakshya']\n"
     ]
    }
   ],
   "source": [
    "names1 =  (\"subham\", \"abhi\", \"mayank\", \"anku\", \"lakshya\")\n",
    "n, b, *c = names1\n",
    "print(n)\n",
    "print(b)\n",
    "print(c)"
   ]
  },
  {
   "cell_type": "code",
   "execution_count": 13,
   "id": "0ee75ede-d0af-478c-a6df-1ca640a5acd5",
   "metadata": {},
   "outputs": [
    {
     "name": "stdout",
     "output_type": "stream",
     "text": [
      "subham\n",
      "['abhi', 'mayank', 'anku']\n",
      "lakshya\n"
     ]
    }
   ],
   "source": [
    "names1 =  (\"subham\", \"abhi\", \"mayank\", \"anku\", \"lakshya\")\n",
    "n, *b, c = names1\n",
    "print(n)\n",
    "print(b)\n",
    "print(c)"
   ]
  },
  {
   "cell_type": "code",
   "execution_count": 14,
   "id": "1ee567df-4653-46b5-b5a8-292e53987666",
   "metadata": {},
   "outputs": [
    {
     "name": "stdout",
     "output_type": "stream",
     "text": [
      "subham\n",
      "['abhi', 'mayank']\n",
      "anku\n",
      "lakshya\n"
     ]
    }
   ],
   "source": [
    "names1 =  (\"subham\", \"abhi\", \"mayank\", \"anku\", \"lakshya\")\n",
    "n, *b, c, d = names1\n",
    "print(n)\n",
    "print(b)\n",
    "print(c)\n",
    "print(d)"
   ]
  },
  {
   "cell_type": "code",
   "execution_count": null,
   "id": "6065879f-b80e-43ec-bc26-8384b9278df1",
   "metadata": {},
   "outputs": [],
   "source": []
  },
  {
   "cell_type": "code",
   "execution_count": 15,
   "id": "b150296b-784d-44e0-83bd-fa9352507ff6",
   "metadata": {},
   "outputs": [
    {
     "name": "stdout",
     "output_type": "stream",
     "text": [
      "subham\n",
      "abhi\n",
      "mayank\n",
      "anku\n",
      "lakshya\n"
     ]
    }
   ],
   "source": [
    "for nn in names1 :\n",
    "    print(nn)"
   ]
  },
  {
   "cell_type": "code",
   "execution_count": 16,
   "id": "88570b68-ac36-45cd-8207-a71d4d23f002",
   "metadata": {},
   "outputs": [
    {
     "name": "stdout",
     "output_type": "stream",
     "text": [
      "('subham', 'abhi', 'mayank', 'anku', 'lakshya', 'rony', 'tony', 33)\n"
     ]
    }
   ],
   "source": [
    "ans1 = names1 + e\n",
    "print(ans1)"
   ]
  },
  {
   "cell_type": "code",
   "execution_count": 18,
   "id": "fe74facc-cccf-442c-955e-0948569c1397",
   "metadata": {},
   "outputs": [
    {
     "name": "stdout",
     "output_type": "stream",
     "text": [
      "('subham', 'abhi', 'mayank', 'anku', 'lakshya')\n",
      "('subham', 'abhi', 'mayank', 'anku', 'lakshya', 'subham', 'abhi', 'mayank', 'anku', 'lakshya')\n"
     ]
    }
   ],
   "source": [
    "print(names1)\n",
    "ans2 = names1 * 2\n",
    "print(ans2)"
   ]
  },
  {
   "cell_type": "code",
   "execution_count": 20,
   "id": "6b9ec200-09c1-4d5e-b183-a59259841b8b",
   "metadata": {},
   "outputs": [
    {
     "data": {
      "text/plain": [
       "2"
      ]
     },
     "execution_count": 20,
     "metadata": {},
     "output_type": "execute_result"
    }
   ],
   "source": [
    "ans2.count(\"abhi\")"
   ]
  },
  {
   "cell_type": "code",
   "execution_count": 22,
   "id": "def044af-3259-4b31-86b9-ef6438f306ce",
   "metadata": {},
   "outputs": [
    {
     "data": {
      "text/plain": [
       "3"
      ]
     },
     "execution_count": 22,
     "metadata": {},
     "output_type": "execute_result"
    }
   ],
   "source": [
    "ans2.index(\"anku\")"
   ]
  },
  {
   "cell_type": "code",
   "execution_count": null,
   "id": "a3746678-7596-4065-a003-6ed421545703",
   "metadata": {},
   "outputs": [],
   "source": []
  }
 ],
 "metadata": {
  "kernelspec": {
   "display_name": "Python 3 (ipykernel)",
   "language": "python",
   "name": "python3"
  },
  "language_info": {
   "codemirror_mode": {
    "name": "ipython",
    "version": 3
   },
   "file_extension": ".py",
   "mimetype": "text/x-python",
   "name": "python",
   "nbconvert_exporter": "python",
   "pygments_lexer": "ipython3",
   "version": "3.11.7"
  }
 },
 "nbformat": 4,
 "nbformat_minor": 5
}
