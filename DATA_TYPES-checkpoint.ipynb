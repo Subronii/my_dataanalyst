{
 "cells": [
  {
   "cell_type": "code",
   "execution_count": 1,
   "id": "72cf6cc6-e1e3-4a6f-bea7-4ec9b2d94bc4",
   "metadata": {},
   "outputs": [
    {
     "data": {
      "text/plain": [
       "int"
      ]
     },
     "execution_count": 1,
     "metadata": {},
     "output_type": "execute_result"
    }
   ],
   "source": [
    "int"
   ]
  },
  {
   "cell_type": "code",
   "execution_count": 2,
   "id": "81edd164-688a-4b26-976d-699c8091138c",
   "metadata": {},
   "outputs": [
    {
     "data": {
      "text/plain": [
       "str"
      ]
     },
     "execution_count": 2,
     "metadata": {},
     "output_type": "execute_result"
    }
   ],
   "source": [
    "str"
   ]
  },
  {
   "cell_type": "code",
   "execution_count": 3,
   "id": "1aa6101a-add8-4863-a0ed-b8b28000ce7b",
   "metadata": {},
   "outputs": [
    {
     "data": {
      "text/plain": [
       "float"
      ]
     },
     "execution_count": 3,
     "metadata": {},
     "output_type": "execute_result"
    }
   ],
   "source": [
    "float"
   ]
  },
  {
   "cell_type": "code",
   "execution_count": 4,
   "id": "ba887db1-6f11-4c30-9f19-3e40a5de1002",
   "metadata": {},
   "outputs": [
    {
     "data": {
      "text/plain": [
       "complex"
      ]
     },
     "execution_count": 4,
     "metadata": {},
     "output_type": "execute_result"
    }
   ],
   "source": [
    "complex"
   ]
  },
  {
   "cell_type": "code",
   "execution_count": 6,
   "id": "ce696471-f402-46f0-9470-7adf87354cf6",
   "metadata": {},
   "outputs": [
    {
     "name": "stdout",
     "output_type": "stream",
     "text": [
      "<class 'list'>\n",
      "[1, 2.8, 'name', (22+2j)]\n"
     ]
    }
   ],
   "source": [
    "#list [] is using larger bracket\n",
    "list_1 = [1, 2.8 , \"name\" , 22+2j]\n",
    "print(type(list_1))\n",
    "print(list_1)"
   ]
  },
  {
   "cell_type": "code",
   "execution_count": 8,
   "id": "6a770f97-4506-451a-9bda-181e6d8ffde8",
   "metadata": {},
   "outputs": [
    {
     "name": "stdout",
     "output_type": "stream",
     "text": [
      "<class 'tuple'>\n",
      "(1, 3.0, 'age', (22+2j), [1, 2.8, 'name', (22+2j)])\n"
     ]
    }
   ],
   "source": [
    "#tuple () is using smaller bracket\n",
    "tuple_1 = (1, 3.0 ,\"age\", 22+2j, [1, 2.8 , \"name\" , 22+2j])\n",
    "print(type(tuple_1))\n",
    "print(tuple_1)"
   ]
  },
  {
   "cell_type": "code",
   "execution_count": 12,
   "id": "d01a11c1-5ac0-4ad3-9ca6-286a14d5a311",
   "metadata": {},
   "outputs": [
    {
     "name": "stdout",
     "output_type": "stream",
     "text": [
      "<class 'dict'>\n",
      "{'name': 'subham', '2': 4, 'height': 5.6, 'complex no': (22+23j)}\n"
     ]
    }
   ],
   "source": [
    "#dictonory () is using curly bracket\n",
    "dict_1 = {'name':\"subham\", '2':4 , 'height':5.6, 'complex no':22+23j}\n",
    "print(type(dict_1))\n",
    "print(dict_1)"
   ]
  },
  {
   "cell_type": "code",
   "execution_count": 13,
   "id": "58f0cf6f-4284-4cac-9088-32b8239418c8",
   "metadata": {},
   "outputs": [
    {
     "name": "stdout",
     "output_type": "stream",
     "text": [
      "<class 'set'>\n",
      "{1, 2, 3, 4, 5, 6, 7, 8, 9, 55}\n"
     ]
    }
   ],
   "source": [
    "#set {} is using curly bracket\n",
    "set_1 = {1,1,2,3,4,5,5,55,6,7,8,8,8,9}\n",
    "print(type(set_1))\n",
    "print(set_1)"
   ]
  },
  {
   "cell_type": "code",
   "execution_count": 14,
   "id": "b602941e-2396-4a13-843b-1a70992a1a3e",
   "metadata": {},
   "outputs": [
    {
     "name": "stdout",
     "output_type": "stream",
     "text": [
      "<class 'bool'>\n",
      "<class 'bool'>\n",
      "True False\n"
     ]
    }
   ],
   "source": [
    "#boolean\n",
    "a = True\n",
    "b = False\n",
    "print(type(a))\n",
    "print(type(b))\n",
    "print(a,b)"
   ]
  },
  {
   "cell_type": "code",
   "execution_count": 3,
   "id": "d3e605d6-49d6-444f-babc-af9f81f14be5",
   "metadata": {},
   "outputs": [
    {
     "name": "stdout",
     "output_type": "stream",
     "text": [
      "<class 'range'>\n",
      "range(0, 10)\n"
     ]
    }
   ],
   "source": [
    "#range \n",
    "range_1 = range(10)\n",
    "print(type(range_1))\n",
    "print(range_1)"
   ]
  },
  {
   "cell_type": "code",
   "execution_count": 6,
   "id": "e526694e-d0db-49b8-af41-496d327ee7bd",
   "metadata": {},
   "outputs": [],
   "source": [
    "import random"
   ]
  },
  {
   "cell_type": "code",
   "execution_count": 11,
   "id": "636bddff-b59f-4fdd-9b2a-81fb1b6e3257",
   "metadata": {},
   "outputs": [
    {
     "name": "stdout",
     "output_type": "stream",
     "text": [
      "7\n"
     ]
    }
   ],
   "source": [
    "print(random.randrange(10))"
   ]
  },
  {
   "cell_type": "code",
   "execution_count": 12,
   "id": "f7496a80-d3c1-4a7e-8bfc-c2ac84361db3",
   "metadata": {},
   "outputs": [
    {
     "name": "stdout",
     "output_type": "stream",
     "text": [
      "8\n"
     ]
    }
   ],
   "source": [
    "print(random.randrange(10))"
   ]
  },
  {
   "cell_type": "code",
   "execution_count": 13,
   "id": "a7519379-2670-40b1-862c-7fad54016d62",
   "metadata": {},
   "outputs": [
    {
     "name": "stdout",
     "output_type": "stream",
     "text": [
      "2\n"
     ]
    }
   ],
   "source": [
    "print(random.randrange(10))"
   ]
  },
  {
   "cell_type": "code",
   "execution_count": 14,
   "id": "4d00b0a1-a619-4241-9c3c-80c6ae597cd0",
   "metadata": {},
   "outputs": [
    {
     "name": "stdout",
     "output_type": "stream",
     "text": [
      "2\n"
     ]
    }
   ],
   "source": [
    "print(random.randrange(1,10))"
   ]
  },
  {
   "cell_type": "code",
   "execution_count": 15,
   "id": "7b7f0ffe-affe-472a-a20f-62b61112e868",
   "metadata": {},
   "outputs": [
    {
     "name": "stdout",
     "output_type": "stream",
     "text": [
      "9\n"
     ]
    }
   ],
   "source": [
    "print(random.randrange(1,10))"
   ]
  },
  {
   "cell_type": "code",
   "execution_count": 16,
   "id": "59cdb42d-0f91-4fd7-a4e7-47e9b28cd456",
   "metadata": {},
   "outputs": [
    {
     "name": "stdout",
     "output_type": "stream",
     "text": [
      "3\n"
     ]
    }
   ],
   "source": [
    "print(random.randrange(1,10))"
   ]
  },
  {
   "cell_type": "code",
   "execution_count": 1,
   "id": "089af571-c8eb-476f-b69a-4b243b6db8b3",
   "metadata": {},
   "outputs": [
    {
     "name": "stdout",
     "output_type": "stream",
     "text": [
      "<class 'float'>\n",
      "120000000000.0\n"
     ]
    }
   ],
   "source": [
    "float_1 = 12e10\n",
    "print(type(float_1))\n",
    "print(float_1)"
   ]
  },
  {
   "cell_type": "code",
   "execution_count": null,
   "id": "162cc07a-f9a2-4c65-8489-874ebf9a6211",
   "metadata": {},
   "outputs": [],
   "source": []
  }
 ],
 "metadata": {
  "kernelspec": {
   "display_name": "Python 3 (ipykernel)",
   "language": "python",
   "name": "python3"
  },
  "language_info": {
   "codemirror_mode": {
    "name": "ipython",
    "version": 3
   },
   "file_extension": ".py",
   "mimetype": "text/x-python",
   "name": "python",
   "nbconvert_exporter": "python",
   "pygments_lexer": "ipython3",
   "version": "3.11.7"
  }
 },
 "nbformat": 4,
 "nbformat_minor": 5
}
